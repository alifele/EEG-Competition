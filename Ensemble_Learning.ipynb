{
  "nbformat": 4,
  "nbformat_minor": 0,
  "metadata": {
    "colab": {
      "name": "Ensemble Learning.ipynb",
      "version": "0.3.2",
      "provenance": [],
      "include_colab_link": true
    },
    "kernelspec": {
      "name": "python3",
      "display_name": "Python 3"
    }
  },
  "cells": [
    {
      "cell_type": "markdown",
      "metadata": {
        "id": "view-in-github",
        "colab_type": "text"
      },
      "source": [
        "<a href=\"https://colab.research.google.com/github/alifele/EEG-computation/blob/master/Ensemble_Learning.ipynb\" target=\"_parent\"><img src=\"https://colab.research.google.com/assets/colab-badge.svg\" alt=\"Open In Colab\"/></a>"
      ]
    },
    {
      "cell_type": "markdown",
      "metadata": {
        "id": "Ra_m7NgTvNQN",
        "colab_type": "text"
      },
      "source": [
        "# Ensemble Learning\n",
        "\n",
        "Creating this notebook means that I am a step closer to the prize of the competition.\n",
        "I want to use the **RNN**, **1D CNN**, **ANN with the FT**, **Random Forest with PCA**, **Decision Tree with PCA**, **KNN**, **Non_linear SVM**, **Costum ANNs** as Classifiers and hard voting and soft voting ensemble learning techniques.\n"
      ]
    },
    {
      "cell_type": "code",
      "metadata": {
        "id": "m74c-3hhoLm2",
        "colab_type": "code",
        "colab": {}
      },
      "source": [
        ""
      ],
      "execution_count": 0,
      "outputs": []
    }
  ]
}