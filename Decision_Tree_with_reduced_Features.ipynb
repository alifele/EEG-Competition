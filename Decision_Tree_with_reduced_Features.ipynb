{
  "nbformat": 4,
  "nbformat_minor": 0,
  "metadata": {
    "colab": {
      "name": "Decision Tree with reduced Features.ipynb",
      "version": "0.3.2",
      "provenance": [],
      "include_colab_link": true
    },
    "kernelspec": {
      "name": "python3",
      "display_name": "Python 3"
    },
    "accelerator": "GPU"
  },
  "cells": [
    {
      "cell_type": "markdown",
      "metadata": {
        "id": "view-in-github",
        "colab_type": "text"
      },
      "source": [
        "<a href=\"https://colab.research.google.com/github/alifele/EEG-computation/blob/master/Decision_Tree_with_reduced_Features.ipynb\" target=\"_parent\"><img src=\"https://colab.research.google.com/assets/colab-badge.svg\" alt=\"Open In Colab\"/></a>"
      ]
    },
    {
      "cell_type": "markdown",
      "metadata": {
        "id": "R4AJ8ACZNk7-",
        "colab_type": "text"
      },
      "source": [
        "# Decision Tree with Reduced Features with PCA, Manifold Learning, MDS, t-SNE, LDA and Autoencoder\n",
        "\n",
        "in this notebook I am going to reduce the number of features by the mentioned methods and then I will feed these data with lower feaures to a Decision Tree to classify the signals.\n",
        "\n",
        "The signals will be in the frequency domain which is produced in 'ANN for FFT' notebook.\n",
        "I will try to use random forests to gain higher accuracy and f1.\n",
        "\n",
        "\n",
        "Since the Decision Trees are very low efficient for higher number of features, so the Feature Reductoin methods are necessarry. Since every method is good from different aspect, this is why I use different methods for feature reduction."
      ]
    },
    {
      "cell_type": "code",
      "metadata": {
        "id": "O1Lrf8klNdPY",
        "colab_type": "code",
        "colab": {
          "base_uri": "https://localhost:8080/",
          "height": 106
        },
        "outputId": "855992dd-38f6-4366-accb-3c3759cd14f2"
      },
      "source": [
        "!pip install mat4py\n",
        "import numpy as np\n",
        "import matplotlib.pyplot as plt\n",
        "import mat4py as mt\n",
        "import os\n",
        "from IPython.display import Image\n",
        "from IPython.core.display import HTML \n",
        "from itertools import combinations\n",
        "from numpy.fft import fft\n",
        "from sklearn.utils import shuffle\n",
        "from sklearn.model_selection import train_test_split\n",
        "from sklearn.preprocessing import StandardScaler\n",
        "import pandas as pd\n",
        "\n",
        "from sklearn.decomposition import PCA, FactorAnalysis\n",
        "from sklearn.manifold import TSNE, MDS, Isomap, LocallyLinearEmbedding, SpectralEmbedding\n",
        "\n"
      ],
      "execution_count": 1,
      "outputs": [
        {
          "output_type": "stream",
          "text": [
            "Collecting mat4py\n",
            "  Downloading https://files.pythonhosted.org/packages/25/a2/ec3feb146f6af699d85cf35d719463f2e2fb0d55864dd6d1d48cf0c756cd/mat4py-0.4.2-py2.py3-none-any.whl\n",
            "Installing collected packages: mat4py\n",
            "Successfully installed mat4py-0.4.2\n"
          ],
          "name": "stdout"
        }
      ]
    },
    {
      "cell_type": "markdown",
      "metadata": {
        "id": "feO9fDvpXh09",
        "colab_type": "text"
      },
      "source": [
        "# Data Prepartion"
      ]
    },
    {
      "cell_type": "code",
      "metadata": {
        "id": "WIySIKk1Xg4T",
        "colab_type": "code",
        "colab": {
          "base_uri": "https://localhost:8080/",
          "height": 173
        },
        "outputId": "88e97138-2c8f-4057-b7de-6bf2e9b04d43"
      },
      "source": [
        "!git clone https://github.com/alifele/EEG-computation.git\n",
        "%cd EEG-computation\n"
      ],
      "execution_count": 2,
      "outputs": [
        {
          "output_type": "stream",
          "text": [
            "Cloning into 'EEG-computation'...\n",
            "remote: Enumerating objects: 389, done.\u001b[K\n",
            "remote: Counting objects:   0% (1/389)\u001b[K\rremote: Counting objects:   1% (4/389)\u001b[K\rremote: Counting objects:   2% (8/389)\u001b[K\rremote: Counting objects:   3% (12/389)\u001b[K\rremote: Counting objects:   4% (16/389)\u001b[K\rremote: Counting objects:   5% (20/389)\u001b[K\rremote: Counting objects:   6% (24/389)\u001b[K\rremote: Counting objects:   7% (28/389)\u001b[K\rremote: Counting objects:   8% (32/389)\u001b[K\rremote: Counting objects:   9% (36/389)\u001b[K\rremote: Counting objects:  10% (39/389)\u001b[K\rremote: Counting objects:  11% (43/389)\u001b[K\rremote: Counting objects:  12% (47/389)\u001b[K\rremote: Counting objects:  13% (51/389)\u001b[K\rremote: Counting objects:  14% (55/389)\u001b[K\rremote: Counting objects:  15% (59/389)\u001b[K\rremote: Counting objects:  16% (63/389)\u001b[K\rremote: Counting objects:  17% (67/389)\u001b[K\rremote: Counting objects:  18% (71/389)\u001b[K\rremote: Counting objects:  19% (74/389)\u001b[K\rremote: Counting objects:  20% (78/389)\u001b[K\rremote: Counting objects:  21% (82/389)\u001b[K\rremote: Counting objects:  22% (86/389)\u001b[K\rremote: Counting objects:  23% (90/389)\u001b[K\rremote: Counting objects:  24% (94/389)\u001b[K\rremote: Counting objects:  25% (98/389)\u001b[K\rremote: Counting objects:  26% (102/389)\u001b[K\rremote: Counting objects:  27% (106/389)\u001b[K\rremote: Counting objects:  28% (109/389)\u001b[K\rremote: Counting objects:  29% (113/389)\u001b[K\rremote: Counting objects:  30% (117/389)\u001b[K\rremote: Counting objects:  31% (121/389)\u001b[K\rremote: Counting objects:  32% (125/389)\u001b[K\rremote: Counting objects:  33% (129/389)\u001b[K\rremote: Counting objects:  34% (133/389)\u001b[K\rremote: Counting objects:  35% (137/389)\u001b[K\rremote: Counting objects:  36% (141/389)\u001b[K\rremote: Counting objects:  37% (144/389)\u001b[K\rremote: Counting objects:  38% (148/389)\u001b[K\rremote: Counting objects:  39% (152/389)\u001b[K\rremote: Counting objects:  40% (156/389)\u001b[K\rremote: Counting objects:  41% (160/389)\u001b[K\rremote: Counting objects:  42% (164/389)\u001b[K\rremote: Counting objects:  43% (168/389)\u001b[K\rremote: Counting objects:  44% (172/389)\u001b[K\rremote: Counting objects:  45% (176/389)\u001b[K\rremote: Counting objects:  46% (179/389)\u001b[K\rremote: Counting objects:  47% (183/389)\u001b[K\rremote: Counting objects:  48% (187/389)\u001b[K\rremote: Counting objects:  49% (191/389)\u001b[K\rremote: Counting objects:  50% (195/389)\u001b[K\rremote: Counting objects:  51% (199/389)\u001b[K\rremote: Counting objects:  52% (203/389)\u001b[K\rremote: Counting objects:  53% (207/389)\u001b[K\rremote: Counting objects:  54% (211/389)\u001b[K\rremote: Counting objects:  55% (214/389)\u001b[K\rremote: Counting objects:  56% (218/389)\u001b[K\rremote: Counting objects:  57% (222/389)\u001b[K\rremote: Counting objects:  58% (226/389)\u001b[K\rremote: Counting objects:  59% (230/389)\u001b[K\rremote: Counting objects:  60% (234/389)\u001b[K\rremote: Counting objects:  61% (238/389)\u001b[K\rremote: Counting objects:  62% (242/389)\u001b[K\rremote: Counting objects:  63% (246/389)\u001b[K\rremote: Counting objects:  64% (249/389)\u001b[K\rremote: Counting objects:  65% (253/389)\u001b[K\rremote: Counting objects:  66% (257/389)\u001b[K\rremote: Counting objects:  67% (261/389)\u001b[K\rremote: Counting objects:  68% (265/389)\u001b[K\rremote: Counting objects:  69% (269/389)\u001b[K\rremote: Counting objects:  70% (273/389)\u001b[K\rremote: Counting objects:  71% (277/389)\u001b[K\rremote: Counting objects:  72% (281/389)\u001b[K\rremote: Counting objects:  73% (284/389)\u001b[K\rremote: Counting objects:  74% (288/389)\u001b[K\rremote: Counting objects:  75% (292/389)\u001b[K\rremote: Counting objects:  76% (296/389)\u001b[K\rremote: Counting objects:  77% (300/389)\u001b[K\rremote: Counting objects:  78% (304/389)\u001b[K\rremote: Counting objects:  79% (308/389)\u001b[K\rremote: Counting objects:  80% (312/389)\u001b[K\rremote: Counting objects:  81% (316/389)\u001b[K\rremote: Counting objects:  82% (319/389)\u001b[K\rremote: Counting objects:  83% (323/389)\u001b[K\rremote: Counting objects:  84% (327/389)\u001b[K\rremote: Counting objects:  85% (331/389)\u001b[K\rremote: Counting objects:  86% (335/389)\u001b[K\rremote: Counting objects:  87% (339/389)\u001b[K\rremote: Counting objects:  88% (343/389)\u001b[K\rremote: Counting objects:  89% (347/389)\u001b[K\rremote: Counting objects:  90% (351/389)\u001b[K\rremote: Counting objects:  91% (354/389)\u001b[K\rremote: Counting objects:  92% (358/389)\u001b[K\rremote: Counting objects:  93% (362/389)\u001b[K\rremote: Counting objects:  94% (366/389)\u001b[K\rremote: Counting objects:  95% (370/389)\u001b[K\rremote: Counting objects:  96% (374/389)\u001b[K\rremote: Counting objects:  97% (378/389)\u001b[K\rremote: Counting objects:  98% (382/389)\u001b[K\rremote: Counting objects:  99% (386/389)\u001b[K\rremote: Counting objects: 100% (389/389)\u001b[K\rremote: Counting objects: 100% (389/389), done.\u001b[K\n",
            "remote: Compressing objects: 100% (385/385), done.\u001b[K\n",
            "remote: Total 389 (delta 20), reused 351 (delta 2), pack-reused 0\n",
            "Receiving objects: 100% (389/389), 579.94 MiB | 15.23 MiB/s, done.\n",
            "Resolving deltas: 100% (20/20), done.\n",
            "Checking out files: 100% (341/341), done.\n",
            "/content/EEG-computation\n"
          ],
          "name": "stdout"
        }
      ]
    },
    {
      "cell_type": "code",
      "metadata": {
        "id": "mKcTrZvlXsMM",
        "colab_type": "code",
        "colab": {}
      },
      "source": [
        "\n",
        "\n",
        "disorder_dic = []\n",
        "directory = os.fsencode('EEG Data/disorder')\n",
        "for file in os.listdir(directory):\n",
        "    filename = os.fsdecode(file)\n",
        "    disorder_dic.append(np.array(mt.loadmat('EEG Data/disorder/{}'.format(filename))[filename.split('.')[0]]))\n",
        "    \n",
        "channels_disorder = [ [] for i in range(len(disorder_dic))]  #channels[person][channel] it will be a numpy array\n",
        "j=0;\n",
        "for person in channels_disorder:\n",
        "    for i in range(19):\n",
        "        person.append(disorder_dic[j][:,i])\n",
        "\n",
        "        \n",
        "normal_dic = []\n",
        "directory = os.fsencode('EEG Data/normal')\n",
        "for file in os.listdir(directory):\n",
        "    filename = os.fsdecode(file)\n",
        "    normal_dic.append(np.array(mt.loadmat('EEG Data/normal/{}'.format(filename))[filename.split('.')[0]]))\n",
        "    \n",
        "channels_normal = [ [] for i in range(len(normal_dic))]  #channels[person][channel] it will be a numpy array\n",
        "j=0;\n",
        "for person in channels_normal:\n",
        "    for i in range(19):\n",
        "        person.append(normal_dic[j][:,i])\n",
        "        \n",
        "        \n",
        "data = {\"N\":channels_normal,\n",
        "      \"D\":channels_disorder}\n",
        "\n"
      ],
      "execution_count": 0,
      "outputs": []
    },
    {
      "cell_type": "code",
      "metadata": {
        "id": "WhhbTMXJdtvY",
        "colab_type": "code",
        "colab": {}
      },
      "source": [
        "def New_Data_Generator_N():\n",
        "    number_of_samples = 30\n",
        "    randlist = (132 * np.random.random(number_of_samples)).astype(int)\n",
        "    new_patients = list(data['N'][i] for i in randlist)\n",
        "    \n",
        "    index = [ i for i in range(number_of_samples)]\n",
        "    comb = list( combinations(index, 2))\n",
        "    new_data = [[] for i in range(len(comb))]\n",
        "    person = 0\n",
        "    for x,y in comb:\n",
        "        for chan in range(19):\n",
        "            new_data[person].append((new_patients[x][chan] + new_patients[y][chan] )/2)\n",
        "        data['N'].append(new_data[person])\n",
        "        person += 1\n",
        "\n",
        "    \n",
        "def New_Data_Generator_D():\n",
        "    number_of_samples = 30\n",
        "    randlist = (132 * np.random.random(number_of_samples)).astype(int)\n",
        "    new_patients = list(data['D'][i] for i in randlist)\n",
        "    \n",
        "    index = [ i for i in range(number_of_samples)]\n",
        "    comb = list( combinations(index, 2))\n",
        "    new_data = [[] for i in range(len(comb))]\n",
        "    person = 0\n",
        "    for x,y in comb:\n",
        "        for chan in range(19):\n",
        "            new_data[person].append((new_patients[x][chan] + new_patients[y][chan] )/2)\n",
        "        data['D'].append(new_data[person])\n",
        "        person += 1"
      ],
      "execution_count": 0,
      "outputs": []
    },
    {
      "cell_type": "code",
      "metadata": {
        "id": "DaExzKlfd0vR",
        "colab_type": "code",
        "colab": {}
      },
      "source": [
        "New_Data_Generator_N()\n",
        "New_Data_Generator_D()"
      ],
      "execution_count": 0,
      "outputs": []
    },
    {
      "cell_type": "code",
      "metadata": {
        "id": "twizhwsuXsX4",
        "colab_type": "code",
        "colab": {
          "base_uri": "https://localhost:8080/",
          "height": 34
        },
        "outputId": "f6674571-678e-4bef-caf4-71b470a8cd77"
      },
      "source": [
        "\n",
        "\n",
        "n_D , n_N = len(data['D']), len(data['N'])\n",
        "\n",
        "n_D, n_N"
      ],
      "execution_count": 7,
      "outputs": [
        {
          "output_type": "execute_result",
          "data": {
            "text/plain": [
              "(631, 567)"
            ]
          },
          "metadata": {
            "tags": []
          },
          "execution_count": 7
        }
      ]
    },
    {
      "cell_type": "code",
      "metadata": {
        "id": "YkgOJil0X29J",
        "colab_type": "code",
        "colab": {
          "base_uri": "https://localhost:8080/",
          "height": 52
        },
        "outputId": "31564be2-e120-42c3-9e79-efd63c24c188"
      },
      "source": [
        "index = np.arange(0,512*30)\n",
        "f = np.linspace(0,512,512*30)\n",
        "f_max = f[len(f[f<120])]\n",
        "ind_min = 2\n",
        "ind_max = list(index[f==f_max])[0]\n",
        "f_min = f[ind_min]\n",
        "\n",
        "print(f_min, f_max, ind_min, ind_max)\n",
        "\n",
        "\n",
        "sam_FT = np.abs(fft(data['D'][50][7]))\n",
        "\n",
        "# The 50 Htz noise elimination information\n",
        "\n",
        "f_45 = f>45\n",
        "f_55 = f<55\n",
        "f_bar = f<45\n",
        "\n",
        "for i in range(f.shape[0]):\n",
        "  f_bar[i] = f_45[i] and f_55[i]\n",
        "  \n",
        "  \n",
        "noise = f[sam_FT == np.max(sam_FT[f_bar])][0]\n",
        "noise_index = list(index[f==noise])[0] # in range 0, 512*30\n",
        "del_domain = 40\n",
        "del_range = [noise_index + i for i in range(-del_domain,del_domain)]\n",
        "print(noise, noise_index)"
      ],
      "execution_count": 8,
      "outputs": [
        {
          "output_type": "stream",
          "text": [
            "0.06667100722703301 120.00781300865941 2 3600\n",
            "50.13659743472882 1504\n"
          ],
          "name": "stdout"
        }
      ]
    },
    {
      "cell_type": "code",
      "metadata": {
        "id": "rBxrnBf5X3Af",
        "colab_type": "code",
        "colab": {
          "base_uri": "https://localhost:8080/",
          "height": 34
        },
        "outputId": "cbf2d51b-a558-4d63-9166-711778555b32"
      },
      "source": [
        "sam_FT[list(f<55) or list(f>45)].shape"
      ],
      "execution_count": 9,
      "outputs": [
        {
          "output_type": "execute_result",
          "data": {
            "text/plain": [
              "(1650,)"
            ]
          },
          "metadata": {
            "tags": []
          },
          "execution_count": 9
        }
      ]
    },
    {
      "cell_type": "code",
      "metadata": {
        "id": "YqlzLx64X3G_",
        "colab_type": "code",
        "colab": {
          "base_uri": "https://localhost:8080/",
          "height": 286
        },
        "outputId": "b05bccdc-d374-40f9-d654-27e25f4802e7"
      },
      "source": [
        "plt.plot(f_bar)"
      ],
      "execution_count": 10,
      "outputs": [
        {
          "output_type": "execute_result",
          "data": {
            "text/plain": [
              "[<matplotlib.lines.Line2D at 0x7fb904972400>]"
            ]
          },
          "metadata": {
            "tags": []
          },
          "execution_count": 10
        },
        {
          "output_type": "display_data",
          "data": {
            "image/png": "[encoded data removed]",
            "text/plain": [
              "<Figure size 432x288 with 1 Axes>"
            ]
          },
          "metadata": {
            "tags": []
          }
        }
      ]
    },
    {
      "cell_type": "code",
      "metadata": {
        "id": "25w5VLAgX3Kx",
        "colab_type": "code",
        "colab": {}
      },
      "source": [
        "f = np.linspace(0,512,512*30)[ind_min:ind_max]"
      ],
      "execution_count": 0,
      "outputs": []
    },
    {
      "cell_type": "code",
      "metadata": {
        "id": "vv86ZedLX3N3",
        "colab_type": "code",
        "colab": {}
      },
      "source": [
        "normal = [[np.zeros(f.shape[0]) for k in range(19)] for i in range(n_N)]\n",
        "disorder = [[np.zeros(f.shape[0]) for k in range(19)] for i in range(n_D)]\n",
        "\n",
        "\n",
        "FT = {'D':disorder,\n",
        "     'N':normal}\n",
        "\n",
        "from numpy.fft import fft\n",
        "\n",
        "for d in range(n_D):\n",
        "    for i in range(19):\n",
        "        \n",
        "        FT['D'][d][i] = np.abs(fft(data['D'][d][i]))[ind_min:ind_max]\n",
        "        FT['D'][d][i][noise_index-del_domain  - ind_min: noise_index+del_domain - ind_min] = np.average(FT['D'][d][i][noise_index-del_domain  - ind_min - 120: noise_index+del_domain - ind_min-120])\n",
        "        FT['D'][d][i][2*noise_index-del_domain - ind_min: 2*noise_index+del_domain - ind_min] = np.average(FT['D'][d][i][2*noise_index-del_domain - ind_min - 120: 2*noise_index+del_domain - ind_min-120])\n",
        "    \n",
        "for n in range(n_N):\n",
        "    for i in range(19):\n",
        "        FT['N'][n][i] = np.abs(fft(data['N'][n][i]))[ind_min:ind_max]\n",
        "        FT['N'][n][i][noise_index-del_domain - ind_min: noise_index+del_domain -ind_min] = np.average(FT['N'][n][i][noise_index-del_domain - ind_min-120: noise_index+del_domain -ind_min-120])\n",
        "        FT['N'][n][i][2*noise_index-del_domain - ind_min: 2*noise_index+del_domain - ind_min] = np.average( FT['N'][n][i][2*noise_index-del_domain - ind_min-120 : 2*noise_index+del_domain - ind_min-120])\n",
        "        \n",
        "\n",
        "    FT['N'] = np.array(FT['N'])\n",
        "    FT['D'] = np.array(FT['D'])"
      ],
      "execution_count": 0,
      "outputs": []
    },
    {
      "cell_type": "code",
      "metadata": {
        "id": "vXbEHetdX3Qh",
        "colab_type": "code",
        "colab": {
          "base_uri": "https://localhost:8080/",
          "height": 286
        },
        "outputId": "d907351c-2752-478c-d79c-b8d81b41cdec"
      },
      "source": [
        "plt.plot(f, FT['N'][56][8])"
      ],
      "execution_count": 13,
      "outputs": [
        {
          "output_type": "execute_result",
          "data": {
            "text/plain": [
              "[<matplotlib.lines.Line2D at 0x7fb904af5b70>]"
            ]
          },
          "metadata": {
            "tags": []
          },
          "execution_count": 13
        },
        {
          "output_type": "display_data",
          "data": {
            "image/png": "[encoded data removed]",
            "text/plain": [
              "<Figure size 432x288 with 1 Axes>"
            ]
          },
          "metadata": {
            "tags": []
          }
        }
      ]
    },
    {
      "cell_type": "code",
      "metadata": {
        "id": "V4QvBKKjYEkP",
        "colab_type": "code",
        "colab": {}
      },
      "source": [
        "FT_matrix_N = FT['N']\n",
        "FT_matrix_D = FT['D']\n",
        "\n",
        "temp_D = FT_matrix_D.reshape((FT_matrix_D.shape[0],FT_matrix_D.shape[2],FT_matrix_D.shape[1]))\n",
        "temp_N = FT_matrix_N.reshape((FT_matrix_N.shape[0],FT_matrix_N.shape[2],FT_matrix_N.shape[1]))\n",
        "#or d in range(FT_matrix.shape[0]):\n",
        "scaler = StandardScaler()\n"
      ],
      "execution_count": 0,
      "outputs": []
    },
    {
      "cell_type": "code",
      "metadata": {
        "id": "lxStvMdIYEvn",
        "colab_type": "code",
        "colab": {}
      },
      "source": [
        "for n in range(FT_matrix_N.shape[0]):\n",
        "  temp_N[n]= scaler.fit_transform(FT_matrix_N[n].T)\n",
        "  \n",
        "for d in range(FT_matrix_D.shape[0]):\n",
        "  temp_D[d]= scaler.fit_transform(FT_matrix_D[d].T)"
      ],
      "execution_count": 0,
      "outputs": []
    },
    {
      "cell_type": "code",
      "metadata": {
        "id": "J9FLxVLoYEy0",
        "colab_type": "code",
        "colab": {}
      },
      "source": [
        "for n in range(FT_matrix_N.shape[0]):\n",
        "  FT_matrix_N[n]= scaler.fit_transform(temp_N[n].T)\n",
        "  \n",
        "for d in range(FT_matrix_D.shape[0]):\n",
        "  FT_matrix_D[d]= scaler.fit_transform(temp_D[d].T)"
      ],
      "execution_count": 0,
      "outputs": []
    },
    {
      "cell_type": "code",
      "metadata": {
        "id": "5RumsmEYYEtx",
        "colab_type": "code",
        "colab": {
          "base_uri": "https://localhost:8080/",
          "height": 286
        },
        "outputId": "a2debb81-4995-43ed-8d5b-edd8ef9e7954"
      },
      "source": [
        "plt.plot(f,FT_matrix_D[8,8])"
      ],
      "execution_count": 17,
      "outputs": [
        {
          "output_type": "execute_result",
          "data": {
            "text/plain": [
              "[<matplotlib.lines.Line2D at 0x7fb904924c50>]"
            ]
          },
          "metadata": {
            "tags": []
          },
          "execution_count": 17
        },
        {
          "output_type": "display_data",
          "data": {
            "image/png": "[encoded data removed]",
            "text/plain": [
              "<Figure size 432x288 with 1 Axes>"
            ]
          },
          "metadata": {
            "tags": []
          }
        }
      ]
    },
    {
      "cell_type": "code",
      "metadata": {
        "id": "ZijUGBaoYEsD",
        "colab_type": "code",
        "colab": {
          "base_uri": "https://localhost:8080/",
          "height": 34
        },
        "outputId": "481e13e5-c850-4308-ee05-61426ef39e7b"
      },
      "source": [
        "FT_matrix_D.shape, FT_matrix_N.shape"
      ],
      "execution_count": 18,
      "outputs": [
        {
          "output_type": "execute_result",
          "data": {
            "text/plain": [
              "((631, 19, 3598), (567, 19, 3598))"
            ]
          },
          "metadata": {
            "tags": []
          },
          "execution_count": 18
        }
      ]
    },
    {
      "cell_type": "code",
      "metadata": {
        "id": "y-LS4QvOYEqo",
        "colab_type": "code",
        "colab": {}
      },
      "source": [
        "# normal is 1 and disorder is 0\n",
        "Data = np.vstack((FT_matrix_N, FT_matrix_D))\n",
        "target = np.hstack((np.ones(FT_matrix_N.shape[0]), np.zeros(FT_matrix_D.shape[0])))"
      ],
      "execution_count": 0,
      "outputs": []
    },
    {
      "cell_type": "code",
      "metadata": {
        "id": "P7XVdsneYEng",
        "colab_type": "code",
        "colab": {}
      },
      "source": [
        "X, y = shuffle(Data, target)"
      ],
      "execution_count": 0,
      "outputs": []
    },
    {
      "cell_type": "markdown",
      "metadata": {
        "id": "72NEsTJmW8Qd",
        "colab_type": "text"
      },
      "source": [
        "#PCA"
      ]
    },
    {
      "cell_type": "code",
      "metadata": {
        "id": "M6bTV_nuXrVW",
        "colab_type": "code",
        "colab": {}
      },
      "source": [
        "pca = PCA(n_components = 1)\n",
        "X = X.reshape(X.shape[0],-1)"
      ],
      "execution_count": 0,
      "outputs": []
    },
    {
      "cell_type": "code",
      "metadata": {
        "id": "rf7K5ePUZARx",
        "colab_type": "code",
        "colab": {
          "base_uri": "https://localhost:8080/",
          "height": 34
        },
        "outputId": "5f158c77-ab7e-4509-b570-4f1815df48f6"
      },
      "source": [
        "X.shape"
      ],
      "execution_count": 31,
      "outputs": [
        {
          "output_type": "execute_result",
          "data": {
            "text/plain": [
              "(1198, 68362)"
            ]
          },
          "metadata": {
            "tags": []
          },
          "execution_count": 31
        }
      ]
    },
    {
      "cell_type": "code",
      "metadata": {
        "id": "bFzT1KikW96Y",
        "colab_type": "code",
        "colab": {}
      },
      "source": [
        "X_pca = pca.fit_transform(X)"
      ],
      "execution_count": 0,
      "outputs": []
    },
    {
      "cell_type": "code",
      "metadata": {
        "id": "BelykOWRY10z",
        "colab_type": "code",
        "colab": {
          "base_uri": "https://localhost:8080/",
          "height": 34
        },
        "outputId": "57a38d3e-ae0b-459f-a405-062cd3a07b76"
      },
      "source": [
        "X_pca.shape"
      ],
      "execution_count": 33,
      "outputs": [
        {
          "output_type": "execute_result",
          "data": {
            "text/plain": [
              "(1198, 1)"
            ]
          },
          "metadata": {
            "tags": []
          },
          "execution_count": 33
        }
      ]
    },
    {
      "cell_type": "code",
      "metadata": {
        "id": "3KL1hViBfpnx",
        "colab_type": "code",
        "colab": {}
      },
      "source": [
        "\n",
        "\n",
        "n=10\n",
        "pca = PCA(n)\n",
        "pca.fit(X)\n",
        "data = pca.transform(X)\n",
        "per_var = np.round(pca.explained_variance_ratio_ * 100, decimals=1)\n",
        "#labels = [\"PC\" + str(i) for i in range (1,len(per_var)+1)]\n",
        "fig = plt.figure(figsize = (10,6))\n",
        "ax = fig.add_subplot(1,1,1)\n",
        "print('the scree plot of the features is :')\n",
        "#ax.bar(x=range(1,len(per_var)+1),height=per_var,tick_label=labels)\n",
        "ax.plot(range(1,len(per_var)+1),per_var,'k--',linewidth=4,)\n",
        "\n"
      ],
      "execution_count": 0,
      "outputs": []
    },
    {
      "cell_type": "code",
      "metadata": {
        "id": "Qy0u901XgYYu",
        "colab_type": "code",
        "colab": {
          "base_uri": "https://localhost:8080/",
          "height": 34
        },
        "outputId": "5c67e146-c1ed-42bd-c7f5-55a683eb26f5"
      },
      "source": [
        "X.shape"
      ],
      "execution_count": 29,
      "outputs": [
        {
          "output_type": "execute_result",
          "data": {
            "text/plain": [
              "(1198, 68362)"
            ]
          },
          "metadata": {
            "tags": []
          },
          "execution_count": 29
        }
      ]
    },
    {
      "cell_type": "code",
      "metadata": {
        "id": "EA10QEd5cSYJ",
        "colab_type": "code",
        "colab": {}
      },
      "source": [
        "X_train, X_test, y_train, y_test = train_test_split(X_pca,y)"
      ],
      "execution_count": 0,
      "outputs": []
    },
    {
      "cell_type": "markdown",
      "metadata": {
        "id": "JCxObBrub0ib",
        "colab_type": "text"
      },
      "source": [
        "# Decision Tree"
      ]
    },
    {
      "cell_type": "code",
      "metadata": {
        "id": "uVEIybhtZZth",
        "colab_type": "code",
        "colab": {}
      },
      "source": [
        "from sklearn.tree import DecisionTreeClassifier\n",
        "model = DecisionTreeClassifier(max_depth=2)"
      ],
      "execution_count": 0,
      "outputs": []
    },
    {
      "cell_type": "code",
      "metadata": {
        "id": "s96ixSUfZ3dT",
        "colab_type": "code",
        "colab": {
          "base_uri": "https://localhost:8080/",
          "height": 121
        },
        "outputId": "b51c1744-ef2d-4fab-aa36-4f0960e5cc03"
      },
      "source": [
        "model.fit(X_train,y_train)"
      ],
      "execution_count": 41,
      "outputs": [
        {
          "output_type": "execute_result",
          "data": {
            "text/plain": [
              "DecisionTreeClassifier(class_weight=None, criterion='gini', max_depth=2,\n",
              "                       max_features=None, max_leaf_nodes=None,\n",
              "                       min_impurity_decrease=0.0, min_impurity_split=None,\n",
              "                       min_samples_leaf=1, min_samples_split=2,\n",
              "                       min_weight_fraction_leaf=0.0, presort=False,\n",
              "                       random_state=None, splitter='best')"
            ]
          },
          "metadata": {
            "tags": []
          },
          "execution_count": 41
        }
      ]
    },
    {
      "cell_type": "code",
      "metadata": {
        "id": "883PEAlxcB15",
        "colab_type": "code",
        "colab": {
          "base_uri": "https://localhost:8080/",
          "height": 52
        },
        "outputId": "27a956ff-3479-49db-dd76-765157a5a5a8"
      },
      "source": [
        "from sklearn.metrics import confusion_matrix, classification_report\n",
        "Y_predict = model.predict(X_test)\n",
        "cnfmatrix = confusion_matrix(y_test,Y_predict)\n",
        "print(cnfmatrix)"
      ],
      "execution_count": 42,
      "outputs": [
        {
          "output_type": "stream",
          "text": [
            "[[154   0]\n",
            " [  0 146]]\n"
          ],
          "name": "stdout"
        }
      ]
    },
    {
      "cell_type": "code",
      "metadata": {
        "id": "_vOY3x5McY3b",
        "colab_type": "code",
        "colab": {
          "base_uri": "https://localhost:8080/",
          "height": 173
        },
        "outputId": "94a97533-0300-4ee3-c5c8-1439b439c4b1"
      },
      "source": [
        "clf_report = classification_report(y_test, Y_predict)\n",
        "print(clf_report)"
      ],
      "execution_count": 43,
      "outputs": [
        {
          "output_type": "stream",
          "text": [
            "              precision    recall  f1-score   support\n",
            "\n",
            "         0.0       1.00      1.00      1.00       154\n",
            "         1.0       1.00      1.00      1.00       146\n",
            "\n",
            "    accuracy                           1.00       300\n",
            "   macro avg       1.00      1.00      1.00       300\n",
            "weighted avg       1.00      1.00      1.00       300\n",
            "\n"
          ],
          "name": "stdout"
        }
      ]
    },
    {
      "cell_type": "code",
      "metadata": {
        "id": "wqHBqk5_cpf9",
        "colab_type": "code",
        "colab": {}
      },
      "source": [
        ""
      ],
      "execution_count": 0,
      "outputs": []
    }
  ]
}