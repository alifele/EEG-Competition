{
  "nbformat": 4,
  "nbformat_minor": 0,
  "metadata": {
    "kernelspec": {
      "name": "python3",
      "display_name": "Python 3"
    },
    "language_info": {
      "codemirror_mode": {
        "name": "ipython",
        "version": 3
      },
      "file_extension": ".py",
      "mimetype": "text/x-python",
      "name": "python",
      "nbconvert_exporter": "python",
      "pygments_lexer": "ipython3",
      "version": "3.7.3"
    },
    "colab": {
      "name": "colab_ANN with FFT.ipynb",
      "version": "0.3.2",
      "provenance": [],
      "collapsed_sections": [],
      "include_colab_link": true
    },
    "accelerator": "GPU"
  },
  "cells": [
    {
      "cell_type": "markdown",
      "metadata": {
        "id": "view-in-github",
        "colab_type": "text"
      },
      "source": [
        "<a href=\"https://colab.research.google.com/github/alifele/EEG-computation/blob/master/colab_ANN_with_FFT.ipynb\" target=\"_parent\"><img src=\"https://colab.research.google.com/assets/colab-badge.svg\" alt=\"Open In Colab\"/></a>"
      ]
    },
    {
      "cell_type": "markdown",
      "metadata": {
        "id": "olQ-K30aYFrj",
        "colab_type": "text"
      },
      "source": [
        "# ANN with FFT\n",
        "\n",
        "in this note book i will use the regular Dense neural network with the FT as input \n",
        "the FT with be sliced to the f = 200\n",
        "\n"
      ]
    },
    {
      "cell_type": "code",
      "metadata": {
        "id": "ZTslTv1VYFro",
        "colab_type": "code",
        "colab": {
          "base_uri": "https://localhost:8080/",
          "height": 34
        },
        "outputId": "7b30079c-f582-409d-d4b7-a833a6c45a58"
      },
      "source": [
        "!pip install mat4py\n",
        "import numpy as np\n",
        "import matplotlib.pyplot as plt\n",
        "import mat4py as mt\n",
        "import os\n",
        "from IPython.display import Image\n",
        "from IPython.core.display import HTML \n",
        "from itertools import combinations\n",
        "from numpy.fft import fft"
      ],
      "execution_count": 109,
      "outputs": [
        {
          "output_type": "stream",
          "text": [
            "Requirement already satisfied: mat4py in /usr/local/lib/python3.6/dist-packages (0.4.2)\n"
          ],
          "name": "stdout"
        }
      ]
    },
    {
      "cell_type": "code",
      "metadata": {
        "id": "Q_sPDTqNZjZR",
        "colab_type": "code",
        "colab": {
          "base_uri": "https://localhost:8080/",
          "height": 173
        },
        "outputId": "19092ea1-e717-48fc-b418-db7279fc711b"
      },
      "source": [
        "!git clone https://github.com/alifele/EEG-computation.git\n",
        "%cd EEG-computation"
      ],
      "execution_count": 110,
      "outputs": [
        {
          "output_type": "stream",
          "text": [
            "Cloning into 'EEG-computation'...\n",
            "remote: Enumerating objects: 377, done.\u001b[K\n",
            "remote: Counting objects:   0% (1/377)\u001b[K\rremote: Counting objects:   1% (4/377)\u001b[K\rremote: Counting objects:   2% (8/377)\u001b[K\rremote: Counting objects:   3% (12/377)\u001b[K\rremote: Counting objects:   4% (16/377)\u001b[K\rremote: Counting objects:   5% (19/377)\u001b[K\rremote: Counting objects:   6% (23/377)\u001b[K\rremote: Counting objects:   7% (27/377)\u001b[K\rremote: Counting objects:   8% (31/377)\u001b[K\rremote: Counting objects:   9% (34/377)\u001b[K\rremote: Counting objects:  10% (38/377)\u001b[K\rremote: Counting objects:  11% (42/377)\u001b[K\rremote: Counting objects:  12% (46/377)\u001b[K\rremote: Counting objects:  13% (50/377)\u001b[K\rremote: Counting objects:  14% (53/377)\u001b[K\rremote: Counting objects:  15% (57/377)\u001b[K\rremote: Counting objects:  16% (61/377)\u001b[K\rremote: Counting objects:  17% (65/377)\u001b[K\rremote: Counting objects:  18% (68/377)\u001b[K\rremote: Counting objects:  19% (72/377)\u001b[K\rremote: Counting objects:  20% (76/377)\u001b[K\rremote: Counting objects:  21% (80/377)\u001b[K\rremote: Counting objects:  22% (83/377)\u001b[K\rremote: Counting objects:  23% (87/377)\u001b[K\rremote: Counting objects:  24% (91/377)\u001b[K\rremote: Counting objects:  25% (95/377)\u001b[K\rremote: Counting objects:  26% (99/377)\u001b[K\rremote: Counting objects:  27% (102/377)\u001b[K\rremote: Counting objects:  28% (106/377)\u001b[K\rremote: Counting objects:  29% (110/377)\u001b[K\rremote: Counting objects:  30% (114/377)\u001b[K\rremote: Counting objects:  31% (117/377)\u001b[K\rremote: Counting objects:  32% (121/377)\u001b[K\rremote: Counting objects:  33% (125/377)\u001b[K\rremote: Counting objects:  34% (129/377)\u001b[K\rremote: Counting objects:  35% (132/377)\u001b[K\rremote: Counting objects:  36% (136/377)\u001b[K\rremote: Counting objects:  37% (140/377)\u001b[K\rremote: Counting objects:  38% (144/377)\u001b[K\rremote: Counting objects:  39% (148/377)\u001b[K\rremote: Counting objects:  40% (151/377)\u001b[K\rremote: Counting objects:  41% (155/377)\u001b[K\rremote: Counting objects:  42% (159/377)\u001b[K\rremote: Counting objects:  43% (163/377)\u001b[K\rremote: Counting objects:  44% (166/377)\u001b[K\rremote: Counting objects:  45% (170/377)\u001b[K\rremote: Counting objects:  46% (174/377)\u001b[K\rremote: Counting objects:  47% (178/377)\u001b[K\rremote: Counting objects:  48% (181/377)\u001b[K\rremote: Counting objects:  49% (185/377)\u001b[K\rremote: Counting objects:  50% (189/377)\u001b[K\rremote: Counting objects:  51% (193/377)\u001b[K\rremote: Counting objects:  52% (197/377)\u001b[K\rremote: Counting objects:  53% (200/377)\u001b[K\rremote: Counting objects:  54% (204/377)\u001b[K\rremote: Counting objects:  55% (208/377)\u001b[K\rremote: Counting objects:  56% (212/377)\u001b[K\rremote: Counting objects:  57% (215/377)\u001b[K\rremote: Counting objects:  58% (219/377)\u001b[K\rremote: Counting objects:  59% (223/377)\u001b[K\rremote: Counting objects:  60% (227/377)\u001b[K\rremote: Counting objects:  61% (230/377)\u001b[K\rremote: Counting objects:  62% (234/377)\u001b[K\rremote: Counting objects:  63% (238/377)\u001b[K\rremote: Counting objects:  64% (242/377)\u001b[K\rremote: Counting objects:  65% (246/377)\u001b[K\rremote: Counting objects:  66% (249/377)\u001b[K\rremote: Counting objects:  67% (253/377)\u001b[K\rremote: Counting objects:  68% (257/377)\u001b[K\rremote: Counting objects:  69% (261/377)\u001b[K\rremote: Counting objects:  70% (264/377)\u001b[K\rremote: Counting objects:  71% (268/377)\u001b[K\rremote: Counting objects:  72% (272/377)\u001b[K\rremote: Counting objects:  73% (276/377)\u001b[K\rremote: Counting objects:  74% (279/377)\u001b[K\rremote: Counting objects:  75% (283/377)\u001b[K\rremote: Counting objects:  76% (287/377)\u001b[K\rremote: Counting objects:  77% (291/377)\u001b[K\rremote: Counting objects:  78% (295/377)\u001b[K\rremote: Counting objects:  79% (298/377)\u001b[K\rremote: Counting objects:  80% (302/377)\u001b[K\rremote: Counting objects:  81% (306/377)\u001b[K\rremote: Counting objects:  82% (310/377)\u001b[K\rremote: Counting objects:  83% (313/377)\u001b[K\rremote: Counting objects:  84% (317/377)\u001b[K\rremote: Counting objects:  85% (321/377)\u001b[K\rremote: Counting objects:  86% (325/377)\u001b[K\rremote: Counting objects:  87% (328/377)\u001b[K\rremote: Counting objects:  88% (332/377)\u001b[K\rremote: Counting objects:  89% (336/377)\u001b[K\rremote: Counting objects:  90% (340/377)\u001b[K\rremote: Counting objects:  91% (344/377)\u001b[K\rremote: Counting objects:  92% (347/377)\u001b[K\rremote: Counting objects:  93% (351/377)\u001b[K\rremote: Counting objects:  94% (355/377)\u001b[K\rremote: Counting objects:  95% (359/377)\u001b[K\rremote: Counting objects:  96% (362/377)\u001b[K\rremote: Counting objects:  97% (366/377)\u001b[K\rremote: Counting objects:  98% (370/377)\u001b[K\rremote: Counting objects:  99% (374/377)\u001b[K\rremote: Counting objects: 100% (377/377)\u001b[K\rremote: Counting objects: 100% (377/377), done.\u001b[K\n",
            "remote: Compressing objects: 100% (373/373), done.\u001b[K\n",
            "remote: Total 377 (delta 14), reused 351 (delta 2), pack-reused 0\u001b[K\n",
            "Receiving objects: 100% (377/377), 579.80 MiB | 39.69 MiB/s, done.\n",
            "Resolving deltas: 100% (14/14), done.\n",
            "Checking out files: 100% (339/339), done.\n",
            "/content/EEG-computation/EEG-computation\n"
          ],
          "name": "stdout"
        }
      ]
    },
    {
      "cell_type": "code",
      "metadata": {
        "id": "VqFS-R3vYFr1",
        "colab_type": "code",
        "colab": {}
      },
      "source": [
        "disorder_dic = []\n",
        "directory = os.fsencode('EEG Data/disorder')\n",
        "for file in os.listdir(directory):\n",
        "    filename = os.fsdecode(file)\n",
        "    disorder_dic.append(np.array(mt.loadmat('EEG Data/disorder/{}'.format(filename))[filename.split('.')[0]]))\n",
        "    \n",
        "channels_disorder = [ [] for i in range(len(disorder_dic))]  #channels[person][channel] it will be a numpy array\n",
        "j=0;\n",
        "for person in channels_disorder:\n",
        "    for i in range(19):\n",
        "        person.append(disorder_dic[j][:,i])\n",
        "\n",
        "        \n",
        "normal_dic = []\n",
        "directory = os.fsencode('EEG Data/normal')\n",
        "for file in os.listdir(directory):\n",
        "    filename = os.fsdecode(file)\n",
        "    normal_dic.append(np.array(mt.loadmat('EEG Data/normal/{}'.format(filename))[filename.split('.')[0]]))\n",
        "    \n",
        "channels_normal = [ [] for i in range(len(normal_dic))]  #channels[person][channel] it will be a numpy array\n",
        "j=0;\n",
        "for person in channels_normal:\n",
        "    for i in range(19):\n",
        "        person.append(normal_dic[j][:,i])\n",
        "        \n",
        "        \n",
        "data = {\"N\":channels_normal,\n",
        "      \"D\":channels_disorder}"
      ],
      "execution_count": 0,
      "outputs": []
    },
    {
      "cell_type": "code",
      "metadata": {
        "id": "TD0zp3pMZh_P",
        "colab_type": "code",
        "colab": {}
      },
      "source": [
        ""
      ],
      "execution_count": 0,
      "outputs": []
    },
    {
      "cell_type": "code",
      "metadata": {
        "id": "SGqldSrgYFr_",
        "colab_type": "code",
        "colab": {}
      },
      "source": [
        "n_D , n_N = len(data['D']), len(data['N'])"
      ],
      "execution_count": 0,
      "outputs": []
    },
    {
      "cell_type": "code",
      "metadata": {
        "id": "g0YzNAJ6YFsG",
        "colab_type": "code",
        "colab": {}
      },
      "source": [
        ""
      ],
      "execution_count": 0,
      "outputs": []
    },
    {
      "cell_type": "markdown",
      "metadata": {
        "id": "6Zm3yGMJYFsM",
        "colab_type": "text"
      },
      "source": [
        "## Making Fourier Transform data set"
      ]
    },
    {
      "cell_type": "code",
      "metadata": {
        "id": "qs4lbnTbYFsP",
        "colab_type": "code",
        "colab": {
          "base_uri": "https://localhost:8080/",
          "height": 52
        },
        "outputId": "1e21c7b3-e7d7-4826-db50-bd4e8a0fe1d2"
      },
      "source": [
        "index = np.arange(0,512*30)\n",
        "f = np.linspace(0,512,512*30)\n",
        "f_max = f[len(f[f<120])]\n",
        "ind_min = 2\n",
        "ind_max = list(index[f==f_max])[0]\n",
        "f_min = f[ind_min]\n",
        "\n",
        "print(f_min, f_max, ind_min, ind_max)\n",
        "\n",
        "\n",
        "sam_FT = np.abs(fft(data['D'][1][6]))\n",
        "\n",
        "# The 50 Htz noise elimination information\n",
        "\n",
        "noise = f[sam_FT == np.max(sam_FT[list(f<55) and list(f>45)])][0]\n",
        "noise_index = list(index[f==noise])[0] # in range 0, 512*30\n",
        "del_domain = 40\n",
        "del_range = [noise_index + i for i in range(-del_domain,del_domain)]\n",
        "print(noise, noise_index)\n",
        "\n",
        "\n",
        "\n",
        "\n",
        "\n",
        "\n"
      ],
      "execution_count": 118,
      "outputs": [
        {
          "output_type": "stream",
          "text": [
            "0.06667100722703301 120.00781300865941 2 3600\n",
            "49.96991991666124 1499\n"
          ],
          "name": "stdout"
        }
      ]
    },
    {
      "cell_type": "code",
      "metadata": {
        "id": "2Q3mjlqNZNYr",
        "colab_type": "code",
        "colab": {}
      },
      "source": [
        ""
      ],
      "execution_count": 0,
      "outputs": []
    },
    {
      "cell_type": "code",
      "metadata": {
        "id": "qPSfiX0PYFsW",
        "colab_type": "code",
        "colab": {}
      },
      "source": [
        "f = np.linspace(0,512,512*30)[ind_min:ind_max]"
      ],
      "execution_count": 0,
      "outputs": []
    },
    {
      "cell_type": "code",
      "metadata": {
        "id": "HvMeUaVHYFsc",
        "colab_type": "code",
        "colab": {}
      },
      "source": [
        "normal = [[np.zeros(f.shape[0]) for k in range(19)] for i in range(n_N)]\n",
        "disorder = [[np.zeros(f.shape[0]) for k in range(19)] for i in range(n_D)]\n",
        "\n",
        "\n",
        "FT = {'D':disorder,\n",
        "     'N':normal}\n",
        "\n",
        "from numpy.fft import fft\n",
        "\n",
        "for d in range(n_D):\n",
        "    for i in range(19):\n",
        "        \n",
        "        FT['D'][d][i] = np.abs(fft(data['D'][d][i]))[ind_min:ind_max]\n",
        "        FT['D'][d][i][noise_index-del_domain  - ind_min: noise_index+del_domain - ind_min] = np.average(FT['D'][d][i][noise_index-del_domain  - ind_min - 120: noise_index+del_domain - ind_min-120])\n",
        "        FT['D'][d][i][2*noise_index-del_domain - ind_min: 2*noise_index+del_domain - ind_min] = np.average(FT['D'][d][i][2*noise_index-del_domain - ind_min - 120: 2*noise_index+del_domain - ind_min-120])\n",
        "    \n",
        "for n in range(n_N):\n",
        "    for i in range(19):\n",
        "        FT['N'][n][i] = np.abs(fft(data['N'][n][i]))[ind_min:ind_max]\n",
        "        FT['N'][n][i][noise_index-del_domain - ind_min: noise_index+del_domain -ind_min] = np.average(FT['N'][n][i][noise_index-del_domain - ind_min-120: noise_index+del_domain -ind_min-120])\n",
        "        FT['N'][n][i][2*noise_index-del_domain - ind_min: 2*noise_index+del_domain - ind_min] = np.average( FT['N'][n][i][2*noise_index-del_domain - ind_min-120 : 2*noise_index+del_domain - ind_min-120])\n",
        "        \n",
        "\n",
        "    FT['N'] = np.array(FT['N'])\n",
        "    FT['D'] = np.array(FT['D'])"
      ],
      "execution_count": 0,
      "outputs": []
    },
    {
      "cell_type": "code",
      "metadata": {
        "id": "ILrD5Pv0YFsl",
        "colab_type": "code",
        "colab": {
          "base_uri": "https://localhost:8080/",
          "height": 286
        },
        "outputId": "7e16b767-f10e-4c3d-aa9a-f7eff8b2f794"
      },
      "source": [
        "plt.plot(f, FT['N'][6][9])"
      ],
      "execution_count": 121,
      "outputs": [
        {
          "output_type": "execute_result",
          "data": {
            "text/plain": [
              "[<matplotlib.lines.Line2D at 0x7fbf5c19d2e8>]"
            ]
          },
          "metadata": {
            "tags": []
          },
          "execution_count": 121
        },
        {
          "output_type": "display_data",
          "data": {
            "image/png": "[encoded data removed]",
            "text/plain": [
              "<Figure size 432x288 with 1 Axes>"
            ]
          },
          "metadata": {
            "tags": []
          }
        }
      ]
    },
    {
      "cell_type": "code",
      "metadata": {
        "id": "nBhhb_xXYFsr",
        "colab_type": "code",
        "colab": {}
      },
      "source": [
        "%reset_selective -f \"^data$\""
      ],
      "execution_count": 0,
      "outputs": []
    },
    {
      "cell_type": "markdown",
      "metadata": {
        "id": "yNRjMeEXYFs0",
        "colab_type": "text"
      },
      "source": [
        "# Data Shaper"
      ]
    },
    {
      "cell_type": "code",
      "metadata": {
        "id": "JAO6PyU6YFs3",
        "colab_type": "code",
        "colab": {
          "base_uri": "https://localhost:8080/",
          "height": 34
        },
        "outputId": "39c8661c-6fc7-4193-952b-d0e80dee77e1"
      },
      "source": [
        "FT['N'].shape"
      ],
      "execution_count": 123,
      "outputs": [
        {
          "output_type": "execute_result",
          "data": {
            "text/plain": [
              "(132, 19, 3598)"
            ]
          },
          "metadata": {
            "tags": []
          },
          "execution_count": 123
        }
      ]
    },
    {
      "cell_type": "code",
      "metadata": {
        "id": "DUkq_Dq1YFtA",
        "colab_type": "code",
        "colab": {}
      },
      "source": [
        "FT_matrix_N = FT['N']\n",
        "FT_matrix_D = FT['D']\n"
      ],
      "execution_count": 0,
      "outputs": []
    },
    {
      "cell_type": "code",
      "metadata": {
        "id": "h2br4SpnYFtG",
        "colab_type": "code",
        "colab": {}
      },
      "source": [
        "for n in range(n_N):\n",
        "    FT_matrix_N[n] = FT['N'][n]\n",
        "for d in range(n_D):\n",
        "    FT_matrix_D[d] = FT['D'][d]"
      ],
      "execution_count": 0,
      "outputs": []
    },
    {
      "cell_type": "code",
      "metadata": {
        "id": "f7_QyqKCYFtL",
        "colab_type": "code",
        "colab": {}
      },
      "source": [
        "# normal is 1 and disorder is 0\n",
        "Data = np.vstack((FT_matrix_N, FT_matrix_D))\n",
        "target = np.hstack((np.ones(FT_matrix_N.shape[0]), np.zeros(FT_matrix_D.shape[0])))"
      ],
      "execution_count": 0,
      "outputs": []
    },
    {
      "cell_type": "code",
      "metadata": {
        "id": "FA548kXJYFtS",
        "colab_type": "code",
        "colab": {
          "base_uri": "https://localhost:8080/",
          "height": 34
        },
        "outputId": "5ab0147b-75ea-4211-d7d5-c6d2200a1e13"
      },
      "source": [
        "Data.shape, target.shape"
      ],
      "execution_count": 127,
      "outputs": [
        {
          "output_type": "execute_result",
          "data": {
            "text/plain": [
              "((328, 19, 3598), (328,))"
            ]
          },
          "metadata": {
            "tags": []
          },
          "execution_count": 127
        }
      ]
    },
    {
      "cell_type": "code",
      "metadata": {
        "id": "UZ_42qUuYFtY",
        "colab_type": "code",
        "colab": {}
      },
      "source": [
        "from sklearn.utils import shuffle\n",
        "from sklearn.model_selection import train_test_split\n",
        "from sklearn.preprocessing import StandardScaler\n",
        "X, y = shuffle(Data, target)\n"
      ],
      "execution_count": 0,
      "outputs": []
    },
    {
      "cell_type": "code",
      "metadata": {
        "id": "59UtrZk2YFtd",
        "colab_type": "code",
        "colab": {},
        "outputId": "81555c48-ed9e-47ba-fab4-1582863d68ee"
      },
      "source": [
        ""
      ],
      "execution_count": 0,
      "outputs": [
        {
          "output_type": "execute_result",
          "data": {
            "text/plain": [
              "((246, 3598, 19), (82, 3598, 19), (246,), (82,))"
            ]
          },
          "metadata": {
            "tags": []
          },
          "execution_count": 453
        }
      ]
    },
    {
      "cell_type": "markdown",
      "metadata": {
        "id": "yZqbzEw0YFtl",
        "colab_type": "text"
      },
      "source": [
        "# Neural Network "
      ]
    },
    {
      "cell_type": "code",
      "metadata": {
        "id": "8-4bQKM2YFtn",
        "colab_type": "code",
        "colab": {}
      },
      "source": [
        "from tensorflow import keras\n",
        "from keras.models import Sequential\n",
        "from keras.layers import Dense, Dropout, Flatten"
      ],
      "execution_count": 0,
      "outputs": []
    },
    {
      "cell_type": "code",
      "metadata": {
        "id": "g1RSs3y6YFtt",
        "colab_type": "code",
        "colab": {},
        "outputId": "b7051fb7-bc43-4e3c-8d7a-75aeedf3210b"
      },
      "source": [
        "X_train.shape[1]"
      ],
      "execution_count": 0,
      "outputs": [
        {
          "output_type": "execute_result",
          "data": {
            "text/plain": [
              "3598"
            ]
          },
          "metadata": {
            "tags": []
          },
          "execution_count": 460
        }
      ]
    },
    {
      "cell_type": "code",
      "metadata": {
        "id": "XKopHRYpYFt0",
        "colab_type": "code",
        "colab": {}
      },
      "source": [
        "model = Sequential([\n",
        "    Flatten(input_shape=[X_train.shape[1],X_train.shape[2]]),\n",
        "    Dense(300, activation='relu'),\n",
        "    Dropout(0.5),\n",
        "    Dense(200, activation='relu'),\n",
        "    Dropout(0.5),\n",
        "    Dense(100, activation='relu'),\n",
        "    Dropout(0.5),\n",
        "    Dense(10, activation='relu'),\n",
        "    Dropout(0.5),\n",
        "    Dense(1, activation='sigmoid'),\n",
        "    \n",
        "])"
      ],
      "execution_count": 0,
      "outputs": []
    },
    {
      "cell_type": "code",
      "metadata": {
        "id": "8fOlJu0lYFt4",
        "colab_type": "code",
        "colab": {},
        "outputId": "38a50330-7f76-49ee-cd0e-a938910d9521"
      },
      "source": [
        "model.summary()"
      ],
      "execution_count": 0,
      "outputs": [
        {
          "output_type": "stream",
          "text": [
            "Model: \"sequential_12\"\n",
            "_________________________________________________________________\n",
            "Layer (type)                 Output Shape              Param #   \n",
            "=================================================================\n",
            "flatten_10 (Flatten)         (None, 68362)             0         \n",
            "_________________________________________________________________\n",
            "dense_48 (Dense)             (None, 300)               20508900  \n",
            "_________________________________________________________________\n",
            "dropout_38 (Dropout)         (None, 300)               0         \n",
            "_________________________________________________________________\n",
            "dense_49 (Dense)             (None, 200)               60200     \n",
            "_________________________________________________________________\n",
            "dropout_39 (Dropout)         (None, 200)               0         \n",
            "_________________________________________________________________\n",
            "dense_50 (Dense)             (None, 100)               20100     \n",
            "_________________________________________________________________\n",
            "dropout_40 (Dropout)         (None, 100)               0         \n",
            "_________________________________________________________________\n",
            "dense_51 (Dense)             (None, 10)                1010      \n",
            "_________________________________________________________________\n",
            "dropout_41 (Dropout)         (None, 10)                0         \n",
            "_________________________________________________________________\n",
            "dense_52 (Dense)             (None, 1)                 11        \n",
            "=================================================================\n",
            "Total params: 20,590,221\n",
            "Trainable params: 20,590,221\n",
            "Non-trainable params: 0\n",
            "_________________________________________________________________\n"
          ],
          "name": "stdout"
        }
      ]
    },
    {
      "cell_type": "code",
      "metadata": {
        "id": "FEpsBMoWYFt_",
        "colab_type": "code",
        "colab": {}
      },
      "source": [
        "model.compile(loss = 'binary_crossentropy',\n",
        "             optimizer='adam',\n",
        "             metrics=['accuracy'])"
      ],
      "execution_count": 0,
      "outputs": []
    },
    {
      "cell_type": "code",
      "metadata": {
        "id": "iNcaAPUVYFuE",
        "colab_type": "code",
        "colab": {},
        "outputId": "a71adfbf-0dc9-4026-dfe9-0b2261f1e6da"
      },
      "source": [
        "model.fit(X_train, y_train, epochs=3, batch_size=64)"
      ],
      "execution_count": 0,
      "outputs": [
        {
          "output_type": "stream",
          "text": [
            "Epoch 1/3\n",
            "246/246 [==============================] - 633s 3s/step - loss: 7.3312 - acc: 0.5081ETA: 2:50 - loss: 7.3795 - acc: 0.505\n",
            "Epoch 2/3\n",
            "246/246 [==============================] - 28s 113ms/step - loss: 7.6468 - acc: 0.4959\n",
            "Epoch 3/3\n",
            "246/246 [==============================] - 3s 12ms/step - loss: 7.5298 - acc: 0.5041\n"
          ],
          "name": "stdout"
        },
        {
          "output_type": "execute_result",
          "data": {
            "text/plain": [
              "<keras.callbacks.History at 0x7fb39e90a6d8>"
            ]
          },
          "metadata": {
            "tags": []
          },
          "execution_count": 481
        }
      ]
    },
    {
      "cell_type": "code",
      "metadata": {
        "id": "ezjMFqOWYFuK",
        "colab_type": "code",
        "colab": {}
      },
      "source": [
        "a"
      ],
      "execution_count": 0,
      "outputs": []
    },
    {
      "cell_type": "code",
      "metadata": {
        "id": "U0TsoQPNYFuO",
        "colab_type": "code",
        "colab": {}
      },
      "source": [
        ""
      ],
      "execution_count": 0,
      "outputs": []
    }
  ]
}