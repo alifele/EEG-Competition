{
  "nbformat": 4,
  "nbformat_minor": 0,
  "metadata": {
    "kernelspec": {
      "name": "python3",
      "display_name": "Python 3"
    },
    "language_info": {
      "codemirror_mode": {
        "name": "ipython",
        "version": 3
      },
      "file_extension": ".py",
      "mimetype": "text/x-python",
      "name": "python",
      "nbconvert_exporter": "python",
      "pygments_lexer": "ipython3",
      "version": "3.7.3"
    },
    "colab": {
      "name": "colab_ANN_with_FFT.ipynb",
      "version": "0.3.2",
      "provenance": [],
      "collapsed_sections": [],
      "include_colab_link": true
    },
    "accelerator": "GPU"
  },
  "cells": [
    {
      "cell_type": "markdown",
      "metadata": {
        "id": "view-in-github",
        "colab_type": "text"
      },
      "source": [
        "<a href=\"https://colab.research.google.com/github/alifele/EEG-computation/blob/master/colab_ANN_with_FFT.ipynb\" target=\"_parent\"><img src=\"https://colab.research.google.com/assets/colab-badge.svg\" alt=\"Open In Colab\"/></a>"
      ]
    },
    {
      "cell_type": "markdown",
      "metadata": {
        "id": "olQ-K30aYFrj",
        "colab_type": "text"
      },
      "source": [
        "# ANN with FFT\n",
        "\n",
        "in this note book i will use the regular Dense neural network with the FT as input \n",
        "the FT with be sliced to the f = 200\n",
        "\n"
      ]
    },
    {
      "cell_type": "code",
      "metadata": {
        "id": "ZTslTv1VYFro",
        "colab_type": "code",
        "outputId": "3c076c29-fff2-44c9-d960-50593c10e35f",
        "colab": {
          "base_uri": "https://localhost:8080/",
          "height": 34
        }
      },
      "source": [
        "!pip install mat4py\n",
        "import numpy as np\n",
        "import matplotlib.pyplot as plt\n",
        "import mat4py as mt\n",
        "import os\n",
        "from IPython.display import Image\n",
        "from IPython.core.display import HTML \n",
        "from itertools import combinations\n",
        "from numpy.fft import fft\n",
        "from sklearn.utils import shuffle\n",
        "from sklearn.model_selection import train_test_split\n",
        "from sklearn.preprocessing import StandardScaler\n",
        "import pandas as pd\n"
      ],
      "execution_count": 143,
      "outputs": [
        {
          "output_type": "stream",
          "text": [
            "Requirement already satisfied: mat4py in /usr/local/lib/python3.6/dist-packages (0.4.2)\n"
          ],
          "name": "stdout"
        }
      ]
    },
    {
      "cell_type": "code",
      "metadata": {
        "id": "Q_sPDTqNZjZR",
        "colab_type": "code",
        "outputId": "c483ed8a-6977-4a0a-8f7b-50cdfa2998d1",
        "colab": {
          "base_uri": "https://localhost:8080/",
          "height": 173
        }
      },
      "source": [
        "!git clone https://github.com/alifele/EEG-computation.git\n",
        "%cd EEG-computation"
      ],
      "execution_count": 144,
      "outputs": [
        {
          "output_type": "stream",
          "text": [
            "Cloning into 'EEG-computation'...\n",
            "remote: Enumerating objects: 383, done.\u001b[K\n",
            "remote: Counting objects:   0% (1/383)\u001b[K\rremote: Counting objects:   1% (4/383)\u001b[K\rremote: Counting objects:   2% (8/383)\u001b[K\rremote: Counting objects:   3% (12/383)\u001b[K\rremote: Counting objects:   4% (16/383)\u001b[K\rremote: Counting objects:   5% (20/383)\u001b[K\rremote: Counting objects:   6% (23/383)\u001b[K\rremote: Counting objects:   7% (27/383)\u001b[K\rremote: Counting objects:   8% (31/383)\u001b[K\rremote: Counting objects:   9% (35/383)\u001b[K\rremote: Counting objects:  10% (39/383)\u001b[K\rremote: Counting objects:  11% (43/383)\u001b[K\rremote: Counting objects:  12% (46/383)\u001b[K\rremote: Counting objects:  13% (50/383)\u001b[K\rremote: Counting objects:  14% (54/383)\u001b[K\rremote: Counting objects:  15% (58/383)\u001b[K\rremote: Counting objects:  16% (62/383)\u001b[K\rremote: Counting objects:  17% (66/383)\u001b[K\rremote: Counting objects:  18% (69/383)\u001b[K\rremote: Counting objects:  19% (73/383)\u001b[K\rremote: Counting objects:  20% (77/383)\u001b[K\rremote: Counting objects:  21% (81/383)\u001b[K\rremote: Counting objects:  22% (85/383)\u001b[K\rremote: Counting objects:  23% (89/383)\u001b[K\rremote: Counting objects:  24% (92/383)\u001b[K\rremote: Counting objects:  25% (96/383)\u001b[K\rremote: Counting objects:  26% (100/383)\u001b[K\rremote: Counting objects:  27% (104/383)\u001b[K\rremote: Counting objects:  28% (108/383)\u001b[K\rremote: Counting objects:  29% (112/383)\u001b[K\rremote: Counting objects:  30% (115/383)\u001b[K\rremote: Counting objects:  31% (119/383)\u001b[K\rremote: Counting objects:  32% (123/383)\u001b[K\rremote: Counting objects:  33% (127/383)\u001b[K\rremote: Counting objects:  34% (131/383)\u001b[K\rremote: Counting objects:  35% (135/383)\u001b[K\rremote: Counting objects:  36% (138/383)\u001b[K\rremote: Counting objects:  37% (142/383)\u001b[K\rremote: Counting objects:  38% (146/383)\u001b[K\rremote: Counting objects:  39% (150/383)\u001b[K\rremote: Counting objects:  40% (154/383)\u001b[K\rremote: Counting objects:  41% (158/383)\u001b[K\rremote: Counting objects:  42% (161/383)\u001b[K\rremote: Counting objects:  43% (165/383)\u001b[K\rremote: Counting objects:  44% (169/383)\u001b[K\rremote: Counting objects:  45% (173/383)\u001b[K\rremote: Counting objects:  46% (177/383)\u001b[K\rremote: Counting objects:  47% (181/383)\u001b[K\rremote: Counting objects:  48% (184/383)\u001b[K\rremote: Counting objects:  49% (188/383)\u001b[K\rremote: Counting objects:  50% (192/383)\u001b[K\rremote: Counting objects:  51% (196/383)\u001b[K\rremote: Counting objects:  52% (200/383)\u001b[K\rremote: Counting objects:  53% (203/383)\u001b[K\rremote: Counting objects:  54% (207/383)\u001b[K\rremote: Counting objects:  55% (211/383)\u001b[K\rremote: Counting objects:  56% (215/383)\u001b[K\rremote: Counting objects:  57% (219/383)\u001b[K\rremote: Counting objects:  58% (223/383)\u001b[K\rremote: Counting objects:  59% (226/383)\u001b[K\rremote: Counting objects:  60% (230/383)\u001b[K\rremote: Counting objects:  61% (234/383)\u001b[K\rremote: Counting objects:  62% (238/383)\u001b[K\rremote: Counting objects:  63% (242/383)\u001b[K\rremote: Counting objects:  64% (246/383)\u001b[K\rremote: Counting objects:  65% (249/383)\u001b[K\rremote: Counting objects:  66% (253/383)\u001b[K\rremote: Counting objects:  67% (257/383)\u001b[K\rremote: Counting objects:  68% (261/383)\u001b[K\rremote: Counting objects:  69% (265/383)\u001b[K\rremote: Counting objects:  70% (269/383)\u001b[K\rremote: Counting objects:  71% (272/383)\u001b[K\rremote: Counting objects:  72% (276/383)\u001b[K\rremote: Counting objects:  73% (280/383)\u001b[K\rremote: Counting objects:  74% (284/383)\u001b[K\rremote: Counting objects:  75% (288/383)\u001b[K\rremote: Counting objects:  76% (292/383)\u001b[K\rremote: Counting objects:  77% (295/383)\u001b[K\rremote: Counting objects:  78% (299/383)\u001b[K\rremote: Counting objects:  79% (303/383)\u001b[K\rremote: Counting objects:  80% (307/383)\u001b[K\rremote: Counting objects:  81% (311/383)\u001b[K\rremote: Counting objects:  82% (315/383)\u001b[K\rremote: Counting objects:  83% (318/383)\u001b[K\rremote: Counting objects:  84% (322/383)\u001b[K\rremote: Counting objects:  85% (326/383)\u001b[K\rremote: Counting objects:  86% (330/383)\u001b[K\rremote: Counting objects:  87% (334/383)\u001b[K\rremote: Counting objects:  88% (338/383)\u001b[K\rremote: Counting objects:  89% (341/383)\u001b[K\rremote: Counting objects:  90% (345/383)\u001b[K\rremote: Counting objects:  91% (349/383)\u001b[K\rremote: Counting objects:  92% (353/383)\u001b[K\rremote: Counting objects:  93% (357/383)\u001b[K\rremote: Counting objects:  94% (361/383)\u001b[K\rremote: Counting objects:  95% (364/383)\u001b[K\rremote: Counting objects:  96% (368/383)\u001b[K\rremote: Counting objects:  97% (372/383)\u001b[K\rremote: Counting objects:  98% (376/383)\u001b[K\rremote: Counting objects:  99% (380/383)\u001b[K\rremote: Counting objects: 100% (383/383)\u001b[K\rremote: Counting objects: 100% (383/383), done.\u001b[K\n",
            "remote: Compressing objects: 100% (379/379), done.\u001b[K\n",
            "remote: Total 383 (delta 18), reused 351 (delta 2), pack-reused 0\u001b[K\n",
            "Receiving objects: 100% (383/383), 579.86 MiB | 44.69 MiB/s, done.\n",
            "Resolving deltas: 100% (18/18), done.\n",
            "Checking out files: 100% (340/340), done.\n",
            "/content/EEG-computation/EEG-computation\n"
          ],
          "name": "stdout"
        }
      ]
    },
    {
      "cell_type": "code",
      "metadata": {
        "id": "VqFS-R3vYFr1",
        "colab_type": "code",
        "colab": {}
      },
      "source": [
        "disorder_dic = []\n",
        "directory = os.fsencode('EEG Data/disorder')\n",
        "for file in os.listdir(directory):\n",
        "    filename = os.fsdecode(file)\n",
        "    disorder_dic.append(np.array(mt.loadmat('EEG Data/disorder/{}'.format(filename))[filename.split('.')[0]]))\n",
        "    \n",
        "channels_disorder = [ [] for i in range(len(disorder_dic))]  #channels[person][channel] it will be a numpy array\n",
        "j=0;\n",
        "for person in channels_disorder:\n",
        "    for i in range(19):\n",
        "        person.append(disorder_dic[j][:,i])\n",
        "\n",
        "        \n",
        "normal_dic = []\n",
        "directory = os.fsencode('EEG Data/normal')\n",
        "for file in os.listdir(directory):\n",
        "    filename = os.fsdecode(file)\n",
        "    normal_dic.append(np.array(mt.loadmat('EEG Data/normal/{}'.format(filename))[filename.split('.')[0]]))\n",
        "    \n",
        "channels_normal = [ [] for i in range(len(normal_dic))]  #channels[person][channel] it will be a numpy array\n",
        "j=0;\n",
        "for person in channels_normal:\n",
        "    for i in range(19):\n",
        "        person.append(normal_dic[j][:,i])\n",
        "        \n",
        "        \n",
        "data = {\"N\":channels_normal,\n",
        "      \"D\":channels_disorder}"
      ],
      "execution_count": 0,
      "outputs": []
    },
    {
      "cell_type": "markdown",
      "metadata": {
        "id": "glLAbCwRJuWB",
        "colab_type": "text"
      },
      "source": [
        "## New data"
      ]
    },
    {
      "cell_type": "code",
      "metadata": {
        "id": "41PQRfjrJxQ2",
        "colab_type": "code",
        "colab": {}
      },
      "source": [
        "def New_Data_Generator_N():\n",
        "    number_of_samples = 30\n",
        "    randlist = (132 * np.random.random(number_of_samples)).astype(int)\n",
        "    new_patients = list(data['N'][i] for i in randlist)\n",
        "    \n",
        "    index = [ i for i in range(number_of_samples)]\n",
        "    comb = list( combinations(index, 2))\n",
        "    new_data = [[] for i in range(len(comb))]\n",
        "    person = 0\n",
        "    for x,y in comb:\n",
        "        for chan in range(19):\n",
        "            new_data[person].append((new_patients[x][chan] + new_patients[y][chan] )/2)\n",
        "        data['N'].append(new_data[person])\n",
        "        person += 1\n",
        "\n",
        "    \n",
        "def New_Data_Generator_D():\n",
        "    number_of_samples = 30\n",
        "    randlist = (132 * np.random.random(number_of_samples)).astype(int)\n",
        "    new_patients = list(data['D'][i] for i in randlist)\n",
        "    \n",
        "    index = [ i for i in range(number_of_samples)]\n",
        "    comb = list( combinations(index, 2))\n",
        "    new_data = [[] for i in range(len(comb))]\n",
        "    person = 0\n",
        "    for x,y in comb:\n",
        "        for chan in range(19):\n",
        "            new_data[person].append((new_patients[x][chan] + new_patients[y][chan] )/2)\n",
        "        data['D'].append(new_data[person])\n",
        "        person += 1"
      ],
      "execution_count": 0,
      "outputs": []
    },
    {
      "cell_type": "code",
      "metadata": {
        "id": "PDSFZkGXJysW",
        "colab_type": "code",
        "colab": {}
      },
      "source": [
        "New_Data_Generator_N()\n",
        "New_Data_Generator_D()"
      ],
      "execution_count": 0,
      "outputs": []
    },
    {
      "cell_type": "code",
      "metadata": {
        "id": "SGqldSrgYFr_",
        "colab_type": "code",
        "colab": {}
      },
      "source": [
        "n_D , n_N = len(data['D']), len(data['N'])"
      ],
      "execution_count": 0,
      "outputs": []
    },
    {
      "cell_type": "code",
      "metadata": {
        "id": "6kS49ZU2KWE7",
        "colab_type": "code",
        "colab": {
          "base_uri": "https://localhost:8080/",
          "height": 34
        },
        "outputId": "760a99d8-3b2c-4e2f-ce68-f6ada4d81fae"
      },
      "source": [
        "n_D, n_N"
      ],
      "execution_count": 173,
      "outputs": [
        {
          "output_type": "execute_result",
          "data": {
            "text/plain": [
              "(631, 567)"
            ]
          },
          "metadata": {
            "tags": []
          },
          "execution_count": 173
        }
      ]
    },
    {
      "cell_type": "markdown",
      "metadata": {
        "id": "6Zm3yGMJYFsM",
        "colab_type": "text"
      },
      "source": [
        "## Making Fourier Transform data set"
      ]
    },
    {
      "cell_type": "code",
      "metadata": {
        "id": "qs4lbnTbYFsP",
        "colab_type": "code",
        "outputId": "a40fe68f-9add-468b-e7a0-2e42af1b4c21",
        "colab": {
          "base_uri": "https://localhost:8080/",
          "height": 52
        }
      },
      "source": [
        "index = np.arange(0,512*30)\n",
        "f = np.linspace(0,512,512*30)\n",
        "f_max = f[len(f[f<120])]\n",
        "ind_min = 2\n",
        "ind_max = list(index[f==f_max])[0]\n",
        "f_min = f[ind_min]\n",
        "\n",
        "print(f_min, f_max, ind_min, ind_max)\n",
        "\n",
        "\n",
        "sam_FT = np.abs(fft(data['D'][50][7]))\n",
        "\n",
        "# The 50 Htz noise elimination information\n",
        "\n",
        "f_45 = f>45\n",
        "f_55 = f<55\n",
        "f_bar = f<45\n",
        "\n",
        "for i in range(f.shape[0]):\n",
        "  f_bar[i] = f_45[i] and f_55[i]\n",
        "  \n",
        "  \n",
        "noise = f[sam_FT == np.max(sam_FT[f_bar])][0]\n",
        "noise_index = list(index[f==noise])[0] # in range 0, 512*30\n",
        "del_domain = 40\n",
        "del_range = [noise_index + i for i in range(-del_domain,del_domain)]\n",
        "print(noise, noise_index)\n",
        "\n",
        "\n",
        "\n",
        "\n",
        "\n",
        "\n"
      ],
      "execution_count": 174,
      "outputs": [
        {
          "output_type": "stream",
          "text": [
            "0.06667100722703301 120.00781300865941 2 3600\n",
            "50.13659743472882 1504\n"
          ],
          "name": "stdout"
        }
      ]
    },
    {
      "cell_type": "code",
      "metadata": {
        "id": "KUt3rNgGe8Hh",
        "colab_type": "code",
        "colab": {
          "base_uri": "https://localhost:8080/",
          "height": 34
        },
        "outputId": "54397e4b-fc36-4142-ac04-dc11a5078cb2"
      },
      "source": [
        "sam_FT[list(f<55) or list(f>45)].shape"
      ],
      "execution_count": 175,
      "outputs": [
        {
          "output_type": "execute_result",
          "data": {
            "text/plain": [
              "(1650,)"
            ]
          },
          "metadata": {
            "tags": []
          },
          "execution_count": 175
        }
      ]
    },
    {
      "cell_type": "code",
      "metadata": {
        "id": "3Y5MVcfDo1Xd",
        "colab_type": "code",
        "colab": {
          "base_uri": "https://localhost:8080/",
          "height": 286
        },
        "outputId": "6f6bf363-219a-44b2-9f2f-d09363ee4c5d"
      },
      "source": [
        "plt.plot(f_bar)"
      ],
      "execution_count": 176,
      "outputs": [
        {
          "output_type": "execute_result",
          "data": {
            "text/plain": [
              "[<matplotlib.lines.Line2D at 0x7f84ecc4ec50>]"
            ]
          },
          "metadata": {
            "tags": []
          },
          "execution_count": 176
        },
        {
          "output_type": "display_data",
          "data": {
            "image/png": "[encoded data removed]",
            "text/plain": [
              "<Figure size 432x288 with 1 Axes>"
            ]
          },
          "metadata": {
            "tags": []
          }
        }
      ]
    },
    {
      "cell_type": "markdown",
      "metadata": {
        "id": "bFOPtYg0ZOUz",
        "colab_type": "text"
      },
      "source": [
        "# Noise Delete"
      ]
    },
    {
      "cell_type": "code",
      "metadata": {
        "id": "qPSfiX0PYFsW",
        "colab_type": "code",
        "colab": {}
      },
      "source": [
        "f = np.linspace(0,512,512*30)[ind_min:ind_max]"
      ],
      "execution_count": 0,
      "outputs": []
    },
    {
      "cell_type": "code",
      "metadata": {
        "id": "HvMeUaVHYFsc",
        "colab_type": "code",
        "colab": {}
      },
      "source": [
        "normal = [[np.zeros(f.shape[0]) for k in range(19)] for i in range(n_N)]\n",
        "disorder = [[np.zeros(f.shape[0]) for k in range(19)] for i in range(n_D)]\n",
        "\n",
        "\n",
        "FT = {'D':disorder,\n",
        "     'N':normal}\n",
        "\n",
        "from numpy.fft import fft\n",
        "\n",
        "for d in range(n_D):\n",
        "    for i in range(19):\n",
        "        \n",
        "        FT['D'][d][i] = np.abs(fft(data['D'][d][i]))[ind_min:ind_max]\n",
        "        FT['D'][d][i][noise_index-del_domain  - ind_min: noise_index+del_domain - ind_min] = np.average(FT['D'][d][i][noise_index-del_domain  - ind_min - 120: noise_index+del_domain - ind_min-120])\n",
        "        FT['D'][d][i][2*noise_index-del_domain - ind_min: 2*noise_index+del_domain - ind_min] = np.average(FT['D'][d][i][2*noise_index-del_domain - ind_min - 120: 2*noise_index+del_domain - ind_min-120])\n",
        "    \n",
        "for n in range(n_N):\n",
        "    for i in range(19):\n",
        "        FT['N'][n][i] = np.abs(fft(data['N'][n][i]))[ind_min:ind_max]\n",
        "        FT['N'][n][i][noise_index-del_domain - ind_min: noise_index+del_domain -ind_min] = np.average(FT['N'][n][i][noise_index-del_domain - ind_min-120: noise_index+del_domain -ind_min-120])\n",
        "        FT['N'][n][i][2*noise_index-del_domain - ind_min: 2*noise_index+del_domain - ind_min] = np.average( FT['N'][n][i][2*noise_index-del_domain - ind_min-120 : 2*noise_index+del_domain - ind_min-120])\n",
        "        \n",
        "\n",
        "    FT['N'] = np.array(FT['N'])\n",
        "    FT['D'] = np.array(FT['D'])"
      ],
      "execution_count": 0,
      "outputs": []
    },
    {
      "cell_type": "code",
      "metadata": {
        "id": "ILrD5Pv0YFsl",
        "colab_type": "code",
        "outputId": "3a8bb306-1dcd-417f-ef1e-7240c81586f2",
        "colab": {
          "base_uri": "https://localhost:8080/",
          "height": 286
        }
      },
      "source": [
        "plt.plot(f, FT['N'][56][8])"
      ],
      "execution_count": 179,
      "outputs": [
        {
          "output_type": "execute_result",
          "data": {
            "text/plain": [
              "[<matplotlib.lines.Line2D at 0x7f84ec5c7470>]"
            ]
          },
          "metadata": {
            "tags": []
          },
          "execution_count": 179
        },
        {
          "output_type": "display_data",
          "data": {
            "image/png": "[encoded data removed]",
            "text/plain": [
              "<Figure size 432x288 with 1 Axes>"
            ]
          },
          "metadata": {
            "tags": []
          }
        }
      ]
    },
    {
      "cell_type": "code",
      "metadata": {
        "id": "nBhhb_xXYFsr",
        "colab_type": "code",
        "colab": {}
      },
      "source": [
        "%reset_selective -f \"^data$\""
      ],
      "execution_count": 0,
      "outputs": []
    },
    {
      "cell_type": "markdown",
      "metadata": {
        "id": "yNRjMeEXYFs0",
        "colab_type": "text"
      },
      "source": [
        "# Data Shaper"
      ]
    },
    {
      "cell_type": "code",
      "metadata": {
        "id": "59UtrZk2YFtd",
        "colab_type": "code",
        "colab": {}
      },
      "source": [
        "FT_matrix_N = FT['N']\n",
        "FT_matrix_D = FT['D']\n",
        "\n",
        "temp_D = FT_matrix_D.reshape((FT_matrix_D.shape[0],FT_matrix_D.shape[2],FT_matrix_D.shape[1]))\n",
        "temp_N = FT_matrix_N.reshape((FT_matrix_N.shape[0],FT_matrix_N.shape[2],FT_matrix_N.shape[1]))\n",
        "#or d in range(FT_matrix.shape[0]):\n",
        "scaler = StandardScaler()"
      ],
      "execution_count": 0,
      "outputs": []
    },
    {
      "cell_type": "code",
      "metadata": {
        "id": "g1JslAM5KeFJ",
        "colab_type": "code",
        "colab": {}
      },
      "source": [
        "for n in range(FT_matrix_N.shape[0]):\n",
        "  temp_N[n]= scaler.fit_transform(FT_matrix_N[n].T)\n",
        "  \n",
        "for d in range(FT_matrix_D.shape[0]):\n",
        "  temp_D[d]= scaler.fit_transform(FT_matrix_D[d].T)\n",
        "        "
      ],
      "execution_count": 0,
      "outputs": []
    },
    {
      "cell_type": "code",
      "metadata": {
        "id": "9lu1mSfAgz-s",
        "colab_type": "code",
        "colab": {
          "base_uri": "https://localhost:8080/",
          "height": 286
        },
        "outputId": "2213b519-0061-44b2-f7fc-bfd023af886f"
      },
      "source": [
        "plt.plot(f,temp_D[3,:,4])\n",
        "\n",
        "temp_D.shape, temp_N.shape"
      ],
      "execution_count": 182,
      "outputs": [
        {
          "output_type": "execute_result",
          "data": {
            "text/plain": [
              "((631, 3598, 19), (567, 3598, 19))"
            ]
          },
          "metadata": {
            "tags": []
          },
          "execution_count": 182
        },
        {
          "output_type": "display_data",
          "data": {
            "image/png": "[encoded data removed]",
            "text/plain": [
              "<Figure size 432x288 with 1 Axes>"
            ]
          },
          "metadata": {
            "tags": []
          }
        }
      ]
    },
    {
      "cell_type": "code",
      "metadata": {
        "id": "OjF9idB9hIIA",
        "colab_type": "code",
        "colab": {}
      },
      "source": [
        "for n in range(FT_matrix_N.shape[0]):\n",
        "  FT_matrix_N[n]= scaler.fit_transform(temp_N[n].T)\n",
        "  \n",
        "for d in range(FT_matrix_D.shape[0]):\n",
        "  FT_matrix_D[d]= scaler.fit_transform(temp_D[d].T)\n",
        "        "
      ],
      "execution_count": 0,
      "outputs": []
    },
    {
      "cell_type": "code",
      "metadata": {
        "id": "G7Bv286-JvLL",
        "colab_type": "code",
        "colab": {
          "base_uri": "https://localhost:8080/",
          "height": 286
        },
        "outputId": "ad9bd4f8-c71d-4980-c9d8-9dae45314b33"
      },
      "source": [
        "plt.plot(f,FT_matrix_D[8,8])\n"
      ],
      "execution_count": 184,
      "outputs": [
        {
          "output_type": "execute_result",
          "data": {
            "text/plain": [
              "[<matplotlib.lines.Line2D at 0x7f84ec6aa160>]"
            ]
          },
          "metadata": {
            "tags": []
          },
          "execution_count": 184
        },
        {
          "output_type": "display_data",
          "data": {
            "image/png": "[encoded data removed]",
            "text/plain": [
              "<Figure size 432x288 with 1 Axes>"
            ]
          },
          "metadata": {
            "tags": []
          }
        }
      ]
    },
    {
      "cell_type": "code",
      "metadata": {
        "id": "zkml40niQYD0",
        "colab_type": "code",
        "colab": {
          "base_uri": "https://localhost:8080/",
          "height": 34
        },
        "outputId": "b238beae-cab1-4283-d277-3c2bdd59071a"
      },
      "source": [
        "FT_matrix_D.shape, FT_matrix_N.shape"
      ],
      "execution_count": 185,
      "outputs": [
        {
          "output_type": "execute_result",
          "data": {
            "text/plain": [
              "((631, 19, 3598), (567, 19, 3598))"
            ]
          },
          "metadata": {
            "tags": []
          },
          "execution_count": 185
        }
      ]
    },
    {
      "cell_type": "markdown",
      "metadata": {
        "id": "N1nyduI3Q-3_",
        "colab_type": "text"
      },
      "source": [
        "# Data Shaper"
      ]
    },
    {
      "cell_type": "code",
      "metadata": {
        "id": "ykUjytYSRCEi",
        "colab_type": "code",
        "colab": {}
      },
      "source": [
        "# normal is 1 and disorder is 0\n",
        "Data = np.vstack((FT_matrix_N, FT_matrix_D))\n",
        "target = np.hstack((np.ones(FT_matrix_N.shape[0]), np.zeros(FT_matrix_D.shape[0])))"
      ],
      "execution_count": 0,
      "outputs": []
    },
    {
      "cell_type": "code",
      "metadata": {
        "id": "dIxP3uw0RQFm",
        "colab_type": "code",
        "colab": {}
      },
      "source": [
        "X, y = shuffle(Data, target)"
      ],
      "execution_count": 0,
      "outputs": []
    },
    {
      "cell_type": "markdown",
      "metadata": {
        "id": "yZqbzEw0YFtl",
        "colab_type": "text"
      },
      "source": [
        "# Neural Network "
      ]
    },
    {
      "cell_type": "code",
      "metadata": {
        "id": "8-4bQKM2YFtn",
        "colab_type": "code",
        "colab": {}
      },
      "source": [
        "from tensorflow import keras\n",
        "from keras.models import Sequential\n",
        "from keras.layers import Dense, Dropout, Flatten"
      ],
      "execution_count": 0,
      "outputs": []
    },
    {
      "cell_type": "code",
      "metadata": {
        "id": "XKopHRYpYFt0",
        "colab_type": "code",
        "colab": {}
      },
      "source": [
        "\n",
        "model = Sequential([\n",
        "    Flatten(input_shape=[X.shape[1],X.shape[2]]),\n",
        "    Dense(300, activation='relu'),\n",
        "    Dropout(0.5),\n",
        "    Dense(200, activation='relu'),\n",
        "    Dropout(0.5),\n",
        "    Dense(100, activation='relu'),\n",
        "    Dropout(0.5),\n",
        "    Dense(10, activation='relu'),\n",
        "    Dropout(0.5),\n",
        "    Dense(1, activation='sigmoid'),\n",
        "    \n",
        "])"
      ],
      "execution_count": 0,
      "outputs": []
    },
    {
      "cell_type": "code",
      "metadata": {
        "id": "8fOlJu0lYFt4",
        "colab_type": "code",
        "outputId": "1e01c028-de5a-489d-e2e5-97eb2d405252",
        "colab": {
          "base_uri": "https://localhost:8080/",
          "height": 503
        }
      },
      "source": [
        "model.summary()"
      ],
      "execution_count": 190,
      "outputs": [
        {
          "output_type": "stream",
          "text": [
            "Model: \"sequential_3\"\n",
            "_________________________________________________________________\n",
            "Layer (type)                 Output Shape              Param #   \n",
            "=================================================================\n",
            "flatten_3 (Flatten)          (None, 68362)             0         \n",
            "_________________________________________________________________\n",
            "dense_11 (Dense)             (None, 300)               20508900  \n",
            "_________________________________________________________________\n",
            "dropout_9 (Dropout)          (None, 300)               0         \n",
            "_________________________________________________________________\n",
            "dense_12 (Dense)             (None, 200)               60200     \n",
            "_________________________________________________________________\n",
            "dropout_10 (Dropout)         (None, 200)               0         \n",
            "_________________________________________________________________\n",
            "dense_13 (Dense)             (None, 100)               20100     \n",
            "_________________________________________________________________\n",
            "dropout_11 (Dropout)         (None, 100)               0         \n",
            "_________________________________________________________________\n",
            "dense_14 (Dense)             (None, 10)                1010      \n",
            "_________________________________________________________________\n",
            "dropout_12 (Dropout)         (None, 10)                0         \n",
            "_________________________________________________________________\n",
            "dense_15 (Dense)             (None, 1)                 11        \n",
            "=================================================================\n",
            "Total params: 20,590,221\n",
            "Trainable params: 20,590,221\n",
            "Non-trainable params: 0\n",
            "_________________________________________________________________\n"
          ],
          "name": "stdout"
        }
      ]
    },
    {
      "cell_type": "code",
      "metadata": {
        "id": "FEpsBMoWYFt_",
        "colab_type": "code",
        "colab": {}
      },
      "source": [
        "model.compile(loss = 'binary_crossentropy',\n",
        "             optimizer='adam',\n",
        "             metrics=['accuracy'])"
      ],
      "execution_count": 0,
      "outputs": []
    },
    {
      "cell_type": "code",
      "metadata": {
        "id": "0Z4AWUtsLOON",
        "colab_type": "code",
        "colab": {
          "base_uri": "https://localhost:8080/",
          "height": 34
        },
        "outputId": "57b0474a-6555-4601-c892-b22d913a520c"
      },
      "source": [
        "X_train, X_test, y_train, y_test = train_test_split(X,y)\n",
        "X_train.shape, X_test.shape, y_train.shape, y_test.shape"
      ],
      "execution_count": 193,
      "outputs": [
        {
          "output_type": "execute_result",
          "data": {
            "text/plain": [
              "((898, 19, 3598), (300, 19, 3598), (898,), (300,))"
            ]
          },
          "metadata": {
            "tags": []
          },
          "execution_count": 193
        }
      ]
    },
    {
      "cell_type": "code",
      "metadata": {
        "id": "iNcaAPUVYFuE",
        "colab_type": "code",
        "outputId": "2b3f8f2a-aa07-4341-bc95-d6d04eb3e6f9",
        "colab": {
          "base_uri": "https://localhost:8080/",
          "height": 1000
        }
      },
      "source": [
        "his = model.fit(X_train, y_train, epochs=30, batch_size=4, validation_data=(X_test, y_test))"
      ],
      "execution_count": 197,
      "outputs": [
        {
          "output_type": "stream",
          "text": [
            "Train on 898 samples, validate on 300 samples\n",
            "Epoch 1/30\n",
            "898/898 [==============================] - 7s 8ms/step - loss: 0.8737 - acc: 0.9031 - val_loss: 1.0941e-07 - val_acc: 1.0000\n",
            "Epoch 2/30\n",
            "898/898 [==============================] - 7s 8ms/step - loss: 0.5616 - acc: 0.9287 - val_loss: 1.0941e-07 - val_acc: 1.0000\n",
            "Epoch 3/30\n",
            "898/898 [==============================] - 7s 8ms/step - loss: 0.4980 - acc: 0.9276 - val_loss: 1.0941e-07 - val_acc: 1.0000\n",
            "Epoch 4/30\n",
            "898/898 [==============================] - 7s 8ms/step - loss: 0.3256 - acc: 0.9376 - val_loss: 1.0941e-07 - val_acc: 1.0000\n",
            "Epoch 5/30\n",
            "898/898 [==============================] - 7s 8ms/step - loss: 0.1595 - acc: 0.9710 - val_loss: 1.0941e-07 - val_acc: 1.0000\n",
            "Epoch 6/30\n",
            "898/898 [==============================] - 7s 8ms/step - loss: 0.3765 - acc: 0.9477 - val_loss: 1.0941e-07 - val_acc: 1.0000\n",
            "Epoch 7/30\n",
            "898/898 [==============================] - 7s 8ms/step - loss: 0.2813 - acc: 0.9621 - val_loss: 1.0941e-07 - val_acc: 1.0000\n",
            "Epoch 8/30\n",
            "898/898 [==============================] - 7s 8ms/step - loss: 0.1397 - acc: 0.9655 - val_loss: 1.0941e-07 - val_acc: 1.0000\n",
            "Epoch 9/30\n",
            "898/898 [==============================] - 7s 8ms/step - loss: 0.1574 - acc: 0.9677 - val_loss: 1.0941e-07 - val_acc: 1.0000\n",
            "Epoch 10/30\n",
            "898/898 [==============================] - 7s 8ms/step - loss: 0.1734 - acc: 0.9655 - val_loss: 1.0941e-07 - val_acc: 1.0000\n",
            "Epoch 11/30\n",
            "898/898 [==============================] - 7s 8ms/step - loss: 0.1268 - acc: 0.9655 - val_loss: 1.0941e-07 - val_acc: 1.0000\n",
            "Epoch 12/30\n",
            "898/898 [==============================] - 7s 8ms/step - loss: 0.2479 - acc: 0.9610 - val_loss: 1.0941e-07 - val_acc: 1.0000\n",
            "Epoch 13/30\n",
            "898/898 [==============================] - 7s 8ms/step - loss: 0.2009 - acc: 0.9599 - val_loss: 1.0941e-07 - val_acc: 1.0000\n",
            "Epoch 14/30\n",
            "898/898 [==============================] - 7s 8ms/step - loss: 0.2188 - acc: 0.9666 - val_loss: 1.0941e-07 - val_acc: 1.0000\n",
            "Epoch 15/30\n",
            "898/898 [==============================] - 7s 8ms/step - loss: 0.1283 - acc: 0.9666 - val_loss: 1.0941e-07 - val_acc: 1.0000\n",
            "Epoch 16/30\n",
            "898/898 [==============================] - 7s 8ms/step - loss: 0.1444 - acc: 0.9543 - val_loss: 1.0941e-07 - val_acc: 1.0000\n",
            "Epoch 17/30\n",
            "898/898 [==============================] - 7s 8ms/step - loss: 0.1471 - acc: 0.9744 - val_loss: 1.0941e-07 - val_acc: 1.0000\n",
            "Epoch 18/30\n",
            "898/898 [==============================] - 7s 8ms/step - loss: 0.1718 - acc: 0.9644 - val_loss: 1.0941e-07 - val_acc: 1.0000\n",
            "Epoch 19/30\n",
            "898/898 [==============================] - 7s 8ms/step - loss: 0.1246 - acc: 0.9610 - val_loss: 1.0941e-07 - val_acc: 1.0000\n",
            "Epoch 20/30\n",
            "898/898 [==============================] - 7s 8ms/step - loss: 0.1463 - acc: 0.9722 - val_loss: 1.0941e-07 - val_acc: 1.0000\n",
            "Epoch 21/30\n",
            "898/898 [==============================] - 7s 8ms/step - loss: 0.1387 - acc: 0.9722 - val_loss: 1.0941e-07 - val_acc: 1.0000\n",
            "Epoch 22/30\n",
            "898/898 [==============================] - 7s 8ms/step - loss: 0.1891 - acc: 0.9655 - val_loss: 1.0941e-07 - val_acc: 1.0000\n",
            "Epoch 23/30\n",
            "898/898 [==============================] - 7s 8ms/step - loss: 0.1426 - acc: 0.9744 - val_loss: 1.0941e-07 - val_acc: 1.0000\n",
            "Epoch 24/30\n",
            "898/898 [==============================] - 7s 8ms/step - loss: 0.1467 - acc: 0.9710 - val_loss: 1.0941e-07 - val_acc: 1.0000\n",
            "Epoch 25/30\n",
            "898/898 [==============================] - 7s 8ms/step - loss: 0.1101 - acc: 0.9733 - val_loss: 1.0941e-07 - val_acc: 1.0000\n",
            "Epoch 26/30\n",
            "898/898 [==============================] - 7s 8ms/step - loss: 0.2298 - acc: 0.9677 - val_loss: 1.0941e-07 - val_acc: 1.0000\n",
            "Epoch 27/30\n",
            "898/898 [==============================] - 7s 8ms/step - loss: 0.1740 - acc: 0.9777 - val_loss: 1.0941e-07 - val_acc: 1.0000\n",
            "Epoch 28/30\n",
            "898/898 [==============================] - 7s 8ms/step - loss: 0.1313 - acc: 0.9744 - val_loss: 1.0941e-07 - val_acc: 1.0000\n",
            "Epoch 29/30\n",
            "898/898 [==============================] - 7s 8ms/step - loss: 0.1252 - acc: 0.9699 - val_loss: 1.0941e-07 - val_acc: 1.0000\n",
            "Epoch 30/30\n",
            "898/898 [==============================] - 7s 8ms/step - loss: 0.1676 - acc: 0.9677 - val_loss: 1.0941e-07 - val_acc: 1.0000\n"
          ],
          "name": "stdout"
        }
      ]
    },
    {
      "cell_type": "code",
      "metadata": {
        "id": "ezjMFqOWYFuK",
        "colab_type": "code",
        "colab": {
          "base_uri": "https://localhost:8080/",
          "height": 340
        },
        "outputId": "2f153442-fdd2-4216-8f7c-2efa3fb4b672"
      },
      "source": [
        "pd.DataFrame(his.history).plot(figsize=(8, 5))"
      ],
      "execution_count": 198,
      "outputs": [
        {
          "output_type": "execute_result",
          "data": {
            "text/plain": [
              "<matplotlib.axes._subplots.AxesSubplot at 0x7f84c4c41dd8>"
            ]
          },
          "metadata": {
            "tags": []
          },
          "execution_count": 198
        },
        {
          "output_type": "display_data",
          "data": {
            "image/png": "[encoded data removed]",
            "text/plain": [
              "<Figure size 576x360 with 1 Axes>"
            ]
          },
          "metadata": {
            "tags": []
          }
        }
      ]
    },
    {
      "cell_type": "code",
      "metadata": {
        "id": "mROhCpmBGrAv",
        "colab_type": "code",
        "colab": {}
      },
      "source": [
        "def run_experiment(X,y):\n",
        "  X_train, X_test, y_train, y_test = train_test_split(X,y)\n",
        "  \n",
        "  model = Sequential([\n",
        "    Flatten(input_shape=[X.shape[1],X.shape[2]]),\n",
        "    Dense(300, activation='relu'),\n",
        "    Dropout(0.5),\n",
        "    Dense(200, activation='relu'),\n",
        "    Dropout(0.5),\n",
        "    Dense(100, activation='relu'),\n",
        "    Dropout(0.5),\n",
        "    Dense(10, activation='relu'),\n",
        "    Dropout(0.5),\n",
        "    Dense(1, activation='sigmoid'),\n",
        "    \n",
        "  ])\n",
        "  \n",
        "  model.compile(loss = 'binary_crossentropy',\n",
        "             optimizer='adam',\n",
        "             metrics=['accuracy'])\n",
        "  \n",
        "  his = model.fit(X, y, epochs=30, batch_size=4, validation_data =(X_test, y_test) )\n",
        "  "
      ],
      "execution_count": 0,
      "outputs": []
    }
  ]
}