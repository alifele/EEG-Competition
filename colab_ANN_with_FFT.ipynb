{
  "nbformat": 4,
  "nbformat_minor": 0,
  "metadata": {
    "kernelspec": {
      "name": "python3",
      "display_name": "Python 3"
    },
    "language_info": {
      "codemirror_mode": {
        "name": "ipython",
        "version": 3
      },
      "file_extension": ".py",
      "mimetype": "text/x-python",
      "name": "python",
      "nbconvert_exporter": "python",
      "pygments_lexer": "ipython3",
      "version": "3.7.3"
    },
    "colab": {
      "name": "colab_ANN_with_FFT.ipynb",
      "version": "0.3.2",
      "provenance": [],
      "collapsed_sections": [],
      "include_colab_link": true
    },
    "accelerator": "GPU"
  },
  "cells": [
    {
      "cell_type": "markdown",
      "metadata": {
        "id": "view-in-github",
        "colab_type": "text"
      },
      "source": [
        "<a href=\"https://colab.research.google.com/github/alifele/EEG-computation/blob/master/colab_ANN_with_FFT.ipynb\" target=\"_parent\"><img src=\"https://colab.research.google.com/assets/colab-badge.svg\" alt=\"Open In Colab\"/></a>"
      ]
    },
    {
      "cell_type": "markdown",
      "metadata": {
        "id": "olQ-K30aYFrj",
        "colab_type": "text"
      },
      "source": [
        "# ANN with FFT\n",
        "\n",
        "in this note book i will use the regular Dense neural network with the FT as input \n",
        "the FT with be sliced to the f = 200\n",
        "\n"
      ]
    },
    {
      "cell_type": "code",
      "metadata": {
        "id": "ZTslTv1VYFro",
        "colab_type": "code",
        "outputId": "cb49c90c-4727-4242-b792-f5ee9c52e281",
        "colab": {
          "base_uri": "https://localhost:8080/",
          "height": 34
        }
      },
      "source": [
        "!pip install mat4py\n",
        "import numpy as np\n",
        "import matplotlib.pyplot as plt\n",
        "import mat4py as mt\n",
        "import os\n",
        "from IPython.display import Image\n",
        "from IPython.core.display import HTML \n",
        "from itertools import combinations\n",
        "from numpy.fft import fft\n",
        "from sklearn.utils import shuffle\n",
        "from sklearn.model_selection import train_test_split\n",
        "from sklearn.preprocessing import StandardScaler\n",
        "import pandas as pd\n"
      ],
      "execution_count": 111,
      "outputs": [
        {
          "output_type": "stream",
          "text": [
            "Requirement already satisfied: mat4py in /usr/local/lib/python3.6/dist-packages (0.4.2)\n"
          ],
          "name": "stdout"
        }
      ]
    },
    {
      "cell_type": "code",
      "metadata": {
        "id": "Q_sPDTqNZjZR",
        "colab_type": "code",
        "outputId": "860e60b3-6e2f-41ee-dafc-8b87955e2a1c",
        "colab": {
          "base_uri": "https://localhost:8080/",
          "height": 173
        }
      },
      "source": [
        "!git clone https://github.com/alifele/EEG-computation.git\n",
        "%cd EEG-computation"
      ],
      "execution_count": 14,
      "outputs": [
        {
          "output_type": "stream",
          "text": [
            "Cloning into 'EEG-computation'...\n",
            "remote: Enumerating objects: 380, done.\u001b[K\n",
            "remote: Counting objects:   0% (1/380)\u001b[K\rremote: Counting objects:   1% (4/380)\u001b[K\rremote: Counting objects:   2% (8/380)\u001b[K\rremote: Counting objects:   3% (12/380)\u001b[K\rremote: Counting objects:   4% (16/380)\u001b[K\rremote: Counting objects:   5% (19/380)\u001b[K\rremote: Counting objects:   6% (23/380)\u001b[K\rremote: Counting objects:   7% (27/380)\u001b[K\rremote: Counting objects:   8% (31/380)\u001b[K\rremote: Counting objects:   9% (35/380)\u001b[K\rremote: Counting objects:  10% (38/380)\u001b[K\rremote: Counting objects:  11% (42/380)\u001b[K\rremote: Counting objects:  12% (46/380)\u001b[K\rremote: Counting objects:  13% (50/380)\u001b[K\rremote: Counting objects:  14% (54/380)\u001b[K\rremote: Counting objects:  15% (57/380)\u001b[K\rremote: Counting objects:  16% (61/380)\u001b[K\rremote: Counting objects:  17% (65/380)\u001b[K\rremote: Counting objects:  18% (69/380)\u001b[K\rremote: Counting objects:  19% (73/380)\u001b[K\rremote: Counting objects:  20% (76/380)\u001b[K\rremote: Counting objects:  21% (80/380)\u001b[K\rremote: Counting objects:  22% (84/380)\u001b[K\rremote: Counting objects:  23% (88/380)\u001b[K\rremote: Counting objects:  24% (92/380)\u001b[K\rremote: Counting objects:  25% (95/380)\u001b[K\rremote: Counting objects:  26% (99/380)\u001b[K\rremote: Counting objects:  27% (103/380)\u001b[K\rremote: Counting objects:  28% (107/380)\u001b[K\rremote: Counting objects:  29% (111/380)\u001b[K\rremote: Counting objects:  30% (114/380)\u001b[K\rremote: Counting objects:  31% (118/380)\u001b[K\rremote: Counting objects:  32% (122/380)\u001b[K\rremote: Counting objects:  33% (126/380)\u001b[K\rremote: Counting objects:  34% (130/380)\u001b[K\rremote: Counting objects:  35% (133/380)\u001b[K\rremote: Counting objects:  36% (137/380)\u001b[K\rremote: Counting objects:  37% (141/380)\u001b[K\rremote: Counting objects:  38% (145/380)\u001b[K\rremote: Counting objects:  39% (149/380)\u001b[K\rremote: Counting objects:  40% (152/380)\u001b[K\rremote: Counting objects:  41% (156/380)\u001b[K\rremote: Counting objects:  42% (160/380)\u001b[K\rremote: Counting objects:  43% (164/380)\u001b[K\rremote: Counting objects:  44% (168/380)\u001b[K\rremote: Counting objects:  45% (171/380)\u001b[K\rremote: Counting objects:  46% (175/380)\u001b[K\rremote: Counting objects:  47% (179/380)\u001b[K\rremote: Counting objects:  48% (183/380)\u001b[K\rremote: Counting objects:  49% (187/380)\u001b[K\rremote: Counting objects:  50% (190/380)\u001b[K\rremote: Counting objects:  51% (194/380)\u001b[K\rremote: Counting objects:  52% (198/380)\u001b[K\rremote: Counting objects:  53% (202/380)\u001b[K\rremote: Counting objects:  54% (206/380)\u001b[K\rremote: Counting objects:  55% (209/380)\u001b[K\rremote: Counting objects:  56% (213/380)\u001b[K\rremote: Counting objects:  57% (217/380)\u001b[K\rremote: Counting objects:  58% (221/380)\u001b[K\rremote: Counting objects:  59% (225/380)\u001b[K\rremote: Counting objects:  60% (228/380)\u001b[K\rremote: Counting objects:  61% (232/380)\u001b[K\rremote: Counting objects:  62% (236/380)\u001b[K\rremote: Counting objects:  63% (240/380)\u001b[K\rremote: Counting objects:  64% (244/380)\u001b[K\rremote: Counting objects:  65% (247/380)\u001b[K\rremote: Counting objects:  66% (251/380)\u001b[K\rremote: Counting objects:  67% (255/380)\u001b[K\rremote: Counting objects:  68% (259/380)\u001b[K\rremote: Counting objects:  69% (263/380)\u001b[K\rremote: Counting objects:  70% (266/380)\u001b[K\rremote: Counting objects:  71% (270/380)\u001b[K\rremote: Counting objects:  72% (274/380)\u001b[K\rremote: Counting objects:  73% (278/380)\u001b[K\rremote: Counting objects:  74% (282/380)\u001b[K\rremote: Counting objects:  75% (285/380)\u001b[K\rremote: Counting objects:  76% (289/380)\u001b[K\rremote: Counting objects:  77% (293/380)\u001b[K\rremote: Counting objects:  78% (297/380)\u001b[K\rremote: Counting objects:  79% (301/380)\u001b[K\rremote: Counting objects:  80% (304/380)\u001b[K\rremote: Counting objects:  81% (308/380)\u001b[K\rremote: Counting objects:  82% (312/380)\u001b[K\rremote: Counting objects:  83% (316/380)\u001b[K\rremote: Counting objects:  84% (320/380)\u001b[K\rremote: Counting objects:  85% (323/380)\u001b[K\rremote: Counting objects:  86% (327/380)\u001b[K\rremote: Counting objects:  87% (331/380)\u001b[K\rremote: Counting objects:  88% (335/380)\u001b[K\rremote: Counting objects:  89% (339/380)\u001b[K\rremote: Counting objects:  90% (342/380)\u001b[K\rremote: Counting objects:  91% (346/380)\u001b[K\rremote: Counting objects:  92% (350/380)\u001b[K\rremote: Counting objects:  93% (354/380)\u001b[K\rremote: Counting objects:  94% (358/380)\u001b[K\rremote: Counting objects:  95% (361/380)\u001b[K\rremote: Counting objects:  96% (365/380)\u001b[K\rremote: Counting objects:  97% (369/380)\u001b[K\rremote: Counting objects:  98% (373/380)\u001b[K\rremote: Counting objects:  99% (377/380)\u001b[K\rremote: Counting objects: 100% (380/380)\u001b[K\rremote: Counting objects: 100% (380/380), done.\u001b[K\n",
            "remote: Compressing objects: 100% (376/376), done.\u001b[K\n",
            "remote: Total 380 (delta 16), reused 351 (delta 2), pack-reused 0\u001b[K\n",
            "Receiving objects: 100% (380/380), 579.81 MiB | 46.98 MiB/s, done.\n",
            "Resolving deltas: 100% (16/16), done.\n",
            "Checking out files: 100% (340/340), done.\n",
            "/content/EEG-computation\n"
          ],
          "name": "stdout"
        }
      ]
    },
    {
      "cell_type": "code",
      "metadata": {
        "id": "VqFS-R3vYFr1",
        "colab_type": "code",
        "colab": {}
      },
      "source": [
        "disorder_dic = []\n",
        "directory = os.fsencode('EEG Data/disorder')\n",
        "for file in os.listdir(directory):\n",
        "    filename = os.fsdecode(file)\n",
        "    disorder_dic.append(np.array(mt.loadmat('EEG Data/disorder/{}'.format(filename))[filename.split('.')[0]]))\n",
        "    \n",
        "channels_disorder = [ [] for i in range(len(disorder_dic))]  #channels[person][channel] it will be a numpy array\n",
        "j=0;\n",
        "for person in channels_disorder:\n",
        "    for i in range(19):\n",
        "        person.append(disorder_dic[j][:,i])\n",
        "\n",
        "        \n",
        "normal_dic = []\n",
        "directory = os.fsencode('EEG Data/normal')\n",
        "for file in os.listdir(directory):\n",
        "    filename = os.fsdecode(file)\n",
        "    normal_dic.append(np.array(mt.loadmat('EEG Data/normal/{}'.format(filename))[filename.split('.')[0]]))\n",
        "    \n",
        "channels_normal = [ [] for i in range(len(normal_dic))]  #channels[person][channel] it will be a numpy array\n",
        "j=0;\n",
        "for person in channels_normal:\n",
        "    for i in range(19):\n",
        "        person.append(normal_dic[j][:,i])\n",
        "        \n",
        "        \n",
        "data = {\"N\":channels_normal,\n",
        "      \"D\":channels_disorder}"
      ],
      "execution_count": 0,
      "outputs": []
    },
    {
      "cell_type": "code",
      "metadata": {
        "id": "TD0zp3pMZh_P",
        "colab_type": "code",
        "colab": {}
      },
      "source": [
        ""
      ],
      "execution_count": 0,
      "outputs": []
    },
    {
      "cell_type": "code",
      "metadata": {
        "id": "SGqldSrgYFr_",
        "colab_type": "code",
        "colab": {}
      },
      "source": [
        "n_D , n_N = len(data['D']), len(data['N'])"
      ],
      "execution_count": 0,
      "outputs": []
    },
    {
      "cell_type": "code",
      "metadata": {
        "id": "g0YzNAJ6YFsG",
        "colab_type": "code",
        "colab": {}
      },
      "source": [
        ""
      ],
      "execution_count": 0,
      "outputs": []
    },
    {
      "cell_type": "markdown",
      "metadata": {
        "id": "6Zm3yGMJYFsM",
        "colab_type": "text"
      },
      "source": [
        "## Making Fourier Transform data set"
      ]
    },
    {
      "cell_type": "code",
      "metadata": {
        "id": "qs4lbnTbYFsP",
        "colab_type": "code",
        "outputId": "18bb09cb-be90-4f26-cc86-d4fd0d4c3444",
        "colab": {
          "base_uri": "https://localhost:8080/",
          "height": 52
        }
      },
      "source": [
        "index = np.arange(0,512*30)\n",
        "f = np.linspace(0,512,512*30)\n",
        "f_max = f[len(f[f<120])]\n",
        "ind_min = 2\n",
        "ind_max = list(index[f==f_max])[0]\n",
        "f_min = f[ind_min]\n",
        "\n",
        "print(f_min, f_max, ind_min, ind_max)\n",
        "\n",
        "\n",
        "sam_FT = np.abs(fft(data['D'][1][6]))\n",
        "\n",
        "# The 50 Htz noise elimination information\n",
        "\n",
        "noise = f[sam_FT == np.max(sam_FT[list(f<55) and list(f>45)])][0]\n",
        "noise_index = list(index[f==noise])[0] # in range 0, 512*30\n",
        "del_domain = 40\n",
        "del_range = [noise_index + i for i in range(-del_domain,del_domain)]\n",
        "print(noise, noise_index)\n",
        "\n",
        "\n",
        "\n",
        "\n",
        "\n",
        "\n"
      ],
      "execution_count": 17,
      "outputs": [
        {
          "output_type": "stream",
          "text": [
            "0.06667100722703301 120.00781300865941 2 3600\n",
            "49.96991991666124 1499\n"
          ],
          "name": "stdout"
        }
      ]
    },
    {
      "cell_type": "code",
      "metadata": {
        "id": "2Q3mjlqNZNYr",
        "colab_type": "code",
        "colab": {}
      },
      "source": [
        ""
      ],
      "execution_count": 0,
      "outputs": []
    },
    {
      "cell_type": "code",
      "metadata": {
        "id": "qPSfiX0PYFsW",
        "colab_type": "code",
        "colab": {}
      },
      "source": [
        "f = np.linspace(0,512,512*30)[ind_min:ind_max]"
      ],
      "execution_count": 0,
      "outputs": []
    },
    {
      "cell_type": "code",
      "metadata": {
        "id": "HvMeUaVHYFsc",
        "colab_type": "code",
        "colab": {}
      },
      "source": [
        "normal = [[np.zeros(f.shape[0]) for k in range(19)] for i in range(n_N)]\n",
        "disorder = [[np.zeros(f.shape[0]) for k in range(19)] for i in range(n_D)]\n",
        "\n",
        "\n",
        "FT = {'D':disorder,\n",
        "     'N':normal}\n",
        "\n",
        "from numpy.fft import fft\n",
        "\n",
        "for d in range(n_D):\n",
        "    for i in range(19):\n",
        "        \n",
        "        FT['D'][d][i] = np.abs(fft(data['D'][d][i]))[ind_min:ind_max]\n",
        "        FT['D'][d][i][noise_index-del_domain  - ind_min: noise_index+del_domain - ind_min] = np.average(FT['D'][d][i][noise_index-del_domain  - ind_min - 120: noise_index+del_domain - ind_min-120])\n",
        "        FT['D'][d][i][2*noise_index-del_domain - ind_min: 2*noise_index+del_domain - ind_min] = np.average(FT['D'][d][i][2*noise_index-del_domain - ind_min - 120: 2*noise_index+del_domain - ind_min-120])\n",
        "    \n",
        "for n in range(n_N):\n",
        "    for i in range(19):\n",
        "        FT['N'][n][i] = np.abs(fft(data['N'][n][i]))[ind_min:ind_max]\n",
        "        FT['N'][n][i][noise_index-del_domain - ind_min: noise_index+del_domain -ind_min] = np.average(FT['N'][n][i][noise_index-del_domain - ind_min-120: noise_index+del_domain -ind_min-120])\n",
        "        FT['N'][n][i][2*noise_index-del_domain - ind_min: 2*noise_index+del_domain - ind_min] = np.average( FT['N'][n][i][2*noise_index-del_domain - ind_min-120 : 2*noise_index+del_domain - ind_min-120])\n",
        "        \n",
        "\n",
        "    FT['N'] = np.array(FT['N'])\n",
        "    FT['D'] = np.array(FT['D'])"
      ],
      "execution_count": 0,
      "outputs": []
    },
    {
      "cell_type": "code",
      "metadata": {
        "id": "ILrD5Pv0YFsl",
        "colab_type": "code",
        "outputId": "eb1a193f-1401-4797-8d3e-75d8cc4afb9e",
        "colab": {
          "base_uri": "https://localhost:8080/",
          "height": 286
        }
      },
      "source": [
        "plt.plot(f, FT['N'][6][9])"
      ],
      "execution_count": 20,
      "outputs": [
        {
          "output_type": "execute_result",
          "data": {
            "text/plain": [
              "[<matplotlib.lines.Line2D at 0x7ff8a5ec2780>]"
            ]
          },
          "metadata": {
            "tags": []
          },
          "execution_count": 20
        },
        {
          "output_type": "display_data",
          "data": {
            "image/png": "[encoded data removed]",
            "text/plain": [
              "<Figure size 432x288 with 1 Axes>"
            ]
          },
          "metadata": {
            "tags": []
          }
        }
      ]
    },
    {
      "cell_type": "code",
      "metadata": {
        "id": "nBhhb_xXYFsr",
        "colab_type": "code",
        "colab": {}
      },
      "source": [
        "%reset_selective -f \"^data$\""
      ],
      "execution_count": 0,
      "outputs": []
    },
    {
      "cell_type": "markdown",
      "metadata": {
        "id": "yNRjMeEXYFs0",
        "colab_type": "text"
      },
      "source": [
        "# Data Shaper"
      ]
    },
    {
      "cell_type": "code",
      "metadata": {
        "id": "DUkq_Dq1YFtA",
        "colab_type": "code",
        "colab": {}
      },
      "source": [
        "X, y = shuffle(Data, target)"
      ],
      "execution_count": 0,
      "outputs": []
    },
    {
      "cell_type": "code",
      "metadata": {
        "id": "f7_QyqKCYFtL",
        "colab_type": "code",
        "colab": {}
      },
      "source": [
        ""
      ],
      "execution_count": 0,
      "outputs": []
    },
    {
      "cell_type": "code",
      "metadata": {
        "id": "FA548kXJYFtS",
        "colab_type": "code",
        "outputId": "222e3dbe-8f93-4266-bfd0-c42f63529cf1",
        "colab": {
          "base_uri": "https://localhost:8080/",
          "height": 34
        }
      },
      "source": [
        ""
      ],
      "execution_count": 26,
      "outputs": [
        {
          "output_type": "execute_result",
          "data": {
            "text/plain": [
              "((328, 19, 3598), (328,))"
            ]
          },
          "metadata": {
            "tags": []
          },
          "execution_count": 26
        }
      ]
    },
    {
      "cell_type": "code",
      "metadata": {
        "id": "UZ_42qUuYFtY",
        "colab_type": "code",
        "colab": {}
      },
      "source": [
        ""
      ],
      "execution_count": 0,
      "outputs": []
    },
    {
      "cell_type": "markdown",
      "metadata": {
        "id": "jyXQiSjkf1_A",
        "colab_type": "text"
      },
      "source": [
        "## Scale"
      ]
    },
    {
      "cell_type": "code",
      "metadata": {
        "id": "59UtrZk2YFtd",
        "colab_type": "code",
        "colab": {}
      },
      "source": [
        "FT_matrix_N = FT['N']\n",
        "FT_matrix_D = FT['D']\n",
        "\n",
        "temp_D = FT_matrix_D.reshape((FT_matrix_D.shape[0],FT_matrix_D.shape[2],FT_matrix_D.shape[1]))\n",
        "temp_N = FT_matrix_N.reshape((FT_matrix_N.shape[0],FT_matrix_N.shape[2],FT_matrix_N.shape[1]))\n",
        "#or d in range(FT_matrix.shape[0]):\n",
        "scaler = StandardScaler()"
      ],
      "execution_count": 0,
      "outputs": []
    },
    {
      "cell_type": "code",
      "metadata": {
        "id": "g1JslAM5KeFJ",
        "colab_type": "code",
        "colab": {}
      },
      "source": [
        "for n in range(FT_matrix_N.shape[0]):\n",
        "  temp_N[n]= scaler.fit_transform(FT_matrix_N[n].T)\n",
        "  \n",
        "for d in range(FT_matrix_D.shape[0]):\n",
        "  temp_D[d]= scaler.fit_transform(FT_matrix_D[d].T)\n",
        "        "
      ],
      "execution_count": 0,
      "outputs": []
    },
    {
      "cell_type": "code",
      "metadata": {
        "id": "9lu1mSfAgz-s",
        "colab_type": "code",
        "colab": {
          "base_uri": "https://localhost:8080/",
          "height": 286
        },
        "outputId": "2d5ca4c1-cd01-4a80-f4a4-3446d66247da"
      },
      "source": [
        "plt.plot(f,temp_D[3,:,4])\n",
        "\n",
        "temp_D.shape, temp_N.shape"
      ],
      "execution_count": 95,
      "outputs": [
        {
          "output_type": "execute_result",
          "data": {
            "text/plain": [
              "((196, 3598, 19), (132, 3598, 19))"
            ]
          },
          "metadata": {
            "tags": []
          },
          "execution_count": 95
        },
        {
          "output_type": "display_data",
          "data": {
            "image/png": "[encoded data removed]",
            "text/plain": [
              "<Figure size 432x288 with 1 Axes>"
            ]
          },
          "metadata": {
            "tags": []
          }
        }
      ]
    },
    {
      "cell_type": "code",
      "metadata": {
        "id": "OjF9idB9hIIA",
        "colab_type": "code",
        "colab": {}
      },
      "source": [
        "for n in range(FT_matrix_N.shape[0]):\n",
        "  FT_matrix_N[n]= scaler.fit_transform(temp_N[n].T)\n",
        "  \n",
        "for d in range(FT_matrix_D.shape[0]):\n",
        "  FT_matrix_D[d]= scaler.fit_transform(temp_D[d].T)\n",
        "        "
      ],
      "execution_count": 0,
      "outputs": []
    },
    {
      "cell_type": "code",
      "metadata": {
        "id": "G7Bv286-JvLL",
        "colab_type": "code",
        "colab": {
          "base_uri": "https://localhost:8080/",
          "height": 286
        },
        "outputId": "26b32b6d-2a97-4952-a84f-0e5132ae51b3"
      },
      "source": [
        "plt.plot(f,FT_matrix_D[3,4])\n",
        "a[3,4].shape"
      ],
      "execution_count": 97,
      "outputs": [
        {
          "output_type": "execute_result",
          "data": {
            "text/plain": [
              "(3598,)"
            ]
          },
          "metadata": {
            "tags": []
          },
          "execution_count": 97
        },
        {
          "output_type": "display_data",
          "data": {
            "image/png": "[encoded data removed]",
            "text/plain": [
              "<Figure size 432x288 with 1 Axes>"
            ]
          },
          "metadata": {
            "tags": []
          }
        }
      ]
    },
    {
      "cell_type": "code",
      "metadata": {
        "id": "zkml40niQYD0",
        "colab_type": "code",
        "colab": {
          "base_uri": "https://localhost:8080/",
          "height": 34
        },
        "outputId": "df6d41fe-f9ea-4124-988f-720cd15edca7"
      },
      "source": [
        "FT_matrix_D.shape, FT_matrix_N.shape"
      ],
      "execution_count": 98,
      "outputs": [
        {
          "output_type": "execute_result",
          "data": {
            "text/plain": [
              "((196, 19, 3598), (132, 19, 3598))"
            ]
          },
          "metadata": {
            "tags": []
          },
          "execution_count": 98
        }
      ]
    },
    {
      "cell_type": "markdown",
      "metadata": {
        "id": "N1nyduI3Q-3_",
        "colab_type": "text"
      },
      "source": [
        "# Data Shaper"
      ]
    },
    {
      "cell_type": "code",
      "metadata": {
        "id": "ykUjytYSRCEi",
        "colab_type": "code",
        "colab": {}
      },
      "source": [
        "# normal is 1 and disorder is 0\n",
        "Data = np.vstack((FT_matrix_N, FT_matrix_D))\n",
        "target = np.hstack((np.ones(FT_matrix_N.shape[0]), np.zeros(FT_matrix_D.shape[0])))"
      ],
      "execution_count": 0,
      "outputs": []
    },
    {
      "cell_type": "code",
      "metadata": {
        "id": "dIxP3uw0RQFm",
        "colab_type": "code",
        "colab": {}
      },
      "source": [
        "X, y = shuffle(Data, target)"
      ],
      "execution_count": 0,
      "outputs": []
    },
    {
      "cell_type": "markdown",
      "metadata": {
        "id": "yZqbzEw0YFtl",
        "colab_type": "text"
      },
      "source": [
        "# Neural Network "
      ]
    },
    {
      "cell_type": "code",
      "metadata": {
        "id": "8-4bQKM2YFtn",
        "colab_type": "code",
        "colab": {
          "base_uri": "https://localhost:8080/",
          "height": 34
        },
        "outputId": "f1ec2263-5f60-4a65-b7a5-dc6f8ec5f162"
      },
      "source": [
        "from tensorflow import keras\n",
        "from keras.models import Sequential\n",
        "from keras.layers import Dense, Dropout, Flatten"
      ],
      "execution_count": 99,
      "outputs": [
        {
          "output_type": "stream",
          "text": [
            "Using TensorFlow backend.\n"
          ],
          "name": "stderr"
        }
      ]
    },
    {
      "cell_type": "code",
      "metadata": {
        "id": "XKopHRYpYFt0",
        "colab_type": "code",
        "colab": {
          "base_uri": "https://localhost:8080/",
          "height": 228
        },
        "outputId": "8202436a-8931-40be-ce0b-dd27cd3fdca9"
      },
      "source": [
        "model = Sequential([\n",
        "    Flatten(input_shape=[X.shape[1],X.shape[2]]),\n",
        "    Dense(300, activation='relu'),\n",
        "    Dropout(0.5),\n",
        "    Dense(200, activation='relu'),\n",
        "    Dropout(0.5),\n",
        "    Dense(100, activation='relu'),\n",
        "    Dropout(0.5),\n",
        "    Dense(10, activation='relu'),\n",
        "    Dropout(0.5),\n",
        "    Dense(1, activation='sigmoid'),\n",
        "    \n",
        "])"
      ],
      "execution_count": 103,
      "outputs": [
        {
          "output_type": "stream",
          "text": [
            "WARNING:tensorflow:From /usr/local/lib/python3.6/dist-packages/keras/backend/tensorflow_backend.py:66: The name tf.get_default_graph is deprecated. Please use tf.compat.v1.get_default_graph instead.\n",
            "\n",
            "WARNING:tensorflow:From /usr/local/lib/python3.6/dist-packages/keras/backend/tensorflow_backend.py:541: The name tf.placeholder is deprecated. Please use tf.compat.v1.placeholder instead.\n",
            "\n",
            "WARNING:tensorflow:From /usr/local/lib/python3.6/dist-packages/keras/backend/tensorflow_backend.py:4432: The name tf.random_uniform is deprecated. Please use tf.random.uniform instead.\n",
            "\n",
            "WARNING:tensorflow:From /usr/local/lib/python3.6/dist-packages/keras/backend/tensorflow_backend.py:148: The name tf.placeholder_with_default is deprecated. Please use tf.compat.v1.placeholder_with_default instead.\n",
            "\n",
            "WARNING:tensorflow:From /usr/local/lib/python3.6/dist-packages/keras/backend/tensorflow_backend.py:3733: calling dropout (from tensorflow.python.ops.nn_ops) with keep_prob is deprecated and will be removed in a future version.\n",
            "Instructions for updating:\n",
            "Please use `rate` instead of `keep_prob`. Rate should be set to `rate = 1 - keep_prob`.\n"
          ],
          "name": "stdout"
        }
      ]
    },
    {
      "cell_type": "code",
      "metadata": {
        "id": "8fOlJu0lYFt4",
        "colab_type": "code",
        "outputId": "d37db737-cb4d-4ed9-a93b-ccbde1334bfb",
        "colab": {
          "base_uri": "https://localhost:8080/",
          "height": 503
        }
      },
      "source": [
        "model.summary()"
      ],
      "execution_count": 104,
      "outputs": [
        {
          "output_type": "stream",
          "text": [
            "Model: \"sequential_1\"\n",
            "_________________________________________________________________\n",
            "Layer (type)                 Output Shape              Param #   \n",
            "=================================================================\n",
            "flatten_1 (Flatten)          (None, 68362)             0         \n",
            "_________________________________________________________________\n",
            "dense_1 (Dense)              (None, 300)               20508900  \n",
            "_________________________________________________________________\n",
            "dropout_1 (Dropout)          (None, 300)               0         \n",
            "_________________________________________________________________\n",
            "dense_2 (Dense)              (None, 200)               60200     \n",
            "_________________________________________________________________\n",
            "dropout_2 (Dropout)          (None, 200)               0         \n",
            "_________________________________________________________________\n",
            "dense_3 (Dense)              (None, 100)               20100     \n",
            "_________________________________________________________________\n",
            "dropout_3 (Dropout)          (None, 100)               0         \n",
            "_________________________________________________________________\n",
            "dense_4 (Dense)              (None, 10)                1010      \n",
            "_________________________________________________________________\n",
            "dropout_4 (Dropout)          (None, 10)                0         \n",
            "_________________________________________________________________\n",
            "dense_5 (Dense)              (None, 1)                 11        \n",
            "=================================================================\n",
            "Total params: 20,590,221\n",
            "Trainable params: 20,590,221\n",
            "Non-trainable params: 0\n",
            "_________________________________________________________________\n"
          ],
          "name": "stdout"
        }
      ]
    },
    {
      "cell_type": "code",
      "metadata": {
        "id": "FEpsBMoWYFt_",
        "colab_type": "code",
        "colab": {
          "base_uri": "https://localhost:8080/",
          "height": 159
        },
        "outputId": "3d34c1a0-07ec-4a45-ab38-3345470f9425"
      },
      "source": [
        "model.compile(loss = 'binary_crossentropy',\n",
        "             optimizer='adam',\n",
        "             metrics=['accuracy'])"
      ],
      "execution_count": 105,
      "outputs": [
        {
          "output_type": "stream",
          "text": [
            "WARNING:tensorflow:From /usr/local/lib/python3.6/dist-packages/keras/optimizers.py:793: The name tf.train.Optimizer is deprecated. Please use tf.compat.v1.train.Optimizer instead.\n",
            "\n",
            "WARNING:tensorflow:From /usr/local/lib/python3.6/dist-packages/keras/backend/tensorflow_backend.py:3657: The name tf.log is deprecated. Please use tf.math.log instead.\n",
            "\n",
            "WARNING:tensorflow:From /usr/local/lib/python3.6/dist-packages/tensorflow/python/ops/nn_impl.py:180: add_dispatch_support.<locals>.wrapper (from tensorflow.python.ops.array_ops) is deprecated and will be removed in a future version.\n",
            "Instructions for updating:\n",
            "Use tf.where in 2.0, which has the same broadcast rule as np.where\n"
          ],
          "name": "stdout"
        }
      ]
    },
    {
      "cell_type": "code",
      "metadata": {
        "id": "iNcaAPUVYFuE",
        "colab_type": "code",
        "outputId": "2b1c02bb-68bc-49fa-8e6a-21af4402d0b1",
        "colab": {
          "base_uri": "https://localhost:8080/",
          "height": 1000
        }
      },
      "source": [
        "his = model.fit(X, y, epochs=30, batch_size=4)"
      ],
      "execution_count": 108,
      "outputs": [
        {
          "output_type": "stream",
          "text": [
            "Epoch 1/30\n",
            "328/328 [==============================] - 3s 8ms/step - loss: 4.1200 - acc: 0.7378\n",
            "Epoch 2/30\n",
            "328/328 [==============================] - 3s 8ms/step - loss: 4.2367 - acc: 0.7226\n",
            "Epoch 3/30\n",
            "328/328 [==============================] - 3s 8ms/step - loss: 3.7374 - acc: 0.7470\n",
            "Epoch 4/30\n",
            "328/328 [==============================] - 3s 8ms/step - loss: 4.1861 - acc: 0.7134\n",
            "Epoch 5/30\n",
            "328/328 [==============================] - 3s 8ms/step - loss: 3.7751 - acc: 0.7591\n",
            "Epoch 6/30\n",
            "328/328 [==============================] - 3s 8ms/step - loss: 3.6854 - acc: 0.7591\n",
            "Epoch 7/30\n",
            "328/328 [==============================] - 3s 8ms/step - loss: 3.8778 - acc: 0.7409\n",
            "Epoch 8/30\n",
            "328/328 [==============================] - 3s 8ms/step - loss: 3.9719 - acc: 0.7409\n",
            "Epoch 9/30\n",
            "328/328 [==============================] - 3s 8ms/step - loss: 4.1716 - acc: 0.7256\n",
            "Epoch 10/30\n",
            "328/328 [==============================] - 3s 8ms/step - loss: 4.4078 - acc: 0.7134\n",
            "Epoch 11/30\n",
            "328/328 [==============================] - 3s 8ms/step - loss: 3.3767 - acc: 0.7774\n",
            "Epoch 12/30\n",
            "328/328 [==============================] - 3s 8ms/step - loss: 4.1139 - acc: 0.7226\n",
            "Epoch 13/30\n",
            "328/328 [==============================] - 3s 8ms/step - loss: 3.9441 - acc: 0.7195\n",
            "Epoch 14/30\n",
            "328/328 [==============================] - 3s 8ms/step - loss: 4.1237 - acc: 0.7317\n",
            "Epoch 15/30\n",
            "328/328 [==============================] - 3s 8ms/step - loss: 3.6312 - acc: 0.7591\n",
            "Epoch 16/30\n",
            "328/328 [==============================] - 3s 8ms/step - loss: 3.9431 - acc: 0.7287\n",
            "Epoch 17/30\n",
            "328/328 [==============================] - 3s 8ms/step - loss: 4.4964 - acc: 0.7165\n",
            "Epoch 18/30\n",
            "328/328 [==============================] - 3s 8ms/step - loss: 3.9301 - acc: 0.7378\n",
            "Epoch 19/30\n",
            "328/328 [==============================] - 3s 8ms/step - loss: 4.2815 - acc: 0.7104\n",
            "Epoch 20/30\n",
            "328/328 [==============================] - 3s 8ms/step - loss: 4.2037 - acc: 0.7073\n",
            "Epoch 21/30\n",
            "328/328 [==============================] - 3s 8ms/step - loss: 4.1370 - acc: 0.7134\n",
            "Epoch 22/30\n",
            "328/328 [==============================] - 3s 8ms/step - loss: 4.7319 - acc: 0.6677\n",
            "Epoch 23/30\n",
            "328/328 [==============================] - 3s 8ms/step - loss: 4.5186 - acc: 0.6982\n",
            "Epoch 24/30\n",
            "328/328 [==============================] - 3s 8ms/step - loss: 4.1204 - acc: 0.7348\n",
            "Epoch 25/30\n",
            "328/328 [==============================] - 3s 8ms/step - loss: 4.3936 - acc: 0.6890\n",
            "Epoch 26/30\n",
            "328/328 [==============================] - 3s 8ms/step - loss: 4.5364 - acc: 0.6860\n",
            "Epoch 27/30\n",
            "328/328 [==============================] - 3s 8ms/step - loss: 3.8630 - acc: 0.7165\n",
            "Epoch 28/30\n",
            "328/328 [==============================] - 3s 8ms/step - loss: 3.6178 - acc: 0.7287\n",
            "Epoch 29/30\n",
            "328/328 [==============================] - 3s 8ms/step - loss: 3.2495 - acc: 0.7683\n",
            "Epoch 30/30\n",
            "328/328 [==============================] - 3s 8ms/step - loss: 3.8210 - acc: 0.7226\n"
          ],
          "name": "stdout"
        }
      ]
    },
    {
      "cell_type": "code",
      "metadata": {
        "id": "ezjMFqOWYFuK",
        "colab_type": "code",
        "colab": {
          "base_uri": "https://localhost:8080/",
          "height": 340
        },
        "outputId": "8f961a4c-5c1a-4f20-9901-7df4cb66c8cb"
      },
      "source": [
        "pd.DataFrame(his.history).plot(figsize=(8, 5))"
      ],
      "execution_count": 113,
      "outputs": [
        {
          "output_type": "execute_result",
          "data": {
            "text/plain": [
              "<matplotlib.axes._subplots.AxesSubplot at 0x7ff8501c4518>"
            ]
          },
          "metadata": {
            "tags": []
          },
          "execution_count": 113
        },
        {
          "output_type": "display_data",
          "data": {
            "image/png": "[encoded data removed]",
            "text/plain": [
              "<Figure size 576x360 with 1 Axes>"
            ]
          },
          "metadata": {
            "tags": []
          }
        }
      ]
    },
    {
      "cell_type": "code",
      "metadata": {
        "id": "I8FkqlZhG27N",
        "colab_type": "code",
        "colab": {
          "base_uri": "https://localhost:8080/",
          "height": 34
        },
        "outputId": "fae2d51d-21f3-4c78-f55a-655b936ccd36"
      },
      "source": [
        "a.reshape(1,-1)"
      ],
      "execution_count": 30,
      "outputs": [
        {
          "output_type": "execute_result",
          "data": {
            "text/plain": [
              "array([[1, 2, 3, 4, 5, 6, 7, 8, 9]])"
            ]
          },
          "metadata": {
            "tags": []
          },
          "execution_count": 30
        }
      ]
    },
    {
      "cell_type": "code",
      "metadata": {
        "id": "U0TsoQPNYFuO",
        "colab_type": "code",
        "colab": {
          "base_uri": "https://localhost:8080/",
          "height": 34
        },
        "outputId": "fe990a6a-1450-4d84-e1f7-9d839536c641"
      },
      "source": [
        "a[:,1]"
      ],
      "execution_count": 11,
      "outputs": [
        {
          "output_type": "execute_result",
          "data": {
            "text/plain": [
              "array([2, 5, 8])"
            ]
          },
          "metadata": {
            "tags": []
          },
          "execution_count": 11
        }
      ]
    },
    {
      "cell_type": "code",
      "metadata": {
        "id": "mROhCpmBGrAv",
        "colab_type": "code",
        "colab": {}
      },
      "source": [
        ""
      ],
      "execution_count": 0,
      "outputs": []
    }
  ]
}