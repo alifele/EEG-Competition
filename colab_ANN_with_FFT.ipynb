{
  "nbformat": 4,
  "nbformat_minor": 0,
  "metadata": {
    "kernelspec": {
      "name": "python3",
      "display_name": "Python 3"
    },
    "language_info": {
      "codemirror_mode": {
        "name": "ipython",
        "version": 3
      },
      "file_extension": ".py",
      "mimetype": "text/x-python",
      "name": "python",
      "nbconvert_exporter": "python",
      "pygments_lexer": "ipython3",
      "version": "3.7.3"
    },
    "colab": {
      "name": "colab_ANN_with_FFT.ipynb",
      "version": "0.3.2",
      "provenance": [],
      "collapsed_sections": [],
      "include_colab_link": true
    },
    "accelerator": "GPU"
  },
  "cells": [
    {
      "cell_type": "markdown",
      "metadata": {
        "id": "view-in-github",
        "colab_type": "text"
      },
      "source": [
        "<a href=\"https://colab.research.google.com/github/alifele/EEG-computation/blob/master/colab_ANN_with_FFT.ipynb\" target=\"_parent\"><img src=\"https://colab.research.google.com/assets/colab-badge.svg\" alt=\"Open In Colab\"/></a>"
      ]
    },
    {
      "cell_type": "markdown",
      "metadata": {
        "id": "olQ-K30aYFrj",
        "colab_type": "text"
      },
      "source": [
        "# ANN with FFT\n",
        "\n",
        "in this note book i will use the regular Dense neural network with the FT as input \n",
        "the FT with be sliced to the f = 200\n",
        "\n"
      ]
    },
    {
      "cell_type": "code",
      "metadata": {
        "id": "ZTslTv1VYFro",
        "colab_type": "code",
        "outputId": "656056fa-f6a8-4255-87d4-3fdb913b4a24",
        "colab": {
          "base_uri": "https://localhost:8080/",
          "height": 106
        }
      },
      "source": [
        "!pip install mat4py\n",
        "import numpy as np\n",
        "import matplotlib.pyplot as plt\n",
        "import mat4py as mt\n",
        "import os\n",
        "from IPython.display import Image\n",
        "from IPython.core.display import HTML \n",
        "from itertools import combinations\n",
        "from numpy.fft import fft\n",
        "from sklearn.utils import shuffle\n",
        "from sklearn.model_selection import train_test_split\n",
        "from sklearn.preprocessing import StandardScaler\n",
        "import pandas as pd\n"
      ],
      "execution_count": 1,
      "outputs": [
        {
          "output_type": "stream",
          "text": [
            "Collecting mat4py\n",
            "  Downloading https://files.pythonhosted.org/packages/25/a2/ec3feb146f6af699d85cf35d719463f2e2fb0d55864dd6d1d48cf0c756cd/mat4py-0.4.2-py2.py3-none-any.whl\n",
            "Installing collected packages: mat4py\n",
            "Successfully installed mat4py-0.4.2\n"
          ],
          "name": "stdout"
        }
      ]
    },
    {
      "cell_type": "code",
      "metadata": {
        "id": "Q_sPDTqNZjZR",
        "colab_type": "code",
        "outputId": "fd24ab72-cfe5-45ae-cc71-3b04bd3d0ce5",
        "colab": {
          "base_uri": "https://localhost:8080/",
          "height": 173
        }
      },
      "source": [
        "!git clone https://github.com/alifele/EEG-computation.git\n",
        "%cd EEG-computation"
      ],
      "execution_count": 2,
      "outputs": [
        {
          "output_type": "stream",
          "text": [
            "Cloning into 'EEG-computation'...\n",
            "remote: Enumerating objects: 398, done.\u001b[K\n",
            "remote: Counting objects:   0% (1/398)\u001b[K\rremote: Counting objects:   1% (4/398)\u001b[K\rremote: Counting objects:   2% (8/398)\u001b[K\rremote: Counting objects:   3% (12/398)\u001b[K\rremote: Counting objects:   4% (16/398)\u001b[K\rremote: Counting objects:   5% (20/398)\u001b[K\rremote: Counting objects:   6% (24/398)\u001b[K\rremote: Counting objects:   7% (28/398)\u001b[K\rremote: Counting objects:   8% (32/398)\u001b[K\rremote: Counting objects:   9% (36/398)\u001b[K\rremote: Counting objects:  10% (40/398)\u001b[K\rremote: Counting objects:  11% (44/398)\u001b[K\rremote: Counting objects:  12% (48/398)\u001b[K\rremote: Counting objects:  13% (52/398)\u001b[K\rremote: Counting objects:  14% (56/398)\u001b[K\rremote: Counting objects:  15% (60/398)\u001b[K\rremote: Counting objects:  16% (64/398)\u001b[K\rremote: Counting objects:  17% (68/398)\u001b[K\rremote: Counting objects:  18% (72/398)\u001b[K\rremote: Counting objects:  19% (76/398)\u001b[K\rremote: Counting objects:  20% (80/398)\u001b[K\rremote: Counting objects:  21% (84/398)\u001b[K\rremote: Counting objects:  22% (88/398)\u001b[K\rremote: Counting objects:  23% (92/398)\u001b[K\rremote: Counting objects:  24% (96/398)\u001b[K\rremote: Counting objects:  25% (100/398)\u001b[K\rremote: Counting objects:  26% (104/398)\u001b[K\rremote: Counting objects:  27% (108/398)\u001b[K\rremote: Counting objects:  28% (112/398)\u001b[K\rremote: Counting objects:  29% (116/398)\u001b[K\rremote: Counting objects:  30% (120/398)\u001b[K\rremote: Counting objects:  31% (124/398)\u001b[K\rremote: Counting objects:  32% (128/398)\u001b[K\rremote: Counting objects:  33% (132/398)\u001b[K\rremote: Counting objects:  34% (136/398)\u001b[K\rremote: Counting objects:  35% (140/398)\u001b[K\rremote: Counting objects:  36% (144/398)\u001b[K\rremote: Counting objects:  37% (148/398)\u001b[K\rremote: Counting objects:  38% (152/398)\u001b[K\rremote: Counting objects:  39% (156/398)\u001b[K\rremote: Counting objects:  40% (160/398)\u001b[K\rremote: Counting objects:  41% (164/398)\u001b[K\rremote: Counting objects:  42% (168/398)\u001b[K\rremote: Counting objects:  43% (172/398)\u001b[K\rremote: Counting objects:  44% (176/398)\u001b[K\rremote: Counting objects:  45% (180/398)\u001b[K\rremote: Counting objects:  46% (184/398)\u001b[K\rremote: Counting objects:  47% (188/398)\u001b[K\rremote: Counting objects:  48% (192/398)\u001b[K\rremote: Counting objects:  49% (196/398)\u001b[K\rremote: Counting objects:  50% (199/398)\u001b[K\rremote: Counting objects:  51% (203/398)\u001b[K\rremote: Counting objects:  52% (207/398)\u001b[K\rremote: Counting objects:  53% (211/398)\u001b[K\rremote: Counting objects:  54% (215/398)\u001b[K\rremote: Counting objects:  55% (219/398)\u001b[K\rremote: Counting objects:  56% (223/398)\u001b[K\rremote: Counting objects:  57% (227/398)\u001b[K\rremote: Counting objects:  58% (231/398)\u001b[K\rremote: Counting objects:  59% (235/398)\u001b[K\rremote: Counting objects:  60% (239/398)\u001b[K\rremote: Counting objects:  61% (243/398)\u001b[K\rremote: Counting objects:  62% (247/398)\u001b[K\rremote: Counting objects:  63% (251/398)\u001b[K\rremote: Counting objects:  64% (255/398)\u001b[K\rremote: Counting objects:  65% (259/398)\u001b[K\rremote: Counting objects:  66% (263/398)\u001b[K\rremote: Counting objects:  67% (267/398)\u001b[K\rremote: Counting objects:  68% (271/398)\u001b[K\rremote: Counting objects:  69% (275/398)\u001b[K\rremote: Counting objects:  70% (279/398)\u001b[K\rremote: Counting objects:  71% (283/398)\u001b[K\rremote: Counting objects:  72% (287/398)\u001b[K\rremote: Counting objects:  73% (291/398)\u001b[K\rremote: Counting objects:  74% (295/398)\u001b[K\rremote: Counting objects:  75% (299/398)\u001b[K\rremote: Counting objects:  76% (303/398)\u001b[K\rremote: Counting objects:  77% (307/398)\u001b[K\rremote: Counting objects:  78% (311/398)\u001b[K\rremote: Counting objects:  79% (315/398)\u001b[K\rremote: Counting objects:  80% (319/398)\u001b[K\rremote: Counting objects:  81% (323/398)\u001b[K\rremote: Counting objects:  82% (327/398)\u001b[K\rremote: Counting objects:  83% (331/398)\u001b[K\rremote: Counting objects:  84% (335/398)\u001b[K\rremote: Counting objects:  85% (339/398)\u001b[K\rremote: Counting objects:  86% (343/398)\u001b[K\rremote: Counting objects:  87% (347/398)\u001b[K\rremote: Counting objects:  88% (351/398)\u001b[K\rremote: Counting objects:  89% (355/398)\u001b[K\rremote: Counting objects:  90% (359/398)\u001b[K\rremote: Counting objects:  91% (363/398)\u001b[K\rremote: Counting objects:  92% (367/398)\u001b[K\rremote: Counting objects:  93% (371/398)\u001b[K\rremote: Counting objects:  94% (375/398)\u001b[K\rremote: Counting objects:  95% (379/398)\u001b[K\rremote: Counting objects:  96% (383/398)\u001b[K\rremote: Counting objects:  97% (387/398)\u001b[K\rremote: Counting objects:  98% (391/398)\u001b[K\rremote: Counting objects:  99% (395/398)\u001b[K\rremote: Counting objects: 100% (398/398)\u001b[K\rremote: Counting objects: 100% (398/398), done.\u001b[K\n",
            "remote: Compressing objects: 100% (394/394), done.\u001b[K\n",
            "remote: Total 398 (delta 26), reused 351 (delta 2), pack-reused 0\u001b[K\n",
            "Receiving objects: 100% (398/398), 580.05 MiB | 41.43 MiB/s, done.\n",
            "Resolving deltas: 100% (26/26), done.\n",
            "Checking out files: 100% (342/342), done.\n",
            "/content/EEG-computation\n"
          ],
          "name": "stdout"
        }
      ]
    },
    {
      "cell_type": "code",
      "metadata": {
        "id": "VqFS-R3vYFr1",
        "colab_type": "code",
        "colab": {}
      },
      "source": [
        "disorder_dic = []\n",
        "directory = os.fsencode('EEG Data/disorder')\n",
        "for file in os.listdir(directory):\n",
        "    filename = os.fsdecode(file)\n",
        "    disorder_dic.append(np.array(mt.loadmat('EEG Data/disorder/{}'.format(filename))[filename.split('.')[0]]))\n",
        "    \n",
        "channels_disorder = [ [] for i in range(len(disorder_dic))]  #channels[person][channel] it will be a numpy array\n",
        "j=0;\n",
        "for person in channels_disorder:\n",
        "    for i in range(19):\n",
        "        person.append(disorder_dic[j][:,i])\n",
        "    j+=1\n",
        "\n",
        "        \n",
        "normal_dic = []\n",
        "directory = os.fsencode('EEG Data/normal')\n",
        "for file in os.listdir(directory):\n",
        "    filename = os.fsdecode(file)\n",
        "    normal_dic.append(np.array(mt.loadmat('EEG Data/normal/{}'.format(filename))[filename.split('.')[0]]))\n",
        "    \n",
        "channels_normal = [ [] for i in range(len(normal_dic))]  #channels[person][channel] it will be a numpy array\n",
        "j=0;\n",
        "for person in channels_normal:\n",
        "    for i in range(19):\n",
        "        person.append(normal_dic[j][:,i])\n",
        "    j+=1\n",
        "        \n",
        "data = {\"N\":channels_normal,\n",
        "      \"D\":channels_disorder}"
      ],
      "execution_count": 0,
      "outputs": []
    },
    {
      "cell_type": "code",
      "metadata": {
        "id": "qSCa_P5nV1fk",
        "colab_type": "code",
        "colab": {
          "base_uri": "https://localhost:8080/",
          "height": 286
        },
        "outputId": "213f2ead-9718-4daa-d051-1759ad5a149c"
      },
      "source": [
        "plt.plot(data['N'][3][5] - data['N'][43][5])"
      ],
      "execution_count": 5,
      "outputs": [
        {
          "output_type": "execute_result",
          "data": {
            "text/plain": [
              "[<matplotlib.lines.Line2D at 0x7f1103859198>]"
            ]
          },
          "metadata": {
            "tags": []
          },
          "execution_count": 5
        },
        {
          "output_type": "display_data",
          "data": {
            "image/png": "[encoded data removed]",
            "text/plain": [
              "<Figure size 432x288 with 1 Axes>"
            ]
          },
          "metadata": {
            "tags": []
          }
        }
      ]
    },
    {
      "cell_type": "markdown",
      "metadata": {
        "id": "glLAbCwRJuWB",
        "colab_type": "text"
      },
      "source": [
        "## New data"
      ]
    },
    {
      "cell_type": "code",
      "metadata": {
        "id": "41PQRfjrJxQ2",
        "colab_type": "code",
        "colab": {}
      },
      "source": [
        "def New_Data_Generator_N():\n",
        "    number_of_samples = 30\n",
        "    randlist = (132 * np.random.random(number_of_samples)).astype(int)\n",
        "    new_patients = list(data['N'][i] for i in randlist)\n",
        "    \n",
        "    index = [ i for i in range(number_of_samples)]\n",
        "    comb = list( combinations(index, 2))\n",
        "    new_data = [[] for i in range(len(comb))]\n",
        "    person = 0\n",
        "    for x,y in comb:\n",
        "        for chan in range(19):\n",
        "            new_data[person].append((new_patients[x][chan] + new_patients[y][chan] )/2)\n",
        "        data['N'].append(new_data[person])\n",
        "        person += 1\n",
        "\n",
        "    \n",
        "def New_Data_Generator_D():\n",
        "    number_of_samples = 30\n",
        "    randlist = (132 * np.random.random(number_of_samples)).astype(int)\n",
        "    new_patients = list(data['D'][i] for i in randlist)\n",
        "    \n",
        "    index = [ i for i in range(number_of_samples)]\n",
        "    comb = list( combinations(index, 2))\n",
        "    new_data = [[] for i in range(len(comb))]\n",
        "    person = 0\n",
        "    for x,y in comb:\n",
        "        for chan in range(19):\n",
        "            new_data[person].append((new_patients[x][chan] + new_patients[y][chan] )/2)\n",
        "        data['D'].append(new_data[person])\n",
        "        person += 1"
      ],
      "execution_count": 0,
      "outputs": []
    },
    {
      "cell_type": "code",
      "metadata": {
        "id": "PDSFZkGXJysW",
        "colab_type": "code",
        "colab": {}
      },
      "source": [
        "New_Data_Generator_N()\n",
        "New_Data_Generator_D()"
      ],
      "execution_count": 0,
      "outputs": []
    },
    {
      "cell_type": "code",
      "metadata": {
        "id": "SGqldSrgYFr_",
        "colab_type": "code",
        "colab": {}
      },
      "source": [
        "n_D , n_N = len(data['D']), len(data['N'])"
      ],
      "execution_count": 0,
      "outputs": []
    },
    {
      "cell_type": "code",
      "metadata": {
        "id": "6kS49ZU2KWE7",
        "colab_type": "code",
        "outputId": "d2586eec-1ad6-4aa7-9e7d-fb897cfc8b36",
        "colab": {
          "base_uri": "https://localhost:8080/",
          "height": 34
        }
      },
      "source": [
        "n_D, n_N"
      ],
      "execution_count": 9,
      "outputs": [
        {
          "output_type": "execute_result",
          "data": {
            "text/plain": [
              "(631, 567)"
            ]
          },
          "metadata": {
            "tags": []
          },
          "execution_count": 9
        }
      ]
    },
    {
      "cell_type": "markdown",
      "metadata": {
        "id": "6Zm3yGMJYFsM",
        "colab_type": "text"
      },
      "source": [
        "## Making Fourier Transform data set"
      ]
    },
    {
      "cell_type": "code",
      "metadata": {
        "id": "qs4lbnTbYFsP",
        "colab_type": "code",
        "outputId": "b8f8efb6-0507-4482-b3fc-d9ad1811b1ce",
        "colab": {
          "base_uri": "https://localhost:8080/",
          "height": 52
        }
      },
      "source": [
        "index = np.arange(0,512*30)\n",
        "f = np.linspace(0,512,512*30)\n",
        "f_max = f[len(f[f<120])]\n",
        "ind_min = 2\n",
        "ind_max = list(index[f==f_max])[0]\n",
        "f_min = f[ind_min]\n",
        "\n",
        "print(f_min, f_max, ind_min, ind_max)\n",
        "\n",
        "\n",
        "sam_FT = np.abs(fft(data['D'][50][7]))\n",
        "\n",
        "# The 50 Htz noise elimination information\n",
        "\n",
        "f_45 = f>45\n",
        "f_55 = f<55\n",
        "f_bar = f<45\n",
        "\n",
        "for i in range(f.shape[0]):\n",
        "  f_bar[i] = f_45[i] and f_55[i]\n",
        "  \n",
        "  \n",
        "noise = f[sam_FT == np.max(sam_FT[f_bar])][0]\n",
        "noise_index = list(index[f==noise])[0] # in range 0, 512*30\n",
        "del_domain = 40\n",
        "del_range = [noise_index + i for i in range(-del_domain,del_domain)]\n",
        "print(noise, noise_index)\n",
        "\n",
        "\n",
        "\n",
        "\n",
        "\n",
        "\n"
      ],
      "execution_count": 10,
      "outputs": [
        {
          "output_type": "stream",
          "text": [
            "0.06667100722703301 120.00781300865941 2 3600\n",
            "50.03659092388827 1501\n"
          ],
          "name": "stdout"
        }
      ]
    },
    {
      "cell_type": "code",
      "metadata": {
        "id": "KUt3rNgGe8Hh",
        "colab_type": "code",
        "outputId": "ed3f57ab-f50b-4384-f423-f8b4a7369a06",
        "colab": {
          "base_uri": "https://localhost:8080/",
          "height": 34
        }
      },
      "source": [
        "sam_FT[list(f<55) or list(f>45)].shape"
      ],
      "execution_count": 11,
      "outputs": [
        {
          "output_type": "execute_result",
          "data": {
            "text/plain": [
              "(1650,)"
            ]
          },
          "metadata": {
            "tags": []
          },
          "execution_count": 11
        }
      ]
    },
    {
      "cell_type": "code",
      "metadata": {
        "id": "3Y5MVcfDo1Xd",
        "colab_type": "code",
        "outputId": "6772cf04-6e89-49b8-8a4f-4b1048f47dd1",
        "colab": {
          "base_uri": "https://localhost:8080/",
          "height": 286
        }
      },
      "source": [
        "plt.plot(f_bar)"
      ],
      "execution_count": 12,
      "outputs": [
        {
          "output_type": "execute_result",
          "data": {
            "text/plain": [
              "[<matplotlib.lines.Line2D at 0x7f110366a8d0>]"
            ]
          },
          "metadata": {
            "tags": []
          },
          "execution_count": 12
        },
        {
          "output_type": "display_data",
          "data": {
            "image/png": "[encoded data removed]",
            "text/plain": [
              "<Figure size 432x288 with 1 Axes>"
            ]
          },
          "metadata": {
            "tags": []
          }
        }
      ]
    },
    {
      "cell_type": "markdown",
      "metadata": {
        "id": "bFOPtYg0ZOUz",
        "colab_type": "text"
      },
      "source": [
        "# Noise Delete"
      ]
    },
    {
      "cell_type": "code",
      "metadata": {
        "id": "qPSfiX0PYFsW",
        "colab_type": "code",
        "colab": {}
      },
      "source": [
        "f = np.linspace(0,512,512*30)[ind_min:ind_max]"
      ],
      "execution_count": 0,
      "outputs": []
    },
    {
      "cell_type": "code",
      "metadata": {
        "id": "HvMeUaVHYFsc",
        "colab_type": "code",
        "colab": {}
      },
      "source": [
        "normal = [[np.zeros(f.shape[0]) for k in range(19)] for i in range(n_N)]\n",
        "disorder = [[np.zeros(f.shape[0]) for k in range(19)] for i in range(n_D)]\n",
        "\n",
        "\n",
        "FT = {'D':disorder,\n",
        "     'N':normal}\n",
        "\n",
        "from numpy.fft import fft\n",
        "\n",
        "for d in range(n_D):\n",
        "    for i in range(19):\n",
        "        \n",
        "        FT['D'][d][i] = np.abs(fft(data['D'][d][i]))[ind_min:ind_max]\n",
        "        FT['D'][d][i][noise_index-del_domain  - ind_min: noise_index+del_domain - ind_min] = np.average(FT['D'][d][i][noise_index-del_domain  - ind_min - 120: noise_index+del_domain - ind_min-120])\n",
        "        FT['D'][d][i][2*noise_index-del_domain - ind_min: 2*noise_index+del_domain - ind_min] = np.average(FT['D'][d][i][2*noise_index-del_domain - ind_min - 120: 2*noise_index+del_domain - ind_min-120])\n",
        "    \n",
        "for n in range(n_N):\n",
        "    for i in range(19):\n",
        "        FT['N'][n][i] = np.abs(fft(data['N'][n][i]))[ind_min:ind_max]\n",
        "        FT['N'][n][i][noise_index-del_domain - ind_min: noise_index+del_domain -ind_min] = np.average(FT['N'][n][i][noise_index-del_domain - ind_min-120: noise_index+del_domain -ind_min-120])\n",
        "        FT['N'][n][i][2*noise_index-del_domain - ind_min: 2*noise_index+del_domain - ind_min] = np.average( FT['N'][n][i][2*noise_index-del_domain - ind_min-120 : 2*noise_index+del_domain - ind_min-120])\n",
        "        \n",
        "\n",
        "    FT['N'] = np.array(FT['N'])\n",
        "    FT['D'] = np.array(FT['D'])"
      ],
      "execution_count": 0,
      "outputs": []
    },
    {
      "cell_type": "code",
      "metadata": {
        "id": "ILrD5Pv0YFsl",
        "colab_type": "code",
        "outputId": "3d595a71-4727-4914-87a5-e826d2d23f36",
        "colab": {
          "base_uri": "https://localhost:8080/",
          "height": 286
        }
      },
      "source": [
        "plt.plot(f, FT['N'][56][8])"
      ],
      "execution_count": 15,
      "outputs": [
        {
          "output_type": "execute_result",
          "data": {
            "text/plain": [
              "[<matplotlib.lines.Line2D at 0x7f11037cd940>]"
            ]
          },
          "metadata": {
            "tags": []
          },
          "execution_count": 15
        },
        {
          "output_type": "display_data",
          "data": {
            "image/png": "[encoded data removed]",
            "text/plain": [
              "<Figure size 432x288 with 1 Axes>"
            ]
          },
          "metadata": {
            "tags": []
          }
        }
      ]
    },
    {
      "cell_type": "code",
      "metadata": {
        "id": "nBhhb_xXYFsr",
        "colab_type": "code",
        "colab": {}
      },
      "source": [
        "%reset_selective -f \"^data$\""
      ],
      "execution_count": 0,
      "outputs": []
    },
    {
      "cell_type": "markdown",
      "metadata": {
        "id": "yNRjMeEXYFs0",
        "colab_type": "text"
      },
      "source": [
        "# Data Shaper"
      ]
    },
    {
      "cell_type": "code",
      "metadata": {
        "id": "59UtrZk2YFtd",
        "colab_type": "code",
        "colab": {}
      },
      "source": [
        "FT_matrix_N = FT['N']\n",
        "FT_matrix_D = FT['D']\n",
        "\n",
        "temp_D = FT_matrix_D.reshape((FT_matrix_D.shape[0],FT_matrix_D.shape[2],FT_matrix_D.shape[1]))\n",
        "temp_N = FT_matrix_N.reshape((FT_matrix_N.shape[0],FT_matrix_N.shape[2],FT_matrix_N.shape[1]))\n",
        "#or d in range(FT_matrix.shape[0]):\n",
        "scaler = StandardScaler()"
      ],
      "execution_count": 0,
      "outputs": []
    },
    {
      "cell_type": "code",
      "metadata": {
        "id": "g1JslAM5KeFJ",
        "colab_type": "code",
        "colab": {}
      },
      "source": [
        "for n in range(FT_matrix_N.shape[0]):\n",
        "  temp_N[n]= scaler.fit_transform(FT_matrix_N[n].T)\n",
        "  \n",
        "for d in range(FT_matrix_D.shape[0]):\n",
        "  temp_D[d]= scaler.fit_transform(FT_matrix_D[d].T)\n",
        "        "
      ],
      "execution_count": 0,
      "outputs": []
    },
    {
      "cell_type": "code",
      "metadata": {
        "id": "9lu1mSfAgz-s",
        "colab_type": "code",
        "outputId": "d496ee1c-49f7-4f03-9aa4-a3d07e930264",
        "colab": {
          "base_uri": "https://localhost:8080/",
          "height": 286
        }
      },
      "source": [
        "plt.plot(f,temp_D[3,:,4])\n",
        "\n",
        "temp_D.shape, temp_N.shape"
      ],
      "execution_count": 19,
      "outputs": [
        {
          "output_type": "execute_result",
          "data": {
            "text/plain": [
              "((631, 3598, 19), (567, 3598, 19))"
            ]
          },
          "metadata": {
            "tags": []
          },
          "execution_count": 19
        },
        {
          "output_type": "display_data",
          "data": {
            "image/png": "[encoded data removed]",
            "text/plain": [
              "<Figure size 432x288 with 1 Axes>"
            ]
          },
          "metadata": {
            "tags": []
          }
        }
      ]
    },
    {
      "cell_type": "code",
      "metadata": {
        "id": "OjF9idB9hIIA",
        "colab_type": "code",
        "colab": {}
      },
      "source": [
        "for n in range(FT_matrix_N.shape[0]):\n",
        "  FT_matrix_N[n]= scaler.fit_transform(temp_N[n].T)\n",
        "  \n",
        "for d in range(FT_matrix_D.shape[0]):\n",
        "  FT_matrix_D[d]= scaler.fit_transform(temp_D[d].T)\n",
        "        "
      ],
      "execution_count": 0,
      "outputs": []
    },
    {
      "cell_type": "code",
      "metadata": {
        "id": "G7Bv286-JvLL",
        "colab_type": "code",
        "outputId": "82077789-5bd7-482a-f944-3cd4345097f3",
        "colab": {
          "base_uri": "https://localhost:8080/",
          "height": 286
        }
      },
      "source": [
        "plt.plot(f,FT_matrix_D[8,8])\n",
        "plt.plot(f,FT_matrix_D[65,8])\n"
      ],
      "execution_count": 23,
      "outputs": [
        {
          "output_type": "execute_result",
          "data": {
            "text/plain": [
              "[<matplotlib.lines.Line2D at 0x7f11035466d8>]"
            ]
          },
          "metadata": {
            "tags": []
          },
          "execution_count": 23
        },
        {
          "output_type": "display_data",
          "data": {
            "image/png": "[encoded data removed]",
            "text/plain": [
              "<Figure size 432x288 with 1 Axes>"
            ]
          },
          "metadata": {
            "tags": []
          }
        }
      ]
    },
    {
      "cell_type": "code",
      "metadata": {
        "id": "zkml40niQYD0",
        "colab_type": "code",
        "outputId": "8339d6c7-1534-4115-896b-d51f327a7d18",
        "colab": {
          "base_uri": "https://localhost:8080/",
          "height": 34
        }
      },
      "source": [
        "FT_matrix_D.shape, FT_matrix_N.shape"
      ],
      "execution_count": 24,
      "outputs": [
        {
          "output_type": "execute_result",
          "data": {
            "text/plain": [
              "((631, 19, 3598), (567, 19, 3598))"
            ]
          },
          "metadata": {
            "tags": []
          },
          "execution_count": 24
        }
      ]
    },
    {
      "cell_type": "markdown",
      "metadata": {
        "id": "N1nyduI3Q-3_",
        "colab_type": "text"
      },
      "source": [
        "# Data Shaper"
      ]
    },
    {
      "cell_type": "code",
      "metadata": {
        "id": "ykUjytYSRCEi",
        "colab_type": "code",
        "colab": {}
      },
      "source": [
        "# normal is 1 and disorder is 0\n",
        "Data = np.vstack((FT_matrix_N, FT_matrix_D))\n",
        "target = np.hstack((np.ones(FT_matrix_N.shape[0]), np.zeros(FT_matrix_D.shape[0])))"
      ],
      "execution_count": 0,
      "outputs": []
    },
    {
      "cell_type": "code",
      "metadata": {
        "id": "dIxP3uw0RQFm",
        "colab_type": "code",
        "colab": {}
      },
      "source": [
        "X, y = shuffle(Data, target)"
      ],
      "execution_count": 0,
      "outputs": []
    },
    {
      "cell_type": "markdown",
      "metadata": {
        "id": "yZqbzEw0YFtl",
        "colab_type": "text"
      },
      "source": [
        "# Neural Network "
      ]
    },
    {
      "cell_type": "code",
      "metadata": {
        "id": "8-4bQKM2YFtn",
        "colab_type": "code",
        "colab": {
          "base_uri": "https://localhost:8080/",
          "height": 34
        },
        "outputId": "7c0c461d-ec72-48bb-c789-8d83b9c83f07"
      },
      "source": [
        "from tensorflow import keras\n",
        "from keras.models import Sequential\n",
        "from keras.layers import Dense, Dropout, Flatten"
      ],
      "execution_count": 27,
      "outputs": [
        {
          "output_type": "stream",
          "text": [
            "Using TensorFlow backend.\n"
          ],
          "name": "stderr"
        }
      ]
    },
    {
      "cell_type": "code",
      "metadata": {
        "id": "XKopHRYpYFt0",
        "colab_type": "code",
        "colab": {
          "base_uri": "https://localhost:8080/",
          "height": 228
        },
        "outputId": "6061766b-22af-472f-d3a9-80826525ab4f"
      },
      "source": [
        "\n",
        "model = Sequential([\n",
        "    Flatten(input_shape=[X.shape[1],X.shape[2]]),\n",
        "    Dense(300, activation='relu'),\n",
        "    Dropout(0.5),\n",
        "    Dense(200, activation='relu'),\n",
        "    Dropout(0.5),\n",
        "    Dense(100, activation='relu'),\n",
        "    Dropout(0.5),\n",
        "    Dense(10, activation='relu'),\n",
        "    Dropout(0.5),\n",
        "    Dense(1, activation='sigmoid'),\n",
        "    \n",
        "])"
      ],
      "execution_count": 28,
      "outputs": [
        {
          "output_type": "stream",
          "text": [
            "WARNING:tensorflow:From /usr/local/lib/python3.6/dist-packages/keras/backend/tensorflow_backend.py:66: The name tf.get_default_graph is deprecated. Please use tf.compat.v1.get_default_graph instead.\n",
            "\n",
            "WARNING:tensorflow:From /usr/local/lib/python3.6/dist-packages/keras/backend/tensorflow_backend.py:541: The name tf.placeholder is deprecated. Please use tf.compat.v1.placeholder instead.\n",
            "\n",
            "WARNING:tensorflow:From /usr/local/lib/python3.6/dist-packages/keras/backend/tensorflow_backend.py:4432: The name tf.random_uniform is deprecated. Please use tf.random.uniform instead.\n",
            "\n",
            "WARNING:tensorflow:From /usr/local/lib/python3.6/dist-packages/keras/backend/tensorflow_backend.py:148: The name tf.placeholder_with_default is deprecated. Please use tf.compat.v1.placeholder_with_default instead.\n",
            "\n",
            "WARNING:tensorflow:From /usr/local/lib/python3.6/dist-packages/keras/backend/tensorflow_backend.py:3733: calling dropout (from tensorflow.python.ops.nn_ops) with keep_prob is deprecated and will be removed in a future version.\n",
            "Instructions for updating:\n",
            "Please use `rate` instead of `keep_prob`. Rate should be set to `rate = 1 - keep_prob`.\n"
          ],
          "name": "stdout"
        }
      ]
    },
    {
      "cell_type": "code",
      "metadata": {
        "id": "8fOlJu0lYFt4",
        "colab_type": "code",
        "outputId": "2fa7be9d-693e-4544-e94c-bde2785d0a76",
        "colab": {
          "base_uri": "https://localhost:8080/",
          "height": 503
        }
      },
      "source": [
        "model.summary()"
      ],
      "execution_count": 29,
      "outputs": [
        {
          "output_type": "stream",
          "text": [
            "Model: \"sequential_1\"\n",
            "_________________________________________________________________\n",
            "Layer (type)                 Output Shape              Param #   \n",
            "=================================================================\n",
            "flatten_1 (Flatten)          (None, 68362)             0         \n",
            "_________________________________________________________________\n",
            "dense_1 (Dense)              (None, 300)               20508900  \n",
            "_________________________________________________________________\n",
            "dropout_1 (Dropout)          (None, 300)               0         \n",
            "_________________________________________________________________\n",
            "dense_2 (Dense)              (None, 200)               60200     \n",
            "_________________________________________________________________\n",
            "dropout_2 (Dropout)          (None, 200)               0         \n",
            "_________________________________________________________________\n",
            "dense_3 (Dense)              (None, 100)               20100     \n",
            "_________________________________________________________________\n",
            "dropout_3 (Dropout)          (None, 100)               0         \n",
            "_________________________________________________________________\n",
            "dense_4 (Dense)              (None, 10)                1010      \n",
            "_________________________________________________________________\n",
            "dropout_4 (Dropout)          (None, 10)                0         \n",
            "_________________________________________________________________\n",
            "dense_5 (Dense)              (None, 1)                 11        \n",
            "=================================================================\n",
            "Total params: 20,590,221\n",
            "Trainable params: 20,590,221\n",
            "Non-trainable params: 0\n",
            "_________________________________________________________________\n"
          ],
          "name": "stdout"
        }
      ]
    },
    {
      "cell_type": "code",
      "metadata": {
        "id": "FEpsBMoWYFt_",
        "colab_type": "code",
        "colab": {
          "base_uri": "https://localhost:8080/",
          "height": 159
        },
        "outputId": "e1dd3a12-542f-4fe0-fc33-3986fde2c18b"
      },
      "source": [
        "model.compile(loss = 'binary_crossentropy',\n",
        "             optimizer='adam',\n",
        "             metrics=['accuracy'])"
      ],
      "execution_count": 30,
      "outputs": [
        {
          "output_type": "stream",
          "text": [
            "WARNING:tensorflow:From /usr/local/lib/python3.6/dist-packages/keras/optimizers.py:793: The name tf.train.Optimizer is deprecated. Please use tf.compat.v1.train.Optimizer instead.\n",
            "\n",
            "WARNING:tensorflow:From /usr/local/lib/python3.6/dist-packages/keras/backend/tensorflow_backend.py:3657: The name tf.log is deprecated. Please use tf.math.log instead.\n",
            "\n",
            "WARNING:tensorflow:From /usr/local/lib/python3.6/dist-packages/tensorflow/python/ops/nn_impl.py:180: add_dispatch_support.<locals>.wrapper (from tensorflow.python.ops.array_ops) is deprecated and will be removed in a future version.\n",
            "Instructions for updating:\n",
            "Use tf.where in 2.0, which has the same broadcast rule as np.where\n"
          ],
          "name": "stdout"
        }
      ]
    },
    {
      "cell_type": "code",
      "metadata": {
        "id": "0Z4AWUtsLOON",
        "colab_type": "code",
        "outputId": "2c06ef7f-850f-4ef9-947c-d413cfbcf110",
        "colab": {
          "base_uri": "https://localhost:8080/",
          "height": 34
        }
      },
      "source": [
        "X_train, X_test, y_train, y_test = train_test_split(X,y)\n",
        "X_train.shape, X_test.shape, y_train.shape, y_test.shape"
      ],
      "execution_count": 31,
      "outputs": [
        {
          "output_type": "execute_result",
          "data": {
            "text/plain": [
              "((898, 19, 3598), (300, 19, 3598), (898,), (300,))"
            ]
          },
          "metadata": {
            "tags": []
          },
          "execution_count": 31
        }
      ]
    },
    {
      "cell_type": "code",
      "metadata": {
        "id": "iNcaAPUVYFuE",
        "colab_type": "code",
        "outputId": "5edb4cc0-c261-4699-d317-dcd97e23b5df",
        "colab": {
          "base_uri": "https://localhost:8080/",
          "height": 1000
        }
      },
      "source": [
        "his = model.fit(X_train, y_train, epochs=30, batch_size=4, validation_data=(X_test, y_test))"
      ],
      "execution_count": 32,
      "outputs": [
        {
          "output_type": "stream",
          "text": [
            "Train on 898 samples, validate on 300 samples\n",
            "Epoch 1/30\n",
            "898/898 [==============================] - 12s 13ms/step - loss: 5.6310 - acc: 0.5635 - val_loss: 5.9260 - val_acc: 0.6233\n",
            "Epoch 2/30\n",
            "898/898 [==============================] - 7s 7ms/step - loss: 6.2401 - acc: 0.4978 - val_loss: 7.1710 - val_acc: 0.5500\n",
            "Epoch 3/30\n",
            "898/898 [==============================] - 7s 7ms/step - loss: 4.4677 - acc: 0.5590 - val_loss: 5.0968 - val_acc: 0.5300\n",
            "Epoch 4/30\n",
            "898/898 [==============================] - 7s 7ms/step - loss: 2.7078 - acc: 0.5390 - val_loss: 0.7839 - val_acc: 0.5233\n",
            "Epoch 5/30\n",
            "898/898 [==============================] - 7s 7ms/step - loss: 1.8780 - acc: 0.5390 - val_loss: 0.6925 - val_acc: 0.5233\n",
            "Epoch 6/30\n",
            "898/898 [==============================] - 7s 7ms/step - loss: 1.5964 - acc: 0.5256 - val_loss: 0.6923 - val_acc: 0.5233\n",
            "Epoch 7/30\n",
            "898/898 [==============================] - 7s 7ms/step - loss: 1.3396 - acc: 0.5301 - val_loss: 0.6922 - val_acc: 0.5233\n",
            "Epoch 8/30\n",
            "898/898 [==============================] - 7s 7ms/step - loss: 1.3436 - acc: 0.5301 - val_loss: 0.6922 - val_acc: 0.5233\n",
            "Epoch 9/30\n",
            "898/898 [==============================] - 7s 7ms/step - loss: 1.0686 - acc: 0.5334 - val_loss: 0.6921 - val_acc: 0.5233\n",
            "Epoch 10/30\n",
            "898/898 [==============================] - 7s 7ms/step - loss: 0.8993 - acc: 0.5323 - val_loss: 0.6921 - val_acc: 0.5233\n",
            "Epoch 11/30\n",
            "898/898 [==============================] - 7s 7ms/step - loss: 0.8340 - acc: 0.5345 - val_loss: 0.6921 - val_acc: 0.5233\n",
            "Epoch 12/30\n",
            "898/898 [==============================] - 7s 8ms/step - loss: 0.9666 - acc: 0.5334 - val_loss: 0.6921 - val_acc: 0.5233\n",
            "Epoch 13/30\n",
            "898/898 [==============================] - 7s 7ms/step - loss: 0.8172 - acc: 0.5323 - val_loss: 0.6921 - val_acc: 0.5233\n",
            "Epoch 14/30\n",
            "898/898 [==============================] - 7s 7ms/step - loss: 0.9106 - acc: 0.5290 - val_loss: 0.6921 - val_acc: 0.5233\n",
            "Epoch 15/30\n",
            "898/898 [==============================] - 7s 7ms/step - loss: 0.8350 - acc: 0.5334 - val_loss: 0.6921 - val_acc: 0.5233\n",
            "Epoch 16/30\n",
            "898/898 [==============================] - 7s 7ms/step - loss: 0.8540 - acc: 0.5256 - val_loss: 0.6921 - val_acc: 0.5233\n",
            "Epoch 17/30\n",
            "898/898 [==============================] - 7s 7ms/step - loss: 0.7518 - acc: 0.5312 - val_loss: 0.6921 - val_acc: 0.5233\n",
            "Epoch 18/30\n",
            "898/898 [==============================] - 7s 7ms/step - loss: 0.8840 - acc: 0.5323 - val_loss: 0.6921 - val_acc: 0.5233\n",
            "Epoch 19/30\n",
            "898/898 [==============================] - 7s 7ms/step - loss: 0.8448 - acc: 0.5290 - val_loss: 0.6921 - val_acc: 0.5233\n",
            "Epoch 20/30\n",
            "898/898 [==============================] - 7s 7ms/step - loss: 0.7691 - acc: 0.5256 - val_loss: 0.6921 - val_acc: 0.5233\n",
            "Epoch 21/30\n",
            "898/898 [==============================] - 7s 7ms/step - loss: 0.7580 - acc: 0.5267 - val_loss: 0.6921 - val_acc: 0.5233\n",
            "Epoch 22/30\n",
            "898/898 [==============================] - 7s 7ms/step - loss: 0.7162 - acc: 0.5267 - val_loss: 0.6921 - val_acc: 0.5233\n",
            "Epoch 23/30\n",
            "898/898 [==============================] - 7s 7ms/step - loss: 0.7245 - acc: 0.5278 - val_loss: 0.6921 - val_acc: 0.5233\n",
            "Epoch 24/30\n",
            "898/898 [==============================] - 7s 7ms/step - loss: 0.7247 - acc: 0.5267 - val_loss: 0.6921 - val_acc: 0.5233\n",
            "Epoch 25/30\n",
            "898/898 [==============================] - 7s 7ms/step - loss: 0.6893 - acc: 0.5301 - val_loss: 0.6921 - val_acc: 0.5233\n",
            "Epoch 26/30\n",
            "898/898 [==============================] - 7s 7ms/step - loss: 0.7522 - acc: 0.5256 - val_loss: 0.6921 - val_acc: 0.5233\n",
            "Epoch 27/30\n",
            "898/898 [==============================] - 7s 7ms/step - loss: 0.7460 - acc: 0.5267 - val_loss: 0.6921 - val_acc: 0.5233\n",
            "Epoch 28/30\n",
            "898/898 [==============================] - 7s 7ms/step - loss: 0.7081 - acc: 0.5278 - val_loss: 0.6921 - val_acc: 0.5233\n",
            "Epoch 29/30\n",
            "898/898 [==============================] - 7s 7ms/step - loss: 0.7080 - acc: 0.5290 - val_loss: 0.6921 - val_acc: 0.5233\n",
            "Epoch 30/30\n",
            "898/898 [==============================] - 7s 7ms/step - loss: 0.7260 - acc: 0.5278 - val_loss: 0.6921 - val_acc: 0.5233\n"
          ],
          "name": "stdout"
        }
      ]
    },
    {
      "cell_type": "code",
      "metadata": {
        "id": "ezjMFqOWYFuK",
        "colab_type": "code",
        "outputId": "2f153442-fdd2-4216-8f7c-2efa3fb4b672",
        "colab": {
          "base_uri": "https://localhost:8080/",
          "height": 340
        }
      },
      "source": [
        "pd.DataFrame(his.history).plot(figsize=(8, 5))"
      ],
      "execution_count": 0,
      "outputs": [
        {
          "output_type": "execute_result",
          "data": {
            "text/plain": [
              "<matplotlib.axes._subplots.AxesSubplot at 0x7f84c4c41dd8>"
            ]
          },
          "metadata": {
            "tags": []
          },
          "execution_count": 198
        },
        {
          "output_type": "display_data",
          "data": {
            "image/png": "[encoded data removed]",
            "text/plain": [
              "<Figure size 576x360 with 1 Axes>"
            ]
          },
          "metadata": {
            "tags": []
          }
        }
      ]
    },
    {
      "cell_type": "code",
      "metadata": {
        "id": "mROhCpmBGrAv",
        "colab_type": "code",
        "colab": {}
      },
      "source": [
        "def run_experiment(X,y):\n",
        "  X_train, X_test, y_train, y_test = train_test_split(X,y)\n",
        "  \n",
        "  model = Sequential([\n",
        "    Flatten(input_shape=[X.shape[1],X.shape[2]]),\n",
        "    Dense(300, activation='relu'),\n",
        "    Dropout(0.5),\n",
        "    Dense(200, activation='relu'),\n",
        "    Dropout(0.5),\n",
        "    Dense(100, activation='relu'),\n",
        "    Dropout(0.5),\n",
        "    Dense(10, activation='relu'),\n",
        "    Dropout(0.5),\n",
        "    Dense(1, activation='sigmoid'),\n",
        "    \n",
        "  ])\n",
        "  \n",
        "  model.compile(loss = 'binary_crossentropy',\n",
        "             optimizer='adam',\n",
        "             metrics=['accuracy'])\n",
        "  \n",
        "  his = model.fit(X, y, epochs=30, batch_size=4, validation_data =(X_test, y_test) )\n",
        "  "
      ],
      "execution_count": 0,
      "outputs": []
    }
  ]
}