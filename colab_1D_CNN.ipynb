{
  "nbformat": 4,
  "nbformat_minor": 0,
  "metadata": {
    "colab": {
      "name": "colab_1D_CNN.ipynb",
      "version": "0.3.2",
      "provenance": [],
      "machine_shape": "hm",
      "include_colab_link": true
    },
    "kernelspec": {
      "name": "python3",
      "display_name": "Python 3"
    },
    "accelerator": "GPU"
  },
  "cells": [
    {
      "cell_type": "markdown",
      "metadata": {
        "id": "view-in-github",
        "colab_type": "text"
      },
      "source": [
        "<a href=\"https://colab.research.google.com/github/alifele/EEG-computation/blob/master/colab_1D_CNN.ipynb\" target=\"_parent\"><img src=\"https://colab.research.google.com/assets/colab-badge.svg\" alt=\"Open In Colab\"/></a>"
      ]
    },
    {
      "cell_type": "code",
      "metadata": {
        "id": "zTqKI4eof9Xj",
        "colab_type": "code",
        "outputId": "8d06b6ac-1566-43db-f626-9fce7f2f06ab",
        "colab": {
          "base_uri": "https://localhost:8080/",
          "height": 34
        }
      },
      "source": [
        "pip install mat4py"
      ],
      "execution_count": 1,
      "outputs": [
        {
          "output_type": "stream",
          "text": [
            "Requirement already satisfied: mat4py in /usr/local/lib/python3.6/dist-packages (0.4.2)\n"
          ],
          "name": "stdout"
        }
      ]
    },
    {
      "cell_type": "code",
      "metadata": {
        "id": "wujjF_FDc_Nn",
        "colab_type": "code",
        "outputId": "f0dd22b8-fd11-4a71-f170-628e78d7db01",
        "colab": {
          "base_uri": "https://localhost:8080/",
          "height": 34
        }
      },
      "source": [
        "import requests\n",
        "import matplotlib.pyplot as plt\n",
        "import numpy as np\n",
        "import pandas as pd\n",
        "import mat4py as mt\n",
        "import os\n",
        "from IPython.display import Image\n",
        "from IPython.core.display import HTML \n",
        "from itertools import combinations\n",
        "from tensorflow import keras\n",
        "from keras.models import Sequential\n",
        "from keras.layers import Flatten, Dense, Conv1D, Dropout, MaxPooling1D\n",
        "from keras.utils import to_categorical\n",
        "from sklearn.utils import shuffle\n",
        "import warnings\n",
        "warnings.filterwarnings('ignore')"
      ],
      "execution_count": 2,
      "outputs": [
        {
          "output_type": "stream",
          "text": [
            "Using TensorFlow backend.\n"
          ],
          "name": "stderr"
        }
      ]
    },
    {
      "cell_type": "code",
      "metadata": {
        "id": "_XJZ0KC8dBV-",
        "colab_type": "code",
        "outputId": "e48999ca-eb48-4445-f863-6afb9ded4948",
        "colab": {
          "base_uri": "https://localhost:8080/",
          "height": 52
        }
      },
      "source": [
        "!git clone https://github.com/alifele/EEG-computation.git\n",
        "%cd EEG-computation"
      ],
      "execution_count": 3,
      "outputs": [
        {
          "output_type": "stream",
          "text": [
            "fatal: destination path 'EEG-computation' already exists and is not an empty directory.\n",
            "/content/EEG-computation\n"
          ],
          "name": "stdout"
        }
      ]
    },
    {
      "cell_type": "code",
      "metadata": {
        "id": "MHOuf2wSdGN0",
        "colab_type": "code",
        "outputId": "55e9edae-7ac2-4310-e1d1-46647aca833d",
        "colab": {
          "base_uri": "https://localhost:8080/",
          "height": 52
        }
      },
      "source": [
        "%ls"
      ],
      "execution_count": 4,
      "outputs": [
        {
          "output_type": "stream",
          "text": [
            " \u001b[0m\u001b[01;32mali\u001b[0m*                \u001b[01;34m'EEG Data'\u001b[0m/        \u001b[01;34mPictures\u001b[0m/    \u001b[01;32mUntitled.ipynb\u001b[0m*\n",
            " colab_1D_CNN.ipynb   \u001b[01;32mMainCode.ipynb\u001b[0m*   \u001b[01;32mREADME.md\u001b[0m*\n"
          ],
          "name": "stdout"
        }
      ]
    },
    {
      "cell_type": "code",
      "metadata": {
        "id": "WRVU1yMYdNQl",
        "colab_type": "code",
        "colab": {}
      },
      "source": [
        "def data_gen():  \n",
        "    disorder_dic = []\n",
        "    directory = os.fsencode('EEG Data/disorder')\n",
        "    for file in os.listdir(directory):\n",
        "        filename = os.fsdecode(file)\n",
        "        disorder_dic.append(np.array(mt.loadmat('EEG Data/disorder/{}'.format(filename))[filename.split('.')[0]]))\n",
        "\n",
        "    channels_disorder = [ [] for i in range(len(disorder_dic))]  #channels[person][channel] it will be a numpy array\n",
        "    j=0;\n",
        "    for person in channels_disorder:\n",
        "        for i in range(19):\n",
        "            person.append(disorder_dic[j][:,i])\n",
        "\n",
        "\n",
        "    normal_dic = []\n",
        "    directory = os.fsencode('EEG Data/normal')\n",
        "    for file in os.listdir(directory):\n",
        "        filename = os.fsdecode(file)\n",
        "        normal_dic.append(np.array(mt.loadmat('EEG Data/normal/{}'.format(filename))[filename.split('.')[0]]))\n",
        "\n",
        "    channels_normal = [ [] for i in range(len(normal_dic))]  #channels[person][channel] it will be a numpy array\n",
        "    j=0;\n",
        "    for person in channels_normal:\n",
        "        for i in range(19):\n",
        "            person.append(normal_dic[j][:,i])\n",
        "\n",
        "    #normal = channels_normal\n",
        "    #disorder = channels_disorder\n",
        "\n",
        "    return channels_normal, channels_disorder"
      ],
      "execution_count": 0,
      "outputs": []
    },
    {
      "cell_type": "code",
      "metadata": {
        "id": "hIAqUaH13Xo2",
        "colab_type": "code",
        "colab": {}
      },
      "source": [
        "def New_Data_Generator_N(normal):\n",
        "    number_of_samples = 45\n",
        "    randlist = (132 * np.random.random(number_of_samples)).astype(int)\n",
        "    new_patients = list(normal[i] for i in randlist)\n",
        "    \n",
        "    index = [ i for i in range(number_of_samples)]\n",
        "    comb = list( combinations(index, 2))\n",
        "    new_data = [[] for i in range(len(comb))]\n",
        "    person = 0\n",
        "    for x,y in comb:\n",
        "        for chan in range(19):\n",
        "            new_data[person].append((new_patients[x][chan] + new_patients[y][chan] )/2)\n",
        "        normal.append(new_data[person])\n",
        "        person += 1\n",
        "    \n",
        "    return np.array(normal)\n",
        "\n",
        "    \n",
        "def New_Data_Generator_D(disorder):\n",
        "    number_of_samples = 45\n",
        "    randlist = (196 * np.random.random(number_of_samples)).astype(int)\n",
        "    new_patients = list(disorder[i] for i in randlist)\n",
        "    \n",
        "    index = [ i for i in range(number_of_samples)]\n",
        "    comb = list( combinations(index, 2))\n",
        "    new_data = [[] for i in range(len(comb))]\n",
        "    person = 0\n",
        "    for x,y in comb:\n",
        "        for chan in range(19):\n",
        "            new_data[person].append((new_patients[x][chan] + new_patients[y][chan] )/2)\n",
        "        disorder.append(new_data[person])\n",
        "        person += 1\n",
        "    \n",
        "    return np.array(disorder)\n"
      ],
      "execution_count": 0,
      "outputs": []
    },
    {
      "cell_type": "code",
      "metadata": {
        "id": "pOD0nawG3fZf",
        "colab_type": "code",
        "colab": {}
      },
      "source": [
        "normal_list, disorder_list = data_gen()\n"
      ],
      "execution_count": 0,
      "outputs": []
    },
    {
      "cell_type": "code",
      "metadata": {
        "id": "VqUqAdh-3aD2",
        "colab_type": "code",
        "colab": {}
      },
      "source": [
        "n_D, n_N = len(disorder_list), len(normal_list)"
      ],
      "execution_count": 0,
      "outputs": []
    },
    {
      "cell_type": "code",
      "metadata": {
        "id": "G__rUSod6bKC",
        "colab_type": "code",
        "colab": {}
      },
      "source": [
        "#normal = New_Data_Generator_N(normal_list)\n",
        "#disorder = New_Data_Generator_D(disorder_list)"
      ],
      "execution_count": 0,
      "outputs": []
    },
    {
      "cell_type": "code",
      "metadata": {
        "id": "yguadPlteJue",
        "colab_type": "code",
        "colab": {}
      },
      "source": [
        "# the output of this function is the full data matrix and the target\n",
        "#\n",
        "def data_shaper(normal, disorder):\n",
        "  # 0 is the disorder and the 1 is the normal\n",
        "  n_N, n_D, channels, data = normal.shape[0], disorder.shape[0], normal.shape[1], normal.shape[2] \n",
        "  target = np.vstack((np.ones((n_N,1)),np.zeros((n_D,1))))\n",
        "  data = np.zeros((n_N + n_D, data, channels))\n",
        "  n=0\n",
        "  d=0\n",
        "  i=0\n",
        "\n",
        "\n",
        "\n",
        "  for i in range(n_N + n_D):\n",
        "\n",
        "    if i < n_N :  # for the normal patients\n",
        "        data[i] = normal[n].T\n",
        "        target[i] = 1\n",
        "        n +=1\n",
        "        i +=1\n",
        "        #print('n={}'.format(n))\n",
        "    else:  # for the disorder patients\n",
        "        data[i] = disorder[d].T\n",
        "        target[i] = 0\n",
        "        d+=1\n",
        "        i+=1\n",
        "        #print('d={}'.format(d))\n",
        "\n",
        "\n",
        "\n",
        "\n",
        "\n",
        "  data, target = shuffle(data, target)\n",
        "  ddata = np.zeros\n",
        "\n",
        "\n",
        "            \n",
        "  return data, target\n",
        "    "
      ],
      "execution_count": 0,
      "outputs": []
    },
    {
      "cell_type": "code",
      "metadata": {
        "id": "33IZx_3Wedsh",
        "colab_type": "code",
        "colab": {}
      },
      "source": [
        "data , target = data_shaper( New_Data_Generator_N(normal_list), New_Data_Generator_D(disorder_list))"
      ],
      "execution_count": 0,
      "outputs": []
    },
    {
      "cell_type": "code",
      "metadata": {
        "id": "3sqBgwWf5yQF",
        "colab_type": "code",
        "colab": {
          "base_uri": "https://localhost:8080/",
          "height": 34
        },
        "outputId": "8a4a5ddb-a029-41fb-ad44-8a0dba24eef6"
      },
      "source": [
        "data.shape"
      ],
      "execution_count": 12,
      "outputs": [
        {
          "output_type": "execute_result",
          "data": {
            "text/plain": [
              "(2308, 15360, 19)"
            ]
          },
          "metadata": {
            "tags": []
          },
          "execution_count": 12
        }
      ]
    },
    {
      "cell_type": "code",
      "metadata": {
        "id": "3Rt6eFLCh0jG",
        "colab_type": "code",
        "colab": {}
      },
      "source": [
        "model = Sequential([\n",
        "    Conv1D(filters=5, kernel_size=300, activation='relu', input_shape=(15360, 19)),\n",
        "    MaxPooling1D(pool_size=14),\n",
        "    Conv1D(filters=4, kernel_size=70, activation='relu'),\n",
        "    MaxPooling1D(pool_size=7),\n",
        "    Conv1D(filters=4, kernel_size=50, activation='relu'),\n",
        "    \n",
        "    Flatten(),\n",
        "    Dense(100, activation='relu'),\n",
        "    Dense(10, activation='relu'),\n",
        "    Dense(5, activation='relu'),\n",
        "    Dense(1, activation='sigmoid'),\n",
        "    \n",
        "    \n",
        "])"
      ],
      "execution_count": 0,
      "outputs": []
    },
    {
      "cell_type": "code",
      "metadata": {
        "id": "ZabGbnTnh3y_",
        "colab_type": "code",
        "colab": {}
      },
      "source": [
        "model.compile(loss='binary_crossentropy',\n",
        "             optimizer='adam',\n",
        "             metrics=['accuracy'])"
      ],
      "execution_count": 0,
      "outputs": []
    },
    {
      "cell_type": "code",
      "metadata": {
        "id": "eX05v9Lh110L",
        "colab_type": "code",
        "outputId": "0a7d7736-a8a6-4ba6-ec19-886508bbe184",
        "colab": {
          "base_uri": "https://localhost:8080/",
          "height": 503
        }
      },
      "source": [
        "import warnings\n",
        "warnings.filterwarnings('ignore')model.summary()"
      ],
      "execution_count": 28,
      "outputs": [
        {
          "output_type": "stream",
          "text": [
            "Model: \"sequential_3\"\n",
            "_________________________________________________________________\n",
            "Layer (type)                 Output Shape              Param #   \n",
            "=================================================================\n",
            "conv1d_7 (Conv1D)            (None, 15061, 5)          28505     \n",
            "_________________________________________________________________\n",
            "max_pooling1d_7 (MaxPooling1 (None, 1075, 5)           0         \n",
            "_________________________________________________________________\n",
            "conv1d_8 (Conv1D)            (None, 1006, 4)           1404      \n",
            "_________________________________________________________________\n",
            "max_pooling1d_8 (MaxPooling1 (None, 143, 4)            0         \n",
            "_________________________________________________________________\n",
            "conv1d_9 (Conv1D)            (None, 94, 4)             804       \n",
            "_________________________________________________________________\n",
            "flatten_3 (Flatten)          (None, 376)               0         \n",
            "_________________________________________________________________\n",
            "dense_9 (Dense)              (None, 100)               37700     \n",
            "_________________________________________________________________\n",
            "dense_10 (Dense)             (None, 10)                1010      \n",
            "_________________________________________________________________\n",
            "dense_11 (Dense)             (None, 5)                 55        \n",
            "_________________________________________________________________\n",
            "dense_12 (Dense)             (None, 1)                 6         \n",
            "=================================================================\n",
            "Total params: 69,484\n",
            "Trainable params: 69,484\n",
            "Non-trainable params: 0\n",
            "_________________________________________________________________\n"
          ],
          "name": "stdout"
        }
      ]
    },
    {
      "cell_type": "code",
      "metadata": {
        "id": "SOFwayfY8kOo",
        "colab_type": "code",
        "colab": {
          "base_uri": "https://localhost:8080/",
          "height": 139
        },
        "outputId": "64d58158-f4b7-4f85-fa88-30612fbde184"
      },
      "source": [
        "target"
      ],
      "execution_count": 29,
      "outputs": [
        {
          "output_type": "execute_result",
          "data": {
            "text/plain": [
              "array([[0.],\n",
              "       [1.],\n",
              "       [0.],\n",
              "       ...,\n",
              "       [0.],\n",
              "       [0.],\n",
              "       [1.]])"
            ]
          },
          "metadata": {
            "tags": []
          },
          "execution_count": 29
        }
      ]
    },
    {
      "cell_type": "code",
      "metadata": {
        "id": "SXf-Azjvh8AF",
        "colab_type": "code",
        "outputId": "dd9e0471-ab1b-4fe8-b55a-b0b1a75dc7e3",
        "colab": {
          "base_uri": "https://localhost:8080/",
          "height": 260
        }
      },
      "source": [
        "\n",
        "his = model.fit(data, target, epochs=10, batch_size=3)"
      ],
      "execution_count": 0,
      "outputs": [
        {
          "output_type": "stream",
          "text": [
            "Epoch 1/10\n",
            "2308/2308 [==============================] - 13s 6ms/step - loss: 8.1922 - acc: 0.4861\n",
            "Epoch 2/10\n",
            "2308/2308 [==============================] - 13s 6ms/step - loss: 8.1922 - acc: 0.4861\n",
            "Epoch 3/10\n",
            "2308/2308 [==============================] - 13s 6ms/step - loss: 8.1922 - acc: 0.4861\n",
            "Epoch 4/10\n",
            "2308/2308 [==============================] - 13s 6ms/step - loss: 8.1922 - acc: 0.4861\n",
            "Epoch 5/10\n",
            "2308/2308 [==============================] - 13s 5ms/step - loss: 8.1922 - acc: 0.4861\n",
            "Epoch 6/10\n",
            "2308/2308 [==============================] - 13s 5ms/step - loss: 8.1922 - acc: 0.4861\n",
            "Epoch 7/10\n",
            "2308/2308 [==============================] - 13s 5ms/step - loss: 8.1922 - acc: 0.4861\n",
            "Epoch 8/10\n",
            "  81/2308 [>.............................] - ETA: 12s - loss: 7.6760 - acc: 0.5185"
          ],
          "name": "stdout"
        }
      ]
    },
    {
      "cell_type": "code",
      "metadata": {
        "id": "MW2ObAV7iJrY",
        "colab_type": "code",
        "colab": {}
      },
      "source": [
        "x = np.arange(10)\n",
        "shuffle(x)"
      ],
      "execution_count": 0,
      "outputs": []
    },
    {
      "cell_type": "code",
      "metadata": {
        "id": "8bwi6Dm1pyic",
        "colab_type": "code",
        "colab": {}
      },
      "source": [
        "model.summary()"
      ],
      "execution_count": 0,
      "outputs": []
    },
    {
      "cell_type": "code",
      "metadata": {
        "id": "KHwWdM8npzX1",
        "colab_type": "code",
        "colab": {}
      },
      "source": [
        "ind= shuffle(np.arange(132*2))"
      ],
      "execution_count": 0,
      "outputs": []
    },
    {
      "cell_type": "code",
      "metadata": {
        "id": "EH4_c7e3qSRH",
        "colab_type": "code",
        "colab": {}
      },
      "source": [
        "index = np.arange(132*2)"
      ],
      "execution_count": 0,
      "outputs": []
    },
    {
      "cell_type": "code",
      "metadata": {
        "id": "sAIIYkHzqS7M",
        "colab_type": "code",
        "colab": {}
      },
      "source": [
        "ind = shuffle(index)"
      ],
      "execution_count": 0,
      "outputs": []
    },
    {
      "cell_type": "code",
      "metadata": {
        "id": "AgsCgIEWqlGg",
        "colab_type": "code",
        "colab": {}
      },
      "source": [
        "ind"
      ],
      "execution_count": 0,
      "outputs": []
    },
    {
      "cell_type": "code",
      "metadata": {
        "id": "aKMkDACKsuT7",
        "colab_type": "code",
        "colab": {}
      },
      "source": [
        "np.random.shuffle([1,2,3])"
      ],
      "execution_count": 0,
      "outputs": []
    },
    {
      "cell_type": "code",
      "metadata": {
        "id": "UncOjt_os2WV",
        "colab_type": "code",
        "colab": {}
      },
      "source": [
        "a = [1,2,3,4,5,6]\n",
        "t = [2,3,1,2,3,4]\n",
        "a,b = shuffle(a,t)"
      ],
      "execution_count": 0,
      "outputs": []
    },
    {
      "cell_type": "code",
      "metadata": {
        "id": "F37wFXV-tmRF",
        "colab_type": "code",
        "colab": {}
      },
      "source": [
        "normal.shape"
      ],
      "execution_count": 0,
      "outputs": []
    },
    {
      "cell_type": "code",
      "metadata": {
        "id": "8wxw_O3y6UuN",
        "colab_type": "code",
        "colab": {}
      },
      "source": [
        "a = np.random.random((4,6,5))\n",
        "b = np.random.random((8,6,5))"
      ],
      "execution_count": 0,
      "outputs": []
    },
    {
      "cell_type": "code",
      "metadata": {
        "id": "cHo6FReLFjXJ",
        "colab_type": "code",
        "colab": {}
      },
      "source": [
        "a.shape"
      ],
      "execution_count": 0,
      "outputs": []
    },
    {
      "cell_type": "code",
      "metadata": {
        "id": "fVJrD7D9FlAW",
        "colab_type": "code",
        "colab": {}
      },
      "source": [
        "b.shape"
      ],
      "execution_count": 0,
      "outputs": []
    },
    {
      "cell_type": "code",
      "metadata": {
        "id": "xZFnlzbXFlh8",
        "colab_type": "code",
        "colab": {}
      },
      "source": [
        "c = np.vstack((a,b))"
      ],
      "execution_count": 0,
      "outputs": []
    },
    {
      "cell_type": "code",
      "metadata": {
        "id": "TFUo_qY7Fqjb",
        "colab_type": "code",
        "colab": {}
      },
      "source": [
        "c.shape"
      ],
      "execution_count": 0,
      "outputs": []
    },
    {
      "cell_type": "code",
      "metadata": {
        "id": "jOl9rmhaF4d0",
        "colab_type": "code",
        "colab": {}
      },
      "source": [
        "help(data_shaper)"
      ],
      "execution_count": 0,
      "outputs": []
    },
    {
      "cell_type": "code",
      "metadata": {
        "id": "WQPCxRfSG3m7",
        "colab_type": "code",
        "colab": {}
      },
      "source": [
        ""
      ],
      "execution_count": 0,
      "outputs": []
    }
  ]
}