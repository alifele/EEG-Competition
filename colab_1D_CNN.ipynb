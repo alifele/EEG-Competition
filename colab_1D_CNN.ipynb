{
  "nbformat": 4,
  "nbformat_minor": 0,
  "metadata": {
    "colab": {
      "name": "colab 1D CNN.ipynb",
      "version": "0.3.2",
      "provenance": [],
      "machine_shape": "hm",
      "include_colab_link": true
    },
    "kernelspec": {
      "name": "python3",
      "display_name": "Python 3"
    },
    "accelerator": "GPU"
  },
  "cells": [
    {
      "cell_type": "markdown",
      "metadata": {
        "id": "view-in-github",
        "colab_type": "text"
      },
      "source": [
        "<a href=\"https://colab.research.google.com/github/alifele/EEG-computation/blob/master/colab_1D_CNN.ipynb\" target=\"_parent\"><img src=\"https://colab.research.google.com/assets/colab-badge.svg\" alt=\"Open In Colab\"/></a>"
      ]
    },
    {
      "cell_type": "code",
      "metadata": {
        "id": "zTqKI4eof9Xj",
        "colab_type": "code",
        "colab": {
          "base_uri": "https://localhost:8080/",
          "height": 34
        },
        "outputId": "1bbe6b17-f767-4a9d-d8af-92490234dcb5"
      },
      "source": [
        "pip install mat4py"
      ],
      "execution_count": 1,
      "outputs": [
        {
          "output_type": "stream",
          "text": [
            "Requirement already satisfied: mat4py in /usr/local/lib/python3.6/dist-packages (0.4.2)\n"
          ],
          "name": "stdout"
        }
      ]
    },
    {
      "cell_type": "code",
      "metadata": {
        "id": "wujjF_FDc_Nn",
        "colab_type": "code",
        "colab": {
          "base_uri": "https://localhost:8080/",
          "height": 34
        },
        "outputId": "7ba4ee80-90f7-47c2-ec62-79b39c98a73e"
      },
      "source": [
        "import requests\n",
        "import matplotlib.pyplot as plt\n",
        "import numpy as np\n",
        "import pandas as pd\n",
        "import mat4py as mt\n",
        "import os\n",
        "from IPython.display import Image\n",
        "from IPython.core.display import HTML \n",
        "from itertools import combinations\n",
        "from tensorflow import keras\n",
        "from keras.models import Sequential\n",
        "from keras.layers import Flatten, Dense, Conv1D, Dropout, MaxPooling1D\n",
        "from keras.utils import to_categorical\n",
        "from sklearn.utils import shuffle"
      ],
      "execution_count": 2,
      "outputs": [
        {
          "output_type": "stream",
          "text": [
            "Using TensorFlow backend.\n"
          ],
          "name": "stderr"
        }
      ]
    },
    {
      "cell_type": "code",
      "metadata": {
        "id": "_XJZ0KC8dBV-",
        "colab_type": "code",
        "colab": {
          "base_uri": "https://localhost:8080/",
          "height": 52
        },
        "outputId": "f5023de7-3fb3-4d6f-b6d4-98733932a3c3"
      },
      "source": [
        "!git clone https://github.com/alifele/EEG-computation.git\n",
        "%cd EEG-computation"
      ],
      "execution_count": 3,
      "outputs": [
        {
          "output_type": "stream",
          "text": [
            "fatal: destination path 'EEG-computation' already exists and is not an empty directory.\n",
            "/content/EEG-computation\n"
          ],
          "name": "stdout"
        }
      ]
    },
    {
      "cell_type": "code",
      "metadata": {
        "id": "MHOuf2wSdGN0",
        "colab_type": "code",
        "colab": {
          "base_uri": "https://localhost:8080/",
          "height": 34
        },
        "outputId": "25e9b101-a2f1-4b41-c5be-7ac8e523111c"
      },
      "source": [
        "%ls"
      ],
      "execution_count": 4,
      "outputs": [
        {
          "output_type": "stream",
          "text": [
            " \u001b[0m\u001b[01;32mali\u001b[0m*  \u001b[01;34m'EEG Data'\u001b[0m/   \u001b[01;32mMainCode.ipynb\u001b[0m*   \u001b[01;34mPictures\u001b[0m/   \u001b[01;32mREADME.md\u001b[0m*   \u001b[01;32mUntitled.ipynb\u001b[0m*\n"
          ],
          "name": "stdout"
        }
      ]
    },
    {
      "cell_type": "code",
      "metadata": {
        "id": "WRVU1yMYdNQl",
        "colab_type": "code",
        "colab": {}
      },
      "source": [
        "def data_gen():  \n",
        "    disorder_dic = []\n",
        "    directory = os.fsencode('EEG Data/disorder')\n",
        "    for file in os.listdir(directory):\n",
        "        filename = os.fsdecode(file)\n",
        "        disorder_dic.append(np.array(mt.loadmat('EEG Data/disorder/{}'.format(filename))[filename.split('.')[0]]))\n",
        "\n",
        "    channels_disorder = [ [] for i in range(len(disorder_dic))]  #channels[person][channel] it will be a numpy array\n",
        "    j=0;\n",
        "    for person in channels_disorder:\n",
        "        for i in range(19):\n",
        "            person.append(disorder_dic[j][:,i])\n",
        "\n",
        "\n",
        "    normal_dic = []\n",
        "    directory = os.fsencode('EEG Data/normal')\n",
        "    for file in os.listdir(directory):\n",
        "        filename = os.fsdecode(file)\n",
        "        normal_dic.append(np.array(mt.loadmat('EEG Data/normal/{}'.format(filename))[filename.split('.')[0]]))\n",
        "\n",
        "    channels_normal = [ [] for i in range(len(normal_dic))]  #channels[person][channel] it will be a numpy array\n",
        "    j=0;\n",
        "    for person in channels_normal:\n",
        "        for i in range(19):\n",
        "            person.append(normal_dic[j][:,i])\n",
        "\n",
        "    #normal = channels_normal\n",
        "    #disorder = channels_disorder\n",
        "\n",
        "    return channels_normal, channels_disorder"
      ],
      "execution_count": 0,
      "outputs": []
    },
    {
      "cell_type": "code",
      "metadata": {
        "id": "hIAqUaH13Xo2",
        "colab_type": "code",
        "colab": {}
      },
      "source": [
        "def New_Data_Generator_N(normal):\n",
        "    number_of_samples = 45\n",
        "    randlist = (132 * np.random.random(number_of_samples)).astype(int)\n",
        "    new_patients = list(normal[i] for i in randlist)\n",
        "    \n",
        "    index = [ i for i in range(number_of_samples)]\n",
        "    comb = list( combinations(index, 2))\n",
        "    new_data = [[] for i in range(len(comb))]\n",
        "    person = 0\n",
        "    for x,y in comb:\n",
        "        for chan in range(19):\n",
        "            new_data[person].append((new_patients[x][chan] + new_patients[y][chan] )/2)\n",
        "        normal.append(new_data[person])\n",
        "        person += 1\n",
        "    \n",
        "    return np.array(normal)\n",
        "\n",
        "    \n",
        "def New_Data_Generator_D(disorder):\n",
        "    number_of_samples = 45\n",
        "    randlist = (132 * np.random.random(number_of_samples)).astype(int)\n",
        "    new_patients = list(disorder[i] for i in randlist)\n",
        "    \n",
        "    index = [ i for i in range(number_of_samples)]\n",
        "    comb = list( combinations(index, 2))\n",
        "    new_data = [[] for i in range(len(comb))]\n",
        "    person = 0\n",
        "    for x,y in comb:\n",
        "        for chan in range(19):\n",
        "            new_data[person].append((new_patients[x][chan] + new_patients[y][chan] )/2)\n",
        "        disorder.append(new_data[person])\n",
        "        person += 1\n",
        "    \n",
        "    return np.array(disorder)\n"
      ],
      "execution_count": 0,
      "outputs": []
    },
    {
      "cell_type": "code",
      "metadata": {
        "id": "pOD0nawG3fZf",
        "colab_type": "code",
        "colab": {}
      },
      "source": [
        "normal_list, disorder_list = data_gen()\n"
      ],
      "execution_count": 0,
      "outputs": []
    },
    {
      "cell_type": "code",
      "metadata": {
        "id": "G__rUSod6bKC",
        "colab_type": "code",
        "colab": {}
      },
      "source": [
        "normal = New_Data_Generator_N(normal_list)\n",
        "disorder = New_Data_Generator_D(disorder_list)"
      ],
      "execution_count": 0,
      "outputs": []
    },
    {
      "cell_type": "code",
      "metadata": {
        "id": "DA_A4HVs6alw",
        "colab_type": "code",
        "colab": {
          "base_uri": "https://localhost:8080/",
          "height": 34
        },
        "outputId": "f41a4db1-24e7-434c-b0b9-2c5860fe066f"
      },
      "source": [
        "normal.shape"
      ],
      "execution_count": 9,
      "outputs": [
        {
          "output_type": "execute_result",
          "data": {
            "text/plain": [
              "(1122, 19, 15360)"
            ]
          },
          "metadata": {
            "tags": []
          },
          "execution_count": 9
        }
      ]
    },
    {
      "cell_type": "code",
      "metadata": {
        "id": "yguadPlteJue",
        "colab_type": "code",
        "colab": {}
      },
      "source": [
        "# the output of this function is the full data matrix and the target\n",
        "#\n",
        "def data_shaper(normal, disorder):\n",
        "    # 0 is the disorder and the 1 is the normal\n",
        "    subjects, channels, data = normal.shape[0], normal.shape[1], normal.shape[2] \n",
        "    target = np.vstack((np.ones((subjects,1)),np.zeros((subjects,1))))\n",
        "    #data = np.zeros((2*subjects, data, channels))\n",
        "    n=0\n",
        "    d=0\n",
        "    i=0\n",
        "    \n",
        "    \n",
        "    data = np.vstack((normal, disorder))\n",
        "    \n",
        "    '''\n",
        "    while (n != subjects or d != subjects) :\n",
        "        rand = np.random.random()\n",
        "        \n",
        "        if rand < 0.5 and n !=subjects :  # for the normal patients\n",
        "            data[i] = normal[n].T\n",
        "            target[i] = 1\n",
        "            n +=1\n",
        "            i +=1\n",
        "            #print('n={}'.format(n))\n",
        "        if rand >= 0.5 and d !=subjects :  # for the disorder patients\n",
        "            data[i] = disorder[d].T\n",
        "            target[i] = 0\n",
        "            d+=1\n",
        "            i+=1\n",
        "            #print('d={}'.format(d))\n",
        "            \n",
        "    '''\n",
        "            \n",
        "    index = shuffle(np.arange(2*subjects))\n",
        "    \n",
        "    data, target = shuffle(data, target)\n",
        "    \n",
        "            \n",
        "    return data, to_categorical(target)\n",
        "    "
      ],
      "execution_count": 0,
      "outputs": []
    },
    {
      "cell_type": "code",
      "metadata": {
        "id": "33IZx_3Wedsh",
        "colab_type": "code",
        "colab": {}
      },
      "source": [
        "data , target = data_shaper(normal, disorder)"
      ],
      "execution_count": 0,
      "outputs": []
    },
    {
      "cell_type": "code",
      "metadata": {
        "id": "3Rt6eFLCh0jG",
        "colab_type": "code",
        "colab": {}
      },
      "source": [
        "model = Sequential([\n",
        "    Conv1D(filters=5, kernel_size=21, activation='relu', input_shape=(15360, 19)),\n",
        "    MaxPooling1D(pool_size=7),\n",
        "    Conv1D(filters=4, kernel_size=7, activation='relu', input_shape=(15360, 19)),\n",
        "    MaxPooling1D(pool_size=7),\n",
        "    Flatten(),\n",
        "    Dense(100, activation='relu'),\n",
        "    Dense(10, activation='relu'),\n",
        "    Dense(5, activation='relu'),\n",
        "    Dense(2, activation='softmax'),\n",
        "    \n",
        "    \n",
        "])"
      ],
      "execution_count": 0,
      "outputs": []
    },
    {
      "cell_type": "code",
      "metadata": {
        "id": "ZabGbnTnh3y_",
        "colab_type": "code",
        "colab": {}
      },
      "source": [
        "model.compile(loss='categorical_crossentropy',\n",
        "             optimizer='adam',\n",
        "             metrics=['accuracy'])"
      ],
      "execution_count": 0,
      "outputs": []
    },
    {
      "cell_type": "code",
      "metadata": {
        "id": "eX05v9Lh110L",
        "colab_type": "code",
        "colab": {
          "base_uri": "https://localhost:8080/",
          "height": 469
        },
        "outputId": "33020354-cbb1-4d65-a757-f040e75b804e"
      },
      "source": [
        "model.summary()"
      ],
      "execution_count": 39,
      "outputs": [
        {
          "output_type": "stream",
          "text": [
            "Model: \"sequential_5\"\n",
            "_________________________________________________________________\n",
            "Layer (type)                 Output Shape              Param #   \n",
            "=================================================================\n",
            "conv1d_9 (Conv1D)            (None, 15340, 5)          2000      \n",
            "_________________________________________________________________\n",
            "max_pooling1d_9 (MaxPooling1 (None, 2191, 5)           0         \n",
            "_________________________________________________________________\n",
            "conv1d_10 (Conv1D)           (None, 2185, 4)           144       \n",
            "_________________________________________________________________\n",
            "max_pooling1d_10 (MaxPooling (None, 312, 4)            0         \n",
            "_________________________________________________________________\n",
            "flatten_5 (Flatten)          (None, 1248)              0         \n",
            "_________________________________________________________________\n",
            "dense_15 (Dense)             (None, 100)               124900    \n",
            "_________________________________________________________________\n",
            "dense_16 (Dense)             (None, 10)                1010      \n",
            "_________________________________________________________________\n",
            "dense_17 (Dense)             (None, 5)                 55        \n",
            "_________________________________________________________________\n",
            "dense_18 (Dense)             (None, 2)                 12        \n",
            "=================================================================\n",
            "Total params: 128,121\n",
            "Trainable params: 128,121\n",
            "Non-trainable params: 0\n",
            "_________________________________________________________________\n"
          ],
          "name": "stdout"
        }
      ]
    },
    {
      "cell_type": "code",
      "metadata": {
        "id": "SXf-Azjvh8AF",
        "colab_type": "code",
        "colab": {
          "base_uri": "https://localhost:8080/",
          "height": 365
        },
        "outputId": "6b376025-4501-4e81-f60d-dd670742c26c"
      },
      "source": [
        "\n",
        "his = model.fit(data, target, epochs=10, batch_size=1)"
      ],
      "execution_count": 40,
      "outputs": [
        {
          "output_type": "stream",
          "text": [
            "Epoch 1/10\n",
            "1271/2244 [===============>..............] - ETA: 13s - loss: 7.8625 - acc: 0.5122"
          ],
          "name": "stdout"
        },
        {
          "output_type": "error",
          "ename": "KeyboardInterrupt",
          "evalue": "ignored",
          "traceback": [
            "\u001b[0;31m---------------------------------------------------------------------------\u001b[0m",
            "\u001b[0;31mKeyboardInterrupt\u001b[0m                         Traceback (most recent call last)",
            "\u001b[0;32m<ipython-input-40-fbecf133762f>\u001b[0m in \u001b[0;36m<module>\u001b[0;34m()\u001b[0m\n\u001b[1;32m      1\u001b[0m \u001b[0;34m\u001b[0m\u001b[0m\n\u001b[0;32m----> 2\u001b[0;31m \u001b[0mhis\u001b[0m \u001b[0;34m=\u001b[0m \u001b[0mmodel\u001b[0m\u001b[0;34m.\u001b[0m\u001b[0mfit\u001b[0m\u001b[0;34m(\u001b[0m\u001b[0mdata\u001b[0m\u001b[0;34m,\u001b[0m \u001b[0mtarget\u001b[0m\u001b[0;34m,\u001b[0m \u001b[0mepochs\u001b[0m\u001b[0;34m=\u001b[0m\u001b[0;36m10\u001b[0m\u001b[0;34m,\u001b[0m \u001b[0mbatch_size\u001b[0m\u001b[0;34m=\u001b[0m\u001b[0;36m1\u001b[0m\u001b[0;34m)\u001b[0m\u001b[0;34m\u001b[0m\u001b[0;34m\u001b[0m\u001b[0m\n\u001b[0m",
            "\u001b[0;32m/usr/local/lib/python3.6/dist-packages/keras/engine/training.py\u001b[0m in \u001b[0;36mfit\u001b[0;34m(self, x, y, batch_size, epochs, verbose, callbacks, validation_split, validation_data, shuffle, class_weight, sample_weight, initial_epoch, steps_per_epoch, validation_steps, validation_freq, max_queue_size, workers, use_multiprocessing, **kwargs)\u001b[0m\n\u001b[1;32m   1176\u001b[0m                                         \u001b[0msteps_per_epoch\u001b[0m\u001b[0;34m=\u001b[0m\u001b[0msteps_per_epoch\u001b[0m\u001b[0;34m,\u001b[0m\u001b[0;34m\u001b[0m\u001b[0;34m\u001b[0m\u001b[0m\n\u001b[1;32m   1177\u001b[0m                                         \u001b[0mvalidation_steps\u001b[0m\u001b[0;34m=\u001b[0m\u001b[0mvalidation_steps\u001b[0m\u001b[0;34m,\u001b[0m\u001b[0;34m\u001b[0m\u001b[0;34m\u001b[0m\u001b[0m\n\u001b[0;32m-> 1178\u001b[0;31m                                         validation_freq=validation_freq)\n\u001b[0m\u001b[1;32m   1179\u001b[0m \u001b[0;34m\u001b[0m\u001b[0m\n\u001b[1;32m   1180\u001b[0m     def evaluate(self,\n",
            "\u001b[0;32m/usr/local/lib/python3.6/dist-packages/keras/engine/training_arrays.py\u001b[0m in \u001b[0;36mfit_loop\u001b[0;34m(model, fit_function, fit_inputs, out_labels, batch_size, epochs, verbose, callbacks, val_function, val_inputs, shuffle, callback_metrics, initial_epoch, steps_per_epoch, validation_steps, validation_freq)\u001b[0m\n\u001b[1;32m    202\u001b[0m                     \u001b[0mins_batch\u001b[0m\u001b[0;34m[\u001b[0m\u001b[0mi\u001b[0m\u001b[0;34m]\u001b[0m \u001b[0;34m=\u001b[0m \u001b[0mins_batch\u001b[0m\u001b[0;34m[\u001b[0m\u001b[0mi\u001b[0m\u001b[0;34m]\u001b[0m\u001b[0;34m.\u001b[0m\u001b[0mtoarray\u001b[0m\u001b[0;34m(\u001b[0m\u001b[0;34m)\u001b[0m\u001b[0;34m\u001b[0m\u001b[0;34m\u001b[0m\u001b[0m\n\u001b[1;32m    203\u001b[0m \u001b[0;34m\u001b[0m\u001b[0m\n\u001b[0;32m--> 204\u001b[0;31m                 \u001b[0mouts\u001b[0m \u001b[0;34m=\u001b[0m \u001b[0mfit_function\u001b[0m\u001b[0;34m(\u001b[0m\u001b[0mins_batch\u001b[0m\u001b[0;34m)\u001b[0m\u001b[0;34m\u001b[0m\u001b[0;34m\u001b[0m\u001b[0m\n\u001b[0m\u001b[1;32m    205\u001b[0m                 \u001b[0mouts\u001b[0m \u001b[0;34m=\u001b[0m \u001b[0mto_list\u001b[0m\u001b[0;34m(\u001b[0m\u001b[0mouts\u001b[0m\u001b[0;34m)\u001b[0m\u001b[0;34m\u001b[0m\u001b[0;34m\u001b[0m\u001b[0m\n\u001b[1;32m    206\u001b[0m                 \u001b[0;32mfor\u001b[0m \u001b[0ml\u001b[0m\u001b[0;34m,\u001b[0m \u001b[0mo\u001b[0m \u001b[0;32min\u001b[0m \u001b[0mzip\u001b[0m\u001b[0;34m(\u001b[0m\u001b[0mout_labels\u001b[0m\u001b[0;34m,\u001b[0m \u001b[0mouts\u001b[0m\u001b[0;34m)\u001b[0m\u001b[0;34m:\u001b[0m\u001b[0;34m\u001b[0m\u001b[0;34m\u001b[0m\u001b[0m\n",
            "\u001b[0;32m/usr/local/lib/python3.6/dist-packages/keras/backend/tensorflow_backend.py\u001b[0m in \u001b[0;36m__call__\u001b[0;34m(self, inputs)\u001b[0m\n\u001b[1;32m   2977\u001b[0m                     \u001b[0;32mreturn\u001b[0m \u001b[0mself\u001b[0m\u001b[0;34m.\u001b[0m\u001b[0m_legacy_call\u001b[0m\u001b[0;34m(\u001b[0m\u001b[0minputs\u001b[0m\u001b[0;34m)\u001b[0m\u001b[0;34m\u001b[0m\u001b[0;34m\u001b[0m\u001b[0m\n\u001b[1;32m   2978\u001b[0m \u001b[0;34m\u001b[0m\u001b[0m\n\u001b[0;32m-> 2979\u001b[0;31m             \u001b[0;32mreturn\u001b[0m \u001b[0mself\u001b[0m\u001b[0;34m.\u001b[0m\u001b[0m_call\u001b[0m\u001b[0;34m(\u001b[0m\u001b[0minputs\u001b[0m\u001b[0;34m)\u001b[0m\u001b[0;34m\u001b[0m\u001b[0;34m\u001b[0m\u001b[0m\n\u001b[0m\u001b[1;32m   2980\u001b[0m         \u001b[0;32melse\u001b[0m\u001b[0;34m:\u001b[0m\u001b[0;34m\u001b[0m\u001b[0;34m\u001b[0m\u001b[0m\n\u001b[1;32m   2981\u001b[0m             \u001b[0;32mif\u001b[0m \u001b[0mpy_any\u001b[0m\u001b[0;34m(\u001b[0m\u001b[0mis_tensor\u001b[0m\u001b[0;34m(\u001b[0m\u001b[0mx\u001b[0m\u001b[0;34m)\u001b[0m \u001b[0;32mfor\u001b[0m \u001b[0mx\u001b[0m \u001b[0;32min\u001b[0m \u001b[0minputs\u001b[0m\u001b[0;34m)\u001b[0m\u001b[0;34m:\u001b[0m\u001b[0;34m\u001b[0m\u001b[0;34m\u001b[0m\u001b[0m\n",
            "\u001b[0;32m/usr/local/lib/python3.6/dist-packages/keras/backend/tensorflow_backend.py\u001b[0m in \u001b[0;36m_call\u001b[0;34m(self, inputs)\u001b[0m\n\u001b[1;32m   2935\u001b[0m             \u001b[0mfetched\u001b[0m \u001b[0;34m=\u001b[0m \u001b[0mself\u001b[0m\u001b[0;34m.\u001b[0m\u001b[0m_callable_fn\u001b[0m\u001b[0;34m(\u001b[0m\u001b[0;34m*\u001b[0m\u001b[0marray_vals\u001b[0m\u001b[0;34m,\u001b[0m \u001b[0mrun_metadata\u001b[0m\u001b[0;34m=\u001b[0m\u001b[0mself\u001b[0m\u001b[0;34m.\u001b[0m\u001b[0mrun_metadata\u001b[0m\u001b[0;34m)\u001b[0m\u001b[0;34m\u001b[0m\u001b[0;34m\u001b[0m\u001b[0m\n\u001b[1;32m   2936\u001b[0m         \u001b[0;32melse\u001b[0m\u001b[0;34m:\u001b[0m\u001b[0;34m\u001b[0m\u001b[0;34m\u001b[0m\u001b[0m\n\u001b[0;32m-> 2937\u001b[0;31m             \u001b[0mfetched\u001b[0m \u001b[0;34m=\u001b[0m \u001b[0mself\u001b[0m\u001b[0;34m.\u001b[0m\u001b[0m_callable_fn\u001b[0m\u001b[0;34m(\u001b[0m\u001b[0;34m*\u001b[0m\u001b[0marray_vals\u001b[0m\u001b[0;34m)\u001b[0m\u001b[0;34m\u001b[0m\u001b[0;34m\u001b[0m\u001b[0m\n\u001b[0m\u001b[1;32m   2938\u001b[0m         \u001b[0;32mreturn\u001b[0m \u001b[0mfetched\u001b[0m\u001b[0;34m[\u001b[0m\u001b[0;34m:\u001b[0m\u001b[0mlen\u001b[0m\u001b[0;34m(\u001b[0m\u001b[0mself\u001b[0m\u001b[0;34m.\u001b[0m\u001b[0moutputs\u001b[0m\u001b[0;34m)\u001b[0m\u001b[0;34m]\u001b[0m\u001b[0;34m\u001b[0m\u001b[0;34m\u001b[0m\u001b[0m\n\u001b[1;32m   2939\u001b[0m \u001b[0;34m\u001b[0m\u001b[0m\n",
            "\u001b[0;32m/usr/local/lib/python3.6/dist-packages/tensorflow/python/client/session.py\u001b[0m in \u001b[0;36m__call__\u001b[0;34m(self, *args, **kwargs)\u001b[0m\n\u001b[1;32m   1456\u001b[0m         ret = tf_session.TF_SessionRunCallable(self._session._session,\n\u001b[1;32m   1457\u001b[0m                                                \u001b[0mself\u001b[0m\u001b[0;34m.\u001b[0m\u001b[0m_handle\u001b[0m\u001b[0;34m,\u001b[0m \u001b[0margs\u001b[0m\u001b[0;34m,\u001b[0m\u001b[0;34m\u001b[0m\u001b[0;34m\u001b[0m\u001b[0m\n\u001b[0;32m-> 1458\u001b[0;31m                                                run_metadata_ptr)\n\u001b[0m\u001b[1;32m   1459\u001b[0m         \u001b[0;32mif\u001b[0m \u001b[0mrun_metadata\u001b[0m\u001b[0;34m:\u001b[0m\u001b[0;34m\u001b[0m\u001b[0;34m\u001b[0m\u001b[0m\n\u001b[1;32m   1460\u001b[0m           \u001b[0mproto_data\u001b[0m \u001b[0;34m=\u001b[0m \u001b[0mtf_session\u001b[0m\u001b[0;34m.\u001b[0m\u001b[0mTF_GetBuffer\u001b[0m\u001b[0;34m(\u001b[0m\u001b[0mrun_metadata_ptr\u001b[0m\u001b[0;34m)\u001b[0m\u001b[0;34m\u001b[0m\u001b[0;34m\u001b[0m\u001b[0m\n",
            "\u001b[0;31mKeyboardInterrupt\u001b[0m: "
          ]
        }
      ]
    },
    {
      "cell_type": "code",
      "metadata": {
        "id": "MW2ObAV7iJrY",
        "colab_type": "code",
        "colab": {
          "base_uri": "https://localhost:8080/",
          "height": 34
        },
        "outputId": "2e6d0c84-51a9-4699-b511-9a9f4defe961"
      },
      "source": [
        "x = np.arange(10)\n",
        "shuffle(x)"
      ],
      "execution_count": 16,
      "outputs": [
        {
          "output_type": "execute_result",
          "data": {
            "text/plain": [
              "array([5, 9, 8, 7, 1, 3, 0, 2, 6, 4])"
            ]
          },
          "metadata": {
            "tags": []
          },
          "execution_count": 16
        }
      ]
    },
    {
      "cell_type": "code",
      "metadata": {
        "id": "8bwi6Dm1pyic",
        "colab_type": "code",
        "colab": {
          "base_uri": "https://localhost:8080/",
          "height": 434
        },
        "outputId": "e2c40388-8856-42e2-b9ae-b59ebac6713d"
      },
      "source": [
        "model.summary()"
      ],
      "execution_count": 17,
      "outputs": [
        {
          "output_type": "stream",
          "text": [
            "Model: \"sequential_1\"\n",
            "_________________________________________________________________\n",
            "Layer (type)                 Output Shape              Param #   \n",
            "=================================================================\n",
            "conv1d_1 (Conv1D)            (None, 15340, 5)          2000      \n",
            "_________________________________________________________________\n",
            "max_pooling1d_1 (MaxPooling1 (None, 2191, 5)           0         \n",
            "_________________________________________________________________\n",
            "conv1d_2 (Conv1D)            (None, 2185, 5)           180       \n",
            "_________________________________________________________________\n",
            "max_pooling1d_2 (MaxPooling1 (None, 312, 5)            0         \n",
            "_________________________________________________________________\n",
            "flatten_1 (Flatten)          (None, 1560)              0         \n",
            "_________________________________________________________________\n",
            "dense_1 (Dense)              (None, 10)                15610     \n",
            "_________________________________________________________________\n",
            "dense_2 (Dense)              (None, 5)                 55        \n",
            "_________________________________________________________________\n",
            "dense_3 (Dense)              (None, 2)                 12        \n",
            "=================================================================\n",
            "Total params: 17,857\n",
            "Trainable params: 17,857\n",
            "Non-trainable params: 0\n",
            "_________________________________________________________________\n"
          ],
          "name": "stdout"
        }
      ]
    },
    {
      "cell_type": "code",
      "metadata": {
        "id": "KHwWdM8npzX1",
        "colab_type": "code",
        "colab": {}
      },
      "source": [
        "ind= shuffle(np.arange(132*2))"
      ],
      "execution_count": 0,
      "outputs": []
    },
    {
      "cell_type": "code",
      "metadata": {
        "id": "EH4_c7e3qSRH",
        "colab_type": "code",
        "colab": {}
      },
      "source": [
        "index = np.arange(132*2)"
      ],
      "execution_count": 0,
      "outputs": []
    },
    {
      "cell_type": "code",
      "metadata": {
        "id": "sAIIYkHzqS7M",
        "colab_type": "code",
        "colab": {}
      },
      "source": [
        "ind = shuffle(index)"
      ],
      "execution_count": 0,
      "outputs": []
    },
    {
      "cell_type": "code",
      "metadata": {
        "id": "AgsCgIEWqlGg",
        "colab_type": "code",
        "colab": {
          "base_uri": "https://localhost:8080/",
          "height": 382
        },
        "outputId": "a88a91cb-64e1-4af9-cf96-fe3f28b53203"
      },
      "source": [
        "ind"
      ],
      "execution_count": 21,
      "outputs": [
        {
          "output_type": "execute_result",
          "data": {
            "text/plain": [
              "array([203,  94,  16,  36,  30, 175,  78, 243, 171, 170,  81,  74, 125,\n",
              "       259,  58,  47,  88, 253, 187,  35, 150, 121,  53,  86, 245, 219,\n",
              "       148,  24, 228, 232, 222, 202,  20, 198,  97, 196, 122, 188, 117,\n",
              "       166, 168, 213, 107, 263, 100,  89,  15,  84,  13, 191, 234, 258,\n",
              "       208, 241,   1, 249,   0, 256,  70,  68, 261, 162,  22,  71,  76,\n",
              "       114,  31, 120,  62,  55,  90,  42, 194,  73,  21, 138,  33, 177,\n",
              "        67, 156,  45, 181,  79, 215, 237, 201,  52, 185,   6, 216, 227,\n",
              "       212, 165, 210,  28,  99, 136, 155, 142,  32,  60,  77,  19, 209,\n",
              "       199, 238,  41,  39,  54, 154,  11, 255, 247, 217, 111, 179,  49,\n",
              "       130,   8,  12, 184,  29,   7, 123, 204, 182, 189,  72, 163, 251,\n",
              "       239,  69,  64,   3, 118, 132, 207, 197, 159, 200, 115, 246, 174,\n",
              "       149, 260, 153, 236, 134, 161, 127, 106,   2, 164, 223,  18, 129,\n",
              "        26, 178, 224, 137, 101, 140, 144,  23,  40, 183,  75,  66,  95,\n",
              "        87, 226, 104, 229, 186, 262, 103, 112,  48, 252, 257,  82,  50,\n",
              "        59,  57, 126,  10,  27,  92,  37, 124, 240,  85, 180, 158, 113,\n",
              "       220,  61,  17, 192,  14,   5,  83, 254, 152, 135, 102, 250,   4,\n",
              "       206, 195, 131,  98, 167, 225, 248, 218, 105,  51, 172, 211, 160,\n",
              "        96, 109,  46, 141, 235,  43,  63, 242,  80,  25, 214, 221, 139,\n",
              "       128,  34, 244, 157, 119,  65, 110, 133,  38, 231,  93,   9, 146,\n",
              "       143, 169,  56, 116, 190, 193, 108, 205, 233, 151, 147, 176, 145,\n",
              "        44, 173, 230,  91])"
            ]
          },
          "metadata": {
            "tags": []
          },
          "execution_count": 21
        }
      ]
    },
    {
      "cell_type": "code",
      "metadata": {
        "id": "aKMkDACKsuT7",
        "colab_type": "code",
        "colab": {}
      },
      "source": [
        "np.random.shuffle([1,2,3])"
      ],
      "execution_count": 0,
      "outputs": []
    },
    {
      "cell_type": "code",
      "metadata": {
        "id": "UncOjt_os2WV",
        "colab_type": "code",
        "colab": {}
      },
      "source": [
        "a = [1,2,3,4,5,6]\n",
        "t = [2,3,1,2,3,4]\n",
        "a,b = shuffle(a,t)"
      ],
      "execution_count": 0,
      "outputs": []
    },
    {
      "cell_type": "code",
      "metadata": {
        "id": "F37wFXV-tmRF",
        "colab_type": "code",
        "colab": {
          "base_uri": "https://localhost:8080/",
          "height": 34
        },
        "outputId": "6442ba70-d6c1-4143-e19c-35ec73934529"
      },
      "source": [
        "normal.shape"
      ],
      "execution_count": 24,
      "outputs": [
        {
          "output_type": "execute_result",
          "data": {
            "text/plain": [
              "(1122, 19, 15360)"
            ]
          },
          "metadata": {
            "tags": []
          },
          "execution_count": 24
        }
      ]
    },
    {
      "cell_type": "code",
      "metadata": {
        "id": "8wxw_O3y6UuN",
        "colab_type": "code",
        "colab": {}
      },
      "source": [
        "a = np.random.random((4,6,5))\n",
        "b = np.random.random((8,6,5))"
      ],
      "execution_count": 0,
      "outputs": []
    },
    {
      "cell_type": "code",
      "metadata": {
        "id": "cHo6FReLFjXJ",
        "colab_type": "code",
        "colab": {
          "base_uri": "https://localhost:8080/",
          "height": 34
        },
        "outputId": "5b9bef9b-b684-4cdd-ceeb-b18ea5ce02dd"
      },
      "source": [
        "a.shape"
      ],
      "execution_count": 42,
      "outputs": [
        {
          "output_type": "execute_result",
          "data": {
            "text/plain": [
              "(4, 6, 5)"
            ]
          },
          "metadata": {
            "tags": []
          },
          "execution_count": 42
        }
      ]
    },
    {
      "cell_type": "code",
      "metadata": {
        "id": "fVJrD7D9FlAW",
        "colab_type": "code",
        "colab": {
          "base_uri": "https://localhost:8080/",
          "height": 34
        },
        "outputId": "61896568-212e-4014-a7ef-8425d48f25b2"
      },
      "source": [
        "b.shape"
      ],
      "execution_count": 43,
      "outputs": [
        {
          "output_type": "execute_result",
          "data": {
            "text/plain": [
              "(8, 6, 5)"
            ]
          },
          "metadata": {
            "tags": []
          },
          "execution_count": 43
        }
      ]
    },
    {
      "cell_type": "code",
      "metadata": {
        "id": "xZFnlzbXFlh8",
        "colab_type": "code",
        "colab": {}
      },
      "source": [
        "c = np.vstack((a,b))"
      ],
      "execution_count": 0,
      "outputs": []
    },
    {
      "cell_type": "code",
      "metadata": {
        "id": "TFUo_qY7Fqjb",
        "colab_type": "code",
        "colab": {
          "base_uri": "https://localhost:8080/",
          "height": 34
        },
        "outputId": "b23748a5-3044-4edb-9400-9ce2612041ca"
      },
      "source": [
        "c.shape"
      ],
      "execution_count": 49,
      "outputs": [
        {
          "output_type": "execute_result",
          "data": {
            "text/plain": [
              "(12, 6, 5)"
            ]
          },
          "metadata": {
            "tags": []
          },
          "execution_count": 49
        }
      ]
    },
    {
      "cell_type": "code",
      "metadata": {
        "id": "jOl9rmhaF4d0",
        "colab_type": "code",
        "colab": {
          "base_uri": "https://localhost:8080/",
          "height": 86
        },
        "outputId": "21770fe3-d6e0-44f8-9da6-4108ebeda3b7"
      },
      "source": [
        "help(data_shaper)"
      ],
      "execution_count": 53,
      "outputs": [
        {
          "output_type": "stream",
          "text": [
            "Help on function data_shaper in module __main__:\n",
            "\n",
            "data_shaper(normal, disorder)\n",
            "\n"
          ],
          "name": "stdout"
        }
      ]
    },
    {
      "cell_type": "code",
      "metadata": {
        "id": "WQPCxRfSG3m7",
        "colab_type": "code",
        "colab": {}
      },
      "source": [
        ""
      ],
      "execution_count": 0,
      "outputs": []
    }
  ]
}