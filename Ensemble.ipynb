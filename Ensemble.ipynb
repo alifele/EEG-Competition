{
  "nbformat": 4,
  "nbformat_minor": 0,
  "metadata": {
    "colab": {
      "name": "Ensemble.ipynb",
      "provenance": [],
      "include_colab_link": true
    },
    "kernelspec": {
      "name": "python3",
      "display_name": "Python 3"
    }
  },
  "cells": [
    {
      "cell_type": "markdown",
      "metadata": {
        "id": "view-in-github",
        "colab_type": "text"
      },
      "source": [
        "<a href=\"https://colab.research.google.com/github/alifele/EEG-computation/blob/master/Ensemble.ipynb\" target=\"_parent\"><img src=\"https://colab.research.google.com/assets/colab-badge.svg\" alt=\"Open In Colab\"/></a>"
      ]
    },
    {
      "cell_type": "markdown",
      "metadata": {
        "id": "ObCpFK2vCbMu",
        "colab_type": "text"
      },
      "source": [
        "## Important Imports"
      ]
    },
    {
      "cell_type": "code",
      "metadata": {
        "id": "kLk5Bg2X7cGK",
        "colab_type": "code",
        "outputId": "37c79664-279c-4323-df67-c9f2d35ea5fa",
        "colab": {
          "base_uri": "https://localhost:8080/",
          "height": 106
        }
      },
      "source": [
        "!pip install mat4py\n",
        "import numpy as np\n",
        "import matplotlib.pyplot as plt\n",
        "import mat4py as mt\n",
        "import os\n",
        "from IPython.display import Image\n",
        "from IPython.core.display import HTML \n",
        "from itertools import combinations\n",
        "from numpy.fft import fft\n",
        "from sklearn.utils import shuffle\n",
        "from sklearn.model_selection import train_test_split\n",
        "from sklearn.preprocessing import StandardScaler\n",
        "import pandas as pd\n",
        "from sklearn.decomposition import PCA\n",
        "from numpy.fft import fft"
      ],
      "execution_count": 1,
      "outputs": [
        {
          "output_type": "stream",
          "text": [
            "Collecting mat4py\n",
            "  Downloading https://files.pythonhosted.org/packages/25/a2/ec3feb146f6af699d85cf35d719463f2e2fb0d55864dd6d1d48cf0c756cd/mat4py-0.4.2-py2.py3-none-any.whl\n",
            "Installing collected packages: mat4py\n",
            "Successfully installed mat4py-0.4.2\n"
          ],
          "name": "stdout"
        }
      ]
    },
    {
      "cell_type": "markdown",
      "metadata": {
        "id": "r4O4ufaXCiwW",
        "colab_type": "text"
      },
      "source": [
        "# Loading Data"
      ]
    },
    {
      "cell_type": "code",
      "metadata": {
        "id": "teEInfDuCBel",
        "colab_type": "code",
        "outputId": "12d0b4e7-7126-403b-ba53-e878d2cb4db0",
        "colab": {
          "base_uri": "https://localhost:8080/",
          "height": 173
        }
      },
      "source": [
        "!git clone https://github.com/alifele/EEG-computation.git\n",
        "%cd EEG-computation"
      ],
      "execution_count": 2,
      "outputs": [
        {
          "output_type": "stream",
          "text": [
            "Cloning into 'EEG-computation'...\n",
            "remote: Enumerating objects: 428, done.\u001b[K\n",
            "remote: Counting objects: 100% (428/428), done.\u001b[K\n",
            "remote: Compressing objects: 100% (423/423), done.\u001b[K\n",
            "remote: Total 428 (delta 41), reused 351 (delta 2), pack-reused 0\u001b[K\n",
            "Receiving objects: 100% (428/428), 582.71 MiB | 55.22 MiB/s, done.\n",
            "Resolving deltas: 100% (41/41), done.\n",
            "Checking out files: 100% (347/347), done.\n",
            "/content/EEG-computation\n"
          ],
          "name": "stdout"
        }
      ]
    },
    {
      "cell_type": "code",
      "metadata": {
        "id": "Tgn-jTu0CIpd",
        "colab_type": "code",
        "colab": {}
      },
      "source": [
        "disorder_dic = []\n",
        "directory = os.fsencode('EEG Data/disorder')\n",
        "for file in os.listdir(directory):\n",
        "    filename = os.fsdecode(file)\n",
        "    disorder_dic.append(np.array(mt.loadmat('EEG Data/disorder/{}'.format(filename))[filename.split('.')[0]]))\n",
        "    \n",
        "channels_disorder = [ [] for i in range(len(disorder_dic))]  #channels[person][channel] it will be a numpy array\n",
        "j=0;\n",
        "for person in channels_disorder:\n",
        "    for i in range(19):\n",
        "        person.append(disorder_dic[j][:,i])\n",
        "    j = j+1\n",
        "        \n",
        "normal_dic = []\n",
        "directory = os.fsencode('EEG Data/normal')\n",
        "for file in os.listdir(directory):\n",
        "    filename = os.fsdecode(file)\n",
        "    normal_dic.append(np.array(mt.loadmat('EEG Data/normal/{}'.format(filename))[filename.split('.')[0]]))\n",
        "    \n",
        "channels_normal = [ [] for i in range(len(normal_dic))]  #channels[person][channel] it will be a numpy array\n",
        "j=0;\n",
        "for person in channels_normal:\n",
        "    for i in range(19):\n",
        "        person.append(normal_dic[j][:,i])\n",
        "    j = j+1   \n",
        "        \n",
        "data = {\"N\":channels_normal,\n",
        "      \"D\":channels_disorder}\n"
      ],
      "execution_count": 0,
      "outputs": []
    },
    {
      "cell_type": "markdown",
      "metadata": {
        "id": "UiWG52m4Coti",
        "colab_type": "text"
      },
      "source": [
        "# Generating New Data"
      ]
    },
    {
      "cell_type": "code",
      "metadata": {
        "id": "Tm6ShikoCVDa",
        "colab_type": "code",
        "colab": {}
      },
      "source": [
        "def New_Data_Generator_N():\n",
        "    number_of_samples = 30\n",
        "    randlist = (132 * np.random.random(number_of_samples)).astype(int)\n",
        "    new_patients = list(data['N'][i] for i in randlist)\n",
        "    \n",
        "    index = [ i for i in range(number_of_samples)]\n",
        "    comb = list( combinations(index, 2))\n",
        "    new_data = [[] for i in range(len(comb))]\n",
        "    person = 0\n",
        "    for x,y in comb:\n",
        "        for chan in range(19):\n",
        "            new_data[person].append((new_patients[x][chan] + new_patients[y][chan] )/2)\n",
        "        data['N'].append(new_data[person])\n",
        "        person += 1\n",
        "\n",
        "    \n",
        "def New_Data_Generator_D():\n",
        "    number_of_samples = 30\n",
        "    randlist = (132 * np.random.random(number_of_samples)).astype(int)\n",
        "    new_patients = list(data['D'][i] for i in randlist)\n",
        "    \n",
        "    index = [ i for i in range(number_of_samples)]\n",
        "    comb = list( combinations(index, 2))\n",
        "    new_data = [[] for i in range(len(comb))]\n",
        "    person = 0\n",
        "    for x,y in comb:\n",
        "        for chan in range(19):\n",
        "            new_data[person].append((new_patients[x][chan] + new_patients[y][chan] )/2)\n",
        "        data['D'].append(new_data[person])\n",
        "        person += 1\n"
      ],
      "execution_count": 0,
      "outputs": []
    },
    {
      "cell_type": "code",
      "metadata": {
        "id": "8TXFzciqCX0E",
        "colab_type": "code",
        "colab": {}
      },
      "source": [
        "New_Data_Generator_N()\n",
        "New_Data_Generator_D()"
      ],
      "execution_count": 0,
      "outputs": []
    },
    {
      "cell_type": "code",
      "metadata": {
        "id": "EEThYbOICyYH",
        "colab_type": "code",
        "outputId": "d18e1261-7907-4333-b8b1-95c0d24d46d3",
        "colab": {
          "base_uri": "https://localhost:8080/",
          "height": 34
        }
      },
      "source": [
        "n_D , n_N = len(data['D']), len(data['N'])\n",
        "\n",
        "print('The number of Disorders is:{} and the number of Normals is:{}'.format(n_D, n_N))"
      ],
      "execution_count": 6,
      "outputs": [
        {
          "output_type": "stream",
          "text": [
            "The number of Disorders is:631 and the number of Normals is:567\n"
          ],
          "name": "stdout"
        }
      ]
    },
    {
      "cell_type": "markdown",
      "metadata": {
        "id": "AktNSaN3DXWe",
        "colab_type": "text"
      },
      "source": [
        "# Generating The FT Data set"
      ]
    },
    {
      "cell_type": "code",
      "metadata": {
        "id": "p00oUmAyDNeZ",
        "colab_type": "code",
        "colab": {}
      },
      "source": [
        "def Clear_FDomain():\n",
        "  index = np.arange(0,512*30)\n",
        "  f = np.linspace(0,512,512*30)\n",
        "  f_max = f[len(f[f<120])]\n",
        "  ind_min = 2\n",
        "  ind_max = list(index[f==f_max])[0]\n",
        "  f_min = f[ind_min]\n",
        "\n",
        "  print('The f_min is {}\\nThe f_max is {}\\nThe ind_min is {} \\nAnd the ind_max is {}'.format(f_min, f_max, ind_min, ind_max))\n",
        "\n",
        "\n",
        "  sam_FT = np.abs(np.fft.fft(data['D'][50][7]))\n",
        "\n",
        "  # The 50 Htz noise elimination information\n",
        "\n",
        "  f_45 = f>45\n",
        "  f_55 = f<55\n",
        "  f_bar = f<45\n",
        "\n",
        "  for i in range(f.shape[0]):\n",
        "    f_bar[i] = f_45[i] and f_55[i]\n",
        "\n",
        "\n",
        "  noise = f[sam_FT == np.max(sam_FT[f_bar])][0]\n",
        "  noise_index = list(index[f==noise])[0] # in range 0, 512*30\n",
        "  del_domain = 40\n",
        "  del_range = [noise_index + i for i in range(-del_domain,del_domain)]\n",
        "  print('The Frequency of noise is:{} and the index of the noise is:{}'.format(noise, noise_index))\n",
        "\n",
        "  \n",
        "  plt.figure()\n",
        "  plt.plot(f_bar)\n",
        "  f = np.linspace(0,512,512*30)[ind_min:ind_max]\n",
        "  \n",
        "  \n",
        "  normal = [[np.zeros(f.shape[0]) for k in range(19)] for i in range(n_N)]\n",
        "  disorder = [[np.zeros(f.shape[0]) for k in range(19)] for i in range(n_D)]\n",
        "\n",
        "\n",
        "  FT = {'D':disorder,\n",
        "       'N':normal}\n",
        "\n",
        "  from numpy.fft import fft\n",
        "\n",
        "  for d in range(n_D):\n",
        "      for i in range(19):\n",
        "\n",
        "          FT['D'][d][i] = np.abs(fft(data['D'][d][i]))[ind_min:ind_max]\n",
        "          FT['D'][d][i][noise_index-del_domain  - ind_min: noise_index+del_domain - ind_min] = np.average(FT['D'][d][i][noise_index-del_domain  - ind_min - 120: noise_index+del_domain - ind_min-120])\n",
        "          FT['D'][d][i][2*noise_index-del_domain - ind_min: 2*noise_index+del_domain - ind_min] = np.average(FT['D'][d][i][2*noise_index-del_domain - ind_min - 120: 2*noise_index+del_domain - ind_min-120])\n",
        "\n",
        "  for n in range(n_N):\n",
        "      for i in range(19):\n",
        "          FT['N'][n][i] = np.abs(fft(data['N'][n][i]))[ind_min:ind_max]\n",
        "          FT['N'][n][i][noise_index-del_domain - ind_min: noise_index+del_domain -ind_min] = np.average(FT['N'][n][i][noise_index-del_domain - ind_min-120: noise_index+del_domain -ind_min-120])\n",
        "          FT['N'][n][i][2*noise_index-del_domain - ind_min: 2*noise_index+del_domain - ind_min] = np.average( FT['N'][n][i][2*noise_index-del_domain - ind_min-120 : 2*noise_index+del_domain - ind_min-120])\n",
        "\n",
        "\n",
        "      FT['N'] = np.array(FT['N'])\n",
        "      FT['D'] = np.array(FT['D'])\n",
        "  plt.figure()\n",
        "  plt.plot(f, FT['N'][56][8])\n",
        "  \n",
        "  \n",
        "  \n",
        "\n",
        "  FT_matrix_N = FT['N']\n",
        "  FT_matrix_D = FT['D']\n",
        "\n",
        "  temp_D = FT_matrix_D.reshape((FT_matrix_D.shape[0],FT_matrix_D.shape[2],FT_matrix_D.shape[1]))\n",
        "  temp_N = FT_matrix_N.reshape((FT_matrix_N.shape[0],FT_matrix_N.shape[2],FT_matrix_N.shape[1]))\n",
        "  #or d in range(FT_matrix.shape[0]):\n",
        "  scaler = StandardScaler()\n",
        "\n",
        "  for n in range(FT_matrix_N.shape[0]):\n",
        "    temp_N[n]= scaler.fit_transform(FT_matrix_N[n].T)\n",
        "  \n",
        "  for d in range(FT_matrix_D.shape[0]):\n",
        "    temp_D[d]= scaler.fit_transform(FT_matrix_D[d].T)\n",
        "\n",
        "    \n",
        "  for n in range(FT_matrix_N.shape[0]):\n",
        "    FT_matrix_N[n]= temp_N[n].T\n",
        "  \n",
        "  for d in range(FT_matrix_D.shape[0]):\n",
        "    FT_matrix_D[d]= temp_D[d].T\n",
        "    \n",
        "    \n",
        "  plt.figure()\n",
        "  plt.plot(f,FT_matrix_D[56,8])\n",
        "  FT_matrix_D.shape, FT_matrix_N.shape\n",
        "\n",
        "  return FT_matrix_D, FT_matrix_N\n"
      ],
      "execution_count": 0,
      "outputs": []
    },
    {
      "cell_type": "code",
      "metadata": {
        "id": "oSRmSqX7DcuU",
        "colab_type": "code",
        "outputId": "e210623d-773a-419d-b2ff-46d22e6a45a9",
        "colab": {
          "base_uri": "https://localhost:8080/",
          "height": 860
        }
      },
      "source": [
        "F_D, F_N = Clear_FDomain()"
      ],
      "execution_count": 11,
      "outputs": [
        {
          "output_type": "stream",
          "text": [
            "The f_min is 0.06667100722703301\n",
            "The f_max is 120.00781300865941\n",
            "The ind_min is 2 \n",
            "And the ind_max is 3600\n",
            "The Frequency of noise is:50.003255420274755 and the index of the noise is:1500\n"
          ],
          "name": "stdout"
        },
        {
          "output_type": "display_data",
          "data": {
            "image/png": "[encoded data removed]",
            "text/plain": [
              "<Figure size 432x288 with 1 Axes>"
            ]
          },
          "metadata": {
            "tags": []
          }
        },
        {
          "output_type": "display_data",
          "data": {
            "image/png": "[encoded data removed]",
            "text/plain": [
              "<Figure size 432x288 with 1 Axes>"
            ]
          },
          "metadata": {
            "tags": []
          }
        },
        {
          "output_type": "display_data",
          "data": {
            "image/png": "[encoded data removed]",
            "text/plain": [
              "<Figure size 432x288 with 1 Axes>"
            ]
          },
          "metadata": {
            "tags": []
          }
        }
      ]
    },
    {
      "cell_type": "code",
      "metadata": {
        "id": "PT0QkI2UDu0B",
        "colab_type": "code",
        "colab": {
          "base_uri": "https://localhost:8080/",
          "height": 286
        },
        "outputId": "898eb59d-011c-4fb4-98a2-dc5adccbfb0d"
      },
      "source": [
        "plt.plot(F_D[2].reshape(-1,1))\n",
        "DF_D[2].reshape(-1,1).shape"
      ],
      "execution_count": 20,
      "outputs": [
        {
          "output_type": "execute_result",
          "data": {
            "text/plain": [
              "(68362, 1)"
            ]
          },
          "metadata": {
            "tags": []
          },
          "execution_count": 20
        },
        {
          "output_type": "display_data",
          "data": {
            "image/png": "[encoded data removed]",
            "text/plain": [
              "<Figure size 432x288 with 1 Axes>"
            ]
          },
          "metadata": {
            "tags": []
          }
        }
      ]
    },
    {
      "cell_type": "markdown",
      "metadata": {
        "id": "dyYRRjs1NqKY",
        "colab_type": "text"
      },
      "source": [
        "# Generating the Time Sequence dataset"
      ]
    },
    {
      "cell_type": "code",
      "metadata": {
        "id": "3NzA-fjvN9xN",
        "colab_type": "code",
        "colab": {}
      },
      "source": [
        "def Clear_TDomain():\n",
        "  T_D = np.array(data['D'])\n",
        "  T_N = np.array(data['N'])\n",
        "  temp_D = T_D.reshape((T_D.shape[0],T_D.shape[2],T_D.shape[1]))\n",
        "  temp_N = T_N.reshape((T_N.shape[0],T_N.shape[2],T_N.shape[1]))\n",
        "  scaler = StandardScaler()\n",
        "\n",
        "  for n in range(T_N.shape[0]):\n",
        "      temp_N[n]= scaler.fit_transform(T_N[n].T)\n",
        "\n",
        "  for d in range(T_D.shape[0]):\n",
        "    temp_D[d]= scaler.fit_transform(T_D[d].T)\n",
        "\n",
        "\n",
        "  for n in range(T_N.shape[0]):\n",
        "    T_N[n]= temp_N[n].T\n",
        "\n",
        "  for d in range(T_D.shape[0]):\n",
        "    T_D[d]= temp_D[d].T\n",
        "\n",
        "  plt.plot(T_D[3][5])\n",
        "  \n",
        "  return T_N, T_D"
      ],
      "execution_count": 0,
      "outputs": []
    },
    {
      "cell_type": "code",
      "metadata": {
        "id": "xl3ZDtDrN-94",
        "colab_type": "code",
        "colab": {
          "base_uri": "https://localhost:8080/",
          "height": 269
        },
        "outputId": "66d4ade3-957f-41c1-a75b-6405d315e7ad"
      },
      "source": [
        "T_N, T_D = Clear_TDomain()"
      ],
      "execution_count": 40,
      "outputs": [
        {
          "output_type": "display_data",
          "data": {
            "image/png": "[encoded data removed]",
            "text/plain": [
              "<Figure size 432x288 with 1 Axes>"
            ]
          },
          "metadata": {
            "tags": []
          }
        }
      ]
    },
    {
      "cell_type": "markdown",
      "metadata": {
        "id": "yTSh-pAUNcmZ",
        "colab_type": "text"
      },
      "source": [
        "# KNN for the FT Data set"
      ]
    },
    {
      "cell_type": "code",
      "metadata": {
        "id": "dFWEHyg0NcOF",
        "colab_type": "code",
        "colab": {}
      },
      "source": [
        ""
      ],
      "execution_count": 0,
      "outputs": []
    },
    {
      "cell_type": "code",
      "metadata": {
        "id": "GEZ9gAZ-LXm1",
        "colab_type": "code",
        "colab": {
          "base_uri": "https://localhost:8080/",
          "height": 34
        },
        "outputId": "da678321-a138-4e63-e579-779918d65505"
      },
      "source": [
        ""
      ],
      "execution_count": 18,
      "outputs": [
        {
          "output_type": "execute_result",
          "data": {
            "text/plain": [
              "(68362, 1)"
            ]
          },
          "metadata": {
            "tags": []
          },
          "execution_count": 18
        }
      ]
    },
    {
      "cell_type": "code",
      "metadata": {
        "id": "MAFY9LyhM-YT",
        "colab_type": "code",
        "colab": {}
      },
      "source": [
        ""
      ],
      "execution_count": 0,
      "outputs": []
    }
  ]
}