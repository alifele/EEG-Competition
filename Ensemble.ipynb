{
  "nbformat": 4,
  "nbformat_minor": 0,
  "metadata": {
    "colab": {
      "name": "Ensemble.ipynb",
      "provenance": [],
      "toc_visible": true,
      "machine_shape": "hm",
      "include_colab_link": true
    },
    "kernelspec": {
      "name": "python3",
      "display_name": "Python 3"
    },
    "accelerator": "GPU"
  },
  "cells": [
    {
      "cell_type": "markdown",
      "metadata": {
        "id": "view-in-github",
        "colab_type": "text"
      },
      "source": [
        "<a href=\"https://colab.research.google.com/github/alifele/EEG-computation/blob/master/Ensemble.ipynb\" target=\"_parent\"><img src=\"https://colab.research.google.com/assets/colab-badge.svg\" alt=\"Open In Colab\"/></a>"
      ]
    },
    {
      "cell_type": "markdown",
      "metadata": {
        "id": "ObCpFK2vCbMu",
        "colab_type": "text"
      },
      "source": [
        "## Important Imports"
      ]
    },
    {
      "cell_type": "code",
      "metadata": {
        "id": "kLk5Bg2X7cGK",
        "colab_type": "code",
        "outputId": "a39597df-cf91-4249-decb-42f87f362dfd",
        "colab": {
          "base_uri": "https://localhost:8080/",
          "height": 34
        }
      },
      "source": [
        "!pip install mat4py\n",
        "import numpy as np\n",
        "import matplotlib.pyplot as plt\n",
        "import mat4py as mt\n",
        "import os\n",
        "from IPython.display import Image\n",
        "from IPython.core.display import HTML \n",
        "from itertools import combinations\n",
        "from numpy.fft import fft\n",
        "from sklearn.utils import shuffle\n",
        "from sklearn.model_selection import train_test_split\n",
        "from sklearn.preprocessing import StandardScaler\n",
        "import pandas as pd\n",
        "from sklearn.decomposition import PCA\n",
        "from numpy.fft import fft\n",
        "from sklearn.metrics import classification_report"
      ],
      "execution_count": 1,
      "outputs": [
        {
          "output_type": "stream",
          "text": [
            "Requirement already satisfied: mat4py in /usr/local/lib/python3.6/dist-packages (0.4.2)\n"
          ],
          "name": "stdout"
        }
      ]
    },
    {
      "cell_type": "markdown",
      "metadata": {
        "id": "r4O4ufaXCiwW",
        "colab_type": "text"
      },
      "source": [
        "# Loading Data"
      ]
    },
    {
      "cell_type": "code",
      "metadata": {
        "id": "teEInfDuCBel",
        "colab_type": "code",
        "outputId": "20fe4b81-297b-4b88-fe56-19407c25a31d",
        "colab": {
          "base_uri": "https://localhost:8080/",
          "height": 173
        }
      },
      "source": [
        "!git clone https://github.com/alifele/EEG-computation.git\n",
        "%cd EEG-computation"
      ],
      "execution_count": 9,
      "outputs": [
        {
          "output_type": "stream",
          "text": [
            "Cloning into 'EEG-computation'...\n",
            "remote: Enumerating objects: 18, done.\u001b[K\n",
            "remote: Counting objects: 100% (18/18), done.\u001b[K\n",
            "remote: Compressing objects: 100% (18/18), done.\u001b[K\n",
            "remote: Total 540 (delta 10), reused 0 (delta 0), pack-reused 522\u001b[K\n",
            "Receiving objects: 100% (540/540), 709.37 MiB | 62.58 MiB/s, done.\n",
            "Resolving deltas: 100% (63/63), done.\n",
            "Checking out files: 100% (419/419), done.\n",
            "/content/EEG-computation/EEG-computation/EEG-computation/EEG-computation/EEG-computation\n"
          ],
          "name": "stdout"
        }
      ]
    },
    {
      "cell_type": "code",
      "metadata": {
        "id": "Tgn-jTu0CIpd",
        "colab_type": "code",
        "colab": {}
      },
      "source": [
        "disorder_dic = []\n",
        "directory = os.fsencode('EEG Data/disorder')\n",
        "for file in os.listdir(directory):\n",
        "    filename = os.fsdecode(file)\n",
        "    disorder_dic.append(np.array(mt.loadmat('EEG Data/disorder/{}'.format(filename))[filename.split('.')[0]]))\n",
        "    \n",
        "channels_disorder = [ [] for i in range(len(disorder_dic))]  #channels[person][channel] it will be a numpy array\n",
        "j=0;\n",
        "for person in channels_disorder:\n",
        "    for i in range(19):\n",
        "        person.append(disorder_dic[j][:,i])\n",
        "    j = j+1\n",
        "        \n",
        "normal_dic = []\n",
        "directory = os.fsencode('EEG Data/normal')\n",
        "for file in os.listdir(directory):\n",
        "    filename = os.fsdecode(file)\n",
        "    normal_dic.append(np.array(mt.loadmat('EEG Data/normal/{}'.format(filename))[filename.split('.')[0]]))\n",
        "    \n",
        "channels_normal = [ [] for i in range(len(normal_dic))]  #channels[person][channel] it will be a numpy array\n",
        "j=0;\n",
        "for person in channels_normal:\n",
        "    for i in range(19):\n",
        "        person.append(normal_dic[j][:,i])\n",
        "    j = j+1   \n",
        "        \n",
        "data = {\"N\":channels_normal,\n",
        "      \"D\":channels_disorder}\n"
      ],
      "execution_count": 0,
      "outputs": []
    },
    {
      "cell_type": "markdown",
      "metadata": {
        "id": "v0vIffqZRCTW",
        "colab_type": "text"
      },
      "source": [
        "# Loading Validation Data"
      ]
    },
    {
      "cell_type": "code",
      "metadata": {
        "id": "0syDE1xkRB9V",
        "colab_type": "code",
        "colab": {}
      },
      "source": [
        "disorder_dic = []\n",
        "directory = os.fsencode('EEG Data/New_Shuffled_Validation(disorder_normal)')\n",
        "for file in os.listdir(directory):\n",
        "    filename = os.fsdecode(file)\n",
        "    disorder_dic.append(np.array(mt.loadmat('EEG Data/New_Shuffled_Validation(disorder_normal)/{}'.format(filename))[filename.split('.')[0]]))\n",
        "    \n",
        "channels_disorder = [ [] for i in range(len(disorder_dic))]  #channels[person][channel] it will be a numpy array\n",
        "j=0;\n",
        "for person in channels_disorder:\n",
        "    for i in range(19):\n",
        "        person.append(disorder_dic[j][:,i])\n",
        "    j = j+1\n",
        "        \n",
        "DATA_ = channels_disorder"
      ],
      "execution_count": 0,
      "outputs": []
    },
    {
      "cell_type": "code",
      "metadata": {
        "id": "xhppy-B8TRLT",
        "colab_type": "code",
        "colab": {
          "base_uri": "https://localhost:8080/",
          "height": 286
        },
        "outputId": "e7a7b722-e310-4dac-90ff-54f1b1b98f70"
      },
      "source": [
        "plt.plot(DATA_[4][5])"
      ],
      "execution_count": 12,
      "outputs": [
        {
          "output_type": "execute_result",
          "data": {
            "text/plain": [
              "[<matplotlib.lines.Line2D at 0x7fbd1db8f748>]"
            ]
          },
          "metadata": {
            "tags": []
          },
          "execution_count": 12
        },
        {
          "output_type": "display_data",
          "data": {
            "image/png": "[encoded data removed]",
            "text/plain": [
              "<Figure size 432x288 with 1 Axes>"
            ]
          },
          "metadata": {
            "tags": []
          }
        }
      ]
    },
    {
      "cell_type": "markdown",
      "metadata": {
        "id": "UiWG52m4Coti",
        "colab_type": "text"
      },
      "source": [
        "# Generating New Data"
      ]
    },
    {
      "cell_type": "code",
      "metadata": {
        "id": "Tm6ShikoCVDa",
        "colab_type": "code",
        "colab": {}
      },
      "source": [
        "def New_Data_Generator_N():\n",
        "    number_of_samples = 45\n",
        "    randlist = (132 * np.random.random(number_of_samples)).astype(int)\n",
        "    new_patients = list(data['N'][i] for i in randlist)\n",
        "    \n",
        "    index = [ i for i in range(number_of_samples)]\n",
        "    comb = list( combinations(index, 2))\n",
        "    new_data = [[] for i in range(len(comb))]\n",
        "    person = 0\n",
        "    for x,y in comb:\n",
        "        for chan in range(19):\n",
        "            new_data[person].append((new_patients[x][chan] + new_patients[y][chan] )/2)\n",
        "        data['N'].append(new_data[person])\n",
        "        person += 1\n",
        "\n",
        "    \n",
        "def New_Data_Generator_D():\n",
        "    number_of_samples = 45\n",
        "    randlist = (132 * np.random.random(number_of_samples)).astype(int)\n",
        "    new_patients = list(data['D'][i] for i in randlist)\n",
        "    \n",
        "    index = [ i for i in range(number_of_samples)]\n",
        "    comb = list( combinations(index, 2))\n",
        "    new_data = [[] for i in range(len(comb))]\n",
        "    person = 0\n",
        "    for x,y in comb:\n",
        "        for chan in range(19):\n",
        "            new_data[person].append((new_patients[x][chan] + new_patients[y][chan] )/2)\n",
        "        data['D'].append(new_data[person])\n",
        "        person += 1\n"
      ],
      "execution_count": 0,
      "outputs": []
    },
    {
      "cell_type": "code",
      "metadata": {
        "id": "8TXFzciqCX0E",
        "colab_type": "code",
        "colab": {}
      },
      "source": [
        "New_Data_Generator_N()\n",
        "New_Data_Generator_D()"
      ],
      "execution_count": 0,
      "outputs": []
    },
    {
      "cell_type": "code",
      "metadata": {
        "id": "EEThYbOICyYH",
        "colab_type": "code",
        "outputId": "e31c032a-1595-489f-a493-ac4c311370cf",
        "colab": {
          "base_uri": "https://localhost:8080/",
          "height": 34
        }
      },
      "source": [
        "n_D , n_N = len(data['D']), len(data['N'])\n",
        "\n",
        "print('The number of Disorders is:{} and the number of Normals is:{}'.format(n_D, n_N))"
      ],
      "execution_count": 15,
      "outputs": [
        {
          "output_type": "stream",
          "text": [
            "The number of Disorders is:1186 and the number of Normals is:1122\n"
          ],
          "name": "stdout"
        }
      ]
    },
    {
      "cell_type": "markdown",
      "metadata": {
        "id": "AktNSaN3DXWe",
        "colab_type": "text"
      },
      "source": [
        "# Generating The FT Data set"
      ]
    },
    {
      "cell_type": "code",
      "metadata": {
        "id": "p00oUmAyDNeZ",
        "colab_type": "code",
        "colab": {}
      },
      "source": [
        "def Clear_FDomain():\n",
        "  index = np.arange(0,512*30)\n",
        "  f = np.linspace(0,512,512*30)\n",
        "  f_max = f[len(f[f<120])]\n",
        "  ind_min = 2\n",
        "  ind_max = list(index[f==f_max])[0]\n",
        "  f_min = f[ind_min]\n",
        "\n",
        "  print('The f_min is {}\\nThe f_max is {}\\nThe ind_min is {} \\nAnd the ind_max is {}'.format(f_min, f_max, ind_min, ind_max))\n",
        "\n",
        "\n",
        "  sam_FT = np.abs(np.fft.fft(data['D'][50][7]))\n",
        "\n",
        "  # The 50 Htz noise elimination information\n",
        "\n",
        "  f_45 = f>45\n",
        "  f_55 = f<55\n",
        "  f_bar = f<45\n",
        "\n",
        "  for i in range(f.shape[0]):\n",
        "    f_bar[i] = f_45[i] and f_55[i]\n",
        "\n",
        "\n",
        "  noise = f[sam_FT == np.max(sam_FT[f_bar])][0]\n",
        "  noise_index = list(index[f==noise])[0] # in range 0, 512*30\n",
        "  del_domain = 40\n",
        "  del_range = [noise_index + i for i in range(-del_domain,del_domain)]\n",
        "  print('The Frequency of noise is:{} and the index of the noise is:{}'.format(noise, noise_index))\n",
        "\n",
        "  \n",
        "  plt.figure()\n",
        "  plt.plot(f_bar)\n",
        "  f = np.linspace(0,512,512*30)[ind_min:ind_max]\n",
        "  \n",
        "  \n",
        "  normal = [[np.zeros(f.shape[0]) for k in range(19)] for i in range(n_N)]\n",
        "  disorder = [[np.zeros(f.shape[0]) for k in range(19)] for i in range(n_D)]\n",
        "\n",
        "\n",
        "  FT = {'D':disorder,\n",
        "       'N':normal}\n",
        "\n",
        "  from numpy.fft import fft\n",
        "\n",
        "  for d in range(n_D):\n",
        "      for i in range(19):\n",
        "\n",
        "          FT['D'][d][i] = np.abs(fft(data['D'][d][i]))[ind_min:ind_max]\n",
        "          FT['D'][d][i][noise_index-del_domain  - ind_min: noise_index+del_domain - ind_min] = np.average(FT['D'][d][i][noise_index-del_domain  - ind_min - 120: noise_index+del_domain - ind_min-120])\n",
        "          FT['D'][d][i][2*noise_index-del_domain - ind_min: 2*noise_index+del_domain - ind_min] = np.average(FT['D'][d][i][2*noise_index-del_domain - ind_min - 120: 2*noise_index+del_domain - ind_min-120])\n",
        "\n",
        "  for n in range(n_N):\n",
        "      for i in range(19):\n",
        "          FT['N'][n][i] = np.abs(fft(data['N'][n][i]))[ind_min:ind_max]\n",
        "          FT['N'][n][i][noise_index-del_domain - ind_min: noise_index+del_domain -ind_min] = np.average(FT['N'][n][i][noise_index-del_domain - ind_min-120: noise_index+del_domain -ind_min-120])\n",
        "          FT['N'][n][i][2*noise_index-del_domain - ind_min: 2*noise_index+del_domain - ind_min] = np.average( FT['N'][n][i][2*noise_index-del_domain - ind_min-120 : 2*noise_index+del_domain - ind_min-120])\n",
        "\n",
        "\n",
        "  FT['N'] = np.array(FT['N'])\n",
        "  FT['D'] = np.array(FT['D'])\n",
        "  plt.figure()\n",
        "  plt.plot(f, FT['N'][56][8])\n",
        "  \n",
        "  \n",
        "  \n",
        "\n",
        "  FT_matrix_N = FT['N']\n",
        "  FT_matrix_D = FT['D']\n",
        "\n",
        "  temp_D = FT_matrix_D.reshape((FT_matrix_D.shape[0],FT_matrix_D.shape[2],FT_matrix_D.shape[1]))\n",
        "  temp_N = FT_matrix_N.reshape((FT_matrix_N.shape[0],FT_matrix_N.shape[2],FT_matrix_N.shape[1]))\n",
        "  #or d in range(FT_matrix.shape[0]):\n",
        "  scaler = StandardScaler()\n",
        "\n",
        "  for n in range(FT_matrix_N.shape[0]):\n",
        "    temp_N[n]= scaler.fit_transform(FT_matrix_N[n].T)\n",
        "  \n",
        "  for d in range(FT_matrix_D.shape[0]):\n",
        "    temp_D[d]= scaler.fit_transform(FT_matrix_D[d].T)\n",
        "\n",
        "    \n",
        "  for n in range(FT_matrix_N.shape[0]):\n",
        "    FT_matrix_N[n]= temp_N[n].T\n",
        "  \n",
        "  for d in range(FT_matrix_D.shape[0]):\n",
        "    FT_matrix_D[d]= temp_D[d].T\n",
        "    \n",
        "    \n",
        "  plt.figure()\n",
        "  plt.plot(f,FT_matrix_D[56,8])\n",
        "  FT_matrix_D.shape, FT_matrix_N.shape\n",
        "  \n",
        "  Data = np.vstack((FT_matrix_N, FT_matrix_D))\n",
        "  target = np.hstack((np.ones(FT_matrix_N.shape[0]), np.zeros(FT_matrix_D.shape[0])))\n",
        "  \n",
        "  Data, target = shuffle(Data, target)\n",
        "\n",
        "  return Data, target\n"
      ],
      "execution_count": 0,
      "outputs": []
    },
    {
      "cell_type": "code",
      "metadata": {
        "id": "dVVoWk9jSCJB",
        "colab_type": "code",
        "colab": {}
      },
      "source": [
        "def Clear_FDomain_():\n",
        "  index = np.arange(0,512*30)\n",
        "  f = np.linspace(0,512,512*30)\n",
        "  f_max = f[len(f[f<120])]\n",
        "  ind_min = 2\n",
        "  ind_max = list(index[f==f_max])[0]\n",
        "  f_min = f[ind_min]\n",
        "\n",
        "  print('The f_min is {}\\nThe f_max is {}\\nThe ind_min is {} \\nAnd the ind_max is {}'.format(f_min, f_max, ind_min, ind_max))\n",
        "\n",
        "\n",
        "  sam_FT = np.abs(np.fft.fft(DATA_[6][7]))\n",
        "\n",
        "  # The 50 Htz noise elimination information\n",
        "\n",
        "  f_45 = f>45\n",
        "  f_55 = f<55\n",
        "  f_bar = f<45\n",
        "\n",
        "  for i in range(f.shape[0]):\n",
        "    f_bar[i] = f_45[i] and f_55[i]\n",
        "\n",
        "\n",
        "  noise = f[sam_FT == np.max(sam_FT[f_bar])][0]\n",
        "  noise_index = list(index[f==noise])[0] # in range 0, 512*30\n",
        "  del_domain = 40\n",
        "  del_range = [noise_index + i for i in range(-del_domain,del_domain)]\n",
        "  print('The Frequency of noise is:{} and the index of the noise is:{}'.format(noise, noise_index))\n",
        "\n",
        "  \n",
        "  plt.figure()\n",
        "  plt.plot(f_bar)\n",
        "  f = np.linspace(0,512,512*30)[ind_min:ind_max]\n",
        "  \n",
        "  \n",
        "  disorder = [[np.zeros(f.shape[0]) for k in range(19)] for i in range(72)]\n",
        "\n",
        "\n",
        "  FT_ = disorder\n",
        "\n",
        "  from numpy.fft import fft\n",
        "\n",
        "  for d in range(72):\n",
        "      for i in range(19):\n",
        "\n",
        "          FT_[d][i] = np.abs(fft(DATA_[d][i]))[ind_min:ind_max]\n",
        "          FT_[d][i][noise_index-del_domain  - ind_min: noise_index+del_domain - ind_min] = np.average(FT_[d][i][noise_index-del_domain  - ind_min - 120: noise_index+del_domain - ind_min-120])\n",
        "          FT_[d][i][2*noise_index-del_domain - ind_min: 2*noise_index+del_domain - ind_min] = np.average(FT_[d][i][2*noise_index-del_domain - ind_min - 120: 2*noise_index+del_domain - ind_min-120])\n",
        "\n",
        "          \n",
        "  FT_= np.array(FT_)\n",
        "  plt.figure()\n",
        "  plt.plot(f, FT_[56][8])\n",
        "  \n",
        "  \n",
        "  \n",
        "\n",
        "\n",
        "  FT_matrix_D = FT_\n",
        "\n",
        "  temp_D = FT_matrix_D.reshape((FT_matrix_D.shape[0],FT_matrix_D.shape[2],FT_matrix_D.shape[1]))\n",
        "  \n",
        "  #or d in range(FT_matrix.shape[0]):\n",
        "  scaler = StandardScaler()\n",
        "\n",
        "  \n",
        "  \n",
        "  for d in range(FT_matrix_D.shape[0]):\n",
        "    temp_D[d]= scaler.fit_transform(FT_matrix_D[d].T)\n",
        "\n",
        "\n",
        "  \n",
        "  for d in range(FT_matrix_D.shape[0]):\n",
        "    FT_matrix_D[d]= temp_D[d].T\n",
        "    \n",
        "    \n",
        "  plt.figure()\n",
        "  plt.plot(f,FT_matrix_D[56,8])\n",
        "  FT_matrix_D.shape, \n",
        "  \n",
        "  Data = FT_matrix_D\n",
        "  \n",
        "\n",
        "  return Data"
      ],
      "execution_count": 0,
      "outputs": []
    },
    {
      "cell_type": "code",
      "metadata": {
        "id": "oSRmSqX7DcuU",
        "colab_type": "code",
        "outputId": "a7d37b5c-fa17-4fa7-bab3-2c832d04e975",
        "colab": {
          "base_uri": "https://localhost:8080/",
          "height": 1000
        }
      },
      "source": [
        "F_DATA_ = Clear_FDomain_()\n",
        "F_Data, target = Clear_FDomain()"
      ],
      "execution_count": 18,
      "outputs": [
        {
          "output_type": "stream",
          "text": [
            "The f_min is 0.06667100722703301\n",
            "The f_max is 120.00781300865941\n",
            "The ind_min is 2 \n",
            "And the ind_max is 3600\n",
            "The Frequency of noise is:50.003255420274755 and the index of the noise is:1500\n",
            "The f_min is 0.06667100722703301\n",
            "The f_max is 120.00781300865941\n",
            "The ind_min is 2 \n",
            "And the ind_max is 3600\n",
            "The Frequency of noise is:50.103261931115306 and the index of the noise is:1503\n"
          ],
          "name": "stdout"
        },
        {
          "output_type": "display_data",
          "data": {
            "image/png": "[encoded data removed]",
            "text/plain": [
              "<Figure size 432x288 with 1 Axes>"
            ]
          },
          "metadata": {
            "tags": []
          }
        },
        {
          "output_type": "display_data",
          "data": {
            "image/png": "[encoded data removed]",
            "text/plain": [
              "<Figure size 432x288 with 1 Axes>"
            ]
          },
          "metadata": {
            "tags": []
          }
        },
        {
          "output_type": "display_data",
          "data": {
            "image/png": "[encoded data removed]",
            "text/plain": [
              "<Figure size 432x288 with 1 Axes>"
            ]
          },
          "metadata": {
            "tags": []
          }
        },
        {
          "output_type": "display_data",
          "data": {
            "image/png": "[encoded data removed]",
            "text/plain": [
              "<Figure size 432x288 with 1 Axes>"
            ]
          },
          "metadata": {
            "tags": []
          }
        },
        {
          "output_type": "display_data",
          "data": {
            "image/png": "[encoded data removed]",
            "text/plain": [
              "<Figure size 432x288 with 1 Axes>"
            ]
          },
          "metadata": {
            "tags": []
          }
        },
        {
          "output_type": "display_data",
          "data": {
            "image/png": "[encoded data removed]",
            "text/plain": [
              "<Figure size 432x288 with 1 Axes>"
            ]
          },
          "metadata": {
            "tags": []
          }
        }
      ]
    },
    {
      "cell_type": "code",
      "metadata": {
        "id": "PT0QkI2UDu0B",
        "colab_type": "code",
        "colab": {
          "base_uri": "https://localhost:8080/",
          "height": 286
        },
        "outputId": "85a286a1-9c05-4874-b423-191fe2e51b9c"
      },
      "source": [
        "plt.plot(F_DATA_[2].reshape(-1,1))\n",
        "F_DATA_[2].reshape(-1,1).shape"
      ],
      "execution_count": 19,
      "outputs": [
        {
          "output_type": "execute_result",
          "data": {
            "text/plain": [
              "(68362, 1)"
            ]
          },
          "metadata": {
            "tags": []
          },
          "execution_count": 19
        },
        {
          "output_type": "display_data",
          "data": {
            "image/png": "[encoded data removed]",
            "text/plain": [
              "<Figure size 432x288 with 1 Axes>"
            ]
          },
          "metadata": {
            "tags": []
          }
        }
      ]
    },
    {
      "cell_type": "code",
      "metadata": {
        "id": "urLADEQPVOqg",
        "colab_type": "code",
        "colab": {
          "base_uri": "https://localhost:8080/",
          "height": 286
        },
        "outputId": "c10978ef-a59a-4ebd-e563-9c1bebdfbfb8"
      },
      "source": [
        "plt.plot(F_Data[2].reshape(-1,1))\n",
        "F_Data[2].reshape(-1,1).shape"
      ],
      "execution_count": 20,
      "outputs": [
        {
          "output_type": "execute_result",
          "data": {
            "text/plain": [
              "(68362, 1)"
            ]
          },
          "metadata": {
            "tags": []
          },
          "execution_count": 20
        },
        {
          "output_type": "display_data",
          "data": {
            "image/png": "[encoded data removed]",
            "text/plain": [
              "<Figure size 432x288 with 1 Axes>"
            ]
          },
          "metadata": {
            "tags": []
          }
        }
      ]
    },
    {
      "cell_type": "code",
      "metadata": {
        "id": "Ap5q604kka_E",
        "colab_type": "code",
        "colab": {}
      },
      "source": [
        ""
      ],
      "execution_count": 0,
      "outputs": []
    },
    {
      "cell_type": "markdown",
      "metadata": {
        "id": "dyYRRjs1NqKY",
        "colab_type": "text"
      },
      "source": [
        "# Generating the Time Sequence dataset"
      ]
    },
    {
      "cell_type": "code",
      "metadata": {
        "id": "Aj1xwkABWBL3",
        "colab_type": "code",
        "colab": {}
      },
      "source": [
        "def Clear_TDomain():\n",
        "  \n",
        "  T_D = np.array(data['D'])\n",
        "  T_N = np.array(data['N'])\n",
        "  temp_D = T_D.reshape((T_D.shape[0],T_D.shape[2],T_D.shape[1]))\n",
        "  temp_N = T_N.reshape((T_N.shape[0],T_N.shape[2],T_N.shape[1]))\n",
        "  scaler = StandardScaler()\n",
        "\n",
        "  for n in range(T_N.shape[0]):\n",
        "      temp_N[n]= scaler.fit_transform(T_N[n].T)\n",
        "\n",
        "  for d in range(T_D.shape[0]):\n",
        "    temp_D[d]= scaler.fit_transform(T_D[d].T)\n",
        "\n",
        "\n",
        "  for n in range(T_N.shape[0]):\n",
        "    T_N[n]= temp_N[n].T\n",
        "\n",
        "  for d in range(T_D.shape[0]):\n",
        "    T_D[d]= temp_D[d].T\n",
        "\n",
        "  plt.plot(T_D[3][5])\n",
        "  \n",
        "  Data = np.vstack((T_N, T_D))\n",
        "  target = np.hstack((np.ones(T_N.shape[0]), np.zeros(T_D.shape[0])))\n",
        "  \n",
        "  Data, target = shuffle(Data, target)\n",
        "  \n",
        "  return Data, target"
      ],
      "execution_count": 0,
      "outputs": []
    },
    {
      "cell_type": "code",
      "metadata": {
        "id": "3NzA-fjvN9xN",
        "colab_type": "code",
        "colab": {}
      },
      "source": [
        ""
      ],
      "execution_count": 0,
      "outputs": []
    },
    {
      "cell_type": "code",
      "metadata": {
        "id": "xl3ZDtDrN-94",
        "colab_type": "code",
        "colab": {
          "base_uri": "https://localhost:8080/",
          "height": 269
        },
        "outputId": "fc345d9c-b2f0-465c-d3c5-b0c9a8702ba0"
      },
      "source": [
        "T_Data, T_target = Clear_TDomain()"
      ],
      "execution_count": 22,
      "outputs": [
        {
          "output_type": "display_data",
          "data": {
            "image/png": "[encoded data removed]",
            "text/plain": [
              "<Figure size 432x288 with 1 Axes>"
            ]
          },
          "metadata": {
            "tags": []
          }
        }
      ]
    },
    {
      "cell_type": "code",
      "metadata": {
        "id": "Tg18Dog3VdJX",
        "colab_type": "code",
        "colab": {}
      },
      "source": [
        "def Clear_TDomain_():\n",
        "  \n",
        "  T_D = np.array(DATA_)\n",
        "\n",
        "  temp_D = T_D.reshape((T_D.shape[0],T_D.shape[2],T_D.shape[1]))\n",
        "  scaler = StandardScaler()\n",
        "\n",
        "\n",
        "  for d in range(T_D.shape[0]):\n",
        "    temp_D[d]= scaler.fit_transform(T_D[d].T)\n",
        "\n",
        "\n",
        "  for d in range(T_D.shape[0]):\n",
        "    T_D[d]= temp_D[d].T\n",
        "\n",
        "  plt.plot(T_D[3][5])\n",
        "  \n",
        "  Data = T_D\n",
        "\n",
        "  \n",
        "  return Data"
      ],
      "execution_count": 0,
      "outputs": []
    },
    {
      "cell_type": "code",
      "metadata": {
        "id": "BJg9KPw3U8Sm",
        "colab_type": "code",
        "colab": {
          "base_uri": "https://localhost:8080/",
          "height": 269
        },
        "outputId": "193b2015-f063-42f7-e5ad-09e1ad8922e5"
      },
      "source": [
        "T_DATA_  = Clear_TDomain_()"
      ],
      "execution_count": 24,
      "outputs": [
        {
          "output_type": "display_data",
          "data": {
            "image/png": "[encoded data removed]",
            "text/plain": [
              "<Figure size 432x288 with 1 Axes>"
            ]
          },
          "metadata": {
            "tags": []
          }
        }
      ]
    },
    {
      "cell_type": "markdown",
      "metadata": {
        "id": "nyYkOJbEfp2A",
        "colab_type": "text"
      },
      "source": [
        "#PCA"
      ]
    },
    {
      "cell_type": "code",
      "metadata": {
        "id": "FDId7Zhefrnf",
        "colab_type": "code",
        "colab": {
          "base_uri": "https://localhost:8080/",
          "height": 34
        },
        "outputId": "816fbcc0-c9fe-4cd1-86e8-a036c55896b9"
      },
      "source": [
        "pca = PCA(n_components = 0.95)\n",
        "pca.fit(F_Data.reshape(F_Data.shape[0],-1))\n",
        "F_pca = pca.transform(F_Data.reshape(F_Data.shape[0],-1))\n",
        "F_pca.shape\n",
        "\n",
        "\n",
        "F_pca_ = pca.transform(F_DATA_.reshape(F_DATA_.shape[0],-1))\n",
        "F_pca_.shape"
      ],
      "execution_count": 25,
      "outputs": [
        {
          "output_type": "execute_result",
          "data": {
            "text/plain": [
              "(72, 1114)"
            ]
          },
          "metadata": {
            "tags": []
          },
          "execution_count": 25
        }
      ]
    },
    {
      "cell_type": "markdown",
      "metadata": {
        "id": "yTSh-pAUNcmZ",
        "colab_type": "text"
      },
      "source": [
        "# KNN for the FT Data set"
      ]
    },
    {
      "cell_type": "code",
      "metadata": {
        "id": "dFWEHyg0NcOF",
        "colab_type": "code",
        "colab": {
          "base_uri": "https://localhost:8080/",
          "height": 1000
        },
        "outputId": "8c17412a-7c19-4b0b-97b2-43f55db3832c"
      },
      "source": [
        "X_train, X_test, y_train, y_test = train_test_split(F_pca, target, random_state=42)\n",
        "X  = F_pca_\n",
        "\n",
        "#del F_pca\n",
        "\n",
        "from sklearn.neighbors import KNeighborsClassifier\n",
        "\n",
        "\n",
        "y_pred_list_knn = []\n",
        "y_pred_knn=0\n",
        "for i in range(30):\n",
        "  \n",
        "  rand = int(np.random.random()*40)+1\n",
        "  #print('rand = {}'.format(rand))\n",
        "  knn = KNeighborsClassifier(n_neighbors = rand)\n",
        "  knn.fit(X_train, y_train)\n",
        "  y_pred = knn.predict(X_test)\n",
        "  y_pred_knn += knn.predict(X)\n",
        "  \n",
        "  y_pred_list_knn.append(y_pred)\n",
        "  print('the progress is {}%'.format(int((i+1)/30 * 100)))\n",
        "\n",
        "\n",
        "\n",
        "yy  = np.array(y_pred_list_knn)\n",
        "shape=yy.shape[0]\n",
        "\n",
        "a=0\n",
        "for i in range(shape):\n",
        "\n",
        "  a +=yy[i]\n",
        "\n",
        "\n",
        "a[a/shape<=0.5]=0\n",
        "a[a/shape>0.5]=1\n",
        "\n",
        "y_pred_knn[y_pred_knn/shape<=0.5]=0\n",
        "y_pred_knn[y_pred_knn/shape>0.5]=1\n",
        "y_knn = y_pred\n",
        "print(classification_report(a,y_test))\n",
        "print(a)\n"
      ],
      "execution_count": 26,
      "outputs": [
        {
          "output_type": "stream",
          "text": [
            "the progress is 3%\n",
            "the progress is 6%\n",
            "the progress is 10%\n",
            "the progress is 13%\n",
            "the progress is 16%\n",
            "the progress is 20%\n",
            "the progress is 23%\n",
            "the progress is 26%\n",
            "the progress is 30%\n",
            "the progress is 33%\n",
            "the progress is 36%\n",
            "the progress is 40%\n",
            "the progress is 43%\n",
            "the progress is 46%\n",
            "the progress is 50%\n",
            "the progress is 53%\n",
            "the progress is 56%\n",
            "the progress is 60%\n",
            "the progress is 63%\n",
            "the progress is 66%\n",
            "the progress is 70%\n",
            "the progress is 73%\n",
            "the progress is 76%\n",
            "the progress is 80%\n",
            "the progress is 83%\n",
            "the progress is 86%\n",
            "the progress is 90%\n",
            "the progress is 93%\n",
            "the progress is 96%\n",
            "the progress is 100%\n",
            "              precision    recall  f1-score   support\n",
            "\n",
            "         0.0       0.97      0.98      0.98       292\n",
            "         1.0       0.98      0.97      0.98       285\n",
            "\n",
            "    accuracy                           0.98       577\n",
            "   macro avg       0.98      0.98      0.98       577\n",
            "weighted avg       0.98      0.98      0.98       577\n",
            "\n",
            "[0. 0. 1. 1. 1. 1. 0. 1. 1. 1. 1. 0. 1. 1. 1. 1. 0. 1. 1. 1. 0. 1. 0. 1.\n",
            " 0. 1. 1. 0. 0. 1. 1. 1. 1. 1. 0. 0. 1. 0. 1. 0. 0. 0. 1. 0. 1. 0. 0. 0.\n",
            " 1. 0. 0. 0. 1. 1. 1. 1. 0. 1. 0. 0. 0. 0. 1. 0. 0. 1. 0. 0. 1. 1. 0. 1.\n",
            " 1. 1. 0. 1. 0. 0. 1. 0. 0. 1. 1. 0. 1. 1. 1. 0. 1. 0. 1. 0. 1. 0. 1. 0.\n",
            " 1. 0. 0. 0. 0. 0. 0. 1. 1. 1. 0. 0. 0. 0. 0. 1. 1. 0. 1. 1. 1. 1. 1. 1.\n",
            " 1. 0. 1. 0. 1. 0. 0. 1. 1. 0. 1. 1. 0. 1. 1. 0. 0. 0. 0. 0. 0. 0. 1. 0.\n",
            " 0. 0. 1. 1. 1. 1. 1. 1. 1. 0. 1. 1. 1. 1. 1. 0. 1. 1. 0. 1. 1. 1. 1. 1.\n",
            " 1. 1. 0. 0. 0. 0. 1. 1. 0. 1. 0. 1. 0. 1. 1. 0. 1. 0. 0. 0. 0. 1. 0. 1.\n",
            " 0. 0. 0. 1. 1. 0. 0. 1. 0. 1. 1. 0. 1. 1. 0. 0. 1. 1. 0. 0. 0. 1. 1. 1.\n",
            " 1. 0. 0. 0. 1. 0. 0. 0. 0. 1. 0. 0. 0. 0. 1. 1. 0. 0. 0. 0. 1. 1. 0. 0.\n",
            " 1. 1. 1. 1. 0. 1. 0. 0. 1. 0. 0. 0. 0. 1. 0. 1. 1. 1. 0. 1. 0. 0. 0. 1.\n",
            " 0. 0. 0. 1. 0. 1. 0. 0. 1. 0. 0. 0. 0. 0. 1. 1. 0. 0. 1. 1. 0. 1. 0. 0.\n",
            " 0. 1. 0. 0. 1. 1. 0. 0. 1. 1. 1. 1. 0. 0. 0. 0. 1. 1. 1. 1. 0. 0. 0. 1.\n",
            " 0. 1. 0. 1. 0. 1. 0. 1. 1. 0. 1. 1. 0. 1. 1. 1. 1. 1. 0. 1. 0. 0. 0. 1.\n",
            " 0. 1. 1. 1. 1. 1. 0. 1. 0. 1. 1. 0. 0. 1. 1. 0. 0. 1. 0. 1. 1. 1. 1. 0.\n",
            " 1. 1. 0. 0. 0. 0. 0. 0. 1. 1. 0. 0. 1. 0. 0. 1. 0. 0. 0. 0. 0. 0. 0. 1.\n",
            " 0. 0. 1. 0. 0. 0. 1. 1. 0. 1. 1. 1. 1. 0. 1. 0. 1. 1. 1. 0. 1. 0. 1. 1.\n",
            " 0. 0. 1. 0. 1. 0. 1. 0. 1. 0. 1. 0. 1. 0. 1. 1. 0. 0. 1. 0. 1. 0. 1. 1.\n",
            " 0. 1. 1. 0. 1. 1. 1. 1. 0. 1. 0. 1. 1. 1. 0. 1. 1. 0. 1. 0. 1. 0. 1. 0.\n",
            " 1. 1. 0. 1. 0. 0. 0. 0. 1. 1. 0. 1. 1. 0. 0. 0. 0. 1. 0. 1. 1. 1. 0. 1.\n",
            " 1. 0. 0. 0. 0. 1. 1. 1. 1. 1. 0. 1. 1. 0. 1. 1. 0. 0. 1. 1. 1. 0. 0. 0.\n",
            " 1. 0. 0. 0. 1. 0. 0. 0. 1. 1. 0. 0. 0. 0. 0. 0. 0. 0. 0. 1. 0. 1. 1. 1.\n",
            " 0. 0. 0. 0. 0. 0. 1. 0. 0. 1. 0. 1. 1. 1. 0. 1. 1. 0. 0. 1. 1. 1. 0. 0.\n",
            " 0. 0. 1. 0. 1. 0. 1. 0. 1. 1. 0. 1. 0. 0. 1. 0. 0. 1. 0. 1. 0. 0. 0. 0.\n",
            " 1.]\n"
          ],
          "name": "stdout"
        }
      ]
    },
    {
      "cell_type": "code",
      "metadata": {
        "id": "G6JQgh8DaYmr",
        "colab_type": "code",
        "colab": {
          "base_uri": "https://localhost:8080/",
          "height": 104
        },
        "outputId": "3f4d9980-f9e5-43ff-cfad-b18e043bc70c"
      },
      "source": [
        "y_pred_knn"
      ],
      "execution_count": 27,
      "outputs": [
        {
          "output_type": "execute_result",
          "data": {
            "text/plain": [
              "array([0., 0., 1., 0., 1., 0., 0., 0., 0., 0., 0., 0., 1., 0., 0., 0., 0.,\n",
              "       0., 0., 1., 0., 1., 0., 1., 0., 1., 1., 0., 0., 1., 1., 0., 1., 0.,\n",
              "       0., 1., 0., 1., 0., 0., 0., 0., 0., 0., 0., 0., 1., 0., 0., 0., 0.,\n",
              "       1., 0., 0., 0., 0., 0., 1., 0., 1., 1., 0., 1., 1., 0., 0., 1., 1.,\n",
              "       0., 1., 0., 1.])"
            ]
          },
          "metadata": {
            "tags": []
          },
          "execution_count": 27
        }
      ]
    },
    {
      "cell_type": "markdown",
      "metadata": {
        "id": "UAumWw8vY2JR",
        "colab_type": "text"
      },
      "source": [
        "# Decision Tree"
      ]
    },
    {
      "cell_type": "code",
      "metadata": {
        "id": "3aOJDLxGY6r0",
        "colab_type": "code",
        "colab": {
          "base_uri": "https://localhost:8080/",
          "height": 955
        },
        "outputId": "ab3d82b8-cec7-45bf-9e10-a0de730569df"
      },
      "source": [
        "#X_train, X_test, y_train, y_test = train_test_split(F_pca, F_target)\n",
        "#X = F_pca_\n",
        "\n",
        "\n",
        "from sklearn.tree import DecisionTreeClassifier\n",
        "\n",
        "\n",
        "\n",
        "\n",
        "y_pred_list_tree = []\n",
        "y_pred_tree=0\n",
        "for i in range(20):\n",
        "  \n",
        "  rand = int(np.random.random()*30)+6\n",
        "  #print('rand = {}'.format(rand))\n",
        "  tree_list = []\n",
        "  tree = DecisionTreeClassifier(max_depth=rand)\n",
        "\n",
        "  tree.fit(X_train, y_train)\n",
        "  y_pred = tree.predict(X_test)\n",
        "  \n",
        "  y_pred_tree += tree.predict(X)\n",
        "  \n",
        "  y_pred_list_tree.append(y_pred)\n",
        "\n",
        "  print('the progress is {}%'.format(int((i+1)/20 * 100)))\n",
        "\n",
        "\n",
        "yy  = np.array(y_pred_list_tree)\n",
        "shape=yy.shape[0]\n",
        "\n",
        "a=0\n",
        "for i in range(shape):\n",
        "\n",
        "  a +=yy[i]\n",
        "\n",
        "\n",
        "a[a/shape<=0.5]=0\n",
        "a[a/shape>0.5]=1\n",
        "\n",
        "y_pred_tree[y_pred_tree/shape<=0.5]=0\n",
        "y_pred_tree[y_pred_tree/shape>0.5]=1\n",
        "y_tree = y_pred\n",
        "print(a)\n",
        "print(classification_report(a,y_test))"
      ],
      "execution_count": 28,
      "outputs": [
        {
          "output_type": "stream",
          "text": [
            "the progress is 5%\n",
            "the progress is 10%\n",
            "the progress is 15%\n",
            "the progress is 20%\n",
            "the progress is 25%\n",
            "the progress is 30%\n",
            "the progress is 35%\n",
            "the progress is 40%\n",
            "the progress is 45%\n",
            "the progress is 50%\n",
            "the progress is 55%\n",
            "the progress is 60%\n",
            "the progress is 65%\n",
            "the progress is 70%\n",
            "the progress is 75%\n",
            "the progress is 80%\n",
            "the progress is 85%\n",
            "the progress is 90%\n",
            "the progress is 95%\n",
            "the progress is 100%\n",
            "[0. 0. 1. 1. 0. 1. 0. 1. 1. 1. 1. 0. 1. 1. 1. 1. 0. 1. 1. 1. 0. 1. 0. 1.\n",
            " 0. 1. 1. 0. 1. 0. 1. 0. 1. 1. 0. 1. 1. 0. 1. 0. 0. 0. 1. 0. 1. 0. 0. 0.\n",
            " 1. 0. 0. 0. 1. 1. 1. 1. 0. 1. 0. 0. 1. 0. 1. 0. 0. 1. 0. 0. 1. 1. 0. 1.\n",
            " 0. 0. 0. 1. 0. 0. 1. 0. 0. 1. 1. 0. 1. 1. 1. 0. 1. 0. 1. 0. 1. 0. 1. 0.\n",
            " 1. 0. 0. 0. 0. 0. 0. 1. 1. 1. 1. 0. 0. 0. 0. 1. 1. 0. 1. 1. 1. 1. 1. 1.\n",
            " 1. 0. 1. 0. 1. 0. 0. 1. 1. 0. 1. 1. 0. 1. 1. 0. 0. 1. 0. 0. 0. 0. 1. 1.\n",
            " 0. 0. 1. 1. 1. 1. 1. 1. 1. 0. 0. 1. 1. 0. 1. 0. 1. 1. 0. 1. 1. 1. 1. 1.\n",
            " 1. 1. 0. 0. 0. 0. 1. 1. 0. 1. 0. 1. 0. 1. 1. 0. 0. 0. 0. 0. 1. 1. 0. 1.\n",
            " 0. 1. 0. 1. 1. 0. 0. 1. 0. 1. 1. 0. 1. 1. 1. 0. 0. 1. 0. 0. 0. 1. 1. 1.\n",
            " 1. 0. 0. 0. 1. 0. 0. 0. 0. 1. 0. 0. 0. 0. 1. 1. 0. 0. 0. 0. 0. 1. 0. 0.\n",
            " 0. 1. 1. 1. 0. 1. 0. 0. 0. 0. 0. 0. 0. 1. 0. 1. 1. 0. 0. 0. 0. 0. 0. 1.\n",
            " 0. 0. 0. 1. 0. 0. 0. 1. 1. 0. 0. 0. 0. 0. 1. 1. 0. 0. 1. 1. 0. 0. 0. 0.\n",
            " 0. 1. 0. 0. 1. 1. 0. 0. 1. 1. 1. 1. 0. 0. 0. 0. 1. 1. 1. 1. 0. 0. 0. 1.\n",
            " 0. 0. 0. 1. 0. 0. 0. 1. 0. 0. 1. 1. 0. 1. 1. 1. 1. 1. 0. 1. 0. 0. 1. 1.\n",
            " 1. 1. 1. 0. 1. 1. 0. 1. 0. 1. 1. 0. 0. 1. 1. 0. 0. 1. 0. 1. 1. 1. 1. 1.\n",
            " 0. 1. 0. 0. 0. 0. 1. 0. 1. 1. 0. 0. 1. 0. 0. 1. 0. 0. 1. 1. 0. 0. 1. 1.\n",
            " 0. 0. 1. 0. 0. 1. 1. 1. 0. 0. 1. 1. 1. 0. 0. 0. 1. 1. 1. 0. 1. 0. 0. 1.\n",
            " 0. 0. 1. 0. 1. 0. 0. 0. 1. 0. 1. 0. 1. 0. 0. 1. 0. 1. 1. 0. 1. 0. 1. 1.\n",
            " 0. 1. 1. 0. 1. 1. 1. 0. 0. 1. 1. 1. 1. 1. 0. 1. 1. 0. 1. 0. 1. 0. 1. 0.\n",
            " 1. 1. 0. 1. 0. 0. 0. 0. 1. 1. 0. 1. 1. 0. 0. 0. 0. 1. 0. 1. 1. 0. 0. 1.\n",
            " 1. 1. 0. 0. 0. 1. 1. 1. 1. 1. 0. 1. 1. 0. 1. 0. 0. 0. 1. 1. 1. 0. 0. 0.\n",
            " 1. 0. 0. 0. 1. 0. 0. 0. 1. 1. 0. 0. 0. 0. 0. 0. 0. 0. 0. 1. 0. 1. 0. 1.\n",
            " 0. 0. 0. 0. 0. 0. 1. 0. 0. 0. 0. 1. 1. 1. 1. 1. 1. 0. 0. 1. 0. 1. 0. 0.\n",
            " 0. 0. 1. 0. 1. 0. 1. 0. 0. 1. 0. 1. 0. 0. 1. 0. 0. 1. 0. 1. 0. 0. 0. 0.\n",
            " 0.]\n",
            "              precision    recall  f1-score   support\n",
            "\n",
            "         0.0       0.93      0.90      0.91       304\n",
            "         1.0       0.89      0.92      0.91       273\n",
            "\n",
            "    accuracy                           0.91       577\n",
            "   macro avg       0.91      0.91      0.91       577\n",
            "weighted avg       0.91      0.91      0.91       577\n",
            "\n"
          ],
          "name": "stdout"
        }
      ]
    },
    {
      "cell_type": "code",
      "metadata": {
        "id": "-4hqcxNlaLgG",
        "colab_type": "code",
        "colab": {
          "base_uri": "https://localhost:8080/",
          "height": 34
        },
        "outputId": "3d4cd192-8286-443e-812a-666ae69e99ab"
      },
      "source": [
        "F_pca_.shape"
      ],
      "execution_count": 29,
      "outputs": [
        {
          "output_type": "execute_result",
          "data": {
            "text/plain": [
              "(72, 1114)"
            ]
          },
          "metadata": {
            "tags": []
          },
          "execution_count": 29
        }
      ]
    },
    {
      "cell_type": "markdown",
      "metadata": {
        "id": "sUCB1-3qY9QQ",
        "colab_type": "text"
      },
      "source": [
        "# Random Forest"
      ]
    },
    {
      "cell_type": "code",
      "metadata": {
        "id": "cnGsNO5iZBrl",
        "colab_type": "code",
        "colab": {
          "base_uri": "https://localhost:8080/",
          "height": 955
        },
        "outputId": "a227b5cd-1b07-48a6-afd6-6b959d3f713b"
      },
      "source": [
        "#X_train, X_test, y_train, y_test = train_test_split(F_pca, F_target)\n",
        "#X = F_pca_\n",
        "\n",
        "\n",
        "from sklearn.ensemble import RandomForestClassifier\n",
        "y_pred_list_rand_tree = []\n",
        "y_pred_randtree=0\n",
        "y_pred=0\n",
        "for i in range(20):\n",
        "  \n",
        "  \n",
        "  rand = int(np.random.normal(2000,200))\n",
        "  #print('rand = {}'.format(rand))\n",
        "\n",
        "  rand_tree = RandomForestClassifier(n_estimators=rand, max_depth=15, n_jobs=-1)\n",
        "\n",
        "  rand_tree.fit(X_train, y_train)\n",
        "  \n",
        "  y_pred += rand_tree.predict(X_test)\n",
        "  y_pred_randtree += rand_tree.predict(X)\n",
        "  \n",
        "  y_pred_list_rand_tree.append(y_pred)\n",
        "  print('the progress is {}%'.format(int((i+1)/20 * 100)))\n",
        "\n",
        "\n",
        "shape=yy.shape[0]\n",
        "\n",
        "\n",
        "\n",
        "\n",
        "\n",
        "\n",
        "y_pred[y_pred/shape<=0.5]=0\n",
        "y_pred[y_pred/shape>0.5]=1\n",
        "\n",
        "y_rand_tree = y_pred\n",
        "\n",
        "y_pred_randtree[y_pred_randtree/shape<=0.5]=0\n",
        "y_pred_randtree[y_pred_randtree/shape>0.5]=1\n",
        "\n",
        "print(a)\n",
        "print(classification_report(a,y_test))"
      ],
      "execution_count": 30,
      "outputs": [
        {
          "output_type": "stream",
          "text": [
            "the progress is 5%\n",
            "the progress is 10%\n",
            "the progress is 15%\n",
            "the progress is 20%\n",
            "the progress is 25%\n",
            "the progress is 30%\n",
            "the progress is 35%\n",
            "the progress is 40%\n",
            "the progress is 45%\n",
            "the progress is 50%\n",
            "the progress is 55%\n",
            "the progress is 60%\n",
            "the progress is 65%\n",
            "the progress is 70%\n",
            "the progress is 75%\n",
            "the progress is 80%\n",
            "the progress is 85%\n",
            "the progress is 90%\n",
            "the progress is 95%\n",
            "the progress is 100%\n",
            "[0. 0. 1. 1. 0. 1. 0. 1. 1. 1. 1. 0. 1. 1. 1. 1. 0. 1. 1. 1. 0. 1. 0. 1.\n",
            " 0. 1. 1. 0. 1. 0. 1. 0. 1. 1. 0. 1. 1. 0. 1. 0. 0. 0. 1. 0. 1. 0. 0. 0.\n",
            " 1. 0. 0. 0. 1. 1. 1. 1. 0. 1. 0. 0. 1. 0. 1. 0. 0. 1. 0. 0. 1. 1. 0. 1.\n",
            " 0. 0. 0. 1. 0. 0. 1. 0. 0. 1. 1. 0. 1. 1. 1. 0. 1. 0. 1. 0. 1. 0. 1. 0.\n",
            " 1. 0. 0. 0. 0. 0. 0. 1. 1. 1. 1. 0. 0. 0. 0. 1. 1. 0. 1. 1. 1. 1. 1. 1.\n",
            " 1. 0. 1. 0. 1. 0. 0. 1. 1. 0. 1. 1. 0. 1. 1. 0. 0. 1. 0. 0. 0. 0. 1. 1.\n",
            " 0. 0. 1. 1. 1. 1. 1. 1. 1. 0. 0. 1. 1. 0. 1. 0. 1. 1. 0. 1. 1. 1. 1. 1.\n",
            " 1. 1. 0. 0. 0. 0. 1. 1. 0. 1. 0. 1. 0. 1. 1. 0. 0. 0. 0. 0. 1. 1. 0. 1.\n",
            " 0. 1. 0. 1. 1. 0. 0. 1. 0. 1. 1. 0. 1. 1. 1. 0. 0. 1. 0. 0. 0. 1. 1. 1.\n",
            " 1. 0. 0. 0. 1. 0. 0. 0. 0. 1. 0. 0. 0. 0. 1. 1. 0. 0. 0. 0. 0. 1. 0. 0.\n",
            " 0. 1. 1. 1. 0. 1. 0. 0. 0. 0. 0. 0. 0. 1. 0. 1. 1. 0. 0. 0. 0. 0. 0. 1.\n",
            " 0. 0. 0. 1. 0. 0. 0. 1. 1. 0. 0. 0. 0. 0. 1. 1. 0. 0. 1. 1. 0. 0. 0. 0.\n",
            " 0. 1. 0. 0. 1. 1. 0. 0. 1. 1. 1. 1. 0. 0. 0. 0. 1. 1. 1. 1. 0. 0. 0. 1.\n",
            " 0. 0. 0. 1. 0. 0. 0. 1. 0. 0. 1. 1. 0. 1. 1. 1. 1. 1. 0. 1. 0. 0. 1. 1.\n",
            " 1. 1. 1. 0. 1. 1. 0. 1. 0. 1. 1. 0. 0. 1. 1. 0. 0. 1. 0. 1. 1. 1. 1. 1.\n",
            " 0. 1. 0. 0. 0. 0. 1. 0. 1. 1. 0. 0. 1. 0. 0. 1. 0. 0. 1. 1. 0. 0. 1. 1.\n",
            " 0. 0. 1. 0. 0. 1. 1. 1. 0. 0. 1. 1. 1. 0. 0. 0. 1. 1. 1. 0. 1. 0. 0. 1.\n",
            " 0. 0. 1. 0. 1. 0. 0. 0. 1. 0. 1. 0. 1. 0. 0. 1. 0. 1. 1. 0. 1. 0. 1. 1.\n",
            " 0. 1. 1. 0. 1. 1. 1. 0. 0. 1. 1. 1. 1. 1. 0. 1. 1. 0. 1. 0. 1. 0. 1. 0.\n",
            " 1. 1. 0. 1. 0. 0. 0. 0. 1. 1. 0. 1. 1. 0. 0. 0. 0. 1. 0. 1. 1. 0. 0. 1.\n",
            " 1. 1. 0. 0. 0. 1. 1. 1. 1. 1. 0. 1. 1. 0. 1. 0. 0. 0. 1. 1. 1. 0. 0. 0.\n",
            " 1. 0. 0. 0. 1. 0. 0. 0. 1. 1. 0. 0. 0. 0. 0. 0. 0. 0. 0. 1. 0. 1. 0. 1.\n",
            " 0. 0. 0. 0. 0. 0. 1. 0. 0. 0. 0. 1. 1. 1. 1. 1. 1. 0. 0. 1. 0. 1. 0. 0.\n",
            " 0. 0. 1. 0. 1. 0. 1. 0. 0. 1. 0. 1. 0. 0. 1. 0. 0. 1. 0. 1. 0. 0. 0. 0.\n",
            " 0.]\n",
            "              precision    recall  f1-score   support\n",
            "\n",
            "         0.0       0.93      0.90      0.91       304\n",
            "         1.0       0.89      0.92      0.91       273\n",
            "\n",
            "    accuracy                           0.91       577\n",
            "   macro avg       0.91      0.91      0.91       577\n",
            "weighted avg       0.91      0.91      0.91       577\n",
            "\n"
          ],
          "name": "stdout"
        }
      ]
    },
    {
      "cell_type": "markdown",
      "metadata": {
        "id": "6TRAOgeiZC7t",
        "colab_type": "text"
      },
      "source": [
        "# RNN"
      ]
    },
    {
      "cell_type": "code",
      "metadata": {
        "id": "jQWfrxGfZIbm",
        "colab_type": "code",
        "colab": {
          "base_uri": "https://localhost:8080/",
          "height": 34
        },
        "outputId": "9faf56c2-9d4b-4e6d-d419-517c035ee7d6"
      },
      "source": [
        "from tensorflow import keras\n",
        "from keras.models import Sequential\n",
        "from keras.layers import Dense, LSTM, Dropout\n",
        "from keras.models import Sequential\n",
        "from keras.layers import Dense, Dropout\n",
        "from keras.layers import Embedding\n",
        "from keras.layers import LSTM\n"
      ],
      "execution_count": 31,
      "outputs": [
        {
          "output_type": "stream",
          "text": [
            "Using TensorFlow backend.\n"
          ],
          "name": "stderr"
        }
      ]
    },
    {
      "cell_type": "code",
      "metadata": {
        "id": "y306uPoHZEE7",
        "colab_type": "code",
        "colab": {
          "base_uri": "https://localhost:8080/",
          "height": 34
        },
        "outputId": "d950b8b5-df6a-406a-efb8-a4e9b13a0544"
      },
      "source": [
        "T_DATA_.shape, "
      ],
      "execution_count": 32,
      "outputs": [
        {
          "output_type": "execute_result",
          "data": {
            "text/plain": [
              "((72, 19, 15360),)"
            ]
          },
          "metadata": {
            "tags": []
          },
          "execution_count": 32
        }
      ]
    },
    {
      "cell_type": "code",
      "metadata": {
        "id": "knFqq9teZKEQ",
        "colab_type": "code",
        "colab": {}
      },
      "source": [
        "T_Data = T_Data.reshape(T_Data.shape[0],T_Data.shape[2], T_Data.shape[1])\n",
        "X = T_DATA_.reshape(T_DATA_.shape[0],T_DATA_.shape[1], T_DATA_.shape[2])\n",
        "X_train_T, X_test_T, y_train_T, y_test_T = train_test_split(T_Data, T_target, random_state=42)\n"
      ],
      "execution_count": 0,
      "outputs": []
    },
    {
      "cell_type": "code",
      "metadata": {
        "id": "cO3K5P4m0BXF",
        "colab_type": "code",
        "colab": {
          "base_uri": "https://localhost:8080/",
          "height": 34
        },
        "outputId": "30c5d78d-063f-44c2-eba0-2e223ad9b900"
      },
      "source": [
        "X_train_T.shape, X.shape\n",
        "#Note that the Shape of the Data must be in form of (898, 19, 15360)\n",
        "#If it is not in the mentioned shape please rerun the above cell"
      ],
      "execution_count": 37,
      "outputs": [
        {
          "output_type": "execute_result",
          "data": {
            "text/plain": [
              "((1731, 19, 15360), (72, 19, 15360))"
            ]
          },
          "metadata": {
            "tags": []
          },
          "execution_count": 37
        }
      ]
    },
    {
      "cell_type": "code",
      "metadata": {
        "id": "myGHCCnKZJ6Z",
        "colab_type": "code",
        "colab": {
          "base_uri": "https://localhost:8080/",
          "height": 52
        },
        "outputId": "49c1a7fb-365a-42a3-8be8-cbafc8e9fe7c"
      },
      "source": [
        "\n",
        "model = Sequential()\n",
        "model.add(LSTM(25,return_sequences=False, input_shape=(X_train_T.shape[1], X_train_T.shape[2])))\n",
        "model.add(Dropout(0.5))\n",
        "#model.add(LSTM(100)) dramatically worse results\n",
        "model.add(Dense(15, activation='relu'))\n",
        "model.add(Dropout(0.5))\n",
        "model.add(Dense(10, activation='relu'))\n",
        "model.add(Dense(5, activation='relu'))\n",
        "model.add(Dense(1, activation='sigmoid'))\n",
        "model.compile(loss='binary_crossentropy',\n",
        "              optimizer='rmsprop',\n",
        "              metrics=['accuracy'])\n",
        "\n",
        "model.fit(X_train_T, y_train_T, batch_size=128, epochs=10, validation_data=(X_test_T, y_test_T), verbose=1)\n",
        "\n",
        "y_pred =np.array(model.predict_classes(X_test_T)).reshape(-1)\n",
        "\n",
        "y_rnn = y_pred\n",
        "\n",
        "y_pred_rnn = np.array(model.predict_classes(X)).reshape(-1)\n",
        "print(classification_report(y_pred, y_test_T))\n",
        "print(y_pred)"
      ],
      "execution_count": 0,
      "outputs": [
        {
          "output_type": "stream",
          "text": [
            "Train on 1731 samples, validate on 577 samples\n",
            "Epoch 1/10\n"
          ],
          "name": "stdout"
        }
      ]
    },
    {
      "cell_type": "markdown",
      "metadata": {
        "id": "vj7_DzgWZXlF",
        "colab_type": "text"
      },
      "source": [
        "# SVC"
      ]
    },
    {
      "cell_type": "code",
      "metadata": {
        "id": "IANtw-ZBZW01",
        "colab_type": "code",
        "colab": {}
      },
      "source": [
        "#X_train, X_test, y_train, y_test = train_test_split(F_pca, F_target)\n",
        "X = F_pca_\n",
        "\n",
        "from sklearn import svm\n",
        "svm_model= svm.SVC(kernel='linear')\n",
        "# runnig this algorithm with ariginal data takes very very long time\n",
        "# so for this regressoin i am going to use 'PCA'ed data\n",
        "svm_model.fit(X_train, y_train)\n",
        "score = svm_model.score(X_test, y_test)\n",
        "print(\"the score of the SVC is: {} \".format(score))\n",
        "y_pred_linear = svm_model.predict(X_test)\n",
        "y_pred_linear_svc = svm_model.predict(X)\n",
        "\n",
        "\n",
        "from sklearn import svm\n",
        "svm_model= svm.SVC(kernel='poly')\n",
        "# runnig this algorithm with ariginal data takes very very long time\n",
        "# so for this regressoin i am going to use 'PCA'ed data\n",
        "svm_model.fit(X_train, y_train)\n",
        "score = svm_model.score(X_test, y_test)\n",
        "print(\"the score of the SVC is: {} \".format(score))\n",
        "y_pred_poly = svm_model.predict(X_test)\n",
        "y_pred_poly_svc = svm_model.predict(X)\n",
        "\n",
        "pred = (y_pred_poly+y_pred_linear)/2\n",
        "y_pred_svc = (y_pred_poly_svc+y_pred_linear_svc)/2\n",
        "\n",
        "pred[pred<0.5]=0\n",
        "pred[pred>=0.5]=1\n",
        "\n",
        "y_svc = pred\n",
        "\n",
        "y_pred_svc[y_pred_svc<0.5]=0\n",
        "y_pred_svc[y_pred_svc>=0.5]=1\n",
        "\n",
        "print(pred)\n",
        "print(classification_report(pred, y_test ))"
      ],
      "execution_count": 0,
      "outputs": []
    },
    {
      "cell_type": "markdown",
      "metadata": {
        "id": "R9cPRS2UIMa2",
        "colab_type": "text"
      },
      "source": [
        "## Estimators"
      ]
    },
    {
      "cell_type": "code",
      "metadata": {
        "id": "NGNhFV-OIm9q",
        "colab_type": "code",
        "colab": {}
      },
      "source": [
        "print(y_pred_knn)\n",
        "\n"
      ],
      "execution_count": 0,
      "outputs": []
    },
    {
      "cell_type": "code",
      "metadata": {
        "id": "E46fhPUeZ2Jq",
        "colab_type": "code",
        "colab": {}
      },
      "source": [
        "print(y_pred_tree)\n"
      ],
      "execution_count": 0,
      "outputs": []
    },
    {
      "cell_type": "code",
      "metadata": {
        "id": "HS7a8aOFZ2HB",
        "colab_type": "code",
        "colab": {}
      },
      "source": [
        "print(y_pred_randtree)\n"
      ],
      "execution_count": 0,
      "outputs": []
    },
    {
      "cell_type": "code",
      "metadata": {
        "id": "2dOdKFKnZ2Ek",
        "colab_type": "code",
        "colab": {}
      },
      "source": [
        "print(y_pred_rnn)\n"
      ],
      "execution_count": 0,
      "outputs": []
    },
    {
      "cell_type": "code",
      "metadata": {
        "id": "o-6yulSKZ2A_",
        "colab_type": "code",
        "colab": {}
      },
      "source": [
        "print(y_pred_svc)"
      ],
      "execution_count": 0,
      "outputs": []
    },
    {
      "cell_type": "code",
      "metadata": {
        "id": "QPQxfxoeZ17m",
        "colab_type": "code",
        "colab": {}
      },
      "source": [
        "final_pred = (2*y_pred_knn +y_pred_tree  +y_pred_randtree+2*y_pred_rnn+y_pred_svc)/7\n",
        "\n",
        "final_pred[final_pred<=0.5]=0\n",
        "final_pred[final_pred>0.5]=1\n",
        "print(final_pred)"
      ],
      "execution_count": 0,
      "outputs": []
    },
    {
      "cell_type": "code",
      "metadata": {
        "id": "2yeYAxF0I8SZ",
        "colab_type": "code",
        "colab": {}
      },
      "source": [
        "y_final = (2*y_knn + y_tree + y_rand_tree + 2*y_rnn + y_svc )/7\n",
        "y_final[y_final<=0.5]=0\n",
        "y_final[y_final>0.5]=1\n",
        "print(classification_report(y_final, y_test))"
      ],
      "execution_count": 0,
      "outputs": []
    },
    {
      "cell_type": "code",
      "metadata": {
        "id": "tEk3utuLhp_p",
        "colab_type": "code",
        "colab": {}
      },
      "source": [
        "y_final"
      ],
      "execution_count": 0,
      "outputs": []
    },
    {
      "cell_type": "code",
      "metadata": {
        "id": "gIrgYEWQky-e",
        "colab_type": "code",
        "colab": {}
      },
      "source": [
        ""
      ],
      "execution_count": 0,
      "outputs": []
    }
  ]
}