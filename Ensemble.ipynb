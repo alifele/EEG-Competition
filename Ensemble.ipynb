{
  "nbformat": 4,
  "nbformat_minor": 0,
  "metadata": {
    "colab": {
      "name": "Ensemble.ipynb",
      "provenance": [],
      "machine_shape": "hm",
      "include_colab_link": true
    },
    "kernelspec": {
      "name": "python3",
      "display_name": "Python 3"
    },
    "accelerator": "GPU"
  },
  "cells": [
    {
      "cell_type": "markdown",
      "metadata": {
        "id": "view-in-github",
        "colab_type": "text"
      },
      "source": [
        "<a href=\"https://colab.research.google.com/github/alifele/EEG-computation/blob/master/Ensemble.ipynb\" target=\"_parent\"><img src=\"https://colab.research.google.com/assets/colab-badge.svg\" alt=\"Open In Colab\"/></a>"
      ]
    },
    {
      "cell_type": "markdown",
      "metadata": {
        "id": "ObCpFK2vCbMu",
        "colab_type": "text"
      },
      "source": [
        "## Important Imports"
      ]
    },
    {
      "cell_type": "code",
      "metadata": {
        "id": "kLk5Bg2X7cGK",
        "colab_type": "code",
        "outputId": "3516b764-5811-448a-f3ef-e794c1a06966",
        "colab": {
          "base_uri": "https://localhost:8080/",
          "height": 106
        }
      },
      "source": [
        "!pip install mat4py\n",
        "import numpy as np\n",
        "import matplotlib.pyplot as plt\n",
        "import mat4py as mt\n",
        "import os\n",
        "from IPython.display import Image\n",
        "from IPython.core.display import HTML \n",
        "from itertools import combinations\n",
        "from numpy.fft import fft\n",
        "from sklearn.utils import shuffle\n",
        "from sklearn.model_selection import train_test_split\n",
        "from sklearn.preprocessing import StandardScaler\n",
        "import pandas as pd\n",
        "from sklearn.decomposition import PCA\n",
        "from numpy.fft import fft\n",
        "from sklearn.metrics import classification_report"
      ],
      "execution_count": 1,
      "outputs": [
        {
          "output_type": "stream",
          "text": [
            "Collecting mat4py\n",
            "  Downloading https://files.pythonhosted.org/packages/25/a2/ec3feb146f6af699d85cf35d719463f2e2fb0d55864dd6d1d48cf0c756cd/mat4py-0.4.2-py2.py3-none-any.whl\n",
            "Installing collected packages: mat4py\n",
            "Successfully installed mat4py-0.4.2\n"
          ],
          "name": "stdout"
        }
      ]
    },
    {
      "cell_type": "markdown",
      "metadata": {
        "id": "r4O4ufaXCiwW",
        "colab_type": "text"
      },
      "source": [
        "# Loading Data"
      ]
    },
    {
      "cell_type": "code",
      "metadata": {
        "id": "teEInfDuCBel",
        "colab_type": "code",
        "outputId": "5eb4d297-3ad9-4e48-dcff-cf501edfd805",
        "colab": {
          "base_uri": "https://localhost:8080/",
          "height": 173
        }
      },
      "source": [
        "!git clone https://github.com/alifele/EEG-computation.git\n",
        "%cd EEG-computation"
      ],
      "execution_count": 2,
      "outputs": [
        {
          "output_type": "stream",
          "text": [
            "Cloning into 'EEG-computation'...\n",
            "remote: Enumerating objects: 431, done.\u001b[K\n",
            "remote: Counting objects: 100% (431/431), done.\u001b[K\n",
            "remote: Compressing objects: 100% (426/426), done.\u001b[K\n",
            "remote: Total 431 (delta 42), reused 351 (delta 2), pack-reused 0\u001b[K\n",
            "Receiving objects: 100% (431/431), 582.76 MiB | 62.42 MiB/s, done.\n",
            "Resolving deltas: 100% (42/42), done.\n",
            "Checking out files: 100% (347/347), done.\n",
            "/content/EEG-computation\n"
          ],
          "name": "stdout"
        }
      ]
    },
    {
      "cell_type": "code",
      "metadata": {
        "id": "Tgn-jTu0CIpd",
        "colab_type": "code",
        "colab": {}
      },
      "source": [
        "disorder_dic = []\n",
        "directory = os.fsencode('EEG Data/disorder')\n",
        "for file in os.listdir(directory):\n",
        "    filename = os.fsdecode(file)\n",
        "    disorder_dic.append(np.array(mt.loadmat('EEG Data/disorder/{}'.format(filename))[filename.split('.')[0]]))\n",
        "    \n",
        "channels_disorder = [ [] for i in range(len(disorder_dic))]  #channels[person][channel] it will be a numpy array\n",
        "j=0;\n",
        "for person in channels_disorder:\n",
        "    for i in range(19):\n",
        "        person.append(disorder_dic[j][:,i])\n",
        "    j = j+1\n",
        "        \n",
        "normal_dic = []\n",
        "directory = os.fsencode('EEG Data/normal')\n",
        "for file in os.listdir(directory):\n",
        "    filename = os.fsdecode(file)\n",
        "    normal_dic.append(np.array(mt.loadmat('EEG Data/normal/{}'.format(filename))[filename.split('.')[0]]))\n",
        "    \n",
        "channels_normal = [ [] for i in range(len(normal_dic))]  #channels[person][channel] it will be a numpy array\n",
        "j=0;\n",
        "for person in channels_normal:\n",
        "    for i in range(19):\n",
        "        person.append(normal_dic[j][:,i])\n",
        "    j = j+1   \n",
        "        \n",
        "data = {\"N\":channels_normal,\n",
        "      \"D\":channels_disorder}\n"
      ],
      "execution_count": 0,
      "outputs": []
    },
    {
      "cell_type": "markdown",
      "metadata": {
        "id": "UiWG52m4Coti",
        "colab_type": "text"
      },
      "source": [
        "# Generating New Data"
      ]
    },
    {
      "cell_type": "code",
      "metadata": {
        "id": "Tm6ShikoCVDa",
        "colab_type": "code",
        "colab": {}
      },
      "source": [
        "def New_Data_Generator_N():\n",
        "    number_of_samples = 30\n",
        "    randlist = (132 * np.random.random(number_of_samples)).astype(int)\n",
        "    new_patients = list(data['N'][i] for i in randlist)\n",
        "    \n",
        "    index = [ i for i in range(number_of_samples)]\n",
        "    comb = list( combinations(index, 2))\n",
        "    new_data = [[] for i in range(len(comb))]\n",
        "    person = 0\n",
        "    for x,y in comb:\n",
        "        for chan in range(19):\n",
        "            new_data[person].append((new_patients[x][chan] + new_patients[y][chan] )/2)\n",
        "        data['N'].append(new_data[person])\n",
        "        person += 1\n",
        "\n",
        "    \n",
        "def New_Data_Generator_D():\n",
        "    number_of_samples = 30\n",
        "    randlist = (132 * np.random.random(number_of_samples)).astype(int)\n",
        "    new_patients = list(data['D'][i] for i in randlist)\n",
        "    \n",
        "    index = [ i for i in range(number_of_samples)]\n",
        "    comb = list( combinations(index, 2))\n",
        "    new_data = [[] for i in range(len(comb))]\n",
        "    person = 0\n",
        "    for x,y in comb:\n",
        "        for chan in range(19):\n",
        "            new_data[person].append((new_patients[x][chan] + new_patients[y][chan] )/2)\n",
        "        data['D'].append(new_data[person])\n",
        "        person += 1\n"
      ],
      "execution_count": 0,
      "outputs": []
    },
    {
      "cell_type": "code",
      "metadata": {
        "id": "8TXFzciqCX0E",
        "colab_type": "code",
        "colab": {}
      },
      "source": [
        "New_Data_Generator_N()\n",
        "New_Data_Generator_D()"
      ],
      "execution_count": 0,
      "outputs": []
    },
    {
      "cell_type": "code",
      "metadata": {
        "id": "EEThYbOICyYH",
        "colab_type": "code",
        "outputId": "2da843bd-3ab5-4ba4-be25-ea04a8a8f026",
        "colab": {
          "base_uri": "https://localhost:8080/",
          "height": 34
        }
      },
      "source": [
        "n_D , n_N = len(data['D']), len(data['N'])\n",
        "\n",
        "print('The number of Disorders is:{} and the number of Normals is:{}'.format(n_D, n_N))"
      ],
      "execution_count": 6,
      "outputs": [
        {
          "output_type": "stream",
          "text": [
            "The number of Disorders is:631 and the number of Normals is:567\n"
          ],
          "name": "stdout"
        }
      ]
    },
    {
      "cell_type": "markdown",
      "metadata": {
        "id": "AktNSaN3DXWe",
        "colab_type": "text"
      },
      "source": [
        "# Generating The FT Data set"
      ]
    },
    {
      "cell_type": "code",
      "metadata": {
        "id": "p00oUmAyDNeZ",
        "colab_type": "code",
        "colab": {}
      },
      "source": [
        "def Clear_FDomain():\n",
        "  index = np.arange(0,512*30)\n",
        "  f = np.linspace(0,512,512*30)\n",
        "  f_max = f[len(f[f<120])]\n",
        "  ind_min = 2\n",
        "  ind_max = list(index[f==f_max])[0]\n",
        "  f_min = f[ind_min]\n",
        "\n",
        "  print('The f_min is {}\\nThe f_max is {}\\nThe ind_min is {} \\nAnd the ind_max is {}'.format(f_min, f_max, ind_min, ind_max))\n",
        "\n",
        "\n",
        "  sam_FT = np.abs(np.fft.fft(data['D'][50][7]))\n",
        "\n",
        "  # The 50 Htz noise elimination information\n",
        "\n",
        "  f_45 = f>45\n",
        "  f_55 = f<55\n",
        "  f_bar = f<45\n",
        "\n",
        "  for i in range(f.shape[0]):\n",
        "    f_bar[i] = f_45[i] and f_55[i]\n",
        "\n",
        "\n",
        "  noise = f[sam_FT == np.max(sam_FT[f_bar])][0]\n",
        "  noise_index = list(index[f==noise])[0] # in range 0, 512*30\n",
        "  del_domain = 40\n",
        "  del_range = [noise_index + i for i in range(-del_domain,del_domain)]\n",
        "  print('The Frequency of noise is:{} and the index of the noise is:{}'.format(noise, noise_index))\n",
        "\n",
        "  \n",
        "  plt.figure()\n",
        "  plt.plot(f_bar)\n",
        "  f = np.linspace(0,512,512*30)[ind_min:ind_max]\n",
        "  \n",
        "  \n",
        "  normal = [[np.zeros(f.shape[0]) for k in range(19)] for i in range(n_N)]\n",
        "  disorder = [[np.zeros(f.shape[0]) for k in range(19)] for i in range(n_D)]\n",
        "\n",
        "\n",
        "  FT = {'D':disorder,\n",
        "       'N':normal}\n",
        "\n",
        "  from numpy.fft import fft\n",
        "\n",
        "  for d in range(n_D):\n",
        "      for i in range(19):\n",
        "\n",
        "          FT['D'][d][i] = np.abs(fft(data['D'][d][i]))[ind_min:ind_max]\n",
        "          FT['D'][d][i][noise_index-del_domain  - ind_min: noise_index+del_domain - ind_min] = np.average(FT['D'][d][i][noise_index-del_domain  - ind_min - 120: noise_index+del_domain - ind_min-120])\n",
        "          FT['D'][d][i][2*noise_index-del_domain - ind_min: 2*noise_index+del_domain - ind_min] = np.average(FT['D'][d][i][2*noise_index-del_domain - ind_min - 120: 2*noise_index+del_domain - ind_min-120])\n",
        "\n",
        "  for n in range(n_N):\n",
        "      for i in range(19):\n",
        "          FT['N'][n][i] = np.abs(fft(data['N'][n][i]))[ind_min:ind_max]\n",
        "          FT['N'][n][i][noise_index-del_domain - ind_min: noise_index+del_domain -ind_min] = np.average(FT['N'][n][i][noise_index-del_domain - ind_min-120: noise_index+del_domain -ind_min-120])\n",
        "          FT['N'][n][i][2*noise_index-del_domain - ind_min: 2*noise_index+del_domain - ind_min] = np.average( FT['N'][n][i][2*noise_index-del_domain - ind_min-120 : 2*noise_index+del_domain - ind_min-120])\n",
        "\n",
        "\n",
        "      FT['N'] = np.array(FT['N'])\n",
        "      FT['D'] = np.array(FT['D'])\n",
        "  plt.figure()\n",
        "  plt.plot(f, FT['N'][56][8])\n",
        "  \n",
        "  \n",
        "  \n",
        "\n",
        "  FT_matrix_N = FT['N']\n",
        "  FT_matrix_D = FT['D']\n",
        "\n",
        "  temp_D = FT_matrix_D.reshape((FT_matrix_D.shape[0],FT_matrix_D.shape[2],FT_matrix_D.shape[1]))\n",
        "  temp_N = FT_matrix_N.reshape((FT_matrix_N.shape[0],FT_matrix_N.shape[2],FT_matrix_N.shape[1]))\n",
        "  #or d in range(FT_matrix.shape[0]):\n",
        "  scaler = StandardScaler()\n",
        "\n",
        "  for n in range(FT_matrix_N.shape[0]):\n",
        "    temp_N[n]= scaler.fit_transform(FT_matrix_N[n].T)\n",
        "  \n",
        "  for d in range(FT_matrix_D.shape[0]):\n",
        "    temp_D[d]= scaler.fit_transform(FT_matrix_D[d].T)\n",
        "\n",
        "    \n",
        "  for n in range(FT_matrix_N.shape[0]):\n",
        "    FT_matrix_N[n]= temp_N[n].T\n",
        "  \n",
        "  for d in range(FT_matrix_D.shape[0]):\n",
        "    FT_matrix_D[d]= temp_D[d].T\n",
        "    \n",
        "    \n",
        "  plt.figure()\n",
        "  plt.plot(f,FT_matrix_D[56,8])\n",
        "  FT_matrix_D.shape, FT_matrix_N.shape\n",
        "  \n",
        "  Data = np.vstack((FT_matrix_N, FT_matrix_D))\n",
        "  target = np.hstack((np.ones(FT_matrix_N.shape[0]), np.zeros(FT_matrix_D.shape[0])))\n",
        "  \n",
        "  Data, target = shuffle(Data, target)\n",
        "\n",
        "  return Data, target\n"
      ],
      "execution_count": 0,
      "outputs": []
    },
    {
      "cell_type": "code",
      "metadata": {
        "id": "oSRmSqX7DcuU",
        "colab_type": "code",
        "outputId": "4c4f6129-ce4d-43e9-b6ae-d1480a2bb61f",
        "colab": {
          "base_uri": "https://localhost:8080/",
          "height": 860
        }
      },
      "source": [
        "F_Data, F_target = Clear_FDomain()"
      ],
      "execution_count": 8,
      "outputs": [
        {
          "output_type": "stream",
          "text": [
            "The f_min is 0.06667100722703301\n",
            "The f_max is 120.00781300865941\n",
            "The ind_min is 2 \n",
            "And the ind_max is 3600\n",
            "The Frequency of noise is:50.103261931115306 and the index of the noise is:1503\n"
          ],
          "name": "stdout"
        },
        {
          "output_type": "display_data",
          "data": {
            "image/png": "[encoded data removed]",
            "text/plain": [
              "<Figure size 432x288 with 1 Axes>"
            ]
          },
          "metadata": {
            "tags": []
          }
        },
        {
          "output_type": "display_data",
          "data": {
            "image/png": "[encoded data removed]",
            "text/plain": [
              "<Figure size 432x288 with 1 Axes>"
            ]
          },
          "metadata": {
            "tags": []
          }
        },
        {
          "output_type": "display_data",
          "data": {
            "image/png": "[encoded data removed]",
            "text/plain": [
              "<Figure size 432x288 with 1 Axes>"
            ]
          },
          "metadata": {
            "tags": []
          }
        }
      ]
    },
    {
      "cell_type": "code",
      "metadata": {
        "id": "PT0QkI2UDu0B",
        "colab_type": "code",
        "colab": {
          "base_uri": "https://localhost:8080/",
          "height": 286
        },
        "outputId": "48928409-c795-40d0-af1c-52bd95da7e68"
      },
      "source": [
        "plt.plot(F_Data[2].reshape(-1,1))\n",
        "F_Data[2].reshape(-1,1).shape"
      ],
      "execution_count": 9,
      "outputs": [
        {
          "output_type": "execute_result",
          "data": {
            "text/plain": [
              "(68362, 1)"
            ]
          },
          "metadata": {
            "tags": []
          },
          "execution_count": 9
        },
        {
          "output_type": "display_data",
          "data": {
            "image/png": "[encoded data removed]",
            "text/plain": [
              "<Figure size 432x288 with 1 Axes>"
            ]
          },
          "metadata": {
            "tags": []
          }
        }
      ]
    },
    {
      "cell_type": "markdown",
      "metadata": {
        "id": "dyYRRjs1NqKY",
        "colab_type": "text"
      },
      "source": [
        "# Generating the Time Sequence dataset"
      ]
    },
    {
      "cell_type": "code",
      "metadata": {
        "id": "3NzA-fjvN9xN",
        "colab_type": "code",
        "colab": {}
      },
      "source": [
        "def Clear_TDomain():\n",
        "  \n",
        "  T_D = np.array(data['D'])\n",
        "  T_N = np.array(data['N'])\n",
        "  temp_D = T_D.reshape((T_D.shape[0],T_D.shape[2],T_D.shape[1]))\n",
        "  temp_N = T_N.reshape((T_N.shape[0],T_N.shape[2],T_N.shape[1]))\n",
        "  scaler = StandardScaler()\n",
        "\n",
        "  for n in range(T_N.shape[0]):\n",
        "      temp_N[n]= scaler.fit_transform(T_N[n].T)\n",
        "\n",
        "  for d in range(T_D.shape[0]):\n",
        "    temp_D[d]= scaler.fit_transform(T_D[d].T)\n",
        "\n",
        "\n",
        "  for n in range(T_N.shape[0]):\n",
        "    T_N[n]= temp_N[n].T\n",
        "\n",
        "  for d in range(T_D.shape[0]):\n",
        "    T_D[d]= temp_D[d].T\n",
        "\n",
        "  plt.plot(T_D[3][5])\n",
        "  \n",
        "  Data = np.vstack((T_N, T_D))\n",
        "  target = np.hstack((np.ones(T_N.shape[0]), np.zeros(T_D.shape[0])))\n",
        "  \n",
        "  Data, target = shuffle(Data, target)\n",
        "  \n",
        "  return Data, target"
      ],
      "execution_count": 0,
      "outputs": []
    },
    {
      "cell_type": "code",
      "metadata": {
        "id": "xl3ZDtDrN-94",
        "colab_type": "code",
        "colab": {
          "base_uri": "https://localhost:8080/",
          "height": 269
        },
        "outputId": "0b2d8ce7-adad-4bdb-e987-fe1dddfb98c6"
      },
      "source": [
        "T_Data, T_target = Clear_TDomain()"
      ],
      "execution_count": 11,
      "outputs": [
        {
          "output_type": "display_data",
          "data": {
            "image/png": "[encoded data removed]",
            "text/plain": [
              "<Figure size 432x288 with 1 Axes>"
            ]
          },
          "metadata": {
            "tags": []
          }
        }
      ]
    },
    {
      "cell_type": "code",
      "metadata": {
        "id": "BJg9KPw3U8Sm",
        "colab_type": "code",
        "colab": {}
      },
      "source": [
        "del data"
      ],
      "execution_count": 0,
      "outputs": []
    },
    {
      "cell_type": "markdown",
      "metadata": {
        "id": "nyYkOJbEfp2A",
        "colab_type": "text"
      },
      "source": [
        "#PCA"
      ]
    },
    {
      "cell_type": "code",
      "metadata": {
        "id": "FDId7Zhefrnf",
        "colab_type": "code",
        "colab": {
          "base_uri": "https://localhost:8080/",
          "height": 34
        },
        "outputId": "294a6e8f-072d-4f0f-973b-d722d1084663"
      },
      "source": [
        "pca = PCA(n_components = 0.95)\n",
        "pca.fit(F_Data.reshape(F_Data.shape[0],-1))\n",
        "F_pca = pca.transform(F_Data.reshape(F_Data.shape[0],-1))\n",
        "F_pca.shape"
      ],
      "execution_count": 57,
      "outputs": [
        {
          "output_type": "execute_result",
          "data": {
            "text/plain": [
              "(1198, 668)"
            ]
          },
          "metadata": {
            "tags": []
          },
          "execution_count": 57
        }
      ]
    },
    {
      "cell_type": "markdown",
      "metadata": {
        "id": "yTSh-pAUNcmZ",
        "colab_type": "text"
      },
      "source": [
        "# KNN for the FT Data set"
      ]
    },
    {
      "cell_type": "code",
      "metadata": {
        "id": "dFWEHyg0NcOF",
        "colab_type": "code",
        "colab": {}
      },
      "source": [
        "X_train, X_test, y_train, y_test = train_test_split(F_pca, F_target)\n",
        "def KNN(X_train, X_test, y_train, y_test):\n",
        "  from sklearn.neighbors import KNeighborsClassifier\n",
        "\n",
        "  \n",
        "  y_pred_list_knn = []\n",
        "  for i in range(30):\n",
        "    rand = int(np.random.random()*40)+1\n",
        "    #print('rand = {}'.format(rand))\n",
        "    knn = KNeighborsClassifier(n_neighbors = rand)\n",
        "    knn.fit(X_train, y_train)\n",
        "    y_pred = knn.predict(X_test)\n",
        "    y_pred_list_knn.append(y_pred)\n",
        "    print('the progress is {}%'.format(int((i+1)/30 * 100)))\n",
        "    \n",
        "  \n",
        "  \n",
        "  yy  = np.array(y_pred_list_knn)\n",
        "  shape=yy.shape[0]\n",
        "  \n",
        "  a=0\n",
        "  for i in range(shape):\n",
        "\n",
        "    a +=yy[i]\n",
        "  \n",
        "  \n",
        "  a[a/shape<=0.5]=0\n",
        "  a[a/shape>0.5]=1\n",
        "  \n",
        "  print(classification_report(a,y_test))\n",
        "  print(a)\n",
        "    "
      ],
      "execution_count": 0,
      "outputs": []
    },
    {
      "cell_type": "code",
      "metadata": {
        "id": "sKFaz3G7_zSw",
        "colab_type": "code",
        "colab": {
          "base_uri": "https://localhost:8080/",
          "height": 920
        },
        "outputId": "19a35a73-02b7-4fc1-c5c5-ab69e0a13553"
      },
      "source": [
        "KNN(X_train, X_test, y_train, y_test)"
      ],
      "execution_count": 266,
      "outputs": [
        {
          "output_type": "stream",
          "text": [
            "the progress is 3%\n",
            "the progress is 6%\n",
            "the progress is 10%\n",
            "the progress is 13%\n",
            "the progress is 16%\n",
            "the progress is 20%\n",
            "the progress is 23%\n",
            "the progress is 26%\n",
            "the progress is 30%\n",
            "the progress is 33%\n",
            "the progress is 36%\n",
            "the progress is 40%\n",
            "the progress is 43%\n",
            "the progress is 46%\n",
            "the progress is 50%\n",
            "the progress is 53%\n",
            "the progress is 56%\n",
            "the progress is 60%\n",
            "the progress is 63%\n",
            "the progress is 66%\n",
            "the progress is 70%\n",
            "the progress is 73%\n",
            "the progress is 76%\n",
            "the progress is 80%\n",
            "the progress is 83%\n",
            "the progress is 86%\n",
            "the progress is 90%\n",
            "the progress is 93%\n",
            "the progress is 96%\n",
            "the progress is 100%\n",
            "              precision    recall  f1-score   support\n",
            "\n",
            "         0.0       0.92      0.93      0.93       168\n",
            "         1.0       0.92      0.90      0.91       132\n",
            "\n",
            "    accuracy                           0.92       300\n",
            "   macro avg       0.92      0.92      0.92       300\n",
            "weighted avg       0.92      0.92      0.92       300\n",
            "\n",
            "[0. 0. 0. 1. 0. 0. 1. 0. 0. 1. 0. 1. 0. 0. 0. 0. 1. 0. 1. 0. 0. 0. 0. 1.\n",
            " 1. 1. 0. 0. 1. 0. 1. 0. 0. 0. 1. 1. 1. 1. 0. 0. 0. 0. 0. 0. 0. 0. 1. 0.\n",
            " 0. 0. 1. 1. 0. 0. 1. 1. 1. 0. 1. 1. 1. 1. 0. 1. 0. 0. 0. 1. 0. 0. 1. 1.\n",
            " 0. 0. 1. 1. 1. 0. 0. 1. 1. 1. 0. 0. 0. 1. 0. 1. 1. 1. 0. 0. 1. 0. 0. 1.\n",
            " 0. 0. 0. 1. 1. 0. 1. 1. 1. 0. 0. 1. 1. 0. 0. 1. 0. 0. 0. 1. 1. 0. 1. 0.\n",
            " 0. 0. 0. 1. 0. 0. 0. 1. 0. 0. 1. 0. 0. 1. 0. 1. 0. 0. 1. 0. 1. 1. 0. 0.\n",
            " 1. 1. 0. 0. 0. 0. 0. 1. 1. 0. 1. 1. 0. 1. 0. 1. 1. 1. 0. 0. 1. 0. 0. 1.\n",
            " 1. 0. 0. 1. 1. 0. 0. 0. 1. 0. 1. 1. 1. 0. 1. 0. 0. 1. 0. 0. 0. 0. 0. 0.\n",
            " 1. 0. 0. 0. 0. 0. 1. 1. 1. 1. 1. 1. 0. 1. 1. 0. 1. 1. 0. 0. 0. 1. 1. 0.\n",
            " 0. 0. 1. 1. 0. 1. 0. 1. 1. 1. 1. 1. 0. 0. 0. 0. 0. 1. 1. 1. 0. 0. 0. 0.\n",
            " 0. 1. 0. 1. 0. 1. 0. 1. 1. 0. 0. 0. 0. 1. 0. 1. 0. 1. 0. 0. 0. 0. 0. 0.\n",
            " 1. 0. 0. 1. 0. 0. 0. 1. 1. 0. 1. 1. 0. 0. 1. 0. 1. 0. 1. 1. 0. 0. 1. 1.\n",
            " 0. 0. 1. 1. 1. 0. 1. 1. 0. 1. 0. 1.]\n"
          ],
          "name": "stdout"
        }
      ]
    },
    {
      "cell_type": "markdown",
      "metadata": {
        "id": "UAumWw8vY2JR",
        "colab_type": "text"
      },
      "source": [
        "# Decision Tree"
      ]
    },
    {
      "cell_type": "code",
      "metadata": {
        "id": "3aOJDLxGY6r0",
        "colab_type": "code",
        "colab": {}
      },
      "source": [
        "X_train, X_test, y_train, y_test = train_test_split(F_pca, F_target)\n",
        "def TREE(X_train, X_test, y_train, y_test ):\n",
        "  from sklearn.tree import DecisionTreeClassifier\n",
        "\n",
        "  \n",
        "  \n",
        "  \n",
        "  y_pred_list_tree = []\n",
        "  for i in range(20):\n",
        "    rand = int(np.random.random()*30)+6\n",
        "    #print('rand = {}'.format(rand))\n",
        "    \n",
        "    tree = DecisionTreeClassifier(max_depth=rand)\n",
        "  \n",
        "    tree.fit(X_train, y_train)\n",
        "    y_pred = tree.predict(X_test)\n",
        "    \n",
        "    y_pred_list_tree.append(y_pred)\n",
        "    \n",
        "    print('the progress is {}%'.format(int((i+1)/20 * 100)))\n",
        "    \n",
        "    \n",
        "  yy  = np.array(y_pred_list_tree)\n",
        "  shape=yy.shape[0]\n",
        "  \n",
        "  a=0\n",
        "  for i in range(shape):\n",
        "\n",
        "    a +=yy[i]\n",
        "  \n",
        "  \n",
        "  a[a/shape<=0.5]=0\n",
        "  a[a/shape>0.5]=1\n",
        "  print(a)\n",
        "  print(classification_report(a,y_test))"
      ],
      "execution_count": 0,
      "outputs": []
    },
    {
      "cell_type": "code",
      "metadata": {
        "id": "Mz5c-s_bY76n",
        "colab_type": "code",
        "colab": {
          "base_uri": "https://localhost:8080/",
          "height": 746
        },
        "outputId": "f62b5448-4aff-433d-ed4e-d8e370146de7"
      },
      "source": [
        "TREE(X_train, X_test, y_train, y_test)"
      ],
      "execution_count": 271,
      "outputs": [
        {
          "output_type": "stream",
          "text": [
            "the progress is 5%\n",
            "the progress is 10%\n",
            "the progress is 15%\n",
            "the progress is 20%\n",
            "the progress is 25%\n",
            "the progress is 30%\n",
            "the progress is 35%\n",
            "the progress is 40%\n",
            "the progress is 45%\n",
            "the progress is 50%\n",
            "the progress is 55%\n",
            "the progress is 60%\n",
            "the progress is 65%\n",
            "the progress is 70%\n",
            "the progress is 75%\n",
            "the progress is 80%\n",
            "the progress is 85%\n",
            "the progress is 90%\n",
            "the progress is 95%\n",
            "the progress is 100%\n",
            "[0. 1. 1. 1. 1. 1. 0. 0. 0. 1. 0. 0. 0. 1. 1. 1. 1. 0. 1. 1. 0. 0. 1. 0.\n",
            " 1. 1. 1. 0. 1. 1. 0. 0. 0. 0. 0. 1. 1. 1. 1. 1. 1. 1. 0. 1. 1. 1. 1. 1.\n",
            " 0. 0. 0. 1. 1. 1. 0. 1. 0. 0. 1. 1. 0. 1. 0. 0. 1. 0. 1. 0. 0. 0. 0. 0.\n",
            " 0. 0. 1. 0. 0. 1. 0. 0. 0. 0. 0. 0. 1. 0. 1. 0. 0. 0. 0. 0. 1. 1. 1. 0.\n",
            " 0. 1. 1. 0. 0. 0. 0. 0. 0. 0. 0. 1. 0. 0. 1. 0. 1. 0. 0. 1. 1. 1. 0. 1.\n",
            " 0. 1. 1. 0. 0. 1. 0. 1. 0. 1. 0. 0. 1. 0. 0. 1. 1. 1. 1. 0. 1. 0. 1. 1.\n",
            " 0. 0. 1. 0. 1. 0. 1. 0. 0. 0. 0. 0. 0. 1. 1. 1. 1. 0. 1. 0. 0. 0. 0. 0.\n",
            " 0. 1. 0. 0. 0. 1. 0. 0. 0. 0. 0. 1. 1. 1. 0. 1. 0. 0. 0. 1. 0. 0. 0. 1.\n",
            " 1. 0. 0. 0. 0. 1. 1. 0. 0. 1. 0. 0. 0. 0. 1. 1. 1. 0. 0. 0. 1. 0. 1. 1.\n",
            " 0. 1. 0. 1. 1. 1. 0. 0. 0. 1. 0. 0. 0. 1. 0. 1. 0. 1. 0. 1. 1. 0. 1. 0.\n",
            " 1. 1. 0. 1. 0. 0. 1. 0. 0. 0. 1. 0. 0. 0. 0. 1. 1. 1. 0. 0. 1. 0. 0. 0.\n",
            " 1. 0. 0. 0. 0. 1. 1. 0. 0. 1. 0. 0. 0. 1. 1. 0. 1. 1. 0. 0. 0. 0. 1. 0.\n",
            " 1. 0. 1. 0. 0. 0. 0. 1. 0. 1. 1. 0.]\n",
            "              precision    recall  f1-score   support\n",
            "\n",
            "         0.0       0.84      0.81      0.82       172\n",
            "         1.0       0.75      0.79      0.77       128\n",
            "\n",
            "    accuracy                           0.80       300\n",
            "   macro avg       0.80      0.80      0.80       300\n",
            "weighted avg       0.80      0.80      0.80       300\n",
            "\n"
          ],
          "name": "stdout"
        }
      ]
    },
    {
      "cell_type": "markdown",
      "metadata": {
        "id": "sUCB1-3qY9QQ",
        "colab_type": "text"
      },
      "source": [
        "# Random Forest"
      ]
    },
    {
      "cell_type": "code",
      "metadata": {
        "id": "cnGsNO5iZBrl",
        "colab_type": "code",
        "colab": {}
      },
      "source": [
        "def RAND_TREE(X_train, X_test, y_train, y_test):\n",
        "  from sklearn.ensemble import RandomForestClassifier\n",
        "\n",
        "\n",
        "\n",
        "\n",
        "\n",
        "  y_pred_list_rand_tree = []\n",
        "  for i in range(20):\n",
        "    rand = int(np.random.normal(2000,200))\n",
        "    #print('rand = {}'.format(rand))\n",
        "    \n",
        "    rand_tree = RandomForestClassifier(n_estimators=rand, max_depth=15, n_jobs=-1)\n",
        "  \n",
        "    rand_tree.fit(X_train, y_train)\n",
        "    y_pred = rand_tree.predict(X_test)\n",
        "    \n",
        "    y_pred_list_rand_tree.append(y_pred)\n",
        "    print('the progress is {}%'.format(int((i+1)/20 * 100)))\n",
        "    \n",
        "    \n",
        "  yy  = np.array(y_pred_list_rand_tree)\n",
        "  shape=yy.shape[0]\n",
        "\n",
        "  a=0\n",
        "  for i in range(shape):\n",
        "\n",
        "    a +=yy[i]\n",
        "\n",
        "\n",
        "  a[a/shape<=0.5]=0\n",
        "  a[a/shape>0.5]=1\n",
        "\n",
        "  print(a)\n",
        "  print(classification_report(a,y_test))"
      ],
      "execution_count": 0,
      "outputs": []
    },
    {
      "cell_type": "code",
      "metadata": {
        "id": "eUC7Qt5wZBoT",
        "colab_type": "code",
        "colab": {
          "base_uri": "https://localhost:8080/",
          "height": 746
        },
        "outputId": "b2a45f60-ad49-4c29-91a8-99786d991bf3"
      },
      "source": [
        "RAND_TREE(X_train, X_test, y_train, y_test)"
      ],
      "execution_count": 279,
      "outputs": [
        {
          "output_type": "stream",
          "text": [
            "the progress is 5%\n",
            "the progress is 10%\n",
            "the progress is 15%\n",
            "the progress is 20%\n",
            "the progress is 25%\n",
            "the progress is 30%\n",
            "the progress is 35%\n",
            "the progress is 40%\n",
            "the progress is 45%\n",
            "the progress is 50%\n",
            "the progress is 55%\n",
            "the progress is 60%\n",
            "the progress is 65%\n",
            "the progress is 70%\n",
            "the progress is 75%\n",
            "the progress is 80%\n",
            "the progress is 85%\n",
            "the progress is 90%\n",
            "the progress is 95%\n",
            "the progress is 100%\n",
            "[1. 1. 1. 0. 1. 0. 0. 0. 1. 1. 0. 0. 0. 1. 1. 1. 1. 1. 1. 1. 0. 0. 0. 0.\n",
            " 1. 1. 1. 0. 1. 0. 0. 0. 0. 0. 0. 0. 1. 0. 0. 1. 0. 1. 0. 1. 1. 1. 1. 0.\n",
            " 0. 0. 0. 1. 1. 1. 0. 1. 0. 0. 0. 1. 0. 1. 0. 0. 0. 0. 0. 0. 0. 0. 0. 0.\n",
            " 0. 0. 1. 0. 0. 1. 0. 0. 0. 0. 0. 0. 1. 0. 1. 0. 0. 0. 0. 0. 1. 0. 1. 0.\n",
            " 0. 0. 1. 0. 0. 0. 0. 0. 0. 0. 0. 1. 0. 0. 1. 0. 0. 0. 0. 1. 0. 0. 0. 0.\n",
            " 0. 1. 1. 0. 0. 1. 0. 1. 0. 0. 0. 0. 1. 0. 0. 0. 1. 1. 1. 0. 1. 0. 1. 1.\n",
            " 0. 0. 1. 0. 1. 0. 0. 0. 0. 0. 0. 0. 0. 1. 1. 1. 1. 0. 1. 0. 0. 0. 0. 0.\n",
            " 0. 1. 1. 0. 0. 1. 0. 0. 0. 0. 0. 1. 1. 1. 0. 1. 0. 0. 1. 1. 0. 0. 0. 1.\n",
            " 1. 0. 0. 0. 0. 1. 0. 0. 0. 1. 0. 0. 0. 0. 1. 0. 1. 0. 0. 0. 1. 0. 0. 1.\n",
            " 0. 1. 1. 0. 1. 1. 0. 0. 0. 1. 0. 0. 0. 0. 0. 1. 1. 1. 0. 0. 1. 0. 1. 0.\n",
            " 0. 1. 0. 1. 0. 0. 1. 0. 0. 0. 0. 0. 0. 0. 0. 0. 1. 1. 0. 0. 1. 0. 0. 1.\n",
            " 1. 0. 0. 0. 0. 1. 1. 0. 0. 0. 0. 0. 0. 1. 0. 0. 1. 0. 0. 0. 0. 0. 1. 0.\n",
            " 1. 0. 1. 1. 0. 0. 0. 1. 0. 1. 1. 0.]\n",
            "              precision    recall  f1-score   support\n",
            "\n",
            "         0.0       1.00      0.85      0.92       196\n",
            "         1.0       0.78      1.00      0.87       104\n",
            "\n",
            "    accuracy                           0.90       300\n",
            "   macro avg       0.89      0.92      0.90       300\n",
            "weighted avg       0.92      0.90      0.90       300\n",
            "\n"
          ],
          "name": "stdout"
        }
      ]
    },
    {
      "cell_type": "markdown",
      "metadata": {
        "id": "6TRAOgeiZC7t",
        "colab_type": "text"
      },
      "source": [
        "# RNN"
      ]
    },
    {
      "cell_type": "code",
      "metadata": {
        "id": "jQWfrxGfZIbm",
        "colab_type": "code",
        "colab": {
          "base_uri": "https://localhost:8080/",
          "height": 34
        },
        "outputId": "5f93727f-f7d8-4fce-dc37-89788fb268e8"
      },
      "source": [
        "from tensorflow import keras\n",
        "from keras.models import Sequential\n",
        "from keras.layers import Dense, LSTM, Dropout\n",
        "from keras.models import Sequential\n",
        "from keras.layers import Dense, Dropout\n",
        "from keras.layers import Embedding\n",
        "from keras.layers import LSTM\n"
      ],
      "execution_count": 139,
      "outputs": [
        {
          "output_type": "stream",
          "text": [
            "Using TensorFlow backend.\n"
          ],
          "name": "stderr"
        }
      ]
    },
    {
      "cell_type": "code",
      "metadata": {
        "id": "knFqq9teZKEQ",
        "colab_type": "code",
        "colab": {}
      },
      "source": [
        "T_Data = T_Data.reshape(T_Data.shape[0],T_Data.shape[2], T_Data.shape[1])\n",
        "X_train, X_test, y_train, y_test = train_test_split(T_Data, T_target)\n"
      ],
      "execution_count": 0,
      "outputs": []
    },
    {
      "cell_type": "code",
      "metadata": {
        "id": "cO3K5P4m0BXF",
        "colab_type": "code",
        "colab": {
          "base_uri": "https://localhost:8080/",
          "height": 34
        },
        "outputId": "04d23118-8d21-4119-910c-3be708d31963"
      },
      "source": [
        "X_train.shape\n",
        "\n",
        "#Note that the Shape of the Data must be in form of (898, 19, 15360)\n",
        "#If it is not in the mentioned shape please rerun the above cell"
      ],
      "execution_count": 293,
      "outputs": [
        {
          "output_type": "execute_result",
          "data": {
            "text/plain": [
              "(898, 19, 15360)"
            ]
          },
          "metadata": {
            "tags": []
          },
          "execution_count": 293
        }
      ]
    },
    {
      "cell_type": "code",
      "metadata": {
        "id": "myGHCCnKZJ6Z",
        "colab_type": "code",
        "colab": {}
      },
      "source": [
        "def RNN(X_train, X_test, y_train, y_test):\n",
        "\n",
        "  model = Sequential()\n",
        "  model.add(LSTM(25,return_sequences=False, input_shape=(X_train.shape[1], X_train.shape[2])))\n",
        "  model.add(Dropout(0.5))\n",
        "  #model.add(LSTM(100)) dramatically worse results\n",
        "  model.add(Dense(15, activation='relu'))\n",
        "  model.add(Dropout(0.5))\n",
        "  model.add(Dense(10, activation='relu'))\n",
        "  model.add(Dense(5, activation='relu'))\n",
        "  model.add(Dense(1, activation='sigmoid'))\n",
        "  model.compile(loss='binary_crossentropy',\n",
        "                optimizer='rmsprop',\n",
        "                metrics=['accuracy'])\n",
        "  \n",
        "  model.fit(X_train, y_train, batch_size=128, epochs=10, validation_data=(X_test, y_test), verbose=1)\n",
        "  \n",
        "  y_pred = model.predict_classes(X_test)\n",
        "  print(classification_report(y_pred, y_test))\n",
        "  print(y_pred)"
      ],
      "execution_count": 0,
      "outputs": []
    },
    {
      "cell_type": "code",
      "metadata": {
        "id": "hIrv_ZSvD8YE",
        "colab_type": "code",
        "colab": {
          "base_uri": "https://localhost:8080/",
          "height": 1000
        },
        "outputId": "10a3609b-9b10-4832-aab0-b38c42bb06eb"
      },
      "source": [
        "RNN(X_train, X_test, y_train, y_test)"
      ],
      "execution_count": 295,
      "outputs": [
        {
          "output_type": "stream",
          "text": [
            "Train on 898 samples, validate on 300 samples\n",
            "Epoch 1/10\n",
            "898/898 [==============================] - 7s 8ms/step - loss: 0.6105 - acc: 0.6425 - val_loss: 0.4783 - val_acc: 0.8467\n",
            "Epoch 2/10\n",
            "898/898 [==============================] - 2s 3ms/step - loss: 0.5423 - acc: 0.7528 - val_loss: 0.4410 - val_acc: 0.8933\n",
            "Epoch 3/10\n",
            "898/898 [==============================] - 2s 3ms/step - loss: 0.5063 - acc: 0.7829 - val_loss: 0.4183 - val_acc: 0.8867\n",
            "Epoch 4/10\n",
            "898/898 [==============================] - 2s 3ms/step - loss: 0.4644 - acc: 0.8463 - val_loss: 0.3946 - val_acc: 0.9133\n",
            "Epoch 5/10\n",
            "898/898 [==============================] - 2s 3ms/step - loss: 0.4390 - acc: 0.8630 - val_loss: 0.3729 - val_acc: 0.9000\n",
            "Epoch 6/10\n",
            "898/898 [==============================] - 2s 3ms/step - loss: 0.4271 - acc: 0.8641 - val_loss: 0.3611 - val_acc: 0.9167\n",
            "Epoch 7/10\n",
            "898/898 [==============================] - 2s 3ms/step - loss: 0.3940 - acc: 0.8987 - val_loss: 0.3393 - val_acc: 0.9100\n",
            "Epoch 8/10\n",
            "898/898 [==============================] - 2s 3ms/step - loss: 0.3730 - acc: 0.9154 - val_loss: 0.3332 - val_acc: 0.9033\n",
            "Epoch 9/10\n",
            "898/898 [==============================] - 2s 3ms/step - loss: 0.3493 - acc: 0.9109 - val_loss: 0.3134 - val_acc: 0.9167\n",
            "Epoch 10/10\n",
            "898/898 [==============================] - 2s 3ms/step - loss: 0.3185 - acc: 0.9298 - val_loss: 0.2960 - val_acc: 0.9233\n",
            "              precision    recall  f1-score   support\n",
            "\n",
            "           0       0.91      0.96      0.93       162\n",
            "           1       0.95      0.88      0.91       138\n",
            "\n",
            "    accuracy                           0.92       300\n",
            "   macro avg       0.93      0.92      0.92       300\n",
            "weighted avg       0.92      0.92      0.92       300\n",
            "\n",
            "[[1]\n",
            " [1]\n",
            " [1]\n",
            " [0]\n",
            " [1]\n",
            " [0]\n",
            " [0]\n",
            " [1]\n",
            " [1]\n",
            " [1]\n",
            " [0]\n",
            " [0]\n",
            " [0]\n",
            " [0]\n",
            " [1]\n",
            " [1]\n",
            " [1]\n",
            " [1]\n",
            " [0]\n",
            " [0]\n",
            " [1]\n",
            " [0]\n",
            " [1]\n",
            " [0]\n",
            " [0]\n",
            " [1]\n",
            " [1]\n",
            " [1]\n",
            " [1]\n",
            " [1]\n",
            " [1]\n",
            " [1]\n",
            " [0]\n",
            " [1]\n",
            " [1]\n",
            " [0]\n",
            " [1]\n",
            " [0]\n",
            " [1]\n",
            " [0]\n",
            " [0]\n",
            " [1]\n",
            " [1]\n",
            " [0]\n",
            " [0]\n",
            " [1]\n",
            " [0]\n",
            " [0]\n",
            " [1]\n",
            " [0]\n",
            " [0]\n",
            " [0]\n",
            " [0]\n",
            " [1]\n",
            " [1]\n",
            " [0]\n",
            " [1]\n",
            " [0]\n",
            " [1]\n",
            " [1]\n",
            " [1]\n",
            " [1]\n",
            " [0]\n",
            " [1]\n",
            " [0]\n",
            " [0]\n",
            " [0]\n",
            " [0]\n",
            " [0]\n",
            " [0]\n",
            " [1]\n",
            " [0]\n",
            " [0]\n",
            " [0]\n",
            " [1]\n",
            " [0]\n",
            " [0]\n",
            " [0]\n",
            " [0]\n",
            " [0]\n",
            " [0]\n",
            " [0]\n",
            " [1]\n",
            " [1]\n",
            " [1]\n",
            " [1]\n",
            " [0]\n",
            " [1]\n",
            " [1]\n",
            " [0]\n",
            " [1]\n",
            " [0]\n",
            " [0]\n",
            " [0]\n",
            " [0]\n",
            " [0]\n",
            " [1]\n",
            " [0]\n",
            " [0]\n",
            " [1]\n",
            " [1]\n",
            " [0]\n",
            " [1]\n",
            " [0]\n",
            " [1]\n",
            " [1]\n",
            " [1]\n",
            " [0]\n",
            " [0]\n",
            " [1]\n",
            " [1]\n",
            " [0]\n",
            " [0]\n",
            " [0]\n",
            " [0]\n",
            " [0]\n",
            " [0]\n",
            " [0]\n",
            " [1]\n",
            " [0]\n",
            " [0]\n",
            " [0]\n",
            " [0]\n",
            " [1]\n",
            " [1]\n",
            " [1]\n",
            " [1]\n",
            " [1]\n",
            " [0]\n",
            " [0]\n",
            " [1]\n",
            " [0]\n",
            " [1]\n",
            " [0]\n",
            " [1]\n",
            " [0]\n",
            " [1]\n",
            " [1]\n",
            " [1]\n",
            " [0]\n",
            " [0]\n",
            " [0]\n",
            " [0]\n",
            " [1]\n",
            " [1]\n",
            " [0]\n",
            " [1]\n",
            " [0]\n",
            " [1]\n",
            " [0]\n",
            " [0]\n",
            " [1]\n",
            " [0]\n",
            " [0]\n",
            " [0]\n",
            " [0]\n",
            " [0]\n",
            " [1]\n",
            " [1]\n",
            " [0]\n",
            " [0]\n",
            " [0]\n",
            " [0]\n",
            " [0]\n",
            " [1]\n",
            " [1]\n",
            " [0]\n",
            " [0]\n",
            " [0]\n",
            " [0]\n",
            " [0]\n",
            " [1]\n",
            " [1]\n",
            " [0]\n",
            " [1]\n",
            " [0]\n",
            " [0]\n",
            " [1]\n",
            " [1]\n",
            " [1]\n",
            " [0]\n",
            " [0]\n",
            " [1]\n",
            " [0]\n",
            " [0]\n",
            " [1]\n",
            " [1]\n",
            " [1]\n",
            " [1]\n",
            " [0]\n",
            " [0]\n",
            " [1]\n",
            " [0]\n",
            " [1]\n",
            " [0]\n",
            " [1]\n",
            " [0]\n",
            " [0]\n",
            " [0]\n",
            " [0]\n",
            " [1]\n",
            " [1]\n",
            " [1]\n",
            " [1]\n",
            " [0]\n",
            " [0]\n",
            " [0]\n",
            " [1]\n",
            " [0]\n",
            " [1]\n",
            " [1]\n",
            " [0]\n",
            " [1]\n",
            " [0]\n",
            " [1]\n",
            " [1]\n",
            " [1]\n",
            " [1]\n",
            " [1]\n",
            " [1]\n",
            " [0]\n",
            " [0]\n",
            " [1]\n",
            " [0]\n",
            " [1]\n",
            " [0]\n",
            " [0]\n",
            " [1]\n",
            " [1]\n",
            " [1]\n",
            " [0]\n",
            " [1]\n",
            " [0]\n",
            " [0]\n",
            " [1]\n",
            " [0]\n",
            " [1]\n",
            " [1]\n",
            " [0]\n",
            " [0]\n",
            " [1]\n",
            " [1]\n",
            " [1]\n",
            " [0]\n",
            " [0]\n",
            " [0]\n",
            " [0]\n",
            " [1]\n",
            " [0]\n",
            " [1]\n",
            " [0]\n",
            " [1]\n",
            " [1]\n",
            " [0]\n",
            " [1]\n",
            " [1]\n",
            " [0]\n",
            " [1]\n",
            " [0]\n",
            " [0]\n",
            " [0]\n",
            " [1]\n",
            " [0]\n",
            " [1]\n",
            " [1]\n",
            " [0]\n",
            " [0]\n",
            " [1]\n",
            " [0]\n",
            " [0]\n",
            " [0]\n",
            " [0]\n",
            " [1]\n",
            " [1]\n",
            " [1]\n",
            " [1]\n",
            " [0]\n",
            " [1]\n",
            " [0]\n",
            " [0]\n",
            " [0]\n",
            " [0]\n",
            " [0]\n",
            " [1]\n",
            " [0]\n",
            " [0]\n",
            " [0]\n",
            " [0]\n",
            " [0]\n",
            " [0]\n",
            " [0]\n",
            " [0]\n",
            " [1]\n",
            " [1]\n",
            " [0]\n",
            " [1]\n",
            " [1]\n",
            " [0]\n",
            " [1]\n",
            " [1]]\n"
          ],
          "name": "stdout"
        }
      ]
    },
    {
      "cell_type": "markdown",
      "metadata": {
        "id": "vj7_DzgWZXlF",
        "colab_type": "text"
      },
      "source": [
        "# SVC"
      ]
    },
    {
      "cell_type": "code",
      "metadata": {
        "id": "IANtw-ZBZW01",
        "colab_type": "code",
        "colab": {}
      },
      "source": [
        "X_train, X_test, y_train, y_test = train_test_split(F_pca, F_target)\n",
        "def SVC_(X_train, X_test, y_train, y_test):\n",
        "  from sklearn import svm\n",
        "  svm_model= svm.SVC(kernel='linear')\n",
        "  # runnig this algorithm with ariginal data takes very very long time\n",
        "  # so for this regressoin i am going to use 'PCA'ed data\n",
        "  svm_model.fit(X_train, y_train)\n",
        "  score = svm_model.score(X_test, y_test)\n",
        "  print(\"the score of the SVC is: {} \".format(score))\n",
        "  y_pred_linear = svm_model.predict(X_test)\n",
        "\n",
        "  from sklearn import svm\n",
        "  svm_model= svm.SVC(kernel='poly')\n",
        "  # runnig this algorithm with ariginal data takes very very long time\n",
        "  # so for this regressoin i am going to use 'PCA'ed data\n",
        "  svm_model.fit(X_train, y_train)\n",
        "  score = svm_model.score(X_test, y_test)\n",
        "  print(\"the score of the SVC is: {} \".format(score))\n",
        "  y_pred_poly = svm_model.predict(X_test)\n",
        "\n",
        "\n",
        "  pred = (y_pred_poly+y_pred_linear)/2\n",
        "\n",
        "  pred[pred<0.5]=0\n",
        "  pred[pred>=0.5]=1\n",
        "  print(pred)\n",
        "  print(classification_report(pred, y_test ))"
      ],
      "execution_count": 0,
      "outputs": []
    },
    {
      "cell_type": "code",
      "metadata": {
        "id": "gbPjYrLjZdCJ",
        "colab_type": "code",
        "colab": {
          "base_uri": "https://localhost:8080/",
          "height": 489
        },
        "outputId": "6821ad25-52a7-45a9-fe3f-d02b0a256f21"
      },
      "source": [
        "SVC_(X_train, X_test, y_train, y_test)"
      ],
      "execution_count": 254,
      "outputs": [
        {
          "output_type": "stream",
          "text": [
            "the score of the SVC is: 0.9533333333333334 \n"
          ],
          "name": "stdout"
        },
        {
          "output_type": "stream",
          "text": [
            "/usr/local/lib/python3.6/dist-packages/sklearn/svm/base.py:193: FutureWarning: The default value of gamma will change from 'auto' to 'scale' in version 0.22 to account better for unscaled features. Set gamma explicitly to 'auto' or 'scale' to avoid this warning.\n",
            "  \"avoid this warning.\", FutureWarning)\n"
          ],
          "name": "stderr"
        },
        {
          "output_type": "stream",
          "text": [
            "the score of the SVC is: 0.9333333333333333 \n",
            "[0. 0. 1. 1. 1. 0. 1. 1. 1. 1. 1. 0. 0. 0. 0. 0. 1. 0. 0. 1. 1. 0. 1. 1.\n",
            " 1. 1. 1. 0. 1. 0. 1. 1. 0. 0. 1. 0. 1. 0. 0. 0. 0. 0. 0. 1. 1. 1. 0. 0.\n",
            " 1. 1. 0. 0. 0. 1. 0. 0. 0. 0. 0. 0. 1. 0. 1. 0. 0. 1. 0. 0. 1. 1. 1. 0.\n",
            " 0. 1. 1. 0. 0. 1. 0. 0. 0. 0. 0. 0. 1. 0. 0. 0. 1. 0. 0. 0. 1. 0. 0. 0.\n",
            " 0. 0. 0. 0. 0. 1. 0. 1. 1. 0. 0. 0. 1. 0. 1. 0. 1. 0. 0. 0. 0. 0. 0. 0.\n",
            " 1. 0. 0. 0. 0. 0. 0. 0. 0. 0. 0. 1. 0. 1. 0. 1. 1. 0. 1. 0. 0. 1. 0. 0.\n",
            " 0. 0. 1. 0. 1. 0. 0. 1. 1. 1. 0. 1. 1. 0. 0. 1. 1. 1. 1. 1. 1. 0. 1. 0.\n",
            " 0. 0. 0. 1. 1. 1. 0. 1. 1. 1. 1. 0. 0. 1. 1. 0. 0. 0. 0. 1. 1. 0. 1. 1.\n",
            " 1. 0. 0. 1. 0. 0. 0. 0. 0. 0. 0. 0. 1. 0. 0. 1. 1. 1. 1. 1. 0. 1. 1. 1.\n",
            " 0. 0. 1. 1. 0. 1. 1. 1. 0. 0. 1. 0. 0. 0. 1. 1. 0. 1. 0. 1. 1. 1. 0. 1.\n",
            " 0. 0. 0. 0. 1. 1. 1. 1. 0. 1. 0. 0. 1. 1. 0. 1. 1. 0. 0. 0. 0. 0. 0. 0.\n",
            " 1. 0. 0. 1. 0. 1. 0. 1. 0. 1. 1. 0. 0. 0. 0. 1. 1. 0. 1. 1. 1. 1. 0. 1.\n",
            " 0. 0. 1. 1. 0. 1. 1. 0. 1. 0. 0. 1.]\n",
            "              precision    recall  f1-score   support\n",
            "\n",
            "         0.0       0.97      0.95      0.96       169\n",
            "         1.0       0.93      0.96      0.95       131\n",
            "\n",
            "    accuracy                           0.95       300\n",
            "   macro avg       0.95      0.95      0.95       300\n",
            "weighted avg       0.95      0.95      0.95       300\n",
            "\n"
          ],
          "name": "stdout"
        }
      ]
    },
    {
      "cell_type": "markdown",
      "metadata": {
        "id": "M_2XkGApZd5O",
        "colab_type": "text"
      },
      "source": [
        "# Dense Neural Network"
      ]
    },
    {
      "cell_type": "markdown",
      "metadata": {
        "id": "-HvyjzciaLG1",
        "colab_type": "text"
      },
      "source": [
        "# Final Evaluate"
      ]
    },
    {
      "cell_type": "markdown",
      "metadata": {
        "id": "qqR5QupHaQRD",
        "colab_type": "text"
      },
      "source": [
        "# The Answers of Competition"
      ]
    },
    {
      "cell_type": "markdown",
      "metadata": {
        "id": "V6yYI0qfaaoL",
        "colab_type": "text"
      },
      "source": [
        "## Importing data"
      ]
    }
  ]
}