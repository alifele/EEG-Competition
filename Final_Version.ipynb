{
  "nbformat": 4,
  "nbformat_minor": 0,
  "metadata": {
    "colab": {
      "name": "Final Version.ipynb",
      "version": "0.3.2",
      "provenance": [],
      "collapsed_sections": [],
      "machine_shape": "hm",
      "include_colab_link": true
    },
    "kernelspec": {
      "name": "python3",
      "display_name": "Python 3"
    },
    "accelerator": "GPU"
  },
  "cells": [
    {
      "cell_type": "markdown",
      "metadata": {
        "id": "view-in-github",
        "colab_type": "text"
      },
      "source": [
        "<a href=\"https://colab.research.google.com/github/alifele/EEG-computation/blob/master/Final_Version.ipynb\" target=\"_parent\"><img src=\"https://colab.research.google.com/assets/colab-badge.svg\" alt=\"Open In Colab\"/></a>"
      ]
    },
    {
      "cell_type": "markdown",
      "metadata": {
        "id": "5ijyoFlSoaoG",
        "colab_type": "text"
      },
      "source": [
        "# Important libraries"
      ]
    },
    {
      "cell_type": "code",
      "metadata": {
        "id": "d1Ny-z-4oRgn",
        "colab_type": "code",
        "colab": {
          "base_uri": "https://localhost:8080/",
          "height": 106
        },
        "outputId": "d7900d61-fa13-441e-a754-82ab69c5ba4d"
      },
      "source": [
        "!pip install mat4py\n",
        "import numpy as np\n",
        "import matplotlib.pyplot as plt\n",
        "import mat4py as mt\n",
        "import os\n",
        "from IPython.display import Image\n",
        "from IPython.core.display import HTML \n",
        "from itertools import combinations\n",
        "from numpy.fft import fft\n",
        "from sklearn.utils import shuffle\n",
        "from sklearn.model_selection import train_test_split\n",
        "from sklearn.preprocessing import StandardScaler\n",
        "import pandas as pd\n",
        "from sklearn.decomposition import PCA\n",
        "from sklearn.tree import DecisionTreeClassifier\n",
        "from sklearn.metrics import confusion_matrix, classification_report"
      ],
      "execution_count": 1,
      "outputs": [
        {
          "output_type": "stream",
          "text": [
            "Collecting mat4py\n",
            "  Downloading https://files.pythonhosted.org/packages/25/a2/ec3feb146f6af699d85cf35d719463f2e2fb0d55864dd6d1d48cf0c756cd/mat4py-0.4.2-py2.py3-none-any.whl\n",
            "Installing collected packages: mat4py\n",
            "Successfully installed mat4py-0.4.2\n"
          ],
          "name": "stdout"
        }
      ]
    },
    {
      "cell_type": "markdown",
      "metadata": {
        "id": "x15GmI28okvE",
        "colab_type": "text"
      },
      "source": [
        "# Importing Data from GitHub Page"
      ]
    },
    {
      "cell_type": "code",
      "metadata": {
        "id": "MyO4R5Uqohmm",
        "colab_type": "code",
        "colab": {
          "base_uri": "https://localhost:8080/",
          "height": 173
        },
        "outputId": "1b22b327-5f36-49dc-c521-1c0306cd8b0c"
      },
      "source": [
        "!git clone https://github.com/alifele/EEG-computation.git\n",
        "%cd EEG-computation"
      ],
      "execution_count": 2,
      "outputs": [
        {
          "output_type": "stream",
          "text": [
            "Cloning into 'EEG-computation'...\n",
            "remote: Enumerating objects: 395, done.\u001b[K\n",
            "remote: Counting objects:   0% (1/395)\u001b[K\rremote: Counting objects:   1% (4/395)\u001b[K\rremote: Counting objects:   2% (8/395)\u001b[K\rremote: Counting objects:   3% (12/395)\u001b[K\rremote: Counting objects:   4% (16/395)\u001b[K\rremote: Counting objects:   5% (20/395)\u001b[K\rremote: Counting objects:   6% (24/395)\u001b[K\rremote: Counting objects:   7% (28/395)\u001b[K\rremote: Counting objects:   8% (32/395)\u001b[K\rremote: Counting objects:   9% (36/395)\u001b[K\rremote: Counting objects:  10% (40/395)\u001b[K\rremote: Counting objects:  11% (44/395)\u001b[K\rremote: Counting objects:  12% (48/395)\u001b[K\rremote: Counting objects:  13% (52/395)\u001b[K\rremote: Counting objects:  14% (56/395)\u001b[K\rremote: Counting objects:  15% (60/395)\u001b[K\rremote: Counting objects:  16% (64/395)\u001b[K\rremote: Counting objects:  17% (68/395)\u001b[K\rremote: Counting objects:  18% (72/395)\u001b[K\rremote: Counting objects:  19% (76/395)\u001b[K\rremote: Counting objects:  20% (79/395)\u001b[K\rremote: Counting objects:  21% (83/395)\u001b[K\rremote: Counting objects:  22% (87/395)\u001b[K\rremote: Counting objects:  23% (91/395)\u001b[K\rremote: Counting objects:  24% (95/395)\u001b[K\rremote: Counting objects:  25% (99/395)\u001b[K\rremote: Counting objects:  26% (103/395)\u001b[K\rremote: Counting objects:  27% (107/395)\u001b[K\rremote: Counting objects:  28% (111/395)\u001b[K\rremote: Counting objects:  29% (115/395)\u001b[K\rremote: Counting objects:  30% (119/395)\u001b[K\rremote: Counting objects:  31% (123/395)\u001b[K\rremote: Counting objects:  32% (127/395)\u001b[K\rremote: Counting objects:  33% (131/395)\u001b[K\rremote: Counting objects:  34% (135/395)\u001b[K\rremote: Counting objects:  35% (139/395)\u001b[K\rremote: Counting objects:  36% (143/395)\u001b[K\rremote: Counting objects:  37% (147/395)\u001b[K\rremote: Counting objects:  38% (151/395)\u001b[K\rremote: Counting objects:  39% (155/395)\u001b[K\rremote: Counting objects:  40% (158/395)\u001b[K\rremote: Counting objects:  41% (162/395)\u001b[K\rremote: Counting objects:  42% (166/395)\u001b[K\rremote: Counting objects:  43% (170/395)\u001b[K\rremote: Counting objects:  44% (174/395)\u001b[K\rremote: Counting objects:  45% (178/395)\u001b[K\rremote: Counting objects:  46% (182/395)\u001b[K\rremote: Counting objects:  47% (186/395)\u001b[K\rremote: Counting objects:  48% (190/395)\u001b[K\rremote: Counting objects:  49% (194/395)\u001b[K\rremote: Counting objects:  50% (198/395)\u001b[K\rremote: Counting objects:  51% (202/395)\u001b[K\rremote: Counting objects:  52% (206/395)\u001b[K\rremote: Counting objects:  53% (210/395)\u001b[K\rremote: Counting objects:  54% (214/395)\u001b[K\rremote: Counting objects:  55% (218/395)\u001b[K\rremote: Counting objects:  56% (222/395)\u001b[K\rremote: Counting objects:  57% (226/395)\u001b[K\rremote: Counting objects:  58% (230/395)\u001b[K\rremote: Counting objects:  59% (234/395)\u001b[K\rremote: Counting objects:  60% (237/395)\u001b[K\rremote: Counting objects:  61% (241/395)\u001b[K\rremote: Counting objects:  62% (245/395)\u001b[K\rremote: Counting objects:  63% (249/395)\u001b[K\rremote: Counting objects:  64% (253/395)\u001b[K\rremote: Counting objects:  65% (257/395)\u001b[K\rremote: Counting objects:  66% (261/395)\u001b[K\rremote: Counting objects:  67% (265/395)\u001b[K\rremote: Counting objects:  68% (269/395)\u001b[K\rremote: Counting objects:  69% (273/395)\u001b[K\rremote: Counting objects:  70% (277/395)\u001b[K\rremote: Counting objects:  71% (281/395)\u001b[K\rremote: Counting objects:  72% (285/395)\u001b[K\rremote: Counting objects:  73% (289/395)\u001b[K\rremote: Counting objects:  74% (293/395)\u001b[K\rremote: Counting objects:  75% (297/395)\u001b[K\rremote: Counting objects:  76% (301/395)\u001b[K\rremote: Counting objects:  77% (305/395)\u001b[K\rremote: Counting objects:  78% (309/395)\u001b[K\rremote: Counting objects:  79% (313/395)\u001b[K\rremote: Counting objects:  80% (316/395)\u001b[K\rremote: Counting objects:  81% (320/395)\u001b[K\rremote: Counting objects:  82% (324/395)\u001b[K\rremote: Counting objects:  83% (328/395)\u001b[K\rremote: Counting objects:  84% (332/395)\u001b[K\rremote: Counting objects:  85% (336/395)\u001b[K\rremote: Counting objects:  86% (340/395)\u001b[K\rremote: Counting objects:  87% (344/395)\u001b[K\rremote: Counting objects:  88% (348/395)\u001b[K\rremote: Counting objects:  89% (352/395)\u001b[K\rremote: Counting objects:  90% (356/395)\u001b[K\rremote: Counting objects:  91% (360/395)\u001b[K\rremote: Counting objects:  92% (364/395)\u001b[K\rremote: Counting objects:  93% (368/395)\u001b[K\rremote: Counting objects:  94% (372/395)\u001b[K\rremote: Counting objects:  95% (376/395)\u001b[K\rremote: Counting objects:  96% (380/395)\u001b[K\rremote: Counting objects:  97% (384/395)\u001b[K\rremote: Counting objects:  98% (388/395)\u001b[K\rremote: Counting objects:  99% (392/395)\u001b[K\rremote: Counting objects: 100% (395/395)\u001b[K\rremote: Counting objects: 100% (395/395), done.\u001b[K\n",
            "remote: Compressing objects: 100% (391/391), done.\u001b[K\n",
            "remote: Total 395 (delta 24), reused 351 (delta 2), pack-reused 0\u001b[K\n",
            "Receiving objects: 100% (395/395), 579.97 MiB | 61.70 MiB/s, done.\n",
            "Resolving deltas: 100% (24/24), done.\n",
            "Checking out files: 100% (342/342), done.\n",
            "/content/EEG-computation\n"
          ],
          "name": "stdout"
        }
      ]
    },
    {
      "cell_type": "code",
      "metadata": {
        "id": "-rYBDgiCouky",
        "colab_type": "code",
        "colab": {}
      },
      "source": [
        "disorder_dic = []\n",
        "directory = os.fsencode('EEG Data/disorder')\n",
        "for file in os.listdir(directory):\n",
        "    filename = os.fsdecode(file)\n",
        "    disorder_dic.append(np.array(mt.loadmat('EEG Data/disorder/{}'.format(filename))[filename.split('.')[0]]))\n",
        "    \n",
        "channels_disorder = [ [] for i in range(len(disorder_dic))]  #channels[person][channel] it will be a numpy array\n",
        "j=0;\n",
        "for person in channels_disorder:\n",
        "    for i in range(19):\n",
        "        person.append(disorder_dic[j][:,i])\n",
        "\n",
        "        \n",
        "normal_dic = []\n",
        "directory = os.fsencode('EEG Data/normal')\n",
        "for file in os.listdir(directory):\n",
        "    filename = os.fsdecode(file)\n",
        "    normal_dic.append(np.array(mt.loadmat('EEG Data/normal/{}'.format(filename))[filename.split('.')[0]]))\n",
        "    \n",
        "channels_normal = [ [] for i in range(len(normal_dic))]  #channels[person][channel] it will be a numpy array\n",
        "j=0;\n",
        "for person in channels_normal:\n",
        "    for i in range(19):\n",
        "        person.append(normal_dic[j][:,i])\n",
        "        \n",
        "        \n",
        "data = {\"N\":channels_normal,\n",
        "      \"D\":channels_disorder}\n",
        "\n"
      ],
      "execution_count": 0,
      "outputs": []
    },
    {
      "cell_type": "code",
      "metadata": {
        "id": "lpdtUkTq7OZy",
        "colab_type": "code",
        "colab": {
          "base_uri": "https://localhost:8080/",
          "height": 748
        },
        "outputId": "cc36570e-2d0a-432b-f51d-37f06c49a461"
      },
      "source": [
        "t = np.linspace(0,30,512*30)\n",
        "f = np.linspace(0,512,512*30)\n",
        "fig = plt.figure( 'Example Plot', figsize=(18,12))\n",
        "ax = fig.add_subplot(2,2,1, title = 'Normal_3_14')\n",
        "ax.plot(t,data[\"N\"][18][16])\n",
        "ax = fig.add_subplot(2,2,2, title = 'Normal_3_14\\nFFT')\n",
        "ax.plot(f,abs(np.fft.fft(data[\"N\"][18][16])))\n",
        "ax.set_xlim([-4,512/2])\n",
        "ax = fig.add_subplot(2,2,3, title = 'Disorder_3_14')\n",
        "ax.plot(t,data[\"N\"][54][16])\n",
        "ax = fig.add_subplot(2,2,4, title = 'Disorder_3_14\\nFFT')\n",
        "ax.plot(f,abs(np.fft.fft(data['N'][54][16])))\n",
        "ax.set_xlim([-4,512/2])\n"
      ],
      "execution_count": 13,
      "outputs": [
        {
          "output_type": "execute_result",
          "data": {
            "text/plain": [
              "(-4, 256.0)"
            ]
          },
          "metadata": {
            "tags": []
          },
          "execution_count": 13
        },
        {
          "output_type": "display_data",
          "data": {
            "image/png": "[encoded data removed]",
            "text/plain": [
              "<Figure size 1296x864 with 4 Axes>"
            ]
          },
          "metadata": {
            "tags": []
          }
        }
      ]
    },
    {
      "cell_type": "code",
      "metadata": {
        "id": "HO4NAjyV76xV",
        "colab_type": "code",
        "colab": {
          "base_uri": "https://localhost:8080/",
          "height": 286
        },
        "outputId": "e8e9b6bf-0e0d-423e-e668-0193b8b8632f"
      },
      "source": [
        "#plt.plot(abs(np.fft.fft(data[\"N\"][18][16]))-abs(np.fft.fft(data[\"N\"][5][16])))\n",
        "plt.plot(data['N'][8][16] - data['N'][54][16])"
      ],
      "execution_count": 11,
      "outputs": [
        {
          "output_type": "execute_result",
          "data": {
            "text/plain": [
              "[<matplotlib.lines.Line2D at 0x7faf2e7c5208>]"
            ]
          },
          "metadata": {
            "tags": []
          },
          "execution_count": 11
        },
        {
          "output_type": "display_data",
          "data": {
            "image/png": "[encoded data removed]",
            "text/plain": [
              "<Figure size 432x288 with 1 Axes>"
            ]
          },
          "metadata": {
            "tags": []
          }
        }
      ]
    },
    {
      "cell_type": "markdown",
      "metadata": {
        "id": "xZckClfVo0kC",
        "colab_type": "text"
      },
      "source": [
        "## Generating New Data"
      ]
    },
    {
      "cell_type": "code",
      "metadata": {
        "id": "VG88rAkP7NYN",
        "colab_type": "code",
        "colab": {}
      },
      "source": [
        ""
      ],
      "execution_count": 0,
      "outputs": []
    },
    {
      "cell_type": "code",
      "metadata": {
        "id": "pmppPJ7Foz4r",
        "colab_type": "code",
        "colab": {}
      },
      "source": [
        "def New_Data_Generator_N():\n",
        "    number_of_samples =  50\n",
        "    randlist = (132 * np.random.random(number_of_samples)).astype(int)\n",
        "    new_patients = list(data['N'][i] for i in randlist)\n",
        "    \n",
        "    index = [ i for i in range(number_of_samples)]\n",
        "    comb = list( combinations(index, 2))\n",
        "    new_data = [[] for i in range(len(comb))]\n",
        "    person = 0\n",
        "    for x,y in comb:\n",
        "        for chan in range(19):\n",
        "            new_data[person].append((new_patients[x][chan] + new_patients[y][chan] )/2)\n",
        "        data['N'].append(new_data[person])\n",
        "        person += 1\n",
        "\n",
        "    \n",
        "def New_Data_Generator_D():\n",
        "    number_of_samples = 50\n",
        "    randlist = (132 * np.random.random(number_of_samples)).astype(int)\n",
        "    new_patients = list(data['D'][i] for i in randlist)\n",
        "    \n",
        "    index = [ i for i in range(number_of_samples)]\n",
        "    comb = list( combinations(index, 2))\n",
        "    new_data = [[] for i in range(len(comb))]\n",
        "    person = 0\n",
        "    for x,y in comb:\n",
        "        for chan in range(19):\n",
        "            new_data[person].append((new_patients[x][chan] + new_patients[y][chan] )/2)\n",
        "        data['D'].append(new_data[person])\n",
        "        person += 1"
      ],
      "execution_count": 0,
      "outputs": []
    },
    {
      "cell_type": "code",
      "metadata": {
        "id": "7jDAaqPgo9Ko",
        "colab_type": "code",
        "colab": {}
      },
      "source": [
        "New_Data_Generator_N()\n",
        "New_Data_Generator_D()"
      ],
      "execution_count": 0,
      "outputs": []
    },
    {
      "cell_type": "code",
      "metadata": {
        "id": "24wxxxfbo_64",
        "colab_type": "code",
        "colab": {
          "base_uri": "https://localhost:8080/",
          "height": 34
        },
        "outputId": "791f2014-d5e6-4c65-dca1-fe2da58ffd5e"
      },
      "source": [
        "n_D , n_N = len(data['D']), len(data['N'])\n",
        "n_D, n_N"
      ],
      "execution_count": 61,
      "outputs": [
        {
          "output_type": "execute_result",
          "data": {
            "text/plain": [
              "(1421, 1357)"
            ]
          },
          "metadata": {
            "tags": []
          },
          "execution_count": 61
        }
      ]
    },
    {
      "cell_type": "markdown",
      "metadata": {
        "id": "nnzVBQxPpOws",
        "colab_type": "text"
      },
      "source": [
        "# Making Fourier Transform DataSet and Deleting Noise"
      ]
    },
    {
      "cell_type": "code",
      "metadata": {
        "id": "Ym-ONaxCpHqt",
        "colab_type": "code",
        "colab": {
          "base_uri": "https://localhost:8080/",
          "height": 52
        },
        "outputId": "6915758f-35f1-45ef-c591-acf654c14cd8"
      },
      "source": [
        "\n",
        "\n",
        "index = np.arange(0,512*30)\n",
        "f = np.linspace(0,512,512*30)\n",
        "f_max = f[len(f[f<120])]\n",
        "ind_min = 2\n",
        "ind_max = list(index[f==f_max])[0]\n",
        "f_min = f[ind_min]\n",
        "\n",
        "print(f_min, f_max, ind_min, ind_max)\n",
        "\n",
        "\n",
        "sam_FT = np.abs(fft(data['D'][50][7]))\n",
        "\n",
        "# The 50 Htz noise elimination information\n",
        "\n",
        "f_45 = f>45\n",
        "f_55 = f<55\n",
        "f_bar = f<45\n",
        "\n",
        "for i in range(f.shape[0]):\n",
        "  f_bar[i] = f_45[i] and f_55[i]\n",
        "  \n",
        "  \n",
        "noise = f[sam_FT == np.max(sam_FT[f_bar])][0]\n",
        "noise_index = list(index[f==noise])[0] # in range 0, 512*30\n",
        "del_domain = 40\n",
        "del_range = [noise_index + i for i in range(-del_domain,del_domain)]\n",
        "print(noise, noise_index)\n",
        "\n"
      ],
      "execution_count": 62,
      "outputs": [
        {
          "output_type": "stream",
          "text": [
            "0.06667100722703301 120.00781300865941 2 3600\n",
            "50.13659743472882 1504\n"
          ],
          "name": "stdout"
        }
      ]
    },
    {
      "cell_type": "code",
      "metadata": {
        "id": "fCxS2AM4pWv5",
        "colab_type": "code",
        "colab": {
          "base_uri": "https://localhost:8080/",
          "height": 286
        },
        "outputId": "de2b4ff2-71d0-4b31-a324-219589b098b9"
      },
      "source": [
        "plt.plot(f_bar)"
      ],
      "execution_count": 63,
      "outputs": [
        {
          "output_type": "execute_result",
          "data": {
            "text/plain": [
              "[<matplotlib.lines.Line2D at 0x7fe972d43400>]"
            ]
          },
          "metadata": {
            "tags": []
          },
          "execution_count": 63
        },
        {
          "output_type": "display_data",
          "data": {
            "image/png": "[encoded data removed]",
            "text/plain": [
              "<Figure size 432x288 with 1 Axes>"
            ]
          },
          "metadata": {
            "tags": []
          }
        }
      ]
    },
    {
      "cell_type": "markdown",
      "metadata": {
        "id": "UyRJfSxnp33A",
        "colab_type": "text"
      },
      "source": [
        "## Noise Delete"
      ]
    },
    {
      "cell_type": "code",
      "metadata": {
        "id": "GDoE-AsMpcXL",
        "colab_type": "code",
        "colab": {}
      },
      "source": [
        "f = np.linspace(0,512,512*30)[ind_min:ind_max]"
      ],
      "execution_count": 0,
      "outputs": []
    },
    {
      "cell_type": "code",
      "metadata": {
        "id": "eRrRsB2cp8uD",
        "colab_type": "code",
        "colab": {}
      },
      "source": [
        "normal = [[np.zeros(f.shape[0]) for k in range(19)] for i in range(n_N)]\n",
        "disorder = [[np.zeros(f.shape[0]) for k in range(19)] for i in range(n_D)]\n",
        "\n",
        "\n",
        "FT = {'D':disorder,\n",
        "     'N':normal}\n",
        "\n",
        "from numpy.fft import fft\n",
        "\n",
        "for d in range(n_D):\n",
        "    for i in range(19):\n",
        "        \n",
        "        FT['D'][d][i] = np.abs(fft(data['D'][d][i]))[ind_min:ind_max]\n",
        "        FT['D'][d][i][noise_index-del_domain  - ind_min: noise_index+del_domain - ind_min] = np.average(FT['D'][d][i][noise_index-del_domain  - ind_min - 120: noise_index+del_domain - ind_min-120])\n",
        "        FT['D'][d][i][2*noise_index-del_domain - ind_min: 2*noise_index+del_domain - ind_min] = np.average(FT['D'][d][i][2*noise_index-del_domain - ind_min - 120: 2*noise_index+del_domain - ind_min-120])\n",
        "    \n",
        "for n in range(n_N):\n",
        "    for i in range(19):\n",
        "        FT['N'][n][i] = np.abs(fft(data['N'][n][i]))[ind_min:ind_max]\n",
        "        FT['N'][n][i][noise_index-del_domain - ind_min: noise_index+del_domain -ind_min] = np.average(FT['N'][n][i][noise_index-del_domain - ind_min-120: noise_index+del_domain -ind_min-120])\n",
        "        FT['N'][n][i][2*noise_index-del_domain - ind_min: 2*noise_index+del_domain - ind_min] = np.average( FT['N'][n][i][2*noise_index-del_domain - ind_min-120 : 2*noise_index+del_domain - ind_min-120])\n",
        "        \n",
        "\n",
        "    FT['N'] = np.array(FT['N'])\n",
        "    FT['D'] = np.array(FT['D'])\n"
      ],
      "execution_count": 0,
      "outputs": []
    },
    {
      "cell_type": "code",
      "metadata": {
        "id": "q9FeZllxqJC2",
        "colab_type": "code",
        "colab": {
          "base_uri": "https://localhost:8080/",
          "height": 286
        },
        "outputId": "85660710-6c89-45f7-fc5c-5a7318a9aca4"
      },
      "source": [
        "plt.plot(f, FT['D'][56][8] - FT['D'][105][8])\n",
        "#plt.plot(f, FT['D'][95][8])"
      ],
      "execution_count": 73,
      "outputs": [
        {
          "output_type": "execute_result",
          "data": {
            "text/plain": [
              "[<matplotlib.lines.Line2D at 0x7fe9726ec208>]"
            ]
          },
          "metadata": {
            "tags": []
          },
          "execution_count": 73
        },
        {
          "output_type": "display_data",
          "data": {
            "image/png": "[encoded data removed]",
            "text/plain": [
              "<Figure size 432x288 with 1 Axes>"
            ]
          },
          "metadata": {
            "tags": []
          }
        }
      ]
    },
    {
      "cell_type": "code",
      "metadata": {
        "id": "9qOuJuaHLlYz",
        "colab_type": "code",
        "colab": {
          "base_uri": "https://localhost:8080/",
          "height": 286
        },
        "outputId": "2414e3cb-e12d-4c2a-e139-3786dcaf98ca"
      },
      "source": [
        "plt.plot(data['D'][3][4] - data['D'][50][4])"
      ],
      "execution_count": 4,
      "outputs": [
        {
          "output_type": "execute_result",
          "data": {
            "text/plain": [
              "[<matplotlib.lines.Line2D at 0x7fb4966d0550>]"
            ]
          },
          "metadata": {
            "tags": []
          },
          "execution_count": 4
        },
        {
          "output_type": "display_data",
          "data": {
            "image/png": "[encoded data removed]",
            "text/plain": [
              "<Figure size 432x288 with 1 Axes>"
            ]
          },
          "metadata": {
            "tags": []
          }
        }
      ]
    },
    {
      "cell_type": "code",
      "metadata": {
        "id": "-WKvH1aGqMDR",
        "colab_type": "code",
        "colab": {}
      },
      "source": [
        "%reset_selective -f \"^data$\""
      ],
      "execution_count": 0,
      "outputs": []
    },
    {
      "cell_type": "markdown",
      "metadata": {
        "id": "YL83fItSqXHy",
        "colab_type": "text"
      },
      "source": [
        "## Data Shaper and Scale"
      ]
    },
    {
      "cell_type": "code",
      "metadata": {
        "id": "70LP0Vl3qQfw",
        "colab_type": "code",
        "colab": {}
      },
      "source": [
        "FT_matrix_N = FT['N']\n",
        "FT_matrix_D = FT['D']\n",
        "\n",
        "temp_D = FT_matrix_D.reshape((FT_matrix_D.shape[0],FT_matrix_D.shape[2],FT_matrix_D.shape[1]))\n",
        "temp_N = FT_matrix_N.reshape((FT_matrix_N.shape[0],FT_matrix_N.shape[2],FT_matrix_N.shape[1]))\n",
        "#or d in range(FT_matrix.shape[0]):\n",
        "scaler = StandardScaler()"
      ],
      "execution_count": 0,
      "outputs": []
    },
    {
      "cell_type": "code",
      "metadata": {
        "id": "7zNkM0fUvtfe",
        "colab_type": "code",
        "colab": {}
      },
      "source": [
        "%reset_selective -f \"^FT$\""
      ],
      "execution_count": 0,
      "outputs": []
    },
    {
      "cell_type": "code",
      "metadata": {
        "id": "F6InbOoVqnuc",
        "colab_type": "code",
        "colab": {}
      },
      "source": [
        "for n in range(FT_matrix_N.shape[0]):\n",
        "  temp_N[n]= scaler.fit_transform(FT_matrix_N[n].T)\n",
        "  \n",
        "for d in range(FT_matrix_D.shape[0]):\n",
        "  temp_D[d]= scaler.fit_transform(FT_matrix_D[d].T)"
      ],
      "execution_count": 0,
      "outputs": []
    },
    {
      "cell_type": "code",
      "metadata": {
        "id": "UFREEN05qr_d",
        "colab_type": "code",
        "colab": {}
      },
      "source": [
        "for n in range(FT_matrix_N.shape[0]):\n",
        "  FT_matrix_N[n]= scaler.fit_transform(temp_N[n].T)\n",
        "  \n",
        "for d in range(FT_matrix_D.shape[0]):\n",
        "  FT_matrix_D[d]= scaler.fit_transform(temp_D[d].T)\n",
        "\n"
      ],
      "execution_count": 0,
      "outputs": []
    },
    {
      "cell_type": "code",
      "metadata": {
        "id": "0h3awXTbqymv",
        "colab_type": "code",
        "colab": {
          "base_uri": "https://localhost:8080/",
          "height": 286
        },
        "outputId": "06191c8b-532a-482a-d312-c1264aa3728e"
      },
      "source": [
        "plt.plot(f,FT_matrix_D[16,5], alpha=0.5)\n",
        "#plt.plot(f,FT_matrix_D[9,8])\n",
        "plt.plot(f,FT_matrix_D[25,5])"
      ],
      "execution_count": 53,
      "outputs": [
        {
          "output_type": "execute_result",
          "data": {
            "text/plain": [
              "[<matplotlib.lines.Line2D at 0x7fe972815320>]"
            ]
          },
          "metadata": {
            "tags": []
          },
          "execution_count": 53
        },
        {
          "output_type": "display_data",
          "data": {
            "image/png": "[encoded data removed]",
            "text/plain": [
              "<Figure size 432x288 with 1 Axes>"
            ]
          },
          "metadata": {
            "tags": []
          }
        }
      ]
    },
    {
      "cell_type": "code",
      "metadata": {
        "id": "WCfyT325q2cb",
        "colab_type": "code",
        "colab": {}
      },
      "source": [
        "# normal is 1 and disorder is 0\n",
        "Data = np.vstack((FT_matrix_N, FT_matrix_D))\n",
        "target = np.hstack((np.ones(FT_matrix_N.shape[0]), np.zeros(FT_matrix_D.shape[0])))"
      ],
      "execution_count": 0,
      "outputs": []
    },
    {
      "cell_type": "code",
      "metadata": {
        "id": "bndzaufmq637",
        "colab_type": "code",
        "colab": {}
      },
      "source": [
        "X, y = shuffle(Data, target)"
      ],
      "execution_count": 0,
      "outputs": []
    },
    {
      "cell_type": "code",
      "metadata": {
        "id": "JnPZ1K9VrAA4",
        "colab_type": "code",
        "colab": {
          "base_uri": "https://localhost:8080/",
          "height": 34
        },
        "outputId": "7fed8d47-1352-4082-ddcd-6714b8a9de63"
      },
      "source": [
        "X.shape, y.shape"
      ],
      "execution_count": 20,
      "outputs": [
        {
          "output_type": "execute_result",
          "data": {
            "text/plain": [
              "((2778, 19, 3598), (2778,))"
            ]
          },
          "metadata": {
            "tags": []
          },
          "execution_count": 20
        }
      ]
    },
    {
      "cell_type": "code",
      "metadata": {
        "id": "fPB9jUlhsKXo",
        "colab_type": "code",
        "colab": {}
      },
      "source": [
        "%reset_selective -f \"^FT_matrix_D$\"\n",
        "%reset_selective -f \"^FT_matrix_N$\"\n",
        "%reset_selective -f \"^temp_D$\"\n",
        "%reset_selective -f \"^temp_N$\"\n",
        "%reset_selective -f \"^Data$\"\n",
        "%reset_selective -f \"^target$\"\n"
      ],
      "execution_count": 0,
      "outputs": []
    },
    {
      "cell_type": "markdown",
      "metadata": {
        "id": "46ZGUTPlrarM",
        "colab_type": "text"
      },
      "source": [
        "#PCA"
      ]
    },
    {
      "cell_type": "code",
      "metadata": {
        "id": "aMTHUJDIrDad",
        "colab_type": "code",
        "colab": {}
      },
      "source": [
        "X = X.reshape(X.shape[0],-1)\n",
        "X_train, X_test, y_train, y_test = train_test_split(X,y)"
      ],
      "execution_count": 0,
      "outputs": []
    },
    {
      "cell_type": "code",
      "metadata": {
        "id": "PSbOqWyhu7Pa",
        "colab_type": "code",
        "colab": {}
      },
      "source": [
        "%reset_selective -f \"^X$\"\n",
        "%reset_selective -f \"^y$\""
      ],
      "execution_count": 0,
      "outputs": []
    },
    {
      "cell_type": "code",
      "metadata": {
        "id": "3D5Xs61Yrj51",
        "colab_type": "code",
        "colab": {}
      },
      "source": [
        "pca = PCA(n_components = 1)\n"
      ],
      "execution_count": 0,
      "outputs": []
    },
    {
      "cell_type": "code",
      "metadata": {
        "id": "YmPWRlR4rvl8",
        "colab_type": "code",
        "colab": {
          "base_uri": "https://localhost:8080/",
          "height": 34
        },
        "outputId": "dd0781df-e9c4-4bfb-f887-aaa52f44b002"
      },
      "source": [
        "pca.fit(X_train)\n",
        "X_train_pca = pca.transform(X_train)\n",
        "X_train_pca.shape"
      ],
      "execution_count": 25,
      "outputs": [
        {
          "output_type": "execute_result",
          "data": {
            "text/plain": [
              "(2083, 1)"
            ]
          },
          "metadata": {
            "tags": []
          },
          "execution_count": 25
        }
      ]
    },
    {
      "cell_type": "code",
      "metadata": {
        "id": "48ZiiM1YsAS3",
        "colab_type": "code",
        "colab": {
          "base_uri": "https://localhost:8080/",
          "height": 34
        },
        "outputId": "cdf75d24-93f3-42b8-fe83-716b9afed7df"
      },
      "source": [
        "X_test_pca = pca.transform(X_test)\n",
        "X_test_pca.shape"
      ],
      "execution_count": 26,
      "outputs": [
        {
          "output_type": "execute_result",
          "data": {
            "text/plain": [
              "(695, 1)"
            ]
          },
          "metadata": {
            "tags": []
          },
          "execution_count": 26
        }
      ]
    },
    {
      "cell_type": "markdown",
      "metadata": {
        "id": "srGVuwG3tCD9",
        "colab_type": "text"
      },
      "source": [
        "#Decision Tree"
      ]
    },
    {
      "cell_type": "code",
      "metadata": {
        "id": "0LuoI9PdsryU",
        "colab_type": "code",
        "colab": {
          "base_uri": "https://localhost:8080/",
          "height": 121
        },
        "outputId": "e8ef4b85-d8b9-4a5c-9329-de0ae4bfeb40"
      },
      "source": [
        "model = DecisionTreeClassifier(max_depth=2)\n",
        "model.fit(X_train_pca,y_train)"
      ],
      "execution_count": 27,
      "outputs": [
        {
          "output_type": "execute_result",
          "data": {
            "text/plain": [
              "DecisionTreeClassifier(class_weight=None, criterion='gini', max_depth=2,\n",
              "                       max_features=None, max_leaf_nodes=None,\n",
              "                       min_impurity_decrease=0.0, min_impurity_split=None,\n",
              "                       min_samples_leaf=1, min_samples_split=2,\n",
              "                       min_weight_fraction_leaf=0.0, presort=False,\n",
              "                       random_state=None, splitter='best')"
            ]
          },
          "metadata": {
            "tags": []
          },
          "execution_count": 27
        }
      ]
    },
    {
      "cell_type": "code",
      "metadata": {
        "id": "H8aszKxrsuBQ",
        "colab_type": "code",
        "colab": {
          "base_uri": "https://localhost:8080/",
          "height": 52
        },
        "outputId": "8ac02781-51b2-42ec-f48b-ab3ec904316c"
      },
      "source": [
        "Y_predict = model.predict(X_test_pca)\n",
        "cnfmatrix = confusion_matrix(y_test,Y_predict)\n",
        "print(cnfmatrix)"
      ],
      "execution_count": 28,
      "outputs": [
        {
          "output_type": "stream",
          "text": [
            "[[334   0]\n",
            " [  0 361]]\n"
          ],
          "name": "stdout"
        }
      ]
    },
    {
      "cell_type": "code",
      "metadata": {
        "id": "t89mZL5atYBI",
        "colab_type": "code",
        "colab": {
          "base_uri": "https://localhost:8080/",
          "height": 173
        },
        "outputId": "dec61267-219e-4f17-e287-fedbb7abc0ef"
      },
      "source": [
        "clf_report = classification_report(y_test, Y_predict)\n",
        "print(clf_report)"
      ],
      "execution_count": 29,
      "outputs": [
        {
          "output_type": "stream",
          "text": [
            "              precision    recall  f1-score   support\n",
            "\n",
            "         0.0       1.00      1.00      1.00       334\n",
            "         1.0       1.00      1.00      1.00       361\n",
            "\n",
            "    accuracy                           1.00       695\n",
            "   macro avg       1.00      1.00      1.00       695\n",
            "weighted avg       1.00      1.00      1.00       695\n",
            "\n"
          ],
          "name": "stdout"
        }
      ]
    },
    {
      "cell_type": "code",
      "metadata": {
        "id": "TtwbyTfqtft5",
        "colab_type": "code",
        "colab": {}
      },
      "source": [
        ""
      ],
      "execution_count": 0,
      "outputs": []
    }
  ]
}