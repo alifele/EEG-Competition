{
  "nbformat": 4,
  "nbformat_minor": 0,
  "metadata": {
    "colab": {
      "name": "RNN.ipynb",
      "version": "0.3.2",
      "provenance": [],
      "machine_shape": "hm",
      "include_colab_link": true
    },
    "kernelspec": {
      "name": "python3",
      "display_name": "Python 3"
    },
    "accelerator": "GPU"
  },
  "cells": [
    {
      "cell_type": "markdown",
      "metadata": {
        "id": "view-in-github",
        "colab_type": "text"
      },
      "source": [
        "<a href=\"https://colab.research.google.com/github/alifele/EEG-computation/blob/master/RNN.ipynb\" target=\"_parent\"><img src=\"https://colab.research.google.com/assets/colab-badge.svg\" alt=\"Open In Colab\"/></a>"
      ]
    },
    {
      "cell_type": "code",
      "metadata": {
        "id": "3j_RP-GEz-W1",
        "colab_type": "code",
        "colab": {
          "base_uri": "https://localhost:8080/",
          "height": 106
        },
        "outputId": "b914e559-50c2-43d5-a8be-a86f7ab91b74"
      },
      "source": [
        "!pip install mat4py\n",
        "import numpy as np\n",
        "import matplotlib.pyplot as plt\n",
        "import mat4py as mt\n",
        "import os\n",
        "from IPython.display import Image\n",
        "from IPython.core.display import HTML \n",
        "from itertools import combinations\n",
        "from numpy.fft import fft\n",
        "from sklearn.utils import shuffle\n",
        "from sklearn.model_selection import train_test_split\n",
        "from sklearn.preprocessing import StandardScaler\n",
        "import pandas as pd\n",
        "from sklearn.decomposition import PCA\n",
        "from sklearn.tree import DecisionTreeClassifier,export_graphviz\n",
        "from sklearn.metrics import confusion_matrix, classification_report"
      ],
      "execution_count": 1,
      "outputs": [
        {
          "output_type": "stream",
          "text": [
            "Collecting mat4py\n",
            "  Downloading https://files.pythonhosted.org/packages/25/a2/ec3feb146f6af699d85cf35d719463f2e2fb0d55864dd6d1d48cf0c756cd/mat4py-0.4.2-py2.py3-none-any.whl\n",
            "Installing collected packages: mat4py\n",
            "Successfully installed mat4py-0.4.2\n"
          ],
          "name": "stdout"
        }
      ]
    },
    {
      "cell_type": "code",
      "metadata": {
        "id": "-_IYtiIO0CoK",
        "colab_type": "code",
        "colab": {
          "base_uri": "https://localhost:8080/",
          "height": 173
        },
        "outputId": "e8164dbb-8f00-4cb9-a062-4aecc14e9922"
      },
      "source": [
        "!git clone https://github.com/alifele/EEG-computation.git\n",
        "%cd EEG-computation"
      ],
      "execution_count": 2,
      "outputs": [
        {
          "output_type": "stream",
          "text": [
            "Cloning into 'EEG-computation'...\n",
            "remote: Enumerating objects: 419, done.\u001b[K\n",
            "remote: Counting objects:   0% (1/419)\u001b[K\rremote: Counting objects:   1% (5/419)\u001b[K\rremote: Counting objects:   2% (9/419)\u001b[K\rremote: Counting objects:   3% (13/419)\u001b[K\rremote: Counting objects:   4% (17/419)\u001b[K\rremote: Counting objects:   5% (21/419)\u001b[K\rremote: Counting objects:   6% (26/419)\u001b[K\rremote: Counting objects:   7% (30/419)\u001b[K\rremote: Counting objects:   8% (34/419)\u001b[K\rremote: Counting objects:   9% (38/419)\u001b[K\rremote: Counting objects:  10% (42/419)\u001b[K\rremote: Counting objects:  11% (47/419)\u001b[K\rremote: Counting objects:  12% (51/419)\u001b[K\rremote: Counting objects:  13% (55/419)\u001b[K\rremote: Counting objects:  14% (59/419)\u001b[K\rremote: Counting objects:  15% (63/419)\u001b[K\rremote: Counting objects:  16% (68/419)\u001b[K\rremote: Counting objects:  17% (72/419)\u001b[K\rremote: Counting objects:  18% (76/419)\u001b[K\rremote: Counting objects:  19% (80/419)\u001b[K\rremote: Counting objects:  20% (84/419)\u001b[K\rremote: Counting objects:  21% (88/419)\u001b[K\rremote: Counting objects:  22% (93/419)\u001b[K\rremote: Counting objects:  23% (97/419)\u001b[K\rremote: Counting objects:  24% (101/419)\u001b[K\rremote: Counting objects:  25% (105/419)\u001b[K\rremote: Counting objects:  26% (109/419)\u001b[K\rremote: Counting objects:  27% (114/419)\u001b[K\rremote: Counting objects:  28% (118/419)\u001b[K\rremote: Counting objects:  29% (122/419)\u001b[K\rremote: Counting objects:  30% (126/419)\u001b[K\rremote: Counting objects:  31% (130/419)\u001b[K\rremote: Counting objects:  32% (135/419)\u001b[K\rremote: Counting objects:  33% (139/419)\u001b[K\rremote: Counting objects:  34% (143/419)\u001b[K\rremote: Counting objects:  35% (147/419)\u001b[K\rremote: Counting objects:  36% (151/419)\u001b[K\rremote: Counting objects:  37% (156/419)\u001b[K\rremote: Counting objects:  38% (160/419)\u001b[K\rremote: Counting objects:  39% (164/419)\u001b[K\rremote: Counting objects:  40% (168/419)\u001b[K\rremote: Counting objects:  41% (172/419)\u001b[K\rremote: Counting objects:  42% (176/419)\u001b[K\rremote: Counting objects:  43% (181/419)\u001b[K\rremote: Counting objects:  44% (185/419)\u001b[K\rremote: Counting objects:  45% (189/419)\u001b[K\rremote: Counting objects:  46% (193/419)\u001b[K\rremote: Counting objects:  47% (197/419)\u001b[K\rremote: Counting objects:  48% (202/419)\u001b[K\rremote: Counting objects:  49% (206/419)\u001b[K\rremote: Counting objects:  50% (210/419)\u001b[K\rremote: Counting objects:  51% (214/419)\u001b[K\rremote: Counting objects:  52% (218/419)\u001b[K\rremote: Counting objects:  53% (223/419)\u001b[K\rremote: Counting objects:  54% (227/419)\u001b[K\rremote: Counting objects:  55% (231/419)\u001b[K\rremote: Counting objects:  56% (235/419)\u001b[K\rremote: Counting objects:  57% (239/419)\u001b[K\rremote: Counting objects:  58% (244/419)\u001b[K\rremote: Counting objects:  59% (248/419)\u001b[K\rremote: Counting objects:  60% (252/419)\u001b[K\rremote: Counting objects:  61% (256/419)\u001b[K\rremote: Counting objects:  62% (260/419)\u001b[K\rremote: Counting objects:  63% (264/419)\u001b[K\rremote: Counting objects:  64% (269/419)\u001b[K\rremote: Counting objects:  65% (273/419)\u001b[K\rremote: Counting objects:  66% (277/419)\u001b[K\rremote: Counting objects:  67% (281/419)\u001b[K\rremote: Counting objects:  68% (285/419)\u001b[K\rremote: Counting objects:  69% (290/419)\u001b[K\rremote: Counting objects:  70% (294/419)\u001b[K\rremote: Counting objects:  71% (298/419)\u001b[K\rremote: Counting objects:  72% (302/419)\u001b[K\rremote: Counting objects:  73% (306/419)\u001b[K\rremote: Counting objects:  74% (311/419)\u001b[K\rremote: Counting objects:  75% (315/419)\u001b[K\rremote: Counting objects:  76% (319/419)\u001b[K\rremote: Counting objects:  77% (323/419)\u001b[K\rremote: Counting objects:  78% (327/419)\u001b[K\rremote: Counting objects:  79% (332/419)\u001b[K\rremote: Counting objects:  80% (336/419)\u001b[K\rremote: Counting objects:  81% (340/419)\u001b[K\rremote: Counting objects:  82% (344/419)\u001b[K\rremote: Counting objects:  83% (348/419)\u001b[K\rremote: Counting objects:  84% (352/419)\u001b[K\rremote: Counting objects:  85% (357/419)\u001b[K\rremote: Counting objects:  86% (361/419)\u001b[K\rremote: Counting objects:  87% (365/419)\u001b[K\rremote: Counting objects:  88% (369/419)\u001b[K\rremote: Counting objects:  89% (373/419)\u001b[K\rremote: Counting objects:  90% (378/419)\u001b[K\rremote: Counting objects:  91% (382/419)\u001b[K\rremote: Counting objects:  92% (386/419)\u001b[K\rremote: Counting objects:  93% (390/419)\u001b[K\rremote: Counting objects:  94% (394/419)\u001b[K\rremote: Counting objects:  95% (399/419)\u001b[K\rremote: Counting objects:  96% (403/419)\u001b[K\rremote: Counting objects:  97% (407/419)\u001b[K\rremote: Counting objects:  98% (411/419)\u001b[K\rremote: Counting objects:  99% (415/419)\u001b[K\rremote: Counting objects: 100% (419/419)\u001b[K\rremote: Counting objects: 100% (419/419), done.\u001b[K\n",
            "remote: Compressing objects: 100% (414/414), done.\u001b[K\n",
            "remote: Total 419 (delta 35), reused 351 (delta 2), pack-reused 0\u001b[K\n",
            "Receiving objects: 100% (419/419), 582.67 MiB | 39.66 MiB/s, done.\n",
            "Resolving deltas: 100% (35/35), done.\n",
            "Checking out files: 100% (345/345), done.\n",
            "/content/EEG-computation\n"
          ],
          "name": "stdout"
        }
      ]
    },
    {
      "cell_type": "code",
      "metadata": {
        "id": "f-v0tiW_0EaF",
        "colab_type": "code",
        "colab": {}
      },
      "source": [
        "disorder_dic = []\n",
        "directory = os.fsencode('EEG Data/disorder')\n",
        "for file in os.listdir(directory):\n",
        "    filename = os.fsdecode(file)\n",
        "    disorder_dic.append(np.array(mt.loadmat('EEG Data/disorder/{}'.format(filename))[filename.split('.')[0]]))\n",
        "    \n",
        "channels_disorder = [ [] for i in range(len(disorder_dic))]  #channels[person][channel] it will be a numpy array\n",
        "j=0;\n",
        "for person in channels_disorder:\n",
        "    for i in range(19):\n",
        "        person.append(disorder_dic[j][:,i])\n",
        "    j+=1\n",
        "        \n",
        "normal_dic = []\n",
        "directory = os.fsencode('EEG Data/normal')\n",
        "for file in os.listdir(directory):\n",
        "    filename = os.fsdecode(file)\n",
        "    normal_dic.append(np.array(mt.loadmat('EEG Data/normal/{}'.format(filename))[filename.split('.')[0]]))\n",
        "    \n",
        "channels_normal = [ [] for i in range(len(normal_dic))]  #channels[person][channel] it will be a numpy array\n",
        "j=0;\n",
        "for person in channels_normal:\n",
        "    for i in range(19):\n",
        "        person.append(normal_dic[j][:,i])\n",
        "    j+=1    \n",
        "        \n",
        "data = {\"N\":channels_normal,\n",
        "      \"D\":channels_disorder}"
      ],
      "execution_count": 0,
      "outputs": []
    },
    {
      "cell_type": "code",
      "metadata": {
        "id": "iCrkmuu_0HN5",
        "colab_type": "code",
        "colab": {
          "base_uri": "https://localhost:8080/",
          "height": 748
        },
        "outputId": "029979aa-3b04-43c7-c235-0983c4da45d8"
      },
      "source": [
        "t = np.linspace(0,30,512*30)\n",
        "f = np.linspace(0,512,512*30)\n",
        "fig = plt.figure( 'Example Plot', figsize=(18,12))\n",
        "ax = fig.add_subplot(2,2,1, title = 'Normal_3_14')\n",
        "ax.plot(t,data[\"N\"][18][16])\n",
        "ax = fig.add_subplot(2,2,2, title = 'Normal_3_14\\nFFT')\n",
        "ax.plot(f,abs(np.fft.fft(data[\"N\"][18][16])))\n",
        "ax.set_xlim([-4,512/2])\n",
        "ax = fig.add_subplot(2,2,3, title = 'Disorder_3_14')\n",
        "ax.plot(t,data[\"N\"][54][16])\n",
        "ax = fig.add_subplot(2,2,4, title = 'Disorder_3_14\\nFFT')\n",
        "ax.plot(f,abs(np.fft.fft(data['N'][54][16])))\n",
        "ax.set_xlim([-4,512/2])\n"
      ],
      "execution_count": 4,
      "outputs": [
        {
          "output_type": "execute_result",
          "data": {
            "text/plain": [
              "(-4, 256.0)"
            ]
          },
          "metadata": {
            "tags": []
          },
          "execution_count": 4
        },
        {
          "output_type": "display_data",
          "data": {
            "image/png": "[encoded data removed]",
            "text/plain": [
              "<Figure size 1296x864 with 4 Axes>"
            ]
          },
          "metadata": {
            "tags": []
          }
        }
      ]
    },
    {
      "cell_type": "code",
      "metadata": {
        "id": "VnaVR8400JK7",
        "colab_type": "code",
        "colab": {
          "base_uri": "https://localhost:8080/",
          "height": 286
        },
        "outputId": "c72f1234-3bca-41ec-f326-a92295d90565"
      },
      "source": [
        "#plt.plot(abs(np.fft.fft(data[\"N\"][18][16]))-abs(np.fft.fft(data[\"N\"][5][16])))\n",
        "plt.plot(data['N'][8][16] - data['N'][52][16])"
      ],
      "execution_count": 5,
      "outputs": [
        {
          "output_type": "execute_result",
          "data": {
            "text/plain": [
              "[<matplotlib.lines.Line2D at 0x7fb7d3c85780>]"
            ]
          },
          "metadata": {
            "tags": []
          },
          "execution_count": 5
        },
        {
          "output_type": "display_data",
          "data": {
            "image/png": "[encoded data removed]",
            "text/plain": [
              "<Figure size 432x288 with 1 Axes>"
            ]
          },
          "metadata": {
            "tags": []
          }
        }
      ]
    },
    {
      "cell_type": "code",
      "metadata": {
        "id": "0u-VCMX30L1q",
        "colab_type": "code",
        "colab": {
          "base_uri": "https://localhost:8080/",
          "height": 34
        },
        "outputId": "8375251b-0329-4500-9248-e70fc30f5547"
      },
      "source": [
        "n_D , n_N = len(data['D']), len(data['N'])\n",
        "n_D, n_N"
      ],
      "execution_count": 6,
      "outputs": [
        {
          "output_type": "execute_result",
          "data": {
            "text/plain": [
              "(196, 132)"
            ]
          },
          "metadata": {
            "tags": []
          },
          "execution_count": 6
        }
      ]
    },
    {
      "cell_type": "code",
      "metadata": {
        "id": "z-mKpxx00NgI",
        "colab_type": "code",
        "colab": {
          "base_uri": "https://localhost:8080/",
          "height": 286
        },
        "outputId": "65dcf987-1c32-4208-aec6-fd9d209f2e08"
      },
      "source": [
        "plt.plot(data['N'][4][4] - data['N'][24][4])"
      ],
      "execution_count": 7,
      "outputs": [
        {
          "output_type": "execute_result",
          "data": {
            "text/plain": [
              "[<matplotlib.lines.Line2D at 0x7fb7d38852b0>]"
            ]
          },
          "metadata": {
            "tags": []
          },
          "execution_count": 7
        },
        {
          "output_type": "display_data",
          "data": {
            "image/png": "[encoded data removed]",
            "text/plain": [
              "<Figure size 432x288 with 1 Axes>"
            ]
          },
          "metadata": {
            "tags": []
          }
        }
      ]
    },
    {
      "cell_type": "code",
      "metadata": {
        "id": "k6fNMq3Y3L_f",
        "colab_type": "code",
        "colab": {}
      },
      "source": [
        "def New_Data_Generator_N():\n",
        "    number_of_samples =  30\n",
        "    randlist = (132 * np.random.random(number_of_samples)).astype(int)\n",
        "    new_patients = list(data['N'][i] for i in randlist)\n",
        "    \n",
        "    index = [ i for i in range(number_of_samples)]\n",
        "    comb = list( combinations(index, 2))\n",
        "    new_data = [[] for i in range(len(comb))]\n",
        "    person = 0\n",
        "    for x,y in comb:\n",
        "        for chan in range(19):\n",
        "            new_data[person].append((new_patients[x][chan] + new_patients[y][chan] )/2)\n",
        "        data['N'].append(new_data[person])\n",
        "        person += 1\n",
        "\n",
        "    \n",
        "def New_Data_Generator_D():\n",
        "    number_of_samples = 30\n",
        "    randlist = (132 * np.random.random(number_of_samples)).astype(int)\n",
        "    new_patients = list(data['D'][i] for i in randlist)\n",
        "    \n",
        "    index = [ i for i in range(number_of_samples)]\n",
        "    comb = list( combinations(index, 2))\n",
        "    new_data = [[] for i in range(len(comb))]\n",
        "    person = 0\n",
        "    for x,y in comb:\n",
        "        for chan in range(19):\n",
        "            new_data[person].append((new_patients[x][chan] + new_patients[y][chan] )/2)\n",
        "        data['D'].append(new_data[person])\n",
        "        person += 1"
      ],
      "execution_count": 0,
      "outputs": []
    },
    {
      "cell_type": "code",
      "metadata": {
        "id": "330OqGlD3MFD",
        "colab_type": "code",
        "colab": {}
      },
      "source": [
        "\n",
        "\n",
        "New_Data_Generator_N()\n",
        "New_Data_Generator_D()"
      ],
      "execution_count": 0,
      "outputs": []
    },
    {
      "cell_type": "code",
      "metadata": {
        "id": "fh8nAS1V3MNL",
        "colab_type": "code",
        "colab": {
          "base_uri": "https://localhost:8080/",
          "height": 34
        },
        "outputId": "9df0491c-8744-4c6c-f091-7cbc02c326f3"
      },
      "source": [
        "\n",
        "n_D , n_N = len(data['D']), len(data['N'])\n",
        "n_D, n_N\n",
        "\n",
        "\n"
      ],
      "execution_count": 10,
      "outputs": [
        {
          "output_type": "execute_result",
          "data": {
            "text/plain": [
              "(631, 567)"
            ]
          },
          "metadata": {
            "tags": []
          },
          "execution_count": 10
        }
      ]
    },
    {
      "cell_type": "code",
      "metadata": {
        "id": "jprZlwK63MQ7",
        "colab_type": "code",
        "colab": {}
      },
      "source": [
        ""
      ],
      "execution_count": 0,
      "outputs": []
    },
    {
      "cell_type": "code",
      "metadata": {
        "id": "HIV4J-Of3MT-",
        "colab_type": "code",
        "colab": {}
      },
      "source": [
        ""
      ],
      "execution_count": 0,
      "outputs": []
    },
    {
      "cell_type": "code",
      "metadata": {
        "id": "zdVXTxSp3MDI",
        "colab_type": "code",
        "colab": {}
      },
      "source": [
        ""
      ],
      "execution_count": 0,
      "outputs": []
    },
    {
      "cell_type": "code",
      "metadata": {
        "id": "YlU9lFCv0Qvo",
        "colab_type": "code",
        "colab": {}
      },
      "source": [
        "FT_matrix_N = np.array(data['N'])\n",
        "FT_matrix_D = np.array(data['D'])\n",
        "\n",
        "temp_D = FT_matrix_D.reshape((FT_matrix_D.shape[0],FT_matrix_D.shape[2],FT_matrix_D.shape[1]))\n",
        "temp_N = FT_matrix_N.reshape((FT_matrix_N.shape[0],FT_matrix_N.shape[2],FT_matrix_N.shape[1]))\n",
        "#or d in range(FT_matrix.shape[0]):\n",
        "scaler = StandardScaler()"
      ],
      "execution_count": 0,
      "outputs": []
    },
    {
      "cell_type": "code",
      "metadata": {
        "id": "jcfBBRy3R1MT",
        "colab_type": "code",
        "colab": {}
      },
      "source": [
        "for n in range(FT_matrix_N.shape[0]):\n",
        "  temp_N[n]= scaler.fit_transform(FT_matrix_N[n].T)\n",
        "  \n",
        "for d in range(FT_matrix_D.shape[0]):\n",
        "  temp_D[d]= scaler.fit_transform(FT_matrix_D[d].T)\n"
      ],
      "execution_count": 0,
      "outputs": []
    },
    {
      "cell_type": "code",
      "metadata": {
        "id": "eaPtP2nMR1Hj",
        "colab_type": "code",
        "colab": {}
      },
      "source": [
        ""
      ],
      "execution_count": 0,
      "outputs": []
    },
    {
      "cell_type": "code",
      "metadata": {
        "id": "KQ7Ui_Xk1p6a",
        "colab_type": "code",
        "colab": {}
      },
      "source": [
        "Data = np.vstack((temp_N, temp_D))\n",
        "target = np.hstack((np.ones(FT_matrix_N.shape[0]), np.zeros(FT_matrix_D.shape[0])))"
      ],
      "execution_count": 0,
      "outputs": []
    },
    {
      "cell_type": "code",
      "metadata": {
        "id": "u2NAW6xJLO9P",
        "colab_type": "code",
        "colab": {}
      },
      "source": [
        "\n",
        "\n",
        "X, y = shuffle(Data, target)\n",
        "\n"
      ],
      "execution_count": 0,
      "outputs": []
    },
    {
      "cell_type": "code",
      "metadata": {
        "id": "Hn6nrVT7LPFC",
        "colab_type": "code",
        "colab": {
          "base_uri": "https://localhost:8080/",
          "height": 34
        },
        "outputId": "30e685ad-6424-4a75-e6d7-ff85874024ed"
      },
      "source": [
        "temp_D.shape, y.shape\n"
      ],
      "execution_count": 38,
      "outputs": [
        {
          "output_type": "execute_result",
          "data": {
            "text/plain": [
              "((631, 15360, 19), (1198,))"
            ]
          },
          "metadata": {
            "tags": []
          },
          "execution_count": 38
        }
      ]
    },
    {
      "cell_type": "code",
      "metadata": {
        "id": "UbmDrYG1LVGK",
        "colab_type": "code",
        "colab": {
          "base_uri": "https://localhost:8080/",
          "height": 34
        },
        "outputId": "1a08b929-710e-40fd-81a2-670e33b11e32"
      },
      "source": [
        "print(y)"
      ],
      "execution_count": 39,
      "outputs": [
        {
          "output_type": "stream",
          "text": [
            "[0. 1. 0. ... 1. 0. 0.]\n"
          ],
          "name": "stdout"
        }
      ]
    },
    {
      "cell_type": "code",
      "metadata": {
        "id": "XsAxmAEuLU4T",
        "colab_type": "code",
        "colab": {}
      },
      "source": [
        "X_train, X_test, y_train, y_test = train_test_split(X,y)"
      ],
      "execution_count": 0,
      "outputs": []
    },
    {
      "cell_type": "code",
      "metadata": {
        "id": "riifd0P-50PV",
        "colab_type": "code",
        "colab": {}
      },
      "source": [
        "from tensorflow import keras\n",
        "from keras.models import Sequential\n",
        "from keras.layers import Dense, LSTM, Dropout\n",
        "from keras.models import Sequential\n",
        "from keras.layers import Dense, Dropout\n",
        "from keras.layers import Embedding\n",
        "from keras.layers import LSTM\n"
      ],
      "execution_count": 0,
      "outputs": []
    },
    {
      "cell_type": "code",
      "metadata": {
        "id": "jYIHeoXN5JvD",
        "colab_type": "code",
        "colab": {}
      },
      "source": [
        "trainX, testX, trainy, testy = train_test_split(X, y)"
      ],
      "execution_count": 0,
      "outputs": []
    },
    {
      "cell_type": "code",
      "metadata": {
        "id": "9Gl8Py976CdJ",
        "colab_type": "code",
        "colab": {
          "base_uri": "https://localhost:8080/",
          "height": 34
        },
        "outputId": "2f006c8d-5f15-4be0-c42b-d95be3eaa100"
      },
      "source": [
        "trainX.shape"
      ],
      "execution_count": 45,
      "outputs": [
        {
          "output_type": "execute_result",
          "data": {
            "text/plain": [
              "(898, 15360, 19)"
            ]
          },
          "metadata": {
            "tags": []
          },
          "execution_count": 45
        }
      ]
    },
    {
      "cell_type": "code",
      "metadata": {
        "id": "EHCUIn6z2Oit",
        "colab_type": "code",
        "colab": {}
      },
      "source": [
        "model = Sequential()\n",
        "model.add(LSTM(18, return_sequences=False, input_shape=(trainX.shape[1], trainX.shape[2])))\n",
        "model.add(Dropout(0.5))\n",
        "#model.add(LSTM(100)) dramatically worse results\n",
        "model.add(Dense(10, activation='relu'))\n",
        "model.add(Dense(5, activation='relu'))\n",
        "model.add(Dense(1, activation='sigmoid'))"
      ],
      "execution_count": 0,
      "outputs": []
    },
    {
      "cell_type": "code",
      "metadata": {
        "id": "KL0i55i--ViV",
        "colab_type": "code",
        "colab": {
          "base_uri": "https://localhost:8080/",
          "height": 330
        },
        "outputId": "f1deb004-968b-4380-ddf7-93453cfdde0f"
      },
      "source": [
        "model.summary()"
      ],
      "execution_count": 52,
      "outputs": [
        {
          "output_type": "stream",
          "text": [
            "Model: \"sequential_7\"\n",
            "_________________________________________________________________\n",
            "Layer (type)                 Output Shape              Param #   \n",
            "=================================================================\n",
            "lstm_6 (LSTM)                (None, 18)                2736      \n",
            "_________________________________________________________________\n",
            "dropout_5 (Dropout)          (None, 18)                0         \n",
            "_________________________________________________________________\n",
            "dense_4 (Dense)              (None, 10)                190       \n",
            "_________________________________________________________________\n",
            "dense_5 (Dense)              (None, 5)                 55        \n",
            "_________________________________________________________________\n",
            "dense_6 (Dense)              (None, 1)                 6         \n",
            "=================================================================\n",
            "Total params: 2,987\n",
            "Trainable params: 2,987\n",
            "Non-trainable params: 0\n",
            "_________________________________________________________________\n"
          ],
          "name": "stdout"
        }
      ]
    },
    {
      "cell_type": "code",
      "metadata": {
        "id": "ndD9tbLBIoa0",
        "colab_type": "code",
        "colab": {}
      },
      "source": [
        "\n",
        "model.compile(loss='binary_crossentropy',\n",
        "              optimizer='rmsprop',\n",
        "              metrics=['accuracy'])\n"
      ],
      "execution_count": 0,
      "outputs": []
    },
    {
      "cell_type": "code",
      "metadata": {
        "id": "pIMlBX-Y_xRl",
        "colab_type": "code",
        "colab": {
          "base_uri": "https://localhost:8080/",
          "height": 1000
        },
        "outputId": "b1ef17a3-6a95-479c-9571-1ecd863cd52b"
      },
      "source": [
        "\n",
        "model.fit(trainX, trainy, batch_size=256, epochs=50)\n",
        "score = model.evaluate(testX, testy, batch_size=16)"
      ],
      "execution_count": 55,
      "outputs": [
        {
          "output_type": "stream",
          "text": [
            "Epoch 1/50\n",
            "898/898 [==============================] - 56s 63ms/step - loss: 0.6518 - acc: 0.6002\n",
            "Epoch 2/50\n",
            "898/898 [==============================] - 55s 61ms/step - loss: 0.6520 - acc: 0.5891\n",
            "Epoch 3/50\n",
            "898/898 [==============================] - 55s 62ms/step - loss: 0.6540 - acc: 0.5913\n",
            "Epoch 4/50\n",
            "898/898 [==============================] - 55s 61ms/step - loss: 0.6550 - acc: 0.5924\n",
            "Epoch 5/50\n",
            "898/898 [==============================] - 55s 61ms/step - loss: 0.6459 - acc: 0.5980\n",
            "Epoch 6/50\n",
            "898/898 [==============================] - 55s 61ms/step - loss: 0.6466 - acc: 0.6125\n",
            "Epoch 7/50\n",
            "898/898 [==============================] - 55s 61ms/step - loss: 0.6480 - acc: 0.6047\n",
            "Epoch 8/50\n",
            "898/898 [==============================] - 55s 61ms/step - loss: 0.6421 - acc: 0.6013\n",
            "Epoch 9/50\n",
            "898/898 [==============================] - 56s 62ms/step - loss: 0.6391 - acc: 0.6303\n",
            "Epoch 10/50\n",
            "898/898 [==============================] - 55s 61ms/step - loss: 0.6373 - acc: 0.6102\n",
            "Epoch 11/50\n",
            "898/898 [==============================] - 55s 62ms/step - loss: 0.6402 - acc: 0.6091\n",
            "Epoch 12/50\n",
            "898/898 [==============================] - 55s 61ms/step - loss: 0.6345 - acc: 0.6114\n",
            "Epoch 13/50\n",
            "898/898 [==============================] - 55s 62ms/step - loss: 0.6341 - acc: 0.6125\n",
            "Epoch 14/50\n",
            "898/898 [==============================] - 55s 62ms/step - loss: 0.6301 - acc: 0.6114\n",
            "Epoch 15/50\n",
            "898/898 [==============================] - 56s 62ms/step - loss: 0.6368 - acc: 0.6180\n",
            "Epoch 16/50\n",
            "898/898 [==============================] - 55s 62ms/step - loss: 0.6250 - acc: 0.6548\n",
            "Epoch 17/50\n",
            "898/898 [==============================] - 56s 62ms/step - loss: 0.6228 - acc: 0.6526\n",
            "Epoch 18/50\n",
            "898/898 [==============================] - 55s 61ms/step - loss: 0.6241 - acc: 0.6381\n",
            "Epoch 19/50\n",
            "898/898 [==============================] - 55s 62ms/step - loss: 0.6160 - acc: 0.6592\n",
            "Epoch 20/50\n",
            "898/898 [==============================] - 55s 62ms/step - loss: 0.6105 - acc: 0.6592\n",
            "Epoch 21/50\n",
            "898/898 [==============================] - 55s 62ms/step - loss: 0.6137 - acc: 0.6481\n",
            "Epoch 22/50\n",
            "898/898 [==============================] - 56s 62ms/step - loss: 0.6081 - acc: 0.6637\n",
            "Epoch 23/50\n",
            "898/898 [==============================] - 55s 62ms/step - loss: 0.5998 - acc: 0.6715\n",
            "Epoch 24/50\n",
            "898/898 [==============================] - 56s 62ms/step - loss: 0.6031 - acc: 0.6726\n",
            "Epoch 25/50\n",
            "898/898 [==============================] - 55s 62ms/step - loss: 0.5941 - acc: 0.6915\n",
            "Epoch 26/50\n",
            "898/898 [==============================] - 56s 62ms/step - loss: 0.5922 - acc: 0.6715\n",
            "Epoch 27/50\n",
            "898/898 [==============================] - 56s 62ms/step - loss: 0.5912 - acc: 0.6759\n",
            "Epoch 28/50\n",
            "898/898 [==============================] - 55s 61ms/step - loss: 0.5806 - acc: 0.6949\n",
            "Epoch 29/50\n",
            "898/898 [==============================] - 55s 61ms/step - loss: 0.5848 - acc: 0.6960\n",
            "Epoch 30/50\n",
            "898/898 [==============================] - 55s 61ms/step - loss: 0.5797 - acc: 0.7038\n",
            "Epoch 31/50\n",
            "898/898 [==============================] - 55s 62ms/step - loss: 0.5665 - acc: 0.7094\n",
            "Epoch 32/50\n",
            "898/898 [==============================] - 56s 62ms/step - loss: 0.5671 - acc: 0.7205\n",
            "Epoch 33/50\n",
            "898/898 [==============================] - 55s 62ms/step - loss: 0.5575 - acc: 0.7283\n",
            "Epoch 34/50\n",
            "898/898 [==============================] - 55s 62ms/step - loss: 0.5623 - acc: 0.7283\n",
            "Epoch 35/50\n",
            "898/898 [==============================] - 55s 61ms/step - loss: 0.5562 - acc: 0.7372\n",
            "Epoch 36/50\n",
            "898/898 [==============================] - 55s 61ms/step - loss: 0.5501 - acc: 0.7550\n",
            "Epoch 37/50\n",
            "898/898 [==============================] - 56s 62ms/step - loss: 0.5542 - acc: 0.7361\n",
            "Epoch 38/50\n",
            "898/898 [==============================] - 54s 61ms/step - loss: 0.5460 - acc: 0.7483\n",
            "Epoch 39/50\n",
            "898/898 [==============================] - 55s 61ms/step - loss: 0.5378 - acc: 0.7617\n",
            "Epoch 40/50\n",
            "898/898 [==============================] - 55s 61ms/step - loss: 0.5434 - acc: 0.7584\n",
            "Epoch 41/50\n",
            "898/898 [==============================] - 55s 62ms/step - loss: 0.5468 - acc: 0.7572\n",
            "Epoch 42/50\n",
            "898/898 [==============================] - 55s 61ms/step - loss: 0.5295 - acc: 0.7650\n",
            "Epoch 43/50\n",
            "898/898 [==============================] - 55s 62ms/step - loss: 0.5251 - acc: 0.7739\n",
            "Epoch 44/50\n",
            "898/898 [==============================] - 56s 62ms/step - loss: 0.5203 - acc: 0.7884\n",
            "Epoch 45/50\n",
            "898/898 [==============================] - 55s 62ms/step - loss: 0.5158 - acc: 0.7773\n",
            "Epoch 46/50\n",
            "898/898 [==============================] - 56s 62ms/step - loss: 0.5241 - acc: 0.7762\n",
            "Epoch 47/50\n",
            "898/898 [==============================] - 56s 62ms/step - loss: 0.5137 - acc: 0.7829\n",
            "Epoch 48/50\n",
            "898/898 [==============================] - 56s 62ms/step - loss: 0.5083 - acc: 0.7996\n",
            "Epoch 49/50\n",
            "898/898 [==============================] - 56s 63ms/step - loss: 0.5024 - acc: 0.7906\n",
            "Epoch 50/50\n",
            "898/898 [==============================] - 55s 61ms/step - loss: 0.4976 - acc: 0.7951\n",
            "300/300 [==============================] - 183s 611ms/step\n"
          ],
          "name": "stdout"
        }
      ]
    },
    {
      "cell_type": "code",
      "metadata": {
        "id": "sTsS4H3m2Lku",
        "colab_type": "code",
        "colab": {}
      },
      "source": [
        "|"
      ],
      "execution_count": 0,
      "outputs": []
    },
    {
      "cell_type": "code",
      "metadata": {
        "id": "yLMxr3qo2NpQ",
        "colab_type": "code",
        "colab": {}
      },
      "source": [
        ""
      ],
      "execution_count": 0,
      "outputs": []
    },
    {
      "cell_type": "code",
      "metadata": {
        "id": "9bxYFxN22e9N",
        "colab_type": "code",
        "colab": {}
      },
      "source": [
        ""
      ],
      "execution_count": 0,
      "outputs": []
    }
  ]
}